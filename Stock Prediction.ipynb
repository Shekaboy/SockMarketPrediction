{
  "cells": [
    {
      "cell_type": "markdown",
      "metadata": {
        "id": "_2jVipLJyjeH"
      },
      "source": [
        "Runtime 20 - 25 mins\n",
        "\n",
        "\n",
        "---\n",
        "change the stock market code down bellow (stock_code)\n",
        "\n",
        "\n",
        "---\n",
        "Clck on Runtime -> Run all \n",
        "\n",
        "\n"
      ]
    },
    {
      "cell_type": "code",
      "execution_count": 1,
      "metadata": {
        "cellView": "form",
        "id": "VJmZMuHC-Xdz"
      },
      "outputs": [
        {
          "name": "stdout",
          "output_type": "stream",
          "text": [
            "Requirement already satisfied: tensorflow in c:\\users\\srikar\\.conda\\envs\\cryptocurrency-analysis\\lib\\site-packages (2.8.0)\n",
            "Requirement already satisfied: libclang>=9.0.1 in c:\\users\\srikar\\.conda\\envs\\cryptocurrency-analysis\\lib\\site-packages (from tensorflow) (13.0.0)\n",
            "Requirement already satisfied: opt-einsum>=2.3.2 in c:\\users\\srikar\\.conda\\envs\\cryptocurrency-analysis\\lib\\site-packages (from tensorflow) (3.3.0)\n",
            "Requirement already satisfied: tensorflow-io-gcs-filesystem>=0.23.1 in c:\\users\\srikar\\.conda\\envs\\cryptocurrency-analysis\\lib\\site-packages (from tensorflow) (0.24.0)\n",
            "Requirement already satisfied: keras<2.9,>=2.8.0rc0 in c:\\users\\srikar\\.conda\\envs\\cryptocurrency-analysis\\lib\\site-packages (from tensorflow) (2.8.0)\n",
            "Requirement already satisfied: numpy>=1.20 in c:\\users\\srikar\\.conda\\envs\\cryptocurrency-analysis\\lib\\site-packages (from tensorflow) (1.22.2)\n",
            "Requirement already satisfied: gast>=0.2.1 in c:\\users\\srikar\\.conda\\envs\\cryptocurrency-analysis\\lib\\site-packages (from tensorflow) (0.5.3)\n",
            "Requirement already satisfied: astunparse>=1.6.0 in c:\\users\\srikar\\.conda\\envs\\cryptocurrency-analysis\\lib\\site-packages (from tensorflow) (1.6.3)\n",
            "Requirement already satisfied: typing-extensions>=3.6.6 in c:\\users\\srikar\\.conda\\envs\\cryptocurrency-analysis\\lib\\site-packages (from tensorflow) (4.0.1)\n",
            "Requirement already satisfied: keras-preprocessing>=1.1.1 in c:\\users\\srikar\\.conda\\envs\\cryptocurrency-analysis\\lib\\site-packages (from tensorflow) (1.1.2)\n",
            "Requirement already satisfied: tf-estimator-nightly==2.8.0.dev2021122109 in c:\\users\\srikar\\.conda\\envs\\cryptocurrency-analysis\\lib\\site-packages (from tensorflow) (2.8.0.dev2021122109)\n",
            "Requirement already satisfied: termcolor>=1.1.0 in c:\\users\\srikar\\.conda\\envs\\cryptocurrency-analysis\\lib\\site-packages (from tensorflow) (1.1.0)\n",
            "Requirement already satisfied: google-pasta>=0.1.1 in c:\\users\\srikar\\.conda\\envs\\cryptocurrency-analysis\\lib\\site-packages (from tensorflow) (0.2.0)\n",
            "Requirement already satisfied: grpcio<2.0,>=1.24.3 in c:\\users\\srikar\\.conda\\envs\\cryptocurrency-analysis\\lib\\site-packages (from tensorflow) (1.43.0)\n",
            "Requirement already satisfied: setuptools in c:\\users\\srikar\\.conda\\envs\\cryptocurrency-analysis\\lib\\site-packages (from tensorflow) (58.0.4)\n",
            "Requirement already satisfied: tensorboard<2.9,>=2.8 in c:\\users\\srikar\\.conda\\envs\\cryptocurrency-analysis\\lib\\site-packages (from tensorflow) (2.8.0)\n",
            "Requirement already satisfied: absl-py>=0.4.0 in c:\\users\\srikar\\.conda\\envs\\cryptocurrency-analysis\\lib\\site-packages (from tensorflow) (1.0.0)\n",
            "Requirement already satisfied: h5py>=2.9.0 in c:\\users\\srikar\\.conda\\envs\\cryptocurrency-analysis\\lib\\site-packages (from tensorflow) (3.6.0)\n",
            "Requirement already satisfied: wrapt>=1.11.0 in c:\\users\\srikar\\.conda\\envs\\cryptocurrency-analysis\\lib\\site-packages (from tensorflow) (1.13.3)\n",
            "Requirement already satisfied: six>=1.12.0 in c:\\users\\srikar\\.conda\\envs\\cryptocurrency-analysis\\lib\\site-packages (from tensorflow) (1.16.0)\n",
            "Requirement already satisfied: flatbuffers>=1.12 in c:\\users\\srikar\\.conda\\envs\\cryptocurrency-analysis\\lib\\site-packages (from tensorflow) (2.0)\n",
            "Requirement already satisfied: protobuf>=3.9.2 in c:\\users\\srikar\\.conda\\envs\\cryptocurrency-analysis\\lib\\site-packages (from tensorflow) (3.19.4)\n",
            "Requirement already satisfied: wheel<1.0,>=0.23.0 in c:\\users\\srikar\\.conda\\envs\\cryptocurrency-analysis\\lib\\site-packages (from astunparse>=1.6.0->tensorflow) (0.37.1)\n",
            "Requirement already satisfied: werkzeug>=0.11.15 in c:\\users\\srikar\\.conda\\envs\\cryptocurrency-analysis\\lib\\site-packages (from tensorboard<2.9,>=2.8->tensorflow) (2.0.3)\n",
            "Requirement already satisfied: google-auth-oauthlib<0.5,>=0.4.1 in c:\\users\\srikar\\.conda\\envs\\cryptocurrency-analysis\\lib\\site-packages (from tensorboard<2.9,>=2.8->tensorflow) (0.4.6)\n",
            "Requirement already satisfied: tensorboard-plugin-wit>=1.6.0 in c:\\users\\srikar\\.conda\\envs\\cryptocurrency-analysis\\lib\\site-packages (from tensorboard<2.9,>=2.8->tensorflow) (1.8.1)\n",
            "Requirement already satisfied: google-auth<3,>=1.6.3 in c:\\users\\srikar\\.conda\\envs\\cryptocurrency-analysis\\lib\\site-packages (from tensorboard<2.9,>=2.8->tensorflow) (2.6.0)\n",
            "Requirement already satisfied: markdown>=2.6.8 in c:\\users\\srikar\\.conda\\envs\\cryptocurrency-analysis\\lib\\site-packages (from tensorboard<2.9,>=2.8->tensorflow) (3.3.6)\n",
            "Requirement already satisfied: tensorboard-data-server<0.7.0,>=0.6.0 in c:\\users\\srikar\\.conda\\envs\\cryptocurrency-analysis\\lib\\site-packages (from tensorboard<2.9,>=2.8->tensorflow) (0.6.1)\n",
            "Requirement already satisfied: requests<3,>=2.21.0 in c:\\users\\srikar\\.conda\\envs\\cryptocurrency-analysis\\lib\\site-packages (from tensorboard<2.9,>=2.8->tensorflow) (2.27.1)\n",
            "Requirement already satisfied: cachetools<6.0,>=2.0.0 in c:\\users\\srikar\\.conda\\envs\\cryptocurrency-analysis\\lib\\site-packages (from google-auth<3,>=1.6.3->tensorboard<2.9,>=2.8->tensorflow) (5.0.0)\n",
            "Requirement already satisfied: pyasn1-modules>=0.2.1 in c:\\users\\srikar\\.conda\\envs\\cryptocurrency-analysis\\lib\\site-packages (from google-auth<3,>=1.6.3->tensorboard<2.9,>=2.8->tensorflow) (0.2.8)\n",
            "Requirement already satisfied: rsa<5,>=3.1.4 in c:\\users\\srikar\\.conda\\envs\\cryptocurrency-analysis\\lib\\site-packages (from google-auth<3,>=1.6.3->tensorboard<2.9,>=2.8->tensorflow) (4.8)\n",
            "Requirement already satisfied: requests-oauthlib>=0.7.0 in c:\\users\\srikar\\.conda\\envs\\cryptocurrency-analysis\\lib\\site-packages (from google-auth-oauthlib<0.5,>=0.4.1->tensorboard<2.9,>=2.8->tensorflow) (1.3.1)\n",
            "Requirement already satisfied: pyasn1<0.5.0,>=0.4.6 in c:\\users\\srikar\\.conda\\envs\\cryptocurrency-analysis\\lib\\site-packages (from pyasn1-modules>=0.2.1->google-auth<3,>=1.6.3->tensorboard<2.9,>=2.8->tensorflow) (0.4.8)\n",
            "Requirement already satisfied: charset-normalizer~=2.0.0 in c:\\users\\srikar\\.conda\\envs\\cryptocurrency-analysis\\lib\\site-packages (from requests<3,>=2.21.0->tensorboard<2.9,>=2.8->tensorflow) (2.0.11)\n",
            "Requirement already satisfied: idna<4,>=2.5 in c:\\users\\srikar\\.conda\\envs\\cryptocurrency-analysis\\lib\\site-packages (from requests<3,>=2.21.0->tensorboard<2.9,>=2.8->tensorflow) (3.3)\n",
            "Requirement already satisfied: certifi>=2017.4.17 in c:\\users\\srikar\\.conda\\envs\\cryptocurrency-analysis\\lib\\site-packages (from requests<3,>=2.21.0->tensorboard<2.9,>=2.8->tensorflow) (2021.10.8)\n",
            "Requirement already satisfied: urllib3<1.27,>=1.21.1 in c:\\users\\srikar\\.conda\\envs\\cryptocurrency-analysis\\lib\\site-packages (from requests<3,>=2.21.0->tensorboard<2.9,>=2.8->tensorflow) (1.26.8)\n",
            "Requirement already satisfied: oauthlib>=3.0.0 in c:\\users\\srikar\\.conda\\envs\\cryptocurrency-analysis\\lib\\site-packages (from requests-oauthlib>=0.7.0->google-auth-oauthlib<0.5,>=0.4.1->tensorboard<2.9,>=2.8->tensorflow) (3.2.0)\n"
          ]
        }
      ],
      "source": [
        "#@title Install Dependencies\n",
        "!pip install -q yfinance\n",
        "!pip install pandas_datareader -q\n",
        "!pip install -q plotly -q\n",
        "!pip install nsepy -q\n",
        "!pip install tensorflow"
      ]
    },
    {
      "cell_type": "code",
      "execution_count": 2,
      "metadata": {
        "cellView": "form",
        "colab": {
          "base_uri": "https://localhost:8080/"
        },
        "id": "iixYglL3-x5I",
        "outputId": "13503ec0-694f-48df-dc98-172b23c8e66f"
      },
      "outputs": [
        {
          "name": "stdout",
          "output_type": "stream",
          "text": [
            "Populating the interactive namespace from numpy and matplotlib\n"
          ]
        }
      ],
      "source": [
        "#@title Import dependencies\n",
        "import pandas as pd\n",
        "import numpy as np \n",
        "import datetime\n",
        "import plotly.graph_objects as go\n",
        "from sklearn.preprocessing import MinMaxScaler\n",
        "from tensorflow.keras.models import Sequential\n",
        "from tensorflow.keras.layers import Dense\n",
        "from tensorflow.keras.layers import LSTM\n",
        "from tensorflow.keras.layers import Dropout\n",
        "from nsepy import get_history as gh\n",
        "import plotly.express as px\n",
        "import matplotlib.pyplot as plt\n",
        "%matplotlib inline\n",
        "%pylab inline\n",
        "import datetime as dt"
      ]
    },
    {
      "cell_type": "markdown",
      "metadata": {
        "id": "JLJQ0-ccv7cO"
      },
      "source": [
        "Write the stock market code here with the start and end date"
      ]
    },
    {
      "cell_type": "code",
      "execution_count": 3,
      "metadata": {
        "id": "J3F94eyFvFUR"
      },
      "outputs": [],
      "source": [
        "stock_code = 'INFY'\n",
        "start = dt.datetime(2013,1,1)     #Year,Month,Day\n",
        "lst = list(map(int , datetime.datetime.now().strftime(\"%Y-%m-%d\").split(\"-\")))\n",
        "end   = dt.datetime(2020,12,31)   #Year,Month,Day"
      ]
    },
    {
      "cell_type": "code",
      "execution_count": 4,
      "metadata": {
        "cellView": "form",
        "id": "thCqEI3A-jih"
      },
      "outputs": [],
      "source": [
        "#@title Download the stock data\n",
        "stk_data = gh(symbol=stock_code,start=start,end=end)"
      ]
    },
    {
      "cell_type": "code",
      "execution_count": 5,
      "metadata": {
        "cellView": "form",
        "colab": {
          "base_uri": "https://localhost:8080/",
          "height": 710
        },
        "id": "IzY--ZsG-zuO",
        "outputId": "149380fe-66a7-492d-bd4f-ac7f0e298728"
      },
      "outputs": [
        {
          "data": {
            "text/html": [
              "<div>\n",
              "<style scoped>\n",
              "    .dataframe tbody tr th:only-of-type {\n",
              "        vertical-align: middle;\n",
              "    }\n",
              "\n",
              "    .dataframe tbody tr th {\n",
              "        vertical-align: top;\n",
              "    }\n",
              "\n",
              "    .dataframe thead th {\n",
              "        text-align: right;\n",
              "    }\n",
              "</style>\n",
              "<table border=\"1\" class=\"dataframe\">\n",
              "  <thead>\n",
              "    <tr style=\"text-align: right;\">\n",
              "      <th></th>\n",
              "      <th>Symbol</th>\n",
              "      <th>Series</th>\n",
              "      <th>Prev Close</th>\n",
              "      <th>Open</th>\n",
              "      <th>High</th>\n",
              "      <th>Low</th>\n",
              "      <th>Last</th>\n",
              "      <th>Close</th>\n",
              "      <th>VWAP</th>\n",
              "      <th>Volume</th>\n",
              "      <th>Turnover</th>\n",
              "      <th>Trades</th>\n",
              "      <th>Deliverable Volume</th>\n",
              "      <th>%Deliverble</th>\n",
              "    </tr>\n",
              "    <tr>\n",
              "      <th>Date</th>\n",
              "      <th></th>\n",
              "      <th></th>\n",
              "      <th></th>\n",
              "      <th></th>\n",
              "      <th></th>\n",
              "      <th></th>\n",
              "      <th></th>\n",
              "      <th></th>\n",
              "      <th></th>\n",
              "      <th></th>\n",
              "      <th></th>\n",
              "      <th></th>\n",
              "      <th></th>\n",
              "      <th></th>\n",
              "    </tr>\n",
              "  </thead>\n",
              "  <tbody>\n",
              "    <tr>\n",
              "      <th>2013-01-01</th>\n",
              "      <td>INFY</td>\n",
              "      <td>EQ</td>\n",
              "      <td>2318.70</td>\n",
              "      <td>2327.60</td>\n",
              "      <td>2329.90</td>\n",
              "      <td>2305.55</td>\n",
              "      <td>2307.10</td>\n",
              "      <td>2308.85</td>\n",
              "      <td>2318.02</td>\n",
              "      <td>369999</td>\n",
              "      <td>8.576666e+13</td>\n",
              "      <td>14479</td>\n",
              "      <td>195016</td>\n",
              "      <td>0.5271</td>\n",
              "    </tr>\n",
              "    <tr>\n",
              "      <th>2013-01-02</th>\n",
              "      <td>INFY</td>\n",
              "      <td>EQ</td>\n",
              "      <td>2308.85</td>\n",
              "      <td>2316.20</td>\n",
              "      <td>2328.00</td>\n",
              "      <td>2303.50</td>\n",
              "      <td>2309.20</td>\n",
              "      <td>2309.20</td>\n",
              "      <td>2315.36</td>\n",
              "      <td>543743</td>\n",
              "      <td>1.258958e+14</td>\n",
              "      <td>45625</td>\n",
              "      <td>321559</td>\n",
              "      <td>0.5914</td>\n",
              "    </tr>\n",
              "    <tr>\n",
              "      <th>2013-01-03</th>\n",
              "      <td>INFY</td>\n",
              "      <td>EQ</td>\n",
              "      <td>2309.20</td>\n",
              "      <td>2315.00</td>\n",
              "      <td>2348.85</td>\n",
              "      <td>2311.00</td>\n",
              "      <td>2346.95</td>\n",
              "      <td>2337.90</td>\n",
              "      <td>2329.97</td>\n",
              "      <td>1324911</td>\n",
              "      <td>3.087005e+14</td>\n",
              "      <td>60958</td>\n",
              "      <td>963493</td>\n",
              "      <td>0.7272</td>\n",
              "    </tr>\n",
              "    <tr>\n",
              "      <th>2013-01-04</th>\n",
              "      <td>INFY</td>\n",
              "      <td>EQ</td>\n",
              "      <td>2337.90</td>\n",
              "      <td>2348.40</td>\n",
              "      <td>2354.95</td>\n",
              "      <td>2332.00</td>\n",
              "      <td>2350.00</td>\n",
              "      <td>2349.55</td>\n",
              "      <td>2345.09</td>\n",
              "      <td>1056751</td>\n",
              "      <td>2.478176e+14</td>\n",
              "      <td>55290</td>\n",
              "      <td>710935</td>\n",
              "      <td>0.6728</td>\n",
              "    </tr>\n",
              "    <tr>\n",
              "      <th>2013-01-07</th>\n",
              "      <td>INFY</td>\n",
              "      <td>EQ</td>\n",
              "      <td>2349.55</td>\n",
              "      <td>2351.10</td>\n",
              "      <td>2379.90</td>\n",
              "      <td>2335.55</td>\n",
              "      <td>2373.30</td>\n",
              "      <td>2374.80</td>\n",
              "      <td>2367.82</td>\n",
              "      <td>1095203</td>\n",
              "      <td>2.593243e+14</td>\n",
              "      <td>52530</td>\n",
              "      <td>796335</td>\n",
              "      <td>0.7271</td>\n",
              "    </tr>\n",
              "    <tr>\n",
              "      <th>...</th>\n",
              "      <td>...</td>\n",
              "      <td>...</td>\n",
              "      <td>...</td>\n",
              "      <td>...</td>\n",
              "      <td>...</td>\n",
              "      <td>...</td>\n",
              "      <td>...</td>\n",
              "      <td>...</td>\n",
              "      <td>...</td>\n",
              "      <td>...</td>\n",
              "      <td>...</td>\n",
              "      <td>...</td>\n",
              "      <td>...</td>\n",
              "      <td>...</td>\n",
              "    </tr>\n",
              "    <tr>\n",
              "      <th>2020-12-24</th>\n",
              "      <td>INFY</td>\n",
              "      <td>EQ</td>\n",
              "      <td>1253.05</td>\n",
              "      <td>1249.90</td>\n",
              "      <td>1249.90</td>\n",
              "      <td>1226.00</td>\n",
              "      <td>1237.35</td>\n",
              "      <td>1236.05</td>\n",
              "      <td>1236.34</td>\n",
              "      <td>7313885</td>\n",
              "      <td>9.042416e+14</td>\n",
              "      <td>172066</td>\n",
              "      <td>2637421</td>\n",
              "      <td>0.3606</td>\n",
              "    </tr>\n",
              "    <tr>\n",
              "      <th>2020-12-28</th>\n",
              "      <td>INFY</td>\n",
              "      <td>EQ</td>\n",
              "      <td>1236.05</td>\n",
              "      <td>1238.45</td>\n",
              "      <td>1248.00</td>\n",
              "      <td>1236.00</td>\n",
              "      <td>1239.45</td>\n",
              "      <td>1240.30</td>\n",
              "      <td>1240.58</td>\n",
              "      <td>4607051</td>\n",
              "      <td>5.715406e+14</td>\n",
              "      <td>123013</td>\n",
              "      <td>2098658</td>\n",
              "      <td>0.4555</td>\n",
              "    </tr>\n",
              "    <tr>\n",
              "      <th>2020-12-29</th>\n",
              "      <td>INFY</td>\n",
              "      <td>EQ</td>\n",
              "      <td>1240.30</td>\n",
              "      <td>1235.00</td>\n",
              "      <td>1254.45</td>\n",
              "      <td>1235.00</td>\n",
              "      <td>1249.85</td>\n",
              "      <td>1250.30</td>\n",
              "      <td>1246.33</td>\n",
              "      <td>6878105</td>\n",
              "      <td>8.572420e+14</td>\n",
              "      <td>132402</td>\n",
              "      <td>3219736</td>\n",
              "      <td>0.4681</td>\n",
              "    </tr>\n",
              "    <tr>\n",
              "      <th>2020-12-30</th>\n",
              "      <td>INFY</td>\n",
              "      <td>EQ</td>\n",
              "      <td>1250.30</td>\n",
              "      <td>1253.00</td>\n",
              "      <td>1253.30</td>\n",
              "      <td>1238.15</td>\n",
              "      <td>1244.00</td>\n",
              "      <td>1246.80</td>\n",
              "      <td>1247.48</td>\n",
              "      <td>5194690</td>\n",
              "      <td>6.480283e+14</td>\n",
              "      <td>107704</td>\n",
              "      <td>2378603</td>\n",
              "      <td>0.4579</td>\n",
              "    </tr>\n",
              "    <tr>\n",
              "      <th>2020-12-31</th>\n",
              "      <td>INFY</td>\n",
              "      <td>EQ</td>\n",
              "      <td>1246.80</td>\n",
              "      <td>1243.00</td>\n",
              "      <td>1258.40</td>\n",
              "      <td>1239.00</td>\n",
              "      <td>1253.50</td>\n",
              "      <td>1255.80</td>\n",
              "      <td>1249.41</td>\n",
              "      <td>7430470</td>\n",
              "      <td>9.283732e+14</td>\n",
              "      <td>117406</td>\n",
              "      <td>3974062</td>\n",
              "      <td>0.5348</td>\n",
              "    </tr>\n",
              "  </tbody>\n",
              "</table>\n",
              "<p>1980 rows × 14 columns</p>\n",
              "</div>"
            ],
            "text/plain": [
              "           Symbol Series  Prev Close     Open     High      Low     Last  \\\n",
              "Date                                                                       \n",
              "2013-01-01   INFY     EQ     2318.70  2327.60  2329.90  2305.55  2307.10   \n",
              "2013-01-02   INFY     EQ     2308.85  2316.20  2328.00  2303.50  2309.20   \n",
              "2013-01-03   INFY     EQ     2309.20  2315.00  2348.85  2311.00  2346.95   \n",
              "2013-01-04   INFY     EQ     2337.90  2348.40  2354.95  2332.00  2350.00   \n",
              "2013-01-07   INFY     EQ     2349.55  2351.10  2379.90  2335.55  2373.30   \n",
              "...           ...    ...         ...      ...      ...      ...      ...   \n",
              "2020-12-24   INFY     EQ     1253.05  1249.90  1249.90  1226.00  1237.35   \n",
              "2020-12-28   INFY     EQ     1236.05  1238.45  1248.00  1236.00  1239.45   \n",
              "2020-12-29   INFY     EQ     1240.30  1235.00  1254.45  1235.00  1249.85   \n",
              "2020-12-30   INFY     EQ     1250.30  1253.00  1253.30  1238.15  1244.00   \n",
              "2020-12-31   INFY     EQ     1246.80  1243.00  1258.40  1239.00  1253.50   \n",
              "\n",
              "              Close     VWAP   Volume      Turnover  Trades  \\\n",
              "Date                                                          \n",
              "2013-01-01  2308.85  2318.02   369999  8.576666e+13   14479   \n",
              "2013-01-02  2309.20  2315.36   543743  1.258958e+14   45625   \n",
              "2013-01-03  2337.90  2329.97  1324911  3.087005e+14   60958   \n",
              "2013-01-04  2349.55  2345.09  1056751  2.478176e+14   55290   \n",
              "2013-01-07  2374.80  2367.82  1095203  2.593243e+14   52530   \n",
              "...             ...      ...      ...           ...     ...   \n",
              "2020-12-24  1236.05  1236.34  7313885  9.042416e+14  172066   \n",
              "2020-12-28  1240.30  1240.58  4607051  5.715406e+14  123013   \n",
              "2020-12-29  1250.30  1246.33  6878105  8.572420e+14  132402   \n",
              "2020-12-30  1246.80  1247.48  5194690  6.480283e+14  107704   \n",
              "2020-12-31  1255.80  1249.41  7430470  9.283732e+14  117406   \n",
              "\n",
              "            Deliverable Volume  %Deliverble  \n",
              "Date                                         \n",
              "2013-01-01              195016       0.5271  \n",
              "2013-01-02              321559       0.5914  \n",
              "2013-01-03              963493       0.7272  \n",
              "2013-01-04              710935       0.6728  \n",
              "2013-01-07              796335       0.7271  \n",
              "...                        ...          ...  \n",
              "2020-12-24             2637421       0.3606  \n",
              "2020-12-28             2098658       0.4555  \n",
              "2020-12-29             3219736       0.4681  \n",
              "2020-12-30             2378603       0.4579  \n",
              "2020-12-31             3974062       0.5348  \n",
              "\n",
              "[1980 rows x 14 columns]"
            ]
          },
          "execution_count": 5,
          "metadata": {},
          "output_type": "execute_result"
        }
      ],
      "source": [
        "#@title Show the downloaded data\n",
        "stk_data"
      ]
    },
    {
      "cell_type": "code",
      "execution_count": 6,
      "metadata": {
        "cellView": "form",
        "id": "Euu75qpMXgTx"
      },
      "outputs": [],
      "source": [
        "#@title Prepare Data for model training\n",
        "\n",
        "stk_data['Date'] = stk_data.index\n",
        "data2 = pd.DataFrame(columns = ['Date', 'Open', 'High', 'Low', 'Close'])\n",
        "data2['Date'] = stk_data['Date']\n",
        "data2['Open'] = stk_data['Open']\n",
        "data2['High'] = stk_data['High']\n",
        "data2['Low'] = stk_data['Low']\n",
        "data2['Close'] = stk_data['Close']\n",
        "\n",
        "\n",
        "train_set = data2.iloc[:, 1:2].values\n",
        "sc = MinMaxScaler(feature_range = (0, 1))\n",
        "training_set_scaled = sc.fit_transform(train_set)\n",
        "X_train = []\n",
        "y_train = []\n",
        "for i in range(60, len(stk_data)-1):\n",
        "    X_train.append(training_set_scaled[i-60:i, 0])\n",
        "    y_train.append(training_set_scaled[i, 0]) \n",
        "X_train, y_train = np.array(X_train), np.array(y_train)\n",
        "X_train = np.reshape(X_train, (X_train.shape[0], X_train.shape[1], 1))\n"
      ]
    },
    {
      "cell_type": "code",
      "execution_count": 7,
      "metadata": {
        "cellView": "form",
        "colab": {
          "base_uri": "https://localhost:8080/"
        },
        "id": "9XklnQ-g_Sr3",
        "outputId": "e58eb65c-5434-4284-fb4b-d1baa8e7ece3"
      },
      "outputs": [
        {
          "name": "stdout",
          "output_type": "stream",
          "text": [
            "Epoch 1/100\n",
            "30/30 [==============================] - 14s 231ms/step - loss: 0.0132\n",
            "Epoch 2/100\n",
            "30/30 [==============================] - 8s 258ms/step - loss: 0.0038\n",
            "Epoch 3/100\n",
            "30/30 [==============================] - 8s 259ms/step - loss: 0.0031\n",
            "Epoch 4/100\n",
            "30/30 [==============================] - 7s 235ms/step - loss: 0.0028\n",
            "Epoch 5/100\n",
            "30/30 [==============================] - 7s 232ms/step - loss: 0.0030\n",
            "Epoch 6/100\n",
            "30/30 [==============================] - 6s 210ms/step - loss: 0.0030\n",
            "Epoch 7/100\n",
            "30/30 [==============================] - 6s 216ms/step - loss: 0.0024\n",
            "Epoch 8/100\n",
            "30/30 [==============================] - 6s 212ms/step - loss: 0.0021\n",
            "Epoch 9/100\n",
            "30/30 [==============================] - 6s 201ms/step - loss: 0.0021\n",
            "Epoch 10/100\n",
            "30/30 [==============================] - 6s 201ms/step - loss: 0.0023\n",
            "Epoch 11/100\n",
            "30/30 [==============================] - 6s 205ms/step - loss: 0.0021\n",
            "Epoch 12/100\n",
            "30/30 [==============================] - 6s 199ms/step - loss: 0.0019\n",
            "Epoch 13/100\n",
            "30/30 [==============================] - 6s 208ms/step - loss: 0.0017\n",
            "Epoch 14/100\n",
            "30/30 [==============================] - 6s 206ms/step - loss: 0.0019\n",
            "Epoch 15/100\n",
            "30/30 [==============================] - 6s 202ms/step - loss: 0.0016\n",
            "Epoch 16/100\n",
            "30/30 [==============================] - 6s 212ms/step - loss: 0.0015\n",
            "Epoch 17/100\n",
            "30/30 [==============================] - 7s 240ms/step - loss: 0.0014\n",
            "Epoch 18/100\n",
            "30/30 [==============================] - 8s 272ms/step - loss: 0.0017\n",
            "Epoch 19/100\n",
            "30/30 [==============================] - 10s 316ms/step - loss: 0.0016\n",
            "Epoch 20/100\n",
            "30/30 [==============================] - 8s 245ms/step - loss: 0.0015\n",
            "Epoch 21/100\n",
            "30/30 [==============================] - 6s 209ms/step - loss: 0.0013\n",
            "Epoch 22/100\n",
            "30/30 [==============================] - 8s 277ms/step - loss: 0.0014\n",
            "Epoch 23/100\n",
            "30/30 [==============================] - 7s 242ms/step - loss: 0.0013\n",
            "Epoch 24/100\n",
            "30/30 [==============================] - 7s 235ms/step - loss: 0.0014\n",
            "Epoch 25/100\n",
            "30/30 [==============================] - 7s 222ms/step - loss: 0.0012\n",
            "Epoch 26/100\n",
            "30/30 [==============================] - 7s 231ms/step - loss: 0.0011\n",
            "Epoch 27/100\n",
            "30/30 [==============================] - 6s 215ms/step - loss: 0.0011\n",
            "Epoch 28/100\n",
            "30/30 [==============================] - 6s 212ms/step - loss: 0.0012\n",
            "Epoch 29/100\n",
            "30/30 [==============================] - 7s 217ms/step - loss: 0.0012\n",
            "Epoch 30/100\n",
            "30/30 [==============================] - 6s 217ms/step - loss: 0.0011\n",
            "Epoch 31/100\n",
            "30/30 [==============================] - 8s 286ms/step - loss: 0.0013\n",
            "Epoch 32/100\n",
            "30/30 [==============================] - 8s 280ms/step - loss: 0.0011\n",
            "Epoch 33/100\n",
            "30/30 [==============================] - 8s 283ms/step - loss: 0.0011\n",
            "Epoch 34/100\n",
            "30/30 [==============================] - 9s 299ms/step - loss: 9.7744e-04\n",
            "Epoch 35/100\n",
            "30/30 [==============================] - 10s 324ms/step - loss: 0.0012\n",
            "Epoch 36/100\n",
            "30/30 [==============================] - 8s 261ms/step - loss: 0.0010\n",
            "Epoch 37/100\n",
            "30/30 [==============================] - 6s 204ms/step - loss: 0.0011\n",
            "Epoch 38/100\n",
            "30/30 [==============================] - 6s 207ms/step - loss: 9.4109e-04\n",
            "Epoch 39/100\n",
            "30/30 [==============================] - 6s 197ms/step - loss: 0.0011\n",
            "Epoch 40/100\n",
            "30/30 [==============================] - 7s 249ms/step - loss: 0.0011\n",
            "Epoch 41/100\n",
            "30/30 [==============================] - 9s 301ms/step - loss: 9.2086e-04\n",
            "Epoch 42/100\n",
            "30/30 [==============================] - 9s 290ms/step - loss: 8.3601e-04\n",
            "Epoch 43/100\n",
            "30/30 [==============================] - 8s 257ms/step - loss: 8.6126e-04\n",
            "Epoch 44/100\n",
            "30/30 [==============================] - 8s 261ms/step - loss: 8.8874e-04\n",
            "Epoch 45/100\n",
            "30/30 [==============================] - 8s 270ms/step - loss: 8.5682e-04\n",
            "Epoch 46/100\n",
            "30/30 [==============================] - 10s 325ms/step - loss: 7.8931e-04\n",
            "Epoch 47/100\n",
            "30/30 [==============================] - 11s 350ms/step - loss: 7.7082e-04\n",
            "Epoch 48/100\n",
            "30/30 [==============================] - 8s 281ms/step - loss: 8.0664e-04\n",
            "Epoch 49/100\n",
            "30/30 [==============================] - 8s 272ms/step - loss: 9.3075e-04\n",
            "Epoch 50/100\n",
            "30/30 [==============================] - 8s 272ms/step - loss: 8.0268e-04\n",
            "Epoch 51/100\n",
            "30/30 [==============================] - 8s 275ms/step - loss: 8.1073e-04\n",
            "Epoch 52/100\n",
            "30/30 [==============================] - 9s 284ms/step - loss: 8.7387e-04\n",
            "Epoch 53/100\n",
            "30/30 [==============================] - 10s 318ms/step - loss: 8.0552e-04\n",
            "Epoch 54/100\n",
            "30/30 [==============================] - 9s 291ms/step - loss: 7.4733e-04\n",
            "Epoch 55/100\n",
            "30/30 [==============================] - 10s 332ms/step - loss: 8.1850e-04\n",
            "Epoch 56/100\n",
            "30/30 [==============================] - 12s 412ms/step - loss: 7.3887e-04\n",
            "Epoch 57/100\n",
            "30/30 [==============================] - 7s 242ms/step - loss: 6.5136e-04\n",
            "Epoch 58/100\n",
            "30/30 [==============================] - 7s 235ms/step - loss: 7.0735e-04\n",
            "Epoch 59/100\n",
            "30/30 [==============================] - 10s 341ms/step - loss: 7.3390e-04\n",
            "Epoch 60/100\n",
            "30/30 [==============================] - 6s 209ms/step - loss: 8.7857e-04\n",
            "Epoch 61/100\n",
            "30/30 [==============================] - 7s 223ms/step - loss: 8.4407e-04\n",
            "Epoch 62/100\n",
            "30/30 [==============================] - 7s 227ms/step - loss: 6.9369e-04\n",
            "Epoch 63/100\n",
            "30/30 [==============================] - 14s 472ms/step - loss: 6.0457e-04\n",
            "Epoch 64/100\n",
            "30/30 [==============================] - 7s 241ms/step - loss: 6.2821e-04\n",
            "Epoch 65/100\n",
            "30/30 [==============================] - 8s 253ms/step - loss: 6.6637e-04\n",
            "Epoch 66/100\n",
            "30/30 [==============================] - 7s 247ms/step - loss: 6.0353e-04\n",
            "Epoch 67/100\n",
            "30/30 [==============================] - 7s 236ms/step - loss: 5.9079e-04\n",
            "Epoch 68/100\n",
            "30/30 [==============================] - 7s 248ms/step - loss: 6.4155e-04\n",
            "Epoch 69/100\n",
            "30/30 [==============================] - 7s 227ms/step - loss: 7.2982e-04\n",
            "Epoch 70/100\n",
            "30/30 [==============================] - 10s 353ms/step - loss: 7.1507e-04\n",
            "Epoch 71/100\n",
            "30/30 [==============================] - 8s 265ms/step - loss: 6.8799e-04\n",
            "Epoch 72/100\n",
            "30/30 [==============================] - 7s 226ms/step - loss: 6.1917e-04\n",
            "Epoch 73/100\n",
            "30/30 [==============================] - 7s 236ms/step - loss: 7.6620e-04\n",
            "Epoch 74/100\n",
            "30/30 [==============================] - 8s 268ms/step - loss: 8.1358e-04\n",
            "Epoch 75/100\n",
            "30/30 [==============================] - 7s 237ms/step - loss: 6.7288e-04\n",
            "Epoch 76/100\n",
            "30/30 [==============================] - 15s 514ms/step - loss: 6.4441e-04\n",
            "Epoch 77/100\n",
            "30/30 [==============================] - 7s 235ms/step - loss: 6.8019e-04\n",
            "Epoch 78/100\n",
            "30/30 [==============================] - 7s 217ms/step - loss: 6.6084e-04\n",
            "Epoch 79/100\n",
            "30/30 [==============================] - 6s 217ms/step - loss: 6.1794e-04\n",
            "Epoch 80/100\n",
            "30/30 [==============================] - 6s 208ms/step - loss: 6.3053e-04\n",
            "Epoch 81/100\n",
            "30/30 [==============================] - 7s 220ms/step - loss: 6.5437e-04\n",
            "Epoch 82/100\n",
            "30/30 [==============================] - 6s 216ms/step - loss: 6.1995e-04\n",
            "Epoch 83/100\n",
            "30/30 [==============================] - 6s 215ms/step - loss: 6.5875e-04\n",
            "Epoch 84/100\n",
            "30/30 [==============================] - 7s 225ms/step - loss: 7.1258e-04\n",
            "Epoch 85/100\n",
            "30/30 [==============================] - 7s 229ms/step - loss: 5.8798e-04\n",
            "Epoch 86/100\n",
            "30/30 [==============================] - 7s 248ms/step - loss: 5.2117e-04\n",
            "Epoch 87/100\n",
            "30/30 [==============================] - 8s 255ms/step - loss: 5.3602e-04\n",
            "Epoch 88/100\n",
            "30/30 [==============================] - 7s 230ms/step - loss: 5.6627e-04\n",
            "Epoch 89/100\n",
            "30/30 [==============================] - 7s 235ms/step - loss: 5.6931e-04\n",
            "Epoch 90/100\n",
            "30/30 [==============================] - 8s 251ms/step - loss: 6.2258e-04\n",
            "Epoch 91/100\n",
            "30/30 [==============================] - 7s 233ms/step - loss: 7.3545e-04\n",
            "Epoch 92/100\n",
            "30/30 [==============================] - 7s 227ms/step - loss: 5.7214e-04\n",
            "Epoch 93/100\n",
            "30/30 [==============================] - 7s 244ms/step - loss: 5.1488e-04\n",
            "Epoch 94/100\n",
            "30/30 [==============================] - 7s 239ms/step - loss: 5.0490e-04\n",
            "Epoch 95/100\n",
            "30/30 [==============================] - 7s 233ms/step - loss: 6.0390e-04\n",
            "Epoch 96/100\n",
            "30/30 [==============================] - 9s 310ms/step - loss: 5.7787e-04\n",
            "Epoch 97/100\n",
            "30/30 [==============================] - 9s 301ms/step - loss: 5.8516e-04\n",
            "Epoch 98/100\n",
            "30/30 [==============================] - 7s 226ms/step - loss: 6.9730e-04\n",
            "Epoch 99/100\n",
            "30/30 [==============================] - 7s 239ms/step - loss: 6.2368e-04\n",
            "Epoch 100/100\n",
            "30/30 [==============================] - 7s 231ms/step - loss: 5.7049e-04\n"
          ]
        },
        {
          "data": {
            "text/plain": [
              "<keras.callbacks.History at 0x15dd0123bb0>"
            ]
          },
          "execution_count": 7,
          "metadata": {},
          "output_type": "execute_result"
        }
      ],
      "source": [
        "#@title Train the model\n",
        "regressor = Sequential()\n",
        "regressor.add(LSTM(units = 50, return_sequences = True, input_shape = (X_train.shape[1], 1)))\n",
        "regressor.add(Dropout(0.2))\n",
        "regressor.add(LSTM(units = 100, return_sequences = True))\n",
        "regressor.add(Dropout(0.2))\n",
        "regressor.add(LSTM(units = 50, return_sequences = True))\n",
        "regressor.add(Dropout(0.2))\n",
        "regressor.add(LSTM(units = 100))\n",
        "regressor.add(Dense(units = 1))\n",
        "regressor.compile(optimizer = 'adam', loss = 'mean_squared_error')\n",
        "regressor.fit(X_train, y_train, epochs = 100, batch_size = 64)"
      ]
    },
    {
      "cell_type": "code",
      "execution_count": 8,
      "metadata": {
        "cellView": "form",
        "id": "6FFn7tkfZJI-"
      },
      "outputs": [
        {
          "data": {
            "application/vnd.plotly.v1+json": {
              "config": {
                "plotlyServerURL": "https://plot.ly"
              },
              "data": [
                {
                  "hovertemplate": "Date=%{x}<br>Predicted=%{y}<extra></extra>",
                  "legendgroup": "",
                  "line": {
                    "color": "#636efa",
                    "dash": "solid"
                  },
                  "marker": {
                    "symbol": "circle"
                  },
                  "mode": "markers+lines",
                  "name": "",
                  "orientation": "v",
                  "showlegend": false,
                  "type": "scatter",
                  "x": [
                    "2021-01-01",
                    "2021-01-04",
                    "2021-01-05",
                    "2021-01-06",
                    "2021-01-07",
                    "2021-01-08",
                    "2021-01-11",
                    "2021-01-12",
                    "2021-01-13",
                    "2021-01-14",
                    "2021-01-15",
                    "2021-01-18",
                    "2021-01-19",
                    "2021-01-20",
                    "2021-01-21",
                    "2021-01-22",
                    "2021-01-25",
                    "2021-01-27",
                    "2021-01-28",
                    "2021-01-29",
                    "2021-02-01",
                    "2021-02-02",
                    "2021-02-03",
                    "2021-02-04",
                    "2021-02-05",
                    "2021-02-08",
                    "2021-02-09",
                    "2021-02-10",
                    "2021-02-11",
                    "2021-02-12",
                    "2021-02-15",
                    "2021-02-16",
                    "2021-02-17",
                    "2021-02-18",
                    "2021-02-19",
                    "2021-02-22",
                    "2021-02-23",
                    "2021-02-24",
                    "2021-02-25",
                    "2021-02-26",
                    "2021-03-01",
                    "2021-03-02",
                    "2021-03-03",
                    "2021-03-04",
                    "2021-03-05",
                    "2021-03-08",
                    "2021-03-09",
                    "2021-03-10",
                    "2021-03-12",
                    "2021-03-15",
                    "2021-03-16",
                    "2021-03-17",
                    "2021-03-18",
                    "2021-03-19",
                    "2021-03-22",
                    "2021-03-23",
                    "2021-03-24",
                    "2021-03-25",
                    "2021-03-26",
                    "2021-03-30",
                    "2021-03-31",
                    "2021-04-01",
                    "2021-04-05",
                    "2021-04-06",
                    "2021-04-07",
                    "2021-04-08",
                    "2021-04-09",
                    "2021-04-12",
                    "2021-04-13",
                    "2021-04-15",
                    "2021-04-16",
                    "2021-04-19",
                    "2021-04-20",
                    "2021-04-22",
                    "2021-04-23",
                    "2021-04-26",
                    "2021-04-27",
                    "2021-04-28",
                    "2021-04-29",
                    "2021-04-30",
                    "2021-05-03",
                    "2021-05-04",
                    "2021-05-05",
                    "2021-05-06",
                    "2021-05-07",
                    "2021-05-10",
                    "2021-05-11",
                    "2021-05-12",
                    "2021-05-14",
                    "2021-05-17",
                    "2021-05-18",
                    "2021-05-19",
                    "2021-05-20",
                    "2021-05-21",
                    "2021-05-24",
                    "2021-05-25",
                    "2021-05-26",
                    "2021-05-27",
                    "2021-05-28",
                    "2021-05-31",
                    "2021-06-01",
                    "2021-06-02",
                    "2021-06-03",
                    "2021-06-04",
                    "2021-06-07",
                    "2021-06-08",
                    "2021-06-09",
                    "2021-06-10",
                    "2021-06-11",
                    "2021-06-14",
                    "2021-06-15",
                    "2021-06-16",
                    "2021-06-17",
                    "2021-06-18",
                    "2021-06-21",
                    "2021-06-22",
                    "2021-06-23",
                    "2021-06-24",
                    "2021-06-25",
                    "2021-06-28",
                    "2021-06-29",
                    "2021-06-30",
                    "2021-07-01",
                    "2021-07-02",
                    "2021-07-05",
                    "2021-07-06",
                    "2021-07-07",
                    "2021-07-08",
                    "2021-07-09",
                    "2021-07-12",
                    "2021-07-13",
                    "2021-07-14",
                    "2021-07-15",
                    "2021-07-16",
                    "2021-07-19",
                    "2021-07-20",
                    "2021-07-22",
                    "2021-07-23",
                    "2021-07-26",
                    "2021-07-27",
                    "2021-07-28",
                    "2021-07-29",
                    "2021-07-30",
                    "2021-08-02",
                    "2021-08-03",
                    "2021-08-04",
                    "2021-08-05",
                    "2021-08-06",
                    "2021-08-09",
                    "2021-08-10",
                    "2021-08-11",
                    "2021-08-12",
                    "2021-08-13",
                    "2021-08-16",
                    "2021-08-17",
                    "2021-08-18",
                    "2021-08-20",
                    "2021-08-23",
                    "2021-08-24",
                    "2021-08-25",
                    "2021-08-26",
                    "2021-08-27",
                    "2021-08-30",
                    "2021-08-31",
                    "2021-09-01",
                    "2021-09-02",
                    "2021-09-03",
                    "2021-09-06",
                    "2021-09-07",
                    "2021-09-08",
                    "2021-09-09",
                    "2021-09-13",
                    "2021-09-14",
                    "2021-09-15",
                    "2021-09-16",
                    "2021-09-17",
                    "2021-09-20",
                    "2021-09-21",
                    "2021-09-22",
                    "2021-09-23",
                    "2021-09-24",
                    "2021-09-27",
                    "2021-09-28",
                    "2021-09-29",
                    "2021-09-30",
                    "2021-10-01",
                    "2021-10-04",
                    "2021-10-05",
                    "2021-10-06",
                    "2021-10-07",
                    "2021-10-08",
                    "2021-10-11",
                    "2021-10-12",
                    "2021-10-13",
                    "2021-10-14",
                    "2021-10-18",
                    "2021-10-19",
                    "2021-10-20",
                    "2021-10-21",
                    "2021-10-22",
                    "2021-10-25",
                    "2021-10-26",
                    "2021-10-27",
                    "2021-10-28",
                    "2021-10-29",
                    "2021-11-01",
                    "2021-11-02",
                    "2021-11-03",
                    "2021-11-04",
                    "2021-11-08",
                    "2021-11-09",
                    "2021-11-10",
                    "2021-11-11",
                    "2021-11-12",
                    "2021-11-15",
                    "2021-11-16",
                    "2021-11-17",
                    "2021-11-18",
                    "2021-11-22",
                    "2021-11-23",
                    "2021-11-24",
                    "2021-11-25",
                    "2021-11-26",
                    "2021-11-29",
                    "2021-11-30",
                    "2021-12-01",
                    "2021-12-02",
                    "2021-12-03",
                    "2021-12-06",
                    "2021-12-07",
                    "2021-12-08",
                    "2021-12-09",
                    "2021-12-10",
                    "2021-12-13",
                    "2021-12-14",
                    "2021-12-15",
                    "2021-12-16",
                    "2021-12-17",
                    "2021-12-20",
                    "2021-12-21",
                    "2021-12-22",
                    "2021-12-23",
                    "2021-12-24",
                    "2021-12-27",
                    "2021-12-28",
                    "2021-12-29",
                    "2021-12-30",
                    "2021-12-31"
                  ],
                  "xaxis": "x",
                  "y": [
                    1239.533447265625,
                    1241.5694580078125,
                    1246.6226806640625,
                    1255.2528076171875,
                    1267.7269287109375,
                    1278.80322265625,
                    1281.9918212890625,
                    1292.591796875,
                    1315.575927734375,
                    1339.8553466796875,
                    1354.2811279296875,
                    1358.4437255859375,
                    1351.767822265625,
                    1336.907470703125,
                    1321.7806396484375,
                    1317.66357421875,
                    1317.0411376953125,
                    1320.5584716796875,
                    1320.380859375,
                    1310.87646484375,
                    1296.5389404296875,
                    1276.2037353515625,
                    1263.1318359375,
                    1258.708740234375,
                    1261.2401123046875,
                    1266.8839111328125,
                    1272.1708984375,
                    1280.1197509765625,
                    1286.228759765625,
                    1287.6986083984375,
                    1289.40478515625,
                    1295.133544921875,
                    1301.1292724609375,
                    1300.16650390625,
                    1291.4302978515625,
                    1284.9088134765625,
                    1282.6947021484375,
                    1278.2962646484375,
                    1270.0489501953125,
                    1267.4151611328125,
                    1266.0799560546875,
                    1263.406494140625,
                    1264.15234375,
                    1275.246337890625,
                    1293.970458984375,
                    1310.685302734375,
                    1320.1280517578125,
                    1323.90771484375,
                    1330.21435546875,
                    1341.455078125,
                    1352.4024658203125,
                    1363.1849365234375,
                    1373.0328369140625,
                    1380.399658203125,
                    1370.5684814453125,
                    1355.712890625,
                    1349.1561279296875,
                    1347.212646484375,
                    1344.603515625,
                    1340.8775634765625,
                    1337.9171142578125,
                    1343.915771484375,
                    1354.292724609375,
                    1365.96484375,
                    1382.2021484375,
                    1395.2152099609375,
                    1406.419677734375,
                    1420.18359375,
                    1437.2042236328125,
                    1442.9892578125,
                    1416.2041015625,
                    1382.98876953125,
                    1353.89599609375,
                    1343.3541259765625,
                    1341.6600341796875,
                    1340.14794921875,
                    1335.448974609375,
                    1332.7142333984375,
                    1335.224365234375,
                    1342.5286865234375,
                    1345.9072265625,
                    1343.6558837890625,
                    1341.7615966796875,
                    1338.90869140625,
                    1336.66259765625,
                    1339.9874267578125,
                    1343.0946044921875,
                    1341.4390869140625,
                    1335.516845703125,
                    1328.2578125,
                    1321.04541015625,
                    1319.42919921875,
                    1322.9273681640625,
                    1329.4630126953125,
                    1335.5955810546875,
                    1341.5413818359375,
                    1346.5089111328125,
                    1351.8360595703125,
                    1364.2691650390625,
                    1380.113037109375,
                    1391.56787109375,
                    1396.469482421875,
                    1392.4271240234375,
                    1385.91015625,
                    1382.124267578125,
                    1380.69482421875,
                    1381.66845703125,
                    1387.481201171875,
                    1397.2518310546875,
                    1407.99658203125,
                    1425.2861328125,
                    1441.6578369140625,
                    1454.25537109375,
                    1462.2298583984375,
                    1473.5614013671875,
                    1481.854248046875,
                    1489.1378173828125,
                    1498.2491455078125,
                    1504.817626953125,
                    1520.3736572265625,
                    1539.18505859375,
                    1551.260986328125,
                    1558.0625,
                    1562.2255859375,
                    1560.2728271484375,
                    1557.4951171875,
                    1557.0023193359375,
                    1556.357666015625,
                    1555.7884521484375,
                    1552.6710205078125,
                    1552.0303955078125,
                    1550.34228515625,
                    1547.286865234375,
                    1545.2257080078125,
                    1548.27783203125,
                    1547.0166015625,
                    1540.769287109375,
                    1539.07958984375,
                    1548.0372314453125,
                    1562.339599609375,
                    1577.54296875,
                    1589.073486328125,
                    1594.233642578125,
                    1597.041748046875,
                    1602.9490966796875,
                    1614.477783203125,
                    1631.6224365234375,
                    1642.7176513671875,
                    1648.0877685546875,
                    1650.6448974609375,
                    1653.3914794921875,
                    1657.63134765625,
                    1662.762451171875,
                    1671.3050537109375,
                    1682.4300537109375,
                    1690.964599609375,
                    1701.5001220703125,
                    1708.02001953125,
                    1714.8095703125,
                    1724.3428955078125,
                    1725.125244140625,
                    1723.7305908203125,
                    1720.625,
                    1711.95068359375,
                    1701.5401611328125,
                    1695.9478759765625,
                    1686.965576171875,
                    1681.95166015625,
                    1683.590576171875,
                    1694.412353515625,
                    1700.195068359375,
                    1696.18017578125,
                    1687.2664794921875,
                    1682.3258056640625,
                    1681.1356201171875,
                    1687.296875,
                    1691.61083984375,
                    1689.601318359375,
                    1688.30126953125,
                    1693.0758056640625,
                    1704.000244140625,
                    1721.5306396484375,
                    1740.679931640625,
                    1740.439453125,
                    1714.8616943359375,
                    1694.4876708984375,
                    1676.8621826171875,
                    1665.9442138671875,
                    1661.19140625,
                    1668.060546875,
                    1676.0245361328125,
                    1685.3026123046875,
                    1687.4542236328125,
                    1682.9937744140625,
                    1681.3172607421875,
                    1697.0689697265625,
                    1715.9788818359375,
                    1747.5006103515625,
                    1782.9620361328125,
                    1806.1962890625,
                    1798.82421875,
                    1769.0194091796875,
                    1735.1878662109375,
                    1710.7012939453125,
                    1701.0093994140625,
                    1696.1351318359375,
                    1687.9676513671875,
                    1683.5848388671875,
                    1686.67626953125,
                    1694.4156494140625,
                    1705.58447265625,
                    1716.6307373046875,
                    1722.1494140625,
                    1724.5631103515625,
                    1727.8936767578125,
                    1741.2138671875,
                    1759.2967529296875,
                    1774.8985595703125,
                    1781.6759033203125,
                    1782.3770751953125,
                    1768.0245361328125,
                    1750.275390625,
                    1727.129638671875,
                    1707.6558837890625,
                    1693.2662353515625,
                    1688.3275146484375,
                    1692.262451171875,
                    1699.2965087890625,
                    1718.940185546875,
                    1731.2916259765625,
                    1726.4873046875,
                    1721.4130859375,
                    1726.77197265625,
                    1737.3046875,
                    1748.4989013671875,
                    1747.5931396484375,
                    1742.952392578125,
                    1743.7288818359375,
                    1762.507080078125,
                    1782.2135009765625,
                    1794.498291015625,
                    1805.2818603515625,
                    1815.2130126953125,
                    1832.8565673828125,
                    1847.4339599609375,
                    1860.455078125,
                    1870.4727783203125,
                    1876.4993896484375
                  ],
                  "yaxis": "y"
                },
                {
                  "mode": "lines+markers",
                  "name": "Actual",
                  "type": "scatter",
                  "x": [
                    "2021-01-01",
                    "2021-01-04",
                    "2021-01-05",
                    "2021-01-06",
                    "2021-01-07",
                    "2021-01-08",
                    "2021-01-11",
                    "2021-01-12",
                    "2021-01-13",
                    "2021-01-14",
                    "2021-01-15",
                    "2021-01-18",
                    "2021-01-19",
                    "2021-01-20",
                    "2021-01-21",
                    "2021-01-22",
                    "2021-01-25",
                    "2021-01-27",
                    "2021-01-28",
                    "2021-01-29",
                    "2021-02-01",
                    "2021-02-02",
                    "2021-02-03",
                    "2021-02-04",
                    "2021-02-05",
                    "2021-02-08",
                    "2021-02-09",
                    "2021-02-10",
                    "2021-02-11",
                    "2021-02-12",
                    "2021-02-15",
                    "2021-02-16",
                    "2021-02-17",
                    "2021-02-18",
                    "2021-02-19",
                    "2021-02-22",
                    "2021-02-23",
                    "2021-02-24",
                    "2021-02-25",
                    "2021-02-26",
                    "2021-03-01",
                    "2021-03-02",
                    "2021-03-03",
                    "2021-03-04",
                    "2021-03-05",
                    "2021-03-08",
                    "2021-03-09",
                    "2021-03-10",
                    "2021-03-12",
                    "2021-03-15",
                    "2021-03-16",
                    "2021-03-17",
                    "2021-03-18",
                    "2021-03-19",
                    "2021-03-22",
                    "2021-03-23",
                    "2021-03-24",
                    "2021-03-25",
                    "2021-03-26",
                    "2021-03-30",
                    "2021-03-31",
                    "2021-04-01",
                    "2021-04-05",
                    "2021-04-06",
                    "2021-04-07",
                    "2021-04-08",
                    "2021-04-09",
                    "2021-04-12",
                    "2021-04-13",
                    "2021-04-15",
                    "2021-04-16",
                    "2021-04-19",
                    "2021-04-20",
                    "2021-04-22",
                    "2021-04-23",
                    "2021-04-26",
                    "2021-04-27",
                    "2021-04-28",
                    "2021-04-29",
                    "2021-04-30",
                    "2021-05-03",
                    "2021-05-04",
                    "2021-05-05",
                    "2021-05-06",
                    "2021-05-07",
                    "2021-05-10",
                    "2021-05-11",
                    "2021-05-12",
                    "2021-05-14",
                    "2021-05-17",
                    "2021-05-18",
                    "2021-05-19",
                    "2021-05-20",
                    "2021-05-21",
                    "2021-05-24",
                    "2021-05-25",
                    "2021-05-26",
                    "2021-05-27",
                    "2021-05-28",
                    "2021-05-31",
                    "2021-06-01",
                    "2021-06-02",
                    "2021-06-03",
                    "2021-06-04",
                    "2021-06-07",
                    "2021-06-08",
                    "2021-06-09",
                    "2021-06-10",
                    "2021-06-11",
                    "2021-06-14",
                    "2021-06-15",
                    "2021-06-16",
                    "2021-06-17",
                    "2021-06-18",
                    "2021-06-21",
                    "2021-06-22",
                    "2021-06-23",
                    "2021-06-24",
                    "2021-06-25",
                    "2021-06-28",
                    "2021-06-29",
                    "2021-06-30",
                    "2021-07-01",
                    "2021-07-02",
                    "2021-07-05",
                    "2021-07-06",
                    "2021-07-07",
                    "2021-07-08",
                    "2021-07-09",
                    "2021-07-12",
                    "2021-07-13",
                    "2021-07-14",
                    "2021-07-15",
                    "2021-07-16",
                    "2021-07-19",
                    "2021-07-20",
                    "2021-07-22",
                    "2021-07-23",
                    "2021-07-26",
                    "2021-07-27",
                    "2021-07-28",
                    "2021-07-29",
                    "2021-07-30",
                    "2021-08-02",
                    "2021-08-03",
                    "2021-08-04",
                    "2021-08-05",
                    "2021-08-06",
                    "2021-08-09",
                    "2021-08-10",
                    "2021-08-11",
                    "2021-08-12",
                    "2021-08-13",
                    "2021-08-16",
                    "2021-08-17",
                    "2021-08-18",
                    "2021-08-20",
                    "2021-08-23",
                    "2021-08-24",
                    "2021-08-25",
                    "2021-08-26",
                    "2021-08-27",
                    "2021-08-30",
                    "2021-08-31",
                    "2021-09-01",
                    "2021-09-02",
                    "2021-09-03",
                    "2021-09-06",
                    "2021-09-07",
                    "2021-09-08",
                    "2021-09-09",
                    "2021-09-13",
                    "2021-09-14",
                    "2021-09-15",
                    "2021-09-16",
                    "2021-09-17",
                    "2021-09-20",
                    "2021-09-21",
                    "2021-09-22",
                    "2021-09-23",
                    "2021-09-24",
                    "2021-09-27",
                    "2021-09-28",
                    "2021-09-29",
                    "2021-09-30",
                    "2021-10-01",
                    "2021-10-04",
                    "2021-10-05",
                    "2021-10-06",
                    "2021-10-07",
                    "2021-10-08",
                    "2021-10-11",
                    "2021-10-12",
                    "2021-10-13",
                    "2021-10-14",
                    "2021-10-18",
                    "2021-10-19",
                    "2021-10-20",
                    "2021-10-21",
                    "2021-10-22",
                    "2021-10-25",
                    "2021-10-26",
                    "2021-10-27",
                    "2021-10-28",
                    "2021-10-29",
                    "2021-11-01",
                    "2021-11-02",
                    "2021-11-03",
                    "2021-11-04",
                    "2021-11-08",
                    "2021-11-09",
                    "2021-11-10",
                    "2021-11-11",
                    "2021-11-12",
                    "2021-11-15",
                    "2021-11-16",
                    "2021-11-17",
                    "2021-11-18",
                    "2021-11-22",
                    "2021-11-23",
                    "2021-11-24",
                    "2021-11-25",
                    "2021-11-26",
                    "2021-11-29",
                    "2021-11-30",
                    "2021-12-01",
                    "2021-12-02",
                    "2021-12-03",
                    "2021-12-06",
                    "2021-12-07",
                    "2021-12-08",
                    "2021-12-09",
                    "2021-12-10",
                    "2021-12-13",
                    "2021-12-14",
                    "2021-12-15",
                    "2021-12-16",
                    "2021-12-17",
                    "2021-12-20",
                    "2021-12-21",
                    "2021-12-22",
                    "2021-12-23",
                    "2021-12-24",
                    "2021-12-27",
                    "2021-12-28",
                    "2021-12-29",
                    "2021-12-30",
                    "2021-12-31"
                  ],
                  "y": [
                    1257.9,
                    1269,
                    1282,
                    1300,
                    1296,
                    1278.25,
                    1342.1,
                    1378,
                    1373.85,
                    1360,
                    1360,
                    1338,
                    1320,
                    1320.55,
                    1350,
                    1327,
                    1345,
                    1319.6,
                    1291.8,
                    1286.25,
                    1250.55,
                    1280,
                    1277.65,
                    1285,
                    1286.4,
                    1285.5,
                    1306.9,
                    1295.8,
                    1289,
                    1305,
                    1320,
                    1314,
                    1290.4,
                    1276,
                    1296.1,
                    1295,
                    1271.15,
                    1260.05,
                    1288.45,
                    1269,
                    1263.3,
                    1282.25,
                    1319.2,
                    1335,
                    1328.5,
                    1324.8,
                    1329.5,
                    1356.9,
                    1373,
                    1370,
                    1386.05,
                    1392.25,
                    1393.75,
                    1330,
                    1350.1,
                    1372.45,
                    1357.85,
                    1346.75,
                    1344.7,
                    1346.9,
                    1382,
                    1380,
                    1391,
                    1423,
                    1410.25,
                    1430,
                    1455,
                    1474,
                    1433,
                    1332.3,
                    1365,
                    1340,
                    1379,
                    1355.55,
                    1343,
                    1332.25,
                    1346,
                    1358,
                    1368,
                    1346.3,
                    1340.8,
                    1354,
                    1341.1,
                    1345,
                    1365.3,
                    1349.85,
                    1336.9,
                    1330,
                    1326.85,
                    1320.3,
                    1338,
                    1342,
                    1348.4,
                    1347.5,
                    1356.65,
                    1358,
                    1367.9,
                    1404.2,
                    1409.75,
                    1401.5,
                    1400,
                    1380.75,
                    1388.1,
                    1393.95,
                    1391,
                    1396,
                    1413.4,
                    1424,
                    1430.1,
                    1471,
                    1464,
                    1472.7,
                    1475.1,
                    1509,
                    1493,
                    1509.7,
                    1525,
                    1517,
                    1572,
                    1572.9,
                    1561,
                    1572.05,
                    1576.85,
                    1558.95,
                    1569.15,
                    1573.7,
                    1566.05,
                    1568,
                    1556,
                    1570.55,
                    1556.4,
                    1554,
                    1557.9,
                    1573.75,
                    1544.7,
                    1538.3,
                    1561.4,
                    1588.55,
                    1594.1,
                    1605,
                    1605.1,
                    1600.1,
                    1610,
                    1627.45,
                    1647,
                    1669.1,
                    1649.5,
                    1657,
                    1661,
                    1668,
                    1674.8,
                    1679.15,
                    1697,
                    1707.7,
                    1703.9,
                    1729,
                    1716.1,
                    1735.75,
                    1750,
                    1718,
                    1734,
                    1725,
                    1703.05,
                    1700.15,
                    1709.5,
                    1677.35,
                    1696.05,
                    1705.15,
                    1730,
                    1700.85,
                    1685.9,
                    1683,
                    1695.95,
                    1693.25,
                    1715.2,
                    1697,
                    1685,
                    1700,
                    1717,
                    1732,
                    1758,
                    1768.75,
                    1710,
                    1659.25,
                    1703,
                    1665.1,
                    1672.5,
                    1671,
                    1702.1,
                    1687,
                    1705.25,
                    1682,
                    1677,
                    1695.95,
                    1754,
                    1740,
                    1814,
                    1829.4,
                    1814,
                    1749.9,
                    1722.05,
                    1710.05,
                    1709.1,
                    1719.35,
                    1699,
                    1677.5,
                    1695,
                    1709,
                    1715,
                    1730,
                    1734.75,
                    1726,
                    1732.95,
                    1743,
                    1782.1,
                    1790,
                    1792.55,
                    1781.6,
                    1784,
                    1735.1,
                    1740,
                    1700,
                    1702.55,
                    1691,
                    1704.55,
                    1715,
                    1715,
                    1771.1,
                    1730,
                    1701.1,
                    1733,
                    1759,
                    1760,
                    1767.05,
                    1730.9,
                    1745,
                    1762.65,
                    1820,
                    1801.7,
                    1801,
                    1825,
                    1831.25,
                    1872.95,
                    1860,
                    1880.7,
                    1883.5,
                    1884.5,
                    1890
                  ]
                }
              ],
              "layout": {
                "legend": {
                  "tracegroupgap": 0
                },
                "margin": {
                  "t": 60
                },
                "template": {
                  "data": {
                    "bar": [
                      {
                        "error_x": {
                          "color": "#2a3f5f"
                        },
                        "error_y": {
                          "color": "#2a3f5f"
                        },
                        "marker": {
                          "line": {
                            "color": "#E5ECF6",
                            "width": 0.5
                          },
                          "pattern": {
                            "fillmode": "overlay",
                            "size": 10,
                            "solidity": 0.2
                          }
                        },
                        "type": "bar"
                      }
                    ],
                    "barpolar": [
                      {
                        "marker": {
                          "line": {
                            "color": "#E5ECF6",
                            "width": 0.5
                          },
                          "pattern": {
                            "fillmode": "overlay",
                            "size": 10,
                            "solidity": 0.2
                          }
                        },
                        "type": "barpolar"
                      }
                    ],
                    "carpet": [
                      {
                        "aaxis": {
                          "endlinecolor": "#2a3f5f",
                          "gridcolor": "white",
                          "linecolor": "white",
                          "minorgridcolor": "white",
                          "startlinecolor": "#2a3f5f"
                        },
                        "baxis": {
                          "endlinecolor": "#2a3f5f",
                          "gridcolor": "white",
                          "linecolor": "white",
                          "minorgridcolor": "white",
                          "startlinecolor": "#2a3f5f"
                        },
                        "type": "carpet"
                      }
                    ],
                    "choropleth": [
                      {
                        "colorbar": {
                          "outlinewidth": 0,
                          "ticks": ""
                        },
                        "type": "choropleth"
                      }
                    ],
                    "contour": [
                      {
                        "colorbar": {
                          "outlinewidth": 0,
                          "ticks": ""
                        },
                        "colorscale": [
                          [
                            0,
                            "#0d0887"
                          ],
                          [
                            0.1111111111111111,
                            "#46039f"
                          ],
                          [
                            0.2222222222222222,
                            "#7201a8"
                          ],
                          [
                            0.3333333333333333,
                            "#9c179e"
                          ],
                          [
                            0.4444444444444444,
                            "#bd3786"
                          ],
                          [
                            0.5555555555555556,
                            "#d8576b"
                          ],
                          [
                            0.6666666666666666,
                            "#ed7953"
                          ],
                          [
                            0.7777777777777778,
                            "#fb9f3a"
                          ],
                          [
                            0.8888888888888888,
                            "#fdca26"
                          ],
                          [
                            1,
                            "#f0f921"
                          ]
                        ],
                        "type": "contour"
                      }
                    ],
                    "contourcarpet": [
                      {
                        "colorbar": {
                          "outlinewidth": 0,
                          "ticks": ""
                        },
                        "type": "contourcarpet"
                      }
                    ],
                    "heatmap": [
                      {
                        "colorbar": {
                          "outlinewidth": 0,
                          "ticks": ""
                        },
                        "colorscale": [
                          [
                            0,
                            "#0d0887"
                          ],
                          [
                            0.1111111111111111,
                            "#46039f"
                          ],
                          [
                            0.2222222222222222,
                            "#7201a8"
                          ],
                          [
                            0.3333333333333333,
                            "#9c179e"
                          ],
                          [
                            0.4444444444444444,
                            "#bd3786"
                          ],
                          [
                            0.5555555555555556,
                            "#d8576b"
                          ],
                          [
                            0.6666666666666666,
                            "#ed7953"
                          ],
                          [
                            0.7777777777777778,
                            "#fb9f3a"
                          ],
                          [
                            0.8888888888888888,
                            "#fdca26"
                          ],
                          [
                            1,
                            "#f0f921"
                          ]
                        ],
                        "type": "heatmap"
                      }
                    ],
                    "heatmapgl": [
                      {
                        "colorbar": {
                          "outlinewidth": 0,
                          "ticks": ""
                        },
                        "colorscale": [
                          [
                            0,
                            "#0d0887"
                          ],
                          [
                            0.1111111111111111,
                            "#46039f"
                          ],
                          [
                            0.2222222222222222,
                            "#7201a8"
                          ],
                          [
                            0.3333333333333333,
                            "#9c179e"
                          ],
                          [
                            0.4444444444444444,
                            "#bd3786"
                          ],
                          [
                            0.5555555555555556,
                            "#d8576b"
                          ],
                          [
                            0.6666666666666666,
                            "#ed7953"
                          ],
                          [
                            0.7777777777777778,
                            "#fb9f3a"
                          ],
                          [
                            0.8888888888888888,
                            "#fdca26"
                          ],
                          [
                            1,
                            "#f0f921"
                          ]
                        ],
                        "type": "heatmapgl"
                      }
                    ],
                    "histogram": [
                      {
                        "marker": {
                          "pattern": {
                            "fillmode": "overlay",
                            "size": 10,
                            "solidity": 0.2
                          }
                        },
                        "type": "histogram"
                      }
                    ],
                    "histogram2d": [
                      {
                        "colorbar": {
                          "outlinewidth": 0,
                          "ticks": ""
                        },
                        "colorscale": [
                          [
                            0,
                            "#0d0887"
                          ],
                          [
                            0.1111111111111111,
                            "#46039f"
                          ],
                          [
                            0.2222222222222222,
                            "#7201a8"
                          ],
                          [
                            0.3333333333333333,
                            "#9c179e"
                          ],
                          [
                            0.4444444444444444,
                            "#bd3786"
                          ],
                          [
                            0.5555555555555556,
                            "#d8576b"
                          ],
                          [
                            0.6666666666666666,
                            "#ed7953"
                          ],
                          [
                            0.7777777777777778,
                            "#fb9f3a"
                          ],
                          [
                            0.8888888888888888,
                            "#fdca26"
                          ],
                          [
                            1,
                            "#f0f921"
                          ]
                        ],
                        "type": "histogram2d"
                      }
                    ],
                    "histogram2dcontour": [
                      {
                        "colorbar": {
                          "outlinewidth": 0,
                          "ticks": ""
                        },
                        "colorscale": [
                          [
                            0,
                            "#0d0887"
                          ],
                          [
                            0.1111111111111111,
                            "#46039f"
                          ],
                          [
                            0.2222222222222222,
                            "#7201a8"
                          ],
                          [
                            0.3333333333333333,
                            "#9c179e"
                          ],
                          [
                            0.4444444444444444,
                            "#bd3786"
                          ],
                          [
                            0.5555555555555556,
                            "#d8576b"
                          ],
                          [
                            0.6666666666666666,
                            "#ed7953"
                          ],
                          [
                            0.7777777777777778,
                            "#fb9f3a"
                          ],
                          [
                            0.8888888888888888,
                            "#fdca26"
                          ],
                          [
                            1,
                            "#f0f921"
                          ]
                        ],
                        "type": "histogram2dcontour"
                      }
                    ],
                    "mesh3d": [
                      {
                        "colorbar": {
                          "outlinewidth": 0,
                          "ticks": ""
                        },
                        "type": "mesh3d"
                      }
                    ],
                    "parcoords": [
                      {
                        "line": {
                          "colorbar": {
                            "outlinewidth": 0,
                            "ticks": ""
                          }
                        },
                        "type": "parcoords"
                      }
                    ],
                    "pie": [
                      {
                        "automargin": true,
                        "type": "pie"
                      }
                    ],
                    "scatter": [
                      {
                        "marker": {
                          "colorbar": {
                            "outlinewidth": 0,
                            "ticks": ""
                          }
                        },
                        "type": "scatter"
                      }
                    ],
                    "scatter3d": [
                      {
                        "line": {
                          "colorbar": {
                            "outlinewidth": 0,
                            "ticks": ""
                          }
                        },
                        "marker": {
                          "colorbar": {
                            "outlinewidth": 0,
                            "ticks": ""
                          }
                        },
                        "type": "scatter3d"
                      }
                    ],
                    "scattercarpet": [
                      {
                        "marker": {
                          "colorbar": {
                            "outlinewidth": 0,
                            "ticks": ""
                          }
                        },
                        "type": "scattercarpet"
                      }
                    ],
                    "scattergeo": [
                      {
                        "marker": {
                          "colorbar": {
                            "outlinewidth": 0,
                            "ticks": ""
                          }
                        },
                        "type": "scattergeo"
                      }
                    ],
                    "scattergl": [
                      {
                        "marker": {
                          "colorbar": {
                            "outlinewidth": 0,
                            "ticks": ""
                          }
                        },
                        "type": "scattergl"
                      }
                    ],
                    "scattermapbox": [
                      {
                        "marker": {
                          "colorbar": {
                            "outlinewidth": 0,
                            "ticks": ""
                          }
                        },
                        "type": "scattermapbox"
                      }
                    ],
                    "scatterpolar": [
                      {
                        "marker": {
                          "colorbar": {
                            "outlinewidth": 0,
                            "ticks": ""
                          }
                        },
                        "type": "scatterpolar"
                      }
                    ],
                    "scatterpolargl": [
                      {
                        "marker": {
                          "colorbar": {
                            "outlinewidth": 0,
                            "ticks": ""
                          }
                        },
                        "type": "scatterpolargl"
                      }
                    ],
                    "scatterternary": [
                      {
                        "marker": {
                          "colorbar": {
                            "outlinewidth": 0,
                            "ticks": ""
                          }
                        },
                        "type": "scatterternary"
                      }
                    ],
                    "surface": [
                      {
                        "colorbar": {
                          "outlinewidth": 0,
                          "ticks": ""
                        },
                        "colorscale": [
                          [
                            0,
                            "#0d0887"
                          ],
                          [
                            0.1111111111111111,
                            "#46039f"
                          ],
                          [
                            0.2222222222222222,
                            "#7201a8"
                          ],
                          [
                            0.3333333333333333,
                            "#9c179e"
                          ],
                          [
                            0.4444444444444444,
                            "#bd3786"
                          ],
                          [
                            0.5555555555555556,
                            "#d8576b"
                          ],
                          [
                            0.6666666666666666,
                            "#ed7953"
                          ],
                          [
                            0.7777777777777778,
                            "#fb9f3a"
                          ],
                          [
                            0.8888888888888888,
                            "#fdca26"
                          ],
                          [
                            1,
                            "#f0f921"
                          ]
                        ],
                        "type": "surface"
                      }
                    ],
                    "table": [
                      {
                        "cells": {
                          "fill": {
                            "color": "#EBF0F8"
                          },
                          "line": {
                            "color": "white"
                          }
                        },
                        "header": {
                          "fill": {
                            "color": "#C8D4E3"
                          },
                          "line": {
                            "color": "white"
                          }
                        },
                        "type": "table"
                      }
                    ]
                  },
                  "layout": {
                    "annotationdefaults": {
                      "arrowcolor": "#2a3f5f",
                      "arrowhead": 0,
                      "arrowwidth": 1
                    },
                    "autotypenumbers": "strict",
                    "coloraxis": {
                      "colorbar": {
                        "outlinewidth": 0,
                        "ticks": ""
                      }
                    },
                    "colorscale": {
                      "diverging": [
                        [
                          0,
                          "#8e0152"
                        ],
                        [
                          0.1,
                          "#c51b7d"
                        ],
                        [
                          0.2,
                          "#de77ae"
                        ],
                        [
                          0.3,
                          "#f1b6da"
                        ],
                        [
                          0.4,
                          "#fde0ef"
                        ],
                        [
                          0.5,
                          "#f7f7f7"
                        ],
                        [
                          0.6,
                          "#e6f5d0"
                        ],
                        [
                          0.7,
                          "#b8e186"
                        ],
                        [
                          0.8,
                          "#7fbc41"
                        ],
                        [
                          0.9,
                          "#4d9221"
                        ],
                        [
                          1,
                          "#276419"
                        ]
                      ],
                      "sequential": [
                        [
                          0,
                          "#0d0887"
                        ],
                        [
                          0.1111111111111111,
                          "#46039f"
                        ],
                        [
                          0.2222222222222222,
                          "#7201a8"
                        ],
                        [
                          0.3333333333333333,
                          "#9c179e"
                        ],
                        [
                          0.4444444444444444,
                          "#bd3786"
                        ],
                        [
                          0.5555555555555556,
                          "#d8576b"
                        ],
                        [
                          0.6666666666666666,
                          "#ed7953"
                        ],
                        [
                          0.7777777777777778,
                          "#fb9f3a"
                        ],
                        [
                          0.8888888888888888,
                          "#fdca26"
                        ],
                        [
                          1,
                          "#f0f921"
                        ]
                      ],
                      "sequentialminus": [
                        [
                          0,
                          "#0d0887"
                        ],
                        [
                          0.1111111111111111,
                          "#46039f"
                        ],
                        [
                          0.2222222222222222,
                          "#7201a8"
                        ],
                        [
                          0.3333333333333333,
                          "#9c179e"
                        ],
                        [
                          0.4444444444444444,
                          "#bd3786"
                        ],
                        [
                          0.5555555555555556,
                          "#d8576b"
                        ],
                        [
                          0.6666666666666666,
                          "#ed7953"
                        ],
                        [
                          0.7777777777777778,
                          "#fb9f3a"
                        ],
                        [
                          0.8888888888888888,
                          "#fdca26"
                        ],
                        [
                          1,
                          "#f0f921"
                        ]
                      ]
                    },
                    "colorway": [
                      "#636efa",
                      "#EF553B",
                      "#00cc96",
                      "#ab63fa",
                      "#FFA15A",
                      "#19d3f3",
                      "#FF6692",
                      "#B6E880",
                      "#FF97FF",
                      "#FECB52"
                    ],
                    "font": {
                      "color": "#2a3f5f"
                    },
                    "geo": {
                      "bgcolor": "white",
                      "lakecolor": "white",
                      "landcolor": "#E5ECF6",
                      "showlakes": true,
                      "showland": true,
                      "subunitcolor": "white"
                    },
                    "hoverlabel": {
                      "align": "left"
                    },
                    "hovermode": "closest",
                    "mapbox": {
                      "style": "light"
                    },
                    "paper_bgcolor": "white",
                    "plot_bgcolor": "#E5ECF6",
                    "polar": {
                      "angularaxis": {
                        "gridcolor": "white",
                        "linecolor": "white",
                        "ticks": ""
                      },
                      "bgcolor": "#E5ECF6",
                      "radialaxis": {
                        "gridcolor": "white",
                        "linecolor": "white",
                        "ticks": ""
                      }
                    },
                    "scene": {
                      "xaxis": {
                        "backgroundcolor": "#E5ECF6",
                        "gridcolor": "white",
                        "gridwidth": 2,
                        "linecolor": "white",
                        "showbackground": true,
                        "ticks": "",
                        "zerolinecolor": "white"
                      },
                      "yaxis": {
                        "backgroundcolor": "#E5ECF6",
                        "gridcolor": "white",
                        "gridwidth": 2,
                        "linecolor": "white",
                        "showbackground": true,
                        "ticks": "",
                        "zerolinecolor": "white"
                      },
                      "zaxis": {
                        "backgroundcolor": "#E5ECF6",
                        "gridcolor": "white",
                        "gridwidth": 2,
                        "linecolor": "white",
                        "showbackground": true,
                        "ticks": "",
                        "zerolinecolor": "white"
                      }
                    },
                    "shapedefaults": {
                      "line": {
                        "color": "#2a3f5f"
                      }
                    },
                    "ternary": {
                      "aaxis": {
                        "gridcolor": "white",
                        "linecolor": "white",
                        "ticks": ""
                      },
                      "baxis": {
                        "gridcolor": "white",
                        "linecolor": "white",
                        "ticks": ""
                      },
                      "bgcolor": "#E5ECF6",
                      "caxis": {
                        "gridcolor": "white",
                        "linecolor": "white",
                        "ticks": ""
                      }
                    },
                    "title": {
                      "x": 0.05
                    },
                    "xaxis": {
                      "automargin": true,
                      "gridcolor": "white",
                      "linecolor": "white",
                      "ticks": "",
                      "title": {
                        "standoff": 15
                      },
                      "zerolinecolor": "white",
                      "zerolinewidth": 2
                    },
                    "yaxis": {
                      "automargin": true,
                      "gridcolor": "white",
                      "linecolor": "white",
                      "ticks": "",
                      "title": {
                        "standoff": 15
                      },
                      "zerolinecolor": "white",
                      "zerolinewidth": 2
                    }
                  }
                },
                "xaxis": {
                  "anchor": "y",
                  "domain": [
                    0,
                    1
                  ],
                  "title": {
                    "text": "Date"
                  }
                },
                "yaxis": {
                  "anchor": "x",
                  "domain": [
                    0,
                    1
                  ],
                  "title": {
                    "text": "Predicted"
                  }
                }
              }
            }
          },
          "metadata": {},
          "output_type": "display_data"
        }
      ],
      "source": [
        "#@title See how the model performs on 2021 years data\n",
        "testdataframe= gh(symbol=stock_code,start=dt.datetime(2021,1,1),end=dt.datetime(2021,12,31))\n",
        "testdataframe['Date'] = testdataframe.index\n",
        "testdata = pd.DataFrame(columns = ['Date', 'Open', 'High', 'Low', 'Close'])\n",
        "testdata['Date'] = testdataframe['Date']\n",
        "testdata['Open'] = testdataframe['Open']\n",
        "testdata['High'] = testdataframe['High']\n",
        "testdata['Low'] = testdataframe['Low']\n",
        "testdata['Close'] = testdataframe['Close']\n",
        "real_stock_price = testdata.iloc[:, 1:2].values\n",
        "dataset_total = pd.concat((data2['Open'], testdata['Open']), axis = 0)\n",
        "inputs = dataset_total[len(dataset_total) - len(testdata) - 60:].values\n",
        "inputs = inputs.reshape(-1,1)\n",
        "inputs = sc.transform(inputs)\n",
        "X_test = []\n",
        "for i in range(60, len(inputs)):\n",
        "    X_test.append(inputs[i-60:i, 0])\n",
        "X_test = np.array(X_test)\n",
        "X_test = np.reshape(X_test, (X_test.shape[0], X_test.shape[1], 1))\n",
        "\n",
        "\n",
        "predicted_stock_price = regressor.predict(X_test)\n",
        "predicted_stock_price = sc.inverse_transform(predicted_stock_price)\n",
        "\n",
        "\n",
        "df = pd.DataFrame()\n",
        "df['Date'] = testdataframe['Date']\n",
        "df['Open'] = testdataframe['Open']\n",
        "df[\"Predicted\"] = predicted_stock_price\n",
        "import plotly.express as px\n",
        "fig = px.line(df, x=\"Date\", y=\"Predicted\", markers=True)\n",
        "fig.add_trace(go.Scatter(x=df[\"Date\"], y=df[\"Open\"],\n",
        "                    mode='lines+markers',\n",
        "                    name='Actual'))\n"
      ]
    },
    {
      "cell_type": "code",
      "execution_count": 9,
      "metadata": {},
      "outputs": [
        {
          "data": {
            "text/plain": [
              "25.42225932459678"
            ]
          },
          "execution_count": 9,
          "metadata": {},
          "output_type": "execute_result"
        }
      ],
      "source": [
        "from sklearn.metrics import mean_absolute_error\n",
        "mean_absolute_error(df[\"Open\"],df[\"Predicted\"])"
      ]
    },
    {
      "cell_type": "code",
      "execution_count": 11,
      "metadata": {
        "cellView": "form",
        "id": "3SAgLmt3bVQM"
      },
      "outputs": [
        {
          "data": {
            "application/vnd.plotly.v1+json": {
              "config": {
                "plotlyServerURL": "https://plot.ly"
              },
              "data": [
                {
                  "hovertemplate": "Date=%{x}<br>Predicted=%{y}<extra></extra>",
                  "legendgroup": "",
                  "line": {
                    "color": "#636efa",
                    "dash": "solid"
                  },
                  "marker": {
                    "symbol": "circle"
                  },
                  "mode": "markers+lines",
                  "name": "",
                  "orientation": "v",
                  "showlegend": false,
                  "type": "scatter",
                  "x": [
                    "2022-05-18",
                    "2022-05-19",
                    "2022-05-20",
                    "2022-05-21",
                    "2022-05-22",
                    "2022-05-23",
                    "2022-05-24",
                    "2022-05-25",
                    "2022-05-26",
                    "2022-05-27",
                    "2022-05-28",
                    "2022-05-29",
                    "2022-05-30",
                    "2022-05-31",
                    "2022-06-01",
                    "2022-06-02",
                    "2022-06-03",
                    "2022-06-04",
                    "2022-06-05",
                    "2022-06-06",
                    "2022-06-07",
                    "2022-06-08",
                    "2022-06-09",
                    "2022-06-10",
                    "2022-06-11",
                    "2022-06-12",
                    "2022-06-13",
                    "2022-06-14",
                    "2022-06-15",
                    "2022-06-16",
                    "2022-06-17",
                    "2022-06-18",
                    "2022-06-19",
                    "2022-06-20",
                    "2022-06-21",
                    "2022-06-22",
                    "2022-06-23",
                    "2022-06-24",
                    "2022-06-25",
                    "2022-06-26",
                    "2022-06-27",
                    "2022-06-28",
                    "2022-06-29",
                    "2022-06-30",
                    "2022-07-01",
                    "2022-07-02",
                    "2022-07-03",
                    "2022-07-04",
                    "2022-07-05",
                    "2022-07-06",
                    "2022-07-07",
                    "2022-07-08",
                    "2022-07-09",
                    "2022-07-10",
                    "2022-07-11",
                    "2022-07-12",
                    "2022-07-13",
                    "2022-07-14",
                    "2022-07-15",
                    "2022-07-16",
                    "2022-07-17",
                    "2022-07-18",
                    "2022-07-19",
                    "2022-07-20",
                    "2022-07-21",
                    "2022-07-22",
                    "2022-07-23",
                    "2022-07-24",
                    "2022-07-25",
                    "2022-07-26",
                    "2022-07-27",
                    "2022-07-28",
                    "2022-07-29",
                    "2022-07-30",
                    "2022-07-31",
                    "2022-08-01",
                    "2022-08-02",
                    "2022-08-03",
                    "2022-08-04",
                    "2022-08-05",
                    "2022-08-06",
                    "2022-08-07",
                    "2022-08-08",
                    "2022-08-09",
                    "2022-08-10",
                    "2022-08-11",
                    "2022-08-12",
                    "2022-08-13",
                    "2022-08-14",
                    "2022-08-15",
                    "2022-08-16",
                    "2022-08-17",
                    "2022-08-18",
                    "2022-08-19",
                    "2022-08-20",
                    "2022-08-21",
                    "2022-08-22",
                    "2022-08-23",
                    "2022-08-24",
                    "2022-08-25",
                    "2022-08-26",
                    "2022-08-27",
                    "2022-08-28",
                    "2022-08-29",
                    "2022-08-30",
                    "2022-08-31",
                    "2022-09-01",
                    "2022-09-02",
                    "2022-09-03",
                    "2022-09-04",
                    "2022-09-05",
                    "2022-09-06",
                    "2022-09-07",
                    "2022-09-08",
                    "2022-09-09",
                    "2022-09-10",
                    "2022-09-11",
                    "2022-09-12",
                    "2022-09-13",
                    "2022-09-14",
                    "2022-09-15",
                    "2022-09-16",
                    "2022-09-17",
                    "2022-09-18",
                    "2022-09-19",
                    "2022-09-20",
                    "2022-09-21",
                    "2022-09-22",
                    "2022-09-23",
                    "2022-09-24",
                    "2022-09-25",
                    "2022-09-26",
                    "2022-09-27",
                    "2022-09-28",
                    "2022-09-29",
                    "2022-09-30",
                    "2022-10-01",
                    "2022-10-02",
                    "2022-10-03",
                    "2022-10-04",
                    "2022-10-05",
                    "2022-10-06",
                    "2022-10-07",
                    "2022-10-08",
                    "2022-10-09",
                    "2022-10-10",
                    "2022-10-11",
                    "2022-10-12",
                    "2022-10-13",
                    "2022-10-14",
                    "2022-10-15",
                    "2022-10-16",
                    "2022-10-17",
                    "2022-10-18",
                    "2022-10-19",
                    "2022-10-20",
                    "2022-10-21",
                    "2022-10-22",
                    "2022-10-23",
                    "2022-10-24",
                    "2022-10-25",
                    "2022-10-26",
                    "2022-10-27",
                    "2022-10-28",
                    "2022-10-29",
                    "2022-10-30",
                    "2022-10-31",
                    "2022-11-01",
                    "2022-11-02",
                    "2022-11-03",
                    "2022-11-04",
                    "2022-11-05",
                    "2022-11-06",
                    "2022-11-07",
                    "2022-11-08",
                    "2022-11-09",
                    "2022-11-10",
                    "2022-11-11",
                    "2022-11-12",
                    "2022-11-13",
                    "2022-11-14",
                    "2022-11-15",
                    "2022-11-16",
                    "2022-11-17",
                    "2022-11-18",
                    "2022-11-19",
                    "2022-11-20",
                    "2022-11-21",
                    "2022-11-22",
                    "2022-11-23",
                    "2022-11-24",
                    "2022-11-25",
                    "2022-11-26",
                    "2022-11-27",
                    "2022-11-28",
                    "2022-11-29",
                    "2022-11-30",
                    "2022-12-01",
                    "2022-12-02",
                    "2022-12-03",
                    "2022-12-04",
                    "2022-12-05",
                    "2022-12-06",
                    "2022-12-07",
                    "2022-12-08",
                    "2022-12-09",
                    "2022-12-10",
                    "2022-12-11",
                    "2022-12-12",
                    "2022-12-13",
                    "2022-12-14",
                    "2022-12-15",
                    "2022-12-16",
                    "2022-12-17",
                    "2022-12-18",
                    "2022-12-19",
                    "2022-12-20",
                    "2022-12-21",
                    "2022-12-22",
                    "2022-12-23",
                    "2022-12-24",
                    "2022-12-25",
                    "2022-12-26",
                    "2022-12-27",
                    "2022-12-28",
                    "2022-12-29",
                    "2022-12-30",
                    "2022-12-31",
                    "2023-01-01",
                    "2023-01-02",
                    "2023-01-03",
                    "2023-01-04",
                    "2023-01-05",
                    "2023-01-06",
                    "2023-01-07",
                    "2023-01-08",
                    "2023-01-09",
                    "2023-01-10",
                    "2023-01-11",
                    "2023-01-12",
                    "2023-01-13",
                    "2023-01-14",
                    "2023-01-15",
                    "2023-01-16",
                    "2023-01-17",
                    "2023-01-18",
                    "2023-01-19",
                    "2023-01-20",
                    "2023-01-21",
                    "2023-01-22",
                    "2023-01-23",
                    "2023-01-24",
                    "2023-01-25",
                    "2023-01-26",
                    "2023-01-27",
                    "2023-01-28",
                    "2023-01-29",
                    "2023-01-30",
                    "2023-01-31",
                    "2023-02-01",
                    "2023-02-02",
                    "2023-02-03",
                    "2023-02-04",
                    "2023-02-05",
                    "2023-02-06",
                    "2023-02-07",
                    "2023-02-08",
                    "2023-02-09",
                    "2023-02-10",
                    "2023-02-11",
                    "2023-02-12",
                    "2023-02-13",
                    "2023-02-14",
                    "2023-02-15",
                    "2023-02-16",
                    "2023-02-17",
                    "2023-02-18",
                    "2023-02-19",
                    "2023-02-20",
                    "2023-02-21",
                    "2023-02-22",
                    "2023-02-23",
                    "2023-02-24",
                    "2023-02-25",
                    "2023-02-26",
                    "2023-02-27",
                    "2023-02-28",
                    "2023-03-01",
                    "2023-03-02",
                    "2023-03-03",
                    "2023-03-04",
                    "2023-03-05",
                    "2023-03-06",
                    "2023-03-07",
                    "2023-03-08",
                    "2023-03-09",
                    "2023-03-10",
                    "2023-03-11",
                    "2023-03-12",
                    "2023-03-13",
                    "2023-03-14",
                    "2023-03-15",
                    "2023-03-16",
                    "2023-03-17",
                    "2023-03-18",
                    "2023-03-19",
                    "2023-03-20",
                    "2023-03-21",
                    "2023-03-22",
                    "2023-03-23",
                    "2023-03-24",
                    "2023-03-25",
                    "2023-03-26",
                    "2023-03-27",
                    "2023-03-28",
                    "2023-03-29",
                    "2023-03-30",
                    "2023-03-31",
                    "2023-04-01",
                    "2023-04-02",
                    "2023-04-03",
                    "2023-04-04",
                    "2023-04-05",
                    "2023-04-06",
                    "2023-04-07",
                    "2023-04-08",
                    "2023-04-09",
                    "2023-04-10",
                    "2023-04-11",
                    "2023-04-12",
                    "2023-04-13",
                    "2023-04-14",
                    "2023-04-15",
                    "2023-04-16",
                    "2023-04-17",
                    "2023-04-18",
                    "2023-04-19",
                    "2023-04-20",
                    "2023-04-21",
                    "2023-04-22",
                    "2023-04-23",
                    "2023-04-24",
                    "2023-04-25",
                    "2023-04-26",
                    "2023-04-27",
                    "2023-04-28",
                    "2023-04-29",
                    "2023-04-30",
                    "2023-05-01",
                    "2023-05-02",
                    "2023-05-03",
                    "2023-05-04",
                    "2023-05-05",
                    "2023-05-06",
                    "2023-05-07",
                    "2023-05-08",
                    "2023-05-09",
                    "2023-05-10",
                    "2023-05-11",
                    "2023-05-12",
                    "2023-05-13",
                    "2023-05-14",
                    "2023-05-15",
                    "2023-05-16",
                    "2023-05-17",
                    "2023-05-18",
                    "2023-05-19",
                    "2023-05-20",
                    "2023-05-21",
                    "2023-05-22",
                    "2023-05-23",
                    "2023-05-24",
                    "2023-05-25",
                    "2023-05-26",
                    "2023-05-27",
                    "2023-05-28",
                    "2023-05-29",
                    "2023-05-30",
                    "2023-05-31",
                    "2023-06-01",
                    "2023-06-02",
                    "2023-06-03",
                    "2023-06-04",
                    "2023-06-05",
                    "2023-06-06",
                    "2023-06-07",
                    "2023-06-08",
                    "2023-06-09",
                    "2023-06-10",
                    "2023-06-11",
                    "2023-06-12",
                    "2023-06-13",
                    "2023-06-14",
                    "2023-06-15",
                    "2023-06-16",
                    "2023-06-17",
                    "2023-06-18",
                    "2023-06-19",
                    "2023-06-20",
                    "2023-06-21",
                    "2023-06-22",
                    "2023-06-23",
                    "2023-06-24",
                    "2023-06-25",
                    "2023-06-26",
                    "2023-06-27",
                    "2023-06-28",
                    "2023-06-29",
                    "2023-06-30",
                    "2023-07-01",
                    "2023-07-02",
                    "2023-07-03",
                    "2023-07-04",
                    "2023-07-05",
                    "2023-07-06",
                    "2023-07-07",
                    "2023-07-08",
                    "2023-07-09",
                    "2023-07-10",
                    "2023-07-11",
                    "2023-07-12",
                    "2023-07-13",
                    "2023-07-14",
                    "2023-07-15",
                    "2023-07-16",
                    "2023-07-17",
                    "2023-07-18",
                    "2023-07-19",
                    "2023-07-20",
                    "2023-07-21",
                    "2023-07-22",
                    "2023-07-23",
                    "2023-07-24",
                    "2023-07-25",
                    "2023-07-26",
                    "2023-07-27",
                    "2023-07-28",
                    "2023-07-29",
                    "2023-07-30",
                    "2023-07-31",
                    "2023-08-01",
                    "2023-08-02",
                    "2023-08-03",
                    "2023-08-04",
                    "2023-08-05",
                    "2023-08-06",
                    "2023-08-07",
                    "2023-08-08",
                    "2023-08-09",
                    "2023-08-10",
                    "2023-08-11",
                    "2023-08-12",
                    "2023-08-13",
                    "2023-08-14",
                    "2023-08-15",
                    "2023-08-16",
                    "2023-08-17",
                    "2023-08-18",
                    "2023-08-19",
                    "2023-08-20",
                    "2023-08-21",
                    "2023-08-22",
                    "2023-08-23",
                    "2023-08-24",
                    "2023-08-25",
                    "2023-08-26",
                    "2023-08-27",
                    "2023-08-28",
                    "2023-08-29",
                    "2023-08-30",
                    "2023-08-31",
                    "2023-09-01",
                    "2023-09-02",
                    "2023-09-03",
                    "2023-09-04",
                    "2023-09-05",
                    "2023-09-06",
                    "2023-09-07",
                    "2023-09-08",
                    "2023-09-09",
                    "2023-09-10",
                    "2023-09-11",
                    "2023-09-12",
                    "2023-09-13",
                    "2023-09-14",
                    "2023-09-15",
                    "2023-09-16",
                    "2023-09-17",
                    "2023-09-18",
                    "2023-09-19",
                    "2023-09-20",
                    "2023-09-21",
                    "2023-09-22",
                    "2023-09-23",
                    "2023-09-24",
                    "2023-09-25",
                    "2023-09-26",
                    "2023-09-27",
                    "2023-09-28",
                    "2023-09-29",
                    "2023-09-30",
                    "2023-10-01",
                    "2023-10-02",
                    "2023-10-03",
                    "2023-10-04",
                    "2023-10-05",
                    "2023-10-06",
                    "2023-10-07",
                    "2023-10-08",
                    "2023-10-09",
                    "2023-10-10",
                    "2023-10-11",
                    "2023-10-12",
                    "2023-10-13",
                    "2023-10-14",
                    "2023-10-15",
                    "2023-10-16",
                    "2023-10-17",
                    "2023-10-18",
                    "2023-10-19",
                    "2023-10-20",
                    "2023-10-21",
                    "2023-10-22",
                    "2023-10-23",
                    "2023-10-24",
                    "2023-10-25",
                    "2023-10-26",
                    "2023-10-27",
                    "2023-10-28",
                    "2023-10-29",
                    "2023-10-30",
                    "2023-10-31",
                    "2023-11-01",
                    "2023-11-02",
                    "2023-11-03",
                    "2023-11-04",
                    "2023-11-05",
                    "2023-11-06",
                    "2023-11-07",
                    "2023-11-08",
                    "2023-11-09",
                    "2023-11-10",
                    "2023-11-11",
                    "2023-11-12",
                    "2023-11-13",
                    "2023-11-14",
                    "2023-11-15",
                    "2023-11-16",
                    "2023-11-17",
                    "2023-11-18",
                    "2023-11-19",
                    "2023-11-20",
                    "2023-11-21",
                    "2023-11-22",
                    "2023-11-23",
                    "2023-11-24",
                    "2023-11-25",
                    "2023-11-26",
                    "2023-11-27",
                    "2023-11-28",
                    "2023-11-29",
                    "2023-11-30",
                    "2023-12-01",
                    "2023-12-02",
                    "2023-12-03",
                    "2023-12-04",
                    "2023-12-05",
                    "2023-12-06",
                    "2023-12-07",
                    "2023-12-08",
                    "2023-12-09",
                    "2023-12-10",
                    "2023-12-11",
                    "2023-12-12",
                    "2023-12-13",
                    "2023-12-14",
                    "2023-12-15",
                    "2023-12-16",
                    "2023-12-17",
                    "2023-12-18",
                    "2023-12-19",
                    "2023-12-20",
                    "2023-12-21",
                    "2023-12-22",
                    "2023-12-23",
                    "2023-12-24",
                    "2023-12-25",
                    "2023-12-26",
                    "2023-12-27",
                    "2023-12-28",
                    "2023-12-29",
                    "2023-12-30",
                    "2023-12-31",
                    "2024-01-01",
                    "2024-01-02",
                    "2024-01-03",
                    "2024-01-04",
                    "2024-01-05",
                    "2024-01-06",
                    "2024-01-07",
                    "2024-01-08",
                    "2024-01-09",
                    "2024-01-10",
                    "2024-01-11",
                    "2024-01-12",
                    "2024-01-13",
                    "2024-01-14",
                    "2024-01-15",
                    "2024-01-16",
                    "2024-01-17",
                    "2024-01-18",
                    "2024-01-19",
                    "2024-01-20",
                    "2024-01-21",
                    "2024-01-22",
                    "2024-01-23",
                    "2024-01-24",
                    "2024-01-25",
                    "2024-01-26",
                    "2024-01-27",
                    "2024-01-28",
                    "2024-01-29",
                    "2024-01-30",
                    "2024-01-31",
                    "2024-02-01",
                    "2024-02-02",
                    "2024-02-03",
                    "2024-02-04",
                    "2024-02-05",
                    "2024-02-06",
                    "2024-02-07",
                    "2024-02-08",
                    "2024-02-09",
                    "2024-02-10",
                    "2024-02-11",
                    "2024-02-12",
                    "2024-02-13",
                    "2024-02-14",
                    "2024-02-15",
                    "2024-02-16",
                    "2024-02-17",
                    "2024-02-18",
                    "2024-02-19",
                    "2024-02-20",
                    "2024-02-21",
                    "2024-02-22",
                    "2024-02-23",
                    "2024-02-24",
                    "2024-02-25",
                    "2024-02-26",
                    "2024-02-27",
                    "2024-02-28",
                    "2024-02-29",
                    "2024-03-01",
                    "2024-03-02",
                    "2024-03-03",
                    "2024-03-04",
                    "2024-03-05",
                    "2024-03-06",
                    "2024-03-07",
                    "2024-03-08",
                    "2024-03-09",
                    "2024-03-10",
                    "2024-03-11",
                    "2024-03-12",
                    "2024-03-13",
                    "2024-03-14",
                    "2024-03-15",
                    "2024-03-16",
                    "2024-03-17",
                    "2024-03-18",
                    "2024-03-19",
                    "2024-03-20",
                    "2024-03-21",
                    "2024-03-22",
                    "2024-03-23",
                    "2024-03-24",
                    "2024-03-25",
                    "2024-03-26",
                    "2024-03-27",
                    "2024-03-28",
                    "2024-03-29",
                    "2024-03-30",
                    "2024-03-31",
                    "2024-04-01",
                    "2024-04-02",
                    "2024-04-03",
                    "2024-04-04",
                    "2024-04-05",
                    "2024-04-06",
                    "2024-04-07",
                    "2024-04-08",
                    "2024-04-09",
                    "2024-04-10",
                    "2024-04-11",
                    "2024-04-12",
                    "2024-04-13",
                    "2024-04-14",
                    "2024-04-15",
                    "2024-04-16",
                    "2024-04-17",
                    "2024-04-18",
                    "2024-04-19",
                    "2024-04-20",
                    "2024-04-21",
                    "2024-04-22",
                    "2024-04-23",
                    "2024-04-24",
                    "2024-04-25",
                    "2024-04-26",
                    "2024-04-27",
                    "2024-04-28",
                    "2024-04-29",
                    "2024-04-30",
                    "2024-05-01",
                    "2024-05-02",
                    "2024-05-03",
                    "2024-05-04",
                    "2024-05-05",
                    "2024-05-06",
                    "2024-05-07",
                    "2024-05-08",
                    "2024-05-09",
                    "2024-05-10",
                    "2024-05-11",
                    "2024-05-12",
                    "2024-05-13",
                    "2024-05-14",
                    "2024-05-15",
                    "2024-05-16"
                  ],
                  "xaxis": "x",
                  "y": [
                    1508.1025026887653,
                    1501.9349787682293,
                    1499.1699477136133,
                    1497.6337294653056,
                    1496.29143089056,
                    1494.8310239091513,
                    1493.186867058277,
                    1491.3536443039773,
                    1489.338867433369,
                    1487.159177944064,
                    1484.8357244059441,
                    1482.3894242569802,
                    1479.8400392755864,
                    1477.2005128487942,
                    1474.4811881296334,
                    1471.686861105263,
                    1468.8218654990194,
                    1465.888628195971,
                    1462.8892871662972,
                    1459.8263270780442,
                    1456.703908305615,
                    1453.5262490063903,
                    1450.2989541292188,
                    1447.0273974910376,
                    1443.7180507853625,
                    1440.3772701397536,
                    1437.0106027200816,
                    1433.6243468709288,
                    1430.2234719283877,
                    1426.8129472285507,
                    1423.3972798436878,
                    1419.9795900546012,
                    1416.5639226697383,
                    1413.1521845273671,
                    1409.7472647763786,
                    1406.3507813401518,
                    1402.96423657611,
                    1399.5893061906097,
                    1396.2263368815181,
                    1392.8765998743472,
                    1389.5400373861191,
                    1386.2174005955455,
                    1382.908169455826,
                    1379.6126328818498,
                    1376.3302708268163,
                    1373.061661120504,
                    1369.8054747544227,
                    1366.5624051243065,
                    1363.3314699195323,
                    1360.1126691401003,
                    1356.9056560881434,
                    1353.7101996317504,
                    1350.5258375070987,
                    1347.3525697141883,
                    1344.1902229040859,
                    1341.0383348129687,
                    1337.8973099216817,
                    1334.7668015323577,
                    1331.6465785130856,
                    1328.5369297787545,
                    1325.4380864612756,
                    1322.3492395989595,
                    1319.271371502429,
                    1316.204251039773,
                    1313.1479359939692,
                    1310.1028886288402,
                    1307.0687044635413,
                    1304.046134676784,
                    1301.0351792685685,
                    1298.0359538048504,
                    1295.048631634563,
                    1292.0738483704624,
                    1289.111199531704,
                    1286.1615518629549,
                    1283.2244431003926,
                    1280.3007399886844,
                    1277.390211395919,
                    1274.4932040199635,
                    1271.6101801246402,
                    1268.7408507950602,
                    1265.8857938610015,
                    1263.045067105442,
                    1260.218612745404,
                    1257.4070086106656,
                    1254.610139135271,
                    1251.8282354511318,
                    1249.061586473137,
                    1246.3098455034194,
                    1243.5739948526023,
                    1240.8533989079294,
                    1238.1485777162013,
                    1235.459531277418,
                    1232.786317374557,
                    1230.1291093565521,
                    1227.4877916574476,
                    1224.8628843240438,
                    1222.2542140074072,
                    1219.6618384905157,
                    1217.0861044712362,
                    1214.5264919027684,
                    1211.983694180846,
                    1209.4575957395134,
                    1206.9481387957928,
                    1204.4554966986177,
                    1201.9796116650102,
                    1199.5206570439038,
                    1197.0786906182764,
                    1194.6537123881278,
                    1192.2457223534582,
                    1189.8546627312896,
                    1187.480938002467,
                    1185.1241436861453,
                    1182.7846842631695,
                    1180.4622708186505,
                    1178.1571344844995,
                    1175.8692174777386,
                    1173.5984620153902,
                    1171.3449836634097,
                    1169.1090713366864,
                    1166.8899160735307,
                    1164.6885001845656,
                    1162.5041302740572,
                    1160.3370952568946,
                    1158.1873373501,
                    1156.0550876855848,
                    1153.939652867615,
                    1151.8417840749023,
                    1149.761076826602,
                    1147.6975889056919,
                    1145.6511469632385,
                    1143.6221554800866,
                    1141.6099788434801,
                    1139.6151371002195,
                    1137.63722576946,
                    1135.6764759831128,
                    1133.7326566092668,
                    1131.8058254308996,
                    1129.8960402309892,
                    1128.0028965286908,
                    1126.1266832388935,
                    1124.2673425786195,
                    1122.424758981913,
                    1120.5986435338853,
                    1118.7893429324029,
                    1116.9964526966212,
                    1115.2200883924959,
                    1113.4603078030048,
                    1111.716764230281,
                    1109.98957324028,
                    1108.2787348330019,
                    1106.5837289616463,
                    1104.9050756730137,
                    1103.2424860522149,
                    1101.595613401383,
                    1099.9648044183848,
                    1098.349885754287,
                    1096.7504529282448,
                    1095.1667370721696,
                    1093.5985648371277,
                    1092.046051789075,
                    1090.5087356641886,
                    1088.9868475943802,
                    1087.4800986647604,
                    1085.988546658307,
                    1084.5120182260869,
                    1083.0505133680997,
                    1081.6038587354121,
                    1080.1718809790907,
                    1078.7546378821132,
                    1077.352071661502,
                    1075.9638356193898,
                    1074.590218670666,
                    1073.2308163344858,
                    1071.8855708278713,
                    1070.5545399338005,
                    1069.237492520362,
                    1067.9343130216,
                    1066.6450592204926,
                    1065.3693844191728,
                    1064.1075197495518,
                    1062.859060730785,
                    1061.6239495798943,
                    1060.4023596458135,
                    1059.1939442306755,
                    1057.9986455515025,
                    1056.816290259361,
                    1055.6469939202068,
                    1054.4904676191506,
                    1053.3465380072591,
                    1052.2153784334657,
                    1051.0965844169257,
                    1049.9903870895503,
                    1048.896324187517,
                    1047.8145690597592,
                    1046.7449483573434,
                    1045.6871731653807,
                    1044.6414168328045,
                    1043.6073326617477,
                    1042.585094001144,
                    1041.574411936104,
                    1040.5752286836503,
                    1039.5873131118713,
                    1038.6108385697005,
                    1037.6455161422489,
                    1036.6912880465386,
                    1035.748038716614,
                    1034.8157681524751,
                    1033.894129656255,
                    1032.9831810109315,
                    1032.0828644335268,
                    1031.193122141063,
                    1030.3136074356732,
                    1029.4445514492688,
                    1028.5854341350494,
                    1027.736544407904,
                    1026.8976511359213,
                    1026.0686387531457,
                    1025.2493916936216,
                    1024.4398521743713,
                    1023.6399624124168,
                    1022.8494912758468,
                    1022.0684965476393,
                    1021.2968626618384,
                    1020.5342429205774,
                    1019.781041804701,
                    1019.0367970503866,
                    1018.3015086576341,
                    1017.5750032775103,
                    1016.8572231270372,
                    1016.1481682062148,
                    1015.4477807320653,
                    1014.7558295726775,
                    1014.0722569450735,
                    1013.3970050662755,
                    1012.7300161533057,
                    1012.0711746402084,
                    1011.4202493950723,
                    1010.7774715498089,
                    1010.1425521895288,
                    1009.5153179652988,
                    1008.89600000903,
                    1008.2840782739221,
                    1007.6797838918864,
                    1007.083059079945,
                    1006.4936149232088,
                    1005.9113936387001,
                    1005.3365685753523,
                    1004.7689086012541,
                    1004.2081248015164,
                    1003.6544483080505,
                    1003.1075902059673,
                    1002.5676660612224,
                    1002.034329175949,
                    1001.507868465036,
                    1000.9879950135945,
                    1000.4744776897131,
                    999.9674320593475,
                    999.4668581224977,
                    998.9725825302302,
                    998.484605282545,
                    998.002637464553,
                    997.5267946422099,
                    997.0570190325378,
                    996.5931372866033,
                    996.1351494044064,
                    995.6829976029693,
                    995.2365663163363,
                    994.7957399785518,
                    994.3606919385492,
                    993.930959932506,
                    993.5070640072225,
                    993.0881952010094,
                    992.6748157776891,
                    992.2667523883282,
                    991.8637739010154,
                    991.4661692306398,
                    991.0735916793345,
                    990.6860990300773,
                    990.303460150957,
                    989.9259061738848,
                    989.5530326180159,
                    989.1851861812173,
                    988.821731250733,
                    988.463303439319,
                    988.1094404831528,
                    987.7599690333008,
                    987.4151202216743,
                    987.0748362652956,
                    986.7388860322534,
                    986.4072117395698,
                    986.0800445191561,
                    985.7569798901676,
                    985.4381334185599,
                    985.1233895383774,
                    984.8126904666423,
                    984.5061517693101,
                    984.2035423144697,
                    983.904862102121,
                    983.610111132264,
                    983.3192894048988,
                    983.0322235710918,
                    982.7487980648874,
                    982.4691284522413,
                    982.1932147331535,
                    981.9208835586904,
                    981.6520771458744,
                    981.386911060661,
                    981.1250386051832,
                    980.8666909113525,
                    980.6117524132131,
                    980.3601075448095,
                    980.1118140891193,
                    979.8668142631649,
                    979.6249347180127,
                    979.3863488025962,
                    979.1508253850042,
                    978.9184800311922,
                    978.6891971752046,
                    978.4629190340637,
                    978.2395878247916,
                    978.019261330366,
                    977.8017662018536,
                    977.5873913541435,
                    977.3755589574574,
                    977.166731275618,
                    976.9605038277804,
                    976.7571655288338,
                    976.556427463889,
                    976.358347415924,
                    976.1629253849386,
                    975.9701035879551,
                    975.7798820249735,
                    975.5920873470603,
                    975.4068351201712,
                    975.2240097783505,
                    975.0437268875538,
                    974.8656975328921,
                    974.6901528462766,
                    974.5169772617518,
                    974.3458818644284,
                    974.1772711351513,
                    974.0109139420091,
                    973.8465791530906,
                    973.6846134662627,
                    973.5247279666363,
                    973.3669804371892,
                    973.2113130949436,
                    973.0578415058552,
                    972.9063345380126,
                    972.7567921914159,
                    972.6093878149985,
                    972.463948059827,
                    972.3202995769678,
                    972.1786734983324,
                    972.0388964749872,
                    971.9010840728878,
                    971.7650629431008,
                    971.6307753026484,
                    971.4984522834419,
                    971.36786275357,
                    971.2389489300548,
                    971.111826378852,
                    970.9864373169838,
                    970.8626661784946,
                    970.7406863123177,
                    970.6202088035642,
                    970.5013492181896,
                    970.3840497732161,
                    970.2684838175772,
                    970.154304653406,
                    970.0418011955916,
                    969.9306845292448,
                    969.8211857862769,
                    969.7131316177546,
                    969.6064064577221,
                    969.5012414380907,
                    969.3975209929049,
                    969.2951295562088,
                    969.1941249109805,
                    969.0944492742419,
                    968.9961026459932,
                    968.8992583751678,
                    968.803511980921,
                    968.7091523781419,
                    968.6160062178969,
                    968.524131283164,
                    968.4334697909653,
                    968.3440217413008,
                    968.2559027001262,
                    968.1688815355301,
                    968.0830160304904,
                    967.9983639679849,
                    967.9148675650358,
                    967.8325846046209,
                    967.751283954829,
                    967.6711389645934,
                    967.5919762849808,
                    967.5140848308802,
                    967.437002338469,
                    967.3610755056143,
                    967.2861887663603,
                    967.2122843377292,
                    967.1393622197211,
                    967.0675379782915,
                    966.9966960474849,
                    966.9266630783677,
                    966.8575546368957,
                    966.7895440720022,
                    966.7223424687982,
                    966.6561809591949,
                    966.5908861942589,
                    966.5262848250568,
                    966.4627235494554,
                    966.4000290185213,
                    966.3381434492767,
                    966.2771824076772,
                    966.2169725447893,
                    966.1575138606131,
                    966.0990374870598,
                    966.0411967262626,
                    965.9842227101326,
                    965.9280576556921,
                    965.8726437799633,
                    965.8178655169904,
                    965.7638384327292,
                    965.7106780931354,
                    965.6580955833197,
                    965.6063798181713,
                    965.5552996657789,
                    965.5048551261425,
                    965.4550461992621,
                    965.4061040170491,
                    965.3576818816364,
                    965.3099531419575,
                    965.2628600150347,
                    965.2164602838457,
                    965.1706383824348,
                    965.12545209378,
                    965.0809014178813,
                    965.0370441377163,
                    964.9935335554183,
                    964.9508319348097,
                    964.9085925780237,
                    964.8669888339937,
                    964.8259629197419,
                    964.7853992693126,
                    964.7455290146172,
                    964.7061210237443,
                    964.6671175137162,
                    964.6288651823997,
                    964.5909017659724,
                    964.5536895282567,
                    964.5168817713857,
                    964.4805362783372,
                    964.444768615067,
                    964.4095209985971,
                    964.3746200799942,
                    964.3402969911695,
                    964.3063206002116,
                    964.2730953879654,
                    964.2400435246527,
                    964.2074539251626,
                    964.1754999384284,
                    964.1437770836055,
                    964.1126320585608,
                    964.0818337313831,
                    964.0514398850501,
                    964.0215083025396,
                    963.9919812008739,
                    963.9628585800529,
                    963.9340826570988,
                    963.9057689979672,
                    963.8778020367026,
                    963.8501817733049,
                    963.822965990752,
                    963.7960391230881,
                    963.7695745192468,
                    963.7434566132724,
                    963.717685405165,
                    963.6923186779022,
                    963.6672986485064,
                    963.6426253169775,
                    963.6182409003377,
                    963.5940876156092,
                    963.570454377681,
                    963.5470522716641,
                    963.5239390805364,
                    963.5011725872755,
                    963.4787527918816,
                    963.4565641283989,
                    963.434779945761,
                    963.4131691120565,
                    963.3919049762189,
                    963.3709297552705,
                    963.3501856662333,
                    963.3299038410187,
                    963.3095642328262,
                    963.2898602373898,
                    963.2703295908868,
                    963.2509145103395,
                    963.2319039106369,
                    963.2131822258234,
                    963.1946338899434,
                    963.1762589029968,
                    963.1583461798728,
                    963.1404912397265,
                    963.1230407804251,
                    963.1056481041014,
                    963.0886599086225,
                    963.0717872790992,
                    963.0551457814872,
                    963.0387931987643,
                    963.0226717479527,
                    963.0067236460745,
                    962.9909488931298,
                    962.9754630550742,
                    962.9600927829742,
                    962.945126991719,
                    962.9301612004638,
                    962.9155998900533,
                    962.9010963626206,
                    962.886881750077,
                    962.8727827034891,
                    962.8587992228568,
                    962.8451624400914,
                    962.8316990062594,
                    962.8182355724275,
                    962.8052344024181,
                    962.7922332324088,
                    962.779347628355,
                    962.7667509391904,
                    962.7544431649148,
                    962.7421931736171,
                    962.730058748275,
                    962.7180976718664,
                    962.7063099443913,
                    962.6946955658495,
                    962.6833123192191,
                    962.6719868555665,
                    962.6608347408473,
                    962.6497981920838,
                    962.6389927752316,
                    962.6281873583794,
                    962.617728639394,
                    962.6072699204087,
                    962.5970423333347,
                    962.5868725292385,
                    962.5769338570535,
                    962.5670529678464,
                    962.5574609935284,
                    962.5478112362325,
                    962.5382770448923,
                    962.5290317684412,
                    962.5198442749679,
                    962.5108301304281,
                    962.5018159858882,
                    962.4930907562375,
                    962.4843655265868,
                    962.4758136458695,
                    962.4673773311079,
                    962.458998799324,
                    962.4507936164737,
                    962.4425884336233,
                    962.434672165662,
                    962.4267558977008,
                    962.4189551956952,
                    962.4112122766674,
                    962.4037004895508,
                    962.3961309194565,
                    962.3887924812734,
                    962.381569609046,
                    962.3742889538407,
                    962.3672972135246,
                    962.3603054732084,
                    962.3534292988479,
                    962.3465531244874,
                    962.339965865016,
                    962.3333208225667,
                    962.326849129051,
                    962.3203774355352,
                    962.3141946569085,
                    962.3077807463706,
                    962.3017135336995,
                    962.2956463210285,
                    962.2896946743131,
                    962.2836852446198,
                    962.2779069468379,
                    962.272128649056,
                    962.2664659172297,
                    962.2608031854033,
                    962.2553138025105,
                    962.2498822025955,
                    962.2445083856583,
                    962.239134568721,
                    962.2338763177395,
                    962.2287914156914,
                    962.2236487306654,
                    962.2186216115952,
                    962.2136522755027,
                    962.208740722388,
                    962.2041180841625,
                    962.1992643140256,
                    962.1945261098444,
                    962.1899612545967,
                    962.1853386163712,
                    962.1808315441012,
                    962.1764978207648,
                    962.1721063144505,
                    962.1676570251584,
                    962.1634388677776,
                    962.1593362763524,
                    962.1551759019494,
                    962.1510733105242,
                    962.1470862850547,
                    962.1430992595851,
                    962.1392855830491,
                    962.1354141235352,
                    962.1315426640213,
                    962.1277289874852,
                    962.1241464428604,
                    962.1204483322799,
                    962.1168657876551,
                    962.1132832430303,
                    962.1099318303168,
                    962.1064070686698,
                    962.1029978729784,
                    962.0995886772871,
                    962.096410613507,
                    962.0930592007935,
                    962.0898811370134,
                    962.0867030732334,
                    962.0834094434977,
                    962.080404728651,
                    962.0774000138044,
                    962.07433751598,
                    962.0713328011334,
                    962.0684436522424,
                    962.0654389373958,
                    962.0627231374383,
                    962.0598917715251,
                    962.0571181885898,
                    962.0542868226767,
                    962.0516865886748,
                    962.0489130057395,
                    962.0463705547154,
                    962.0438281036913,
                    962.0412278696895,
                    962.0387432016432,
                    962.0362007506192,
                    962.0337738655508,
                    962.0312891975045,
                    962.0289778783917,
                    962.0265509933233,
                    962.0242396742105,
                    962.0219861380756,
                    962.0197326019406,
                    962.0174790658057,
                    962.0153410956264,
                    962.0132609084249,
                    962.0111229382455,
                    962.0089271850884,
                    962.0069047808647,
                    962.0048245936632,
                    962.0028021894395,
                    962.0008375681937,
                    961.9988729469478,
                    961.9969661086798,
                    961.9950592704117,
                    961.9931524321437,
                    961.9912455938756,
                    961.9893965385854,
                    961.9875474832952,
                    961.9857562109828,
                    961.9840227216482,
                    961.9822314493358,
                    961.9806135259569,
                    961.9789956025779,
                    961.9772621132433,
                    961.9755864068866,
                    961.9739684835076,
                    961.9722927771509,
                    961.9707904197276,
                    961.9692302793264,
                    961.9676123559475,
                    961.9662255644798,
                    961.9646076411009,
                    961.9631630666554,
                    961.9616607092321,
                    961.9602161347866,
                    961.9587715603411,
                    961.9573847688735,
                    961.9559979774058,
                    961.9547267518938,
                    961.9533977434039,
                    961.9520687349141,
                    961.950797509402,
                    961.9495840668678,
                    961.9481972754002,
                    961.9471571817994,
                    961.9458281733096,
                    961.9446147307754,
                    961.9434012882411,
                    961.9421878457069,
                    961.9411477521062,
                    961.9399920925498,
                    961.9388364329934,
                    961.9376229904592,
                    961.9366406798363,
                    961.9355428032577,
                    961.9344449266791,
                    961.9334626160562,
                    961.9324225224555,
                    961.9314402118325,
                    961.9304579012096,
                    961.9294178076088,
                    961.9284932799637,
                    961.9275109693408,
                    961.92647087574,
                    961.9256619140506,
                    961.9246796034276,
                    961.9238128587604,
                    961.9228883311152,
                    961.922021586448,
                    961.9211548417807,
                    961.9201725311577,
                    961.9194791354239,
                    961.9186123907566,
                    961.9178034290671,
                    961.9169944673777,
                    961.916243288666
                  ],
                  "yaxis": "y"
                }
              ],
              "layout": {
                "legend": {
                  "tracegroupgap": 0
                },
                "margin": {
                  "t": 60
                },
                "template": {
                  "data": {
                    "bar": [
                      {
                        "error_x": {
                          "color": "#2a3f5f"
                        },
                        "error_y": {
                          "color": "#2a3f5f"
                        },
                        "marker": {
                          "line": {
                            "color": "#E5ECF6",
                            "width": 0.5
                          },
                          "pattern": {
                            "fillmode": "overlay",
                            "size": 10,
                            "solidity": 0.2
                          }
                        },
                        "type": "bar"
                      }
                    ],
                    "barpolar": [
                      {
                        "marker": {
                          "line": {
                            "color": "#E5ECF6",
                            "width": 0.5
                          },
                          "pattern": {
                            "fillmode": "overlay",
                            "size": 10,
                            "solidity": 0.2
                          }
                        },
                        "type": "barpolar"
                      }
                    ],
                    "carpet": [
                      {
                        "aaxis": {
                          "endlinecolor": "#2a3f5f",
                          "gridcolor": "white",
                          "linecolor": "white",
                          "minorgridcolor": "white",
                          "startlinecolor": "#2a3f5f"
                        },
                        "baxis": {
                          "endlinecolor": "#2a3f5f",
                          "gridcolor": "white",
                          "linecolor": "white",
                          "minorgridcolor": "white",
                          "startlinecolor": "#2a3f5f"
                        },
                        "type": "carpet"
                      }
                    ],
                    "choropleth": [
                      {
                        "colorbar": {
                          "outlinewidth": 0,
                          "ticks": ""
                        },
                        "type": "choropleth"
                      }
                    ],
                    "contour": [
                      {
                        "colorbar": {
                          "outlinewidth": 0,
                          "ticks": ""
                        },
                        "colorscale": [
                          [
                            0,
                            "#0d0887"
                          ],
                          [
                            0.1111111111111111,
                            "#46039f"
                          ],
                          [
                            0.2222222222222222,
                            "#7201a8"
                          ],
                          [
                            0.3333333333333333,
                            "#9c179e"
                          ],
                          [
                            0.4444444444444444,
                            "#bd3786"
                          ],
                          [
                            0.5555555555555556,
                            "#d8576b"
                          ],
                          [
                            0.6666666666666666,
                            "#ed7953"
                          ],
                          [
                            0.7777777777777778,
                            "#fb9f3a"
                          ],
                          [
                            0.8888888888888888,
                            "#fdca26"
                          ],
                          [
                            1,
                            "#f0f921"
                          ]
                        ],
                        "type": "contour"
                      }
                    ],
                    "contourcarpet": [
                      {
                        "colorbar": {
                          "outlinewidth": 0,
                          "ticks": ""
                        },
                        "type": "contourcarpet"
                      }
                    ],
                    "heatmap": [
                      {
                        "colorbar": {
                          "outlinewidth": 0,
                          "ticks": ""
                        },
                        "colorscale": [
                          [
                            0,
                            "#0d0887"
                          ],
                          [
                            0.1111111111111111,
                            "#46039f"
                          ],
                          [
                            0.2222222222222222,
                            "#7201a8"
                          ],
                          [
                            0.3333333333333333,
                            "#9c179e"
                          ],
                          [
                            0.4444444444444444,
                            "#bd3786"
                          ],
                          [
                            0.5555555555555556,
                            "#d8576b"
                          ],
                          [
                            0.6666666666666666,
                            "#ed7953"
                          ],
                          [
                            0.7777777777777778,
                            "#fb9f3a"
                          ],
                          [
                            0.8888888888888888,
                            "#fdca26"
                          ],
                          [
                            1,
                            "#f0f921"
                          ]
                        ],
                        "type": "heatmap"
                      }
                    ],
                    "heatmapgl": [
                      {
                        "colorbar": {
                          "outlinewidth": 0,
                          "ticks": ""
                        },
                        "colorscale": [
                          [
                            0,
                            "#0d0887"
                          ],
                          [
                            0.1111111111111111,
                            "#46039f"
                          ],
                          [
                            0.2222222222222222,
                            "#7201a8"
                          ],
                          [
                            0.3333333333333333,
                            "#9c179e"
                          ],
                          [
                            0.4444444444444444,
                            "#bd3786"
                          ],
                          [
                            0.5555555555555556,
                            "#d8576b"
                          ],
                          [
                            0.6666666666666666,
                            "#ed7953"
                          ],
                          [
                            0.7777777777777778,
                            "#fb9f3a"
                          ],
                          [
                            0.8888888888888888,
                            "#fdca26"
                          ],
                          [
                            1,
                            "#f0f921"
                          ]
                        ],
                        "type": "heatmapgl"
                      }
                    ],
                    "histogram": [
                      {
                        "marker": {
                          "pattern": {
                            "fillmode": "overlay",
                            "size": 10,
                            "solidity": 0.2
                          }
                        },
                        "type": "histogram"
                      }
                    ],
                    "histogram2d": [
                      {
                        "colorbar": {
                          "outlinewidth": 0,
                          "ticks": ""
                        },
                        "colorscale": [
                          [
                            0,
                            "#0d0887"
                          ],
                          [
                            0.1111111111111111,
                            "#46039f"
                          ],
                          [
                            0.2222222222222222,
                            "#7201a8"
                          ],
                          [
                            0.3333333333333333,
                            "#9c179e"
                          ],
                          [
                            0.4444444444444444,
                            "#bd3786"
                          ],
                          [
                            0.5555555555555556,
                            "#d8576b"
                          ],
                          [
                            0.6666666666666666,
                            "#ed7953"
                          ],
                          [
                            0.7777777777777778,
                            "#fb9f3a"
                          ],
                          [
                            0.8888888888888888,
                            "#fdca26"
                          ],
                          [
                            1,
                            "#f0f921"
                          ]
                        ],
                        "type": "histogram2d"
                      }
                    ],
                    "histogram2dcontour": [
                      {
                        "colorbar": {
                          "outlinewidth": 0,
                          "ticks": ""
                        },
                        "colorscale": [
                          [
                            0,
                            "#0d0887"
                          ],
                          [
                            0.1111111111111111,
                            "#46039f"
                          ],
                          [
                            0.2222222222222222,
                            "#7201a8"
                          ],
                          [
                            0.3333333333333333,
                            "#9c179e"
                          ],
                          [
                            0.4444444444444444,
                            "#bd3786"
                          ],
                          [
                            0.5555555555555556,
                            "#d8576b"
                          ],
                          [
                            0.6666666666666666,
                            "#ed7953"
                          ],
                          [
                            0.7777777777777778,
                            "#fb9f3a"
                          ],
                          [
                            0.8888888888888888,
                            "#fdca26"
                          ],
                          [
                            1,
                            "#f0f921"
                          ]
                        ],
                        "type": "histogram2dcontour"
                      }
                    ],
                    "mesh3d": [
                      {
                        "colorbar": {
                          "outlinewidth": 0,
                          "ticks": ""
                        },
                        "type": "mesh3d"
                      }
                    ],
                    "parcoords": [
                      {
                        "line": {
                          "colorbar": {
                            "outlinewidth": 0,
                            "ticks": ""
                          }
                        },
                        "type": "parcoords"
                      }
                    ],
                    "pie": [
                      {
                        "automargin": true,
                        "type": "pie"
                      }
                    ],
                    "scatter": [
                      {
                        "marker": {
                          "colorbar": {
                            "outlinewidth": 0,
                            "ticks": ""
                          }
                        },
                        "type": "scatter"
                      }
                    ],
                    "scatter3d": [
                      {
                        "line": {
                          "colorbar": {
                            "outlinewidth": 0,
                            "ticks": ""
                          }
                        },
                        "marker": {
                          "colorbar": {
                            "outlinewidth": 0,
                            "ticks": ""
                          }
                        },
                        "type": "scatter3d"
                      }
                    ],
                    "scattercarpet": [
                      {
                        "marker": {
                          "colorbar": {
                            "outlinewidth": 0,
                            "ticks": ""
                          }
                        },
                        "type": "scattercarpet"
                      }
                    ],
                    "scattergeo": [
                      {
                        "marker": {
                          "colorbar": {
                            "outlinewidth": 0,
                            "ticks": ""
                          }
                        },
                        "type": "scattergeo"
                      }
                    ],
                    "scattergl": [
                      {
                        "marker": {
                          "colorbar": {
                            "outlinewidth": 0,
                            "ticks": ""
                          }
                        },
                        "type": "scattergl"
                      }
                    ],
                    "scattermapbox": [
                      {
                        "marker": {
                          "colorbar": {
                            "outlinewidth": 0,
                            "ticks": ""
                          }
                        },
                        "type": "scattermapbox"
                      }
                    ],
                    "scatterpolar": [
                      {
                        "marker": {
                          "colorbar": {
                            "outlinewidth": 0,
                            "ticks": ""
                          }
                        },
                        "type": "scatterpolar"
                      }
                    ],
                    "scatterpolargl": [
                      {
                        "marker": {
                          "colorbar": {
                            "outlinewidth": 0,
                            "ticks": ""
                          }
                        },
                        "type": "scatterpolargl"
                      }
                    ],
                    "scatterternary": [
                      {
                        "marker": {
                          "colorbar": {
                            "outlinewidth": 0,
                            "ticks": ""
                          }
                        },
                        "type": "scatterternary"
                      }
                    ],
                    "surface": [
                      {
                        "colorbar": {
                          "outlinewidth": 0,
                          "ticks": ""
                        },
                        "colorscale": [
                          [
                            0,
                            "#0d0887"
                          ],
                          [
                            0.1111111111111111,
                            "#46039f"
                          ],
                          [
                            0.2222222222222222,
                            "#7201a8"
                          ],
                          [
                            0.3333333333333333,
                            "#9c179e"
                          ],
                          [
                            0.4444444444444444,
                            "#bd3786"
                          ],
                          [
                            0.5555555555555556,
                            "#d8576b"
                          ],
                          [
                            0.6666666666666666,
                            "#ed7953"
                          ],
                          [
                            0.7777777777777778,
                            "#fb9f3a"
                          ],
                          [
                            0.8888888888888888,
                            "#fdca26"
                          ],
                          [
                            1,
                            "#f0f921"
                          ]
                        ],
                        "type": "surface"
                      }
                    ],
                    "table": [
                      {
                        "cells": {
                          "fill": {
                            "color": "#EBF0F8"
                          },
                          "line": {
                            "color": "white"
                          }
                        },
                        "header": {
                          "fill": {
                            "color": "#C8D4E3"
                          },
                          "line": {
                            "color": "white"
                          }
                        },
                        "type": "table"
                      }
                    ]
                  },
                  "layout": {
                    "annotationdefaults": {
                      "arrowcolor": "#2a3f5f",
                      "arrowhead": 0,
                      "arrowwidth": 1
                    },
                    "autotypenumbers": "strict",
                    "coloraxis": {
                      "colorbar": {
                        "outlinewidth": 0,
                        "ticks": ""
                      }
                    },
                    "colorscale": {
                      "diverging": [
                        [
                          0,
                          "#8e0152"
                        ],
                        [
                          0.1,
                          "#c51b7d"
                        ],
                        [
                          0.2,
                          "#de77ae"
                        ],
                        [
                          0.3,
                          "#f1b6da"
                        ],
                        [
                          0.4,
                          "#fde0ef"
                        ],
                        [
                          0.5,
                          "#f7f7f7"
                        ],
                        [
                          0.6,
                          "#e6f5d0"
                        ],
                        [
                          0.7,
                          "#b8e186"
                        ],
                        [
                          0.8,
                          "#7fbc41"
                        ],
                        [
                          0.9,
                          "#4d9221"
                        ],
                        [
                          1,
                          "#276419"
                        ]
                      ],
                      "sequential": [
                        [
                          0,
                          "#0d0887"
                        ],
                        [
                          0.1111111111111111,
                          "#46039f"
                        ],
                        [
                          0.2222222222222222,
                          "#7201a8"
                        ],
                        [
                          0.3333333333333333,
                          "#9c179e"
                        ],
                        [
                          0.4444444444444444,
                          "#bd3786"
                        ],
                        [
                          0.5555555555555556,
                          "#d8576b"
                        ],
                        [
                          0.6666666666666666,
                          "#ed7953"
                        ],
                        [
                          0.7777777777777778,
                          "#fb9f3a"
                        ],
                        [
                          0.8888888888888888,
                          "#fdca26"
                        ],
                        [
                          1,
                          "#f0f921"
                        ]
                      ],
                      "sequentialminus": [
                        [
                          0,
                          "#0d0887"
                        ],
                        [
                          0.1111111111111111,
                          "#46039f"
                        ],
                        [
                          0.2222222222222222,
                          "#7201a8"
                        ],
                        [
                          0.3333333333333333,
                          "#9c179e"
                        ],
                        [
                          0.4444444444444444,
                          "#bd3786"
                        ],
                        [
                          0.5555555555555556,
                          "#d8576b"
                        ],
                        [
                          0.6666666666666666,
                          "#ed7953"
                        ],
                        [
                          0.7777777777777778,
                          "#fb9f3a"
                        ],
                        [
                          0.8888888888888888,
                          "#fdca26"
                        ],
                        [
                          1,
                          "#f0f921"
                        ]
                      ]
                    },
                    "colorway": [
                      "#636efa",
                      "#EF553B",
                      "#00cc96",
                      "#ab63fa",
                      "#FFA15A",
                      "#19d3f3",
                      "#FF6692",
                      "#B6E880",
                      "#FF97FF",
                      "#FECB52"
                    ],
                    "font": {
                      "color": "#2a3f5f"
                    },
                    "geo": {
                      "bgcolor": "white",
                      "lakecolor": "white",
                      "landcolor": "#E5ECF6",
                      "showlakes": true,
                      "showland": true,
                      "subunitcolor": "white"
                    },
                    "hoverlabel": {
                      "align": "left"
                    },
                    "hovermode": "closest",
                    "mapbox": {
                      "style": "light"
                    },
                    "paper_bgcolor": "white",
                    "plot_bgcolor": "#E5ECF6",
                    "polar": {
                      "angularaxis": {
                        "gridcolor": "white",
                        "linecolor": "white",
                        "ticks": ""
                      },
                      "bgcolor": "#E5ECF6",
                      "radialaxis": {
                        "gridcolor": "white",
                        "linecolor": "white",
                        "ticks": ""
                      }
                    },
                    "scene": {
                      "xaxis": {
                        "backgroundcolor": "#E5ECF6",
                        "gridcolor": "white",
                        "gridwidth": 2,
                        "linecolor": "white",
                        "showbackground": true,
                        "ticks": "",
                        "zerolinecolor": "white"
                      },
                      "yaxis": {
                        "backgroundcolor": "#E5ECF6",
                        "gridcolor": "white",
                        "gridwidth": 2,
                        "linecolor": "white",
                        "showbackground": true,
                        "ticks": "",
                        "zerolinecolor": "white"
                      },
                      "zaxis": {
                        "backgroundcolor": "#E5ECF6",
                        "gridcolor": "white",
                        "gridwidth": 2,
                        "linecolor": "white",
                        "showbackground": true,
                        "ticks": "",
                        "zerolinecolor": "white"
                      }
                    },
                    "shapedefaults": {
                      "line": {
                        "color": "#2a3f5f"
                      }
                    },
                    "ternary": {
                      "aaxis": {
                        "gridcolor": "white",
                        "linecolor": "white",
                        "ticks": ""
                      },
                      "baxis": {
                        "gridcolor": "white",
                        "linecolor": "white",
                        "ticks": ""
                      },
                      "bgcolor": "#E5ECF6",
                      "caxis": {
                        "gridcolor": "white",
                        "linecolor": "white",
                        "ticks": ""
                      }
                    },
                    "title": {
                      "x": 0.05
                    },
                    "xaxis": {
                      "automargin": true,
                      "gridcolor": "white",
                      "linecolor": "white",
                      "ticks": "",
                      "title": {
                        "standoff": 15
                      },
                      "zerolinecolor": "white",
                      "zerolinewidth": 2
                    },
                    "yaxis": {
                      "automargin": true,
                      "gridcolor": "white",
                      "linecolor": "white",
                      "ticks": "",
                      "title": {
                        "standoff": 15
                      },
                      "zerolinecolor": "white",
                      "zerolinewidth": 2
                    }
                  }
                },
                "xaxis": {
                  "anchor": "y",
                  "domain": [
                    0,
                    1
                  ],
                  "title": {
                    "text": "Date"
                  }
                },
                "yaxis": {
                  "anchor": "x",
                  "domain": [
                    0,
                    1
                  ],
                  "title": {
                    "text": "Predicted"
                  }
                }
              }
            }
          },
          "metadata": {},
          "output_type": "display_data"
        }
      ],
      "source": [
        "#@title  Make Predictions \n",
        "from numpy import array\n",
        "tod = dt.datetime.now()\n",
        "lst = list(map(int , tod.strftime(\"%Y-%m-%d\").split(\"-\")))\n",
        "testdataframe= gh(symbol=stock_code,start=dt.datetime(2021,1,1),end=dt.datetime(lst[0],lst[1],lst[2]))\n",
        "\n",
        "\n",
        "temp = sc.transform(testdataframe.iloc[-60:,3:4].values)\n",
        "\n",
        "x_input=temp.reshape(1,-1)\n",
        "x_input.shape\n",
        "\n",
        "\n",
        "temp_input=list(x_input)\n",
        "temp_input=temp_input[0].tolist()\n",
        "lst_output=[]\n",
        "n_steps=60\n",
        "i=0\n",
        "while(i<730):\n",
        "    if(len(temp_input)>60):\n",
        "        x_input=np.array(temp_input[1:])\n",
        "        x_input=x_input.reshape(1,-1)\n",
        "        x_input = x_input.reshape((1, n_steps, 1))\n",
        "        #print(x_input)\n",
        "        yhat = regressor.predict(x_input, verbose=0)\n",
        "        temp_input.extend(yhat[0].tolist())\n",
        "        temp_input=temp_input[1:]\n",
        "        lst_output.extend(yhat.tolist())\n",
        "        i=i+1\n",
        "    else:\n",
        "        x_input = x_input.reshape((1, n_steps,1))\n",
        "        yhat = regressor.predict(x_input, verbose=0)\n",
        "        temp_input.extend(yhat[0].tolist())\n",
        "        lst_output.extend(yhat.tolist())\n",
        "        i=i+1\n",
        "\n",
        "preds = np.array(lst_output)\n",
        "preds = sc.inverse_transform(preds)\n",
        "from numpy.lib.function_base import kaiser\n",
        "t = 730\n",
        "lst = []\n",
        "k = dt.datetime.now()\n",
        "\n",
        "while(t>0):\n",
        "  temp = k + datetime.relativedelta(days = 1)\n",
        "  k = temp \n",
        "  lst.append(temp.strftime(\"%Y-%m-%d\"))\n",
        "  t-=1\n",
        "df1 = pd.DataFrame()\n",
        "df1['Date'] = lst\n",
        "df1[\"Predicted\"] = preds\n",
        "import plotly.express as px\n",
        "fig = px.line(df1, x=\"Date\", y=\"Predicted\", markers=True)\n",
        "fig.show()  \n"
      ]
    }
  ],
  "metadata": {
    "colab": {
      "collapsed_sections": [],
      "name": "Stock Data.ipynb",
      "provenance": []
    },
    "interpreter": {
      "hash": "7e0d8f7dd7549e3e1dbf66334c5adda6789823a9e873298eedd40542ee480cb0"
    },
    "kernelspec": {
      "display_name": "Python 3.10.0 ('cryptocurrency-analysis')",
      "language": "python",
      "name": "python3"
    },
    "language_info": {
      "codemirror_mode": {
        "name": "ipython",
        "version": 3
      },
      "file_extension": ".py",
      "mimetype": "text/x-python",
      "name": "python",
      "nbconvert_exporter": "python",
      "pygments_lexer": "ipython3",
      "version": "3.10.0"
    }
  },
  "nbformat": 4,
  "nbformat_minor": 0
}
