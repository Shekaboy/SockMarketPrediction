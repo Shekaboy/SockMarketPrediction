{
  "cells": [
    {
      "cell_type": "markdown",
      "metadata": {
        "id": "_2jVipLJyjeH"
      },
      "source": [
        "Runtime 20 - 25 mins\n",
        "\n",
        "\n",
        "---\n",
        "change the stock market code down bellow (stock_code)\n",
        "\n",
        "\n",
        "---\n",
        "Clck on Runtime -> Run all \n",
        "\n",
        "\n"
      ]
    },
    {
      "cell_type": "code",
      "execution_count": 1,
      "metadata": {
        "cellView": "form",
        "id": "VJmZMuHC-Xdz"
      },
      "outputs": [
        {
          "name": "stdout",
          "output_type": "stream",
          "text": [
            "Requirement already satisfied: tensorflow in c:\\users\\srikar\\.conda\\envs\\cryptocurrency-analysis\\lib\\site-packages (2.8.0)\n",
            "Requirement already satisfied: opt-einsum>=2.3.2 in c:\\users\\srikar\\.conda\\envs\\cryptocurrency-analysis\\lib\\site-packages (from tensorflow) (3.3.0)\n",
            "Requirement already satisfied: gast>=0.2.1 in c:\\users\\srikar\\.conda\\envs\\cryptocurrency-analysis\\lib\\site-packages (from tensorflow) (0.5.3)\n",
            "Requirement already satisfied: keras<2.9,>=2.8.0rc0 in c:\\users\\srikar\\.conda\\envs\\cryptocurrency-analysis\\lib\\site-packages (from tensorflow) (2.8.0)\n",
            "Requirement already satisfied: wrapt>=1.11.0 in c:\\users\\srikar\\.conda\\envs\\cryptocurrency-analysis\\lib\\site-packages (from tensorflow) (1.13.3)\n",
            "Requirement already satisfied: h5py>=2.9.0 in c:\\users\\srikar\\.conda\\envs\\cryptocurrency-analysis\\lib\\site-packages (from tensorflow) (3.6.0)\n",
            "Requirement already satisfied: numpy>=1.20 in c:\\users\\srikar\\.conda\\envs\\cryptocurrency-analysis\\lib\\site-packages (from tensorflow) (1.22.2)\n",
            "Requirement already satisfied: absl-py>=0.4.0 in c:\\users\\srikar\\.conda\\envs\\cryptocurrency-analysis\\lib\\site-packages (from tensorflow) (1.0.0)\n",
            "Requirement already satisfied: grpcio<2.0,>=1.24.3 in c:\\users\\srikar\\.conda\\envs\\cryptocurrency-analysis\\lib\\site-packages (from tensorflow) (1.43.0)\n",
            "Requirement already satisfied: protobuf>=3.9.2 in c:\\users\\srikar\\.conda\\envs\\cryptocurrency-analysis\\lib\\site-packages (from tensorflow) (3.19.4)\n",
            "Requirement already satisfied: keras-preprocessing>=1.1.1 in c:\\users\\srikar\\.conda\\envs\\cryptocurrency-analysis\\lib\\site-packages (from tensorflow) (1.1.2)\n",
            "Requirement already satisfied: flatbuffers>=1.12 in c:\\users\\srikar\\.conda\\envs\\cryptocurrency-analysis\\lib\\site-packages (from tensorflow) (2.0)\n",
            "Requirement already satisfied: astunparse>=1.6.0 in c:\\users\\srikar\\.conda\\envs\\cryptocurrency-analysis\\lib\\site-packages (from tensorflow) (1.6.3)\n",
            "Requirement already satisfied: google-pasta>=0.1.1 in c:\\users\\srikar\\.conda\\envs\\cryptocurrency-analysis\\lib\\site-packages (from tensorflow) (0.2.0)\n",
            "Requirement already satisfied: tensorflow-io-gcs-filesystem>=0.23.1 in c:\\users\\srikar\\.conda\\envs\\cryptocurrency-analysis\\lib\\site-packages (from tensorflow) (0.24.0)\n",
            "Requirement already satisfied: libclang>=9.0.1 in c:\\users\\srikar\\.conda\\envs\\cryptocurrency-analysis\\lib\\site-packages (from tensorflow) (13.0.0)\n",
            "Requirement already satisfied: tensorboard<2.9,>=2.8 in c:\\users\\srikar\\.conda\\envs\\cryptocurrency-analysis\\lib\\site-packages (from tensorflow) (2.8.0)\n",
            "Requirement already satisfied: typing-extensions>=3.6.6 in c:\\users\\srikar\\.conda\\envs\\cryptocurrency-analysis\\lib\\site-packages (from tensorflow) (4.0.1)\n",
            "Requirement already satisfied: six>=1.12.0 in c:\\users\\srikar\\.conda\\envs\\cryptocurrency-analysis\\lib\\site-packages (from tensorflow) (1.16.0)\n",
            "Requirement already satisfied: termcolor>=1.1.0 in c:\\users\\srikar\\.conda\\envs\\cryptocurrency-analysis\\lib\\site-packages (from tensorflow) (1.1.0)\n",
            "Requirement already satisfied: setuptools in c:\\users\\srikar\\.conda\\envs\\cryptocurrency-analysis\\lib\\site-packages (from tensorflow) (58.0.4)\n",
            "Requirement already satisfied: tf-estimator-nightly==2.8.0.dev2021122109 in c:\\users\\srikar\\.conda\\envs\\cryptocurrency-analysis\\lib\\site-packages (from tensorflow) (2.8.0.dev2021122109)\n",
            "Requirement already satisfied: wheel<1.0,>=0.23.0 in c:\\users\\srikar\\.conda\\envs\\cryptocurrency-analysis\\lib\\site-packages (from astunparse>=1.6.0->tensorflow) (0.37.1)\n",
            "Requirement already satisfied: requests<3,>=2.21.0 in c:\\users\\srikar\\.conda\\envs\\cryptocurrency-analysis\\lib\\site-packages (from tensorboard<2.9,>=2.8->tensorflow) (2.27.1)\n",
            "Requirement already satisfied: google-auth-oauthlib<0.5,>=0.4.1 in c:\\users\\srikar\\.conda\\envs\\cryptocurrency-analysis\\lib\\site-packages (from tensorboard<2.9,>=2.8->tensorflow) (0.4.6)\n",
            "Requirement already satisfied: tensorboard-data-server<0.7.0,>=0.6.0 in c:\\users\\srikar\\.conda\\envs\\cryptocurrency-analysis\\lib\\site-packages (from tensorboard<2.9,>=2.8->tensorflow) (0.6.1)\n",
            "Requirement already satisfied: werkzeug>=0.11.15 in c:\\users\\srikar\\.conda\\envs\\cryptocurrency-analysis\\lib\\site-packages (from tensorboard<2.9,>=2.8->tensorflow) (2.0.3)\n",
            "Requirement already satisfied: tensorboard-plugin-wit>=1.6.0 in c:\\users\\srikar\\.conda\\envs\\cryptocurrency-analysis\\lib\\site-packages (from tensorboard<2.9,>=2.8->tensorflow) (1.8.1)\n",
            "Requirement already satisfied: google-auth<3,>=1.6.3 in c:\\users\\srikar\\.conda\\envs\\cryptocurrency-analysis\\lib\\site-packages (from tensorboard<2.9,>=2.8->tensorflow) (2.6.0)\n",
            "Requirement already satisfied: markdown>=2.6.8 in c:\\users\\srikar\\.conda\\envs\\cryptocurrency-analysis\\lib\\site-packages (from tensorboard<2.9,>=2.8->tensorflow) (3.3.6)\n",
            "Requirement already satisfied: cachetools<6.0,>=2.0.0 in c:\\users\\srikar\\.conda\\envs\\cryptocurrency-analysis\\lib\\site-packages (from google-auth<3,>=1.6.3->tensorboard<2.9,>=2.8->tensorflow) (5.0.0)\n",
            "Requirement already satisfied: rsa<5,>=3.1.4 in c:\\users\\srikar\\.conda\\envs\\cryptocurrency-analysis\\lib\\site-packages (from google-auth<3,>=1.6.3->tensorboard<2.9,>=2.8->tensorflow) (4.8)\n",
            "Requirement already satisfied: pyasn1-modules>=0.2.1 in c:\\users\\srikar\\.conda\\envs\\cryptocurrency-analysis\\lib\\site-packages (from google-auth<3,>=1.6.3->tensorboard<2.9,>=2.8->tensorflow) (0.2.8)\n",
            "Requirement already satisfied: requests-oauthlib>=0.7.0 in c:\\users\\srikar\\.conda\\envs\\cryptocurrency-analysis\\lib\\site-packages (from google-auth-oauthlib<0.5,>=0.4.1->tensorboard<2.9,>=2.8->tensorflow) (1.3.1)\n",
            "Requirement already satisfied: pyasn1<0.5.0,>=0.4.6 in c:\\users\\srikar\\.conda\\envs\\cryptocurrency-analysis\\lib\\site-packages (from pyasn1-modules>=0.2.1->google-auth<3,>=1.6.3->tensorboard<2.9,>=2.8->tensorflow) (0.4.8)\n",
            "Requirement already satisfied: certifi>=2017.4.17 in c:\\users\\srikar\\.conda\\envs\\cryptocurrency-analysis\\lib\\site-packages (from requests<3,>=2.21.0->tensorboard<2.9,>=2.8->tensorflow) (2021.10.8)\n",
            "Requirement already satisfied: idna<4,>=2.5 in c:\\users\\srikar\\.conda\\envs\\cryptocurrency-analysis\\lib\\site-packages (from requests<3,>=2.21.0->tensorboard<2.9,>=2.8->tensorflow) (3.3)\n",
            "Requirement already satisfied: urllib3<1.27,>=1.21.1 in c:\\users\\srikar\\.conda\\envs\\cryptocurrency-analysis\\lib\\site-packages (from requests<3,>=2.21.0->tensorboard<2.9,>=2.8->tensorflow) (1.26.8)\n",
            "Requirement already satisfied: charset-normalizer~=2.0.0 in c:\\users\\srikar\\.conda\\envs\\cryptocurrency-analysis\\lib\\site-packages (from requests<3,>=2.21.0->tensorboard<2.9,>=2.8->tensorflow) (2.0.11)\n",
            "Requirement already satisfied: oauthlib>=3.0.0 in c:\\users\\srikar\\.conda\\envs\\cryptocurrency-analysis\\lib\\site-packages (from requests-oauthlib>=0.7.0->google-auth-oauthlib<0.5,>=0.4.1->tensorboard<2.9,>=2.8->tensorflow) (3.2.0)\n"
          ]
        }
      ],
      "source": [
        "#@title Install Dependencies\n",
        "!pip install -q yfinance\n",
        "!pip install pandas_datareader -q\n",
        "!pip install -q plotly -q\n",
        "!pip install nsepy -q\n",
        "!pip install tensorflow"
      ]
    },
    {
      "cell_type": "code",
      "execution_count": 2,
      "metadata": {
        "cellView": "form",
        "colab": {
          "base_uri": "https://localhost:8080/"
        },
        "id": "iixYglL3-x5I",
        "outputId": "13503ec0-694f-48df-dc98-172b23c8e66f"
      },
      "outputs": [
        {
          "name": "stdout",
          "output_type": "stream",
          "text": [
            "Populating the interactive namespace from numpy and matplotlib\n"
          ]
        }
      ],
      "source": [
        "#@title Import dependencies\n",
        "import pandas as pd\n",
        "import numpy as np \n",
        "import datetime\n",
        "import plotly.graph_objects as go\n",
        "from sklearn.preprocessing import MinMaxScaler\n",
        "from tensorflow.keras.models import Sequential\n",
        "from tensorflow.keras.layers import Dense\n",
        "from tensorflow.keras.layers import LSTM\n",
        "from tensorflow.keras.layers import Dropout\n",
        "from nsepy import get_history as gh\n",
        "import plotly.express as px\n",
        "import matplotlib.pyplot as plt\n",
        "%matplotlib inline\n",
        "%pylab inline\n",
        "import datetime as dt"
      ]
    },
    {
      "cell_type": "markdown",
      "metadata": {
        "id": "JLJQ0-ccv7cO"
      },
      "source": [
        "Write the stock market code here with the start and end date"
      ]
    },
    {
      "cell_type": "code",
      "execution_count": 3,
      "metadata": {
        "id": "J3F94eyFvFUR"
      },
      "outputs": [],
      "source": [
        "stock_code = 'INFY'\n",
        "start = dt.datetime(2013,1,1)     #Year,Month,Day\n",
        "lst = list(map(int , datetime.datetime.now().strftime(\"%Y-%m-%d\").split(\"-\")))\n",
        "end   = dt.datetime(2020,12,31)   #Year,Month,Day"
      ]
    },
    {
      "cell_type": "code",
      "execution_count": 4,
      "metadata": {
        "cellView": "form",
        "id": "thCqEI3A-jih"
      },
      "outputs": [],
      "source": [
        "#@title Download the stock data\n",
        "stk_data = gh(symbol=stock_code,start=start,end=end)"
      ]
    },
    {
      "cell_type": "code",
      "execution_count": 5,
      "metadata": {
        "cellView": "form",
        "colab": {
          "base_uri": "https://localhost:8080/",
          "height": 710
        },
        "id": "IzY--ZsG-zuO",
        "outputId": "149380fe-66a7-492d-bd4f-ac7f0e298728"
      },
      "outputs": [
        {
          "data": {
            "text/html": [
              "<div>\n",
              "<style scoped>\n",
              "    .dataframe tbody tr th:only-of-type {\n",
              "        vertical-align: middle;\n",
              "    }\n",
              "\n",
              "    .dataframe tbody tr th {\n",
              "        vertical-align: top;\n",
              "    }\n",
              "\n",
              "    .dataframe thead th {\n",
              "        text-align: right;\n",
              "    }\n",
              "</style>\n",
              "<table border=\"1\" class=\"dataframe\">\n",
              "  <thead>\n",
              "    <tr style=\"text-align: right;\">\n",
              "      <th></th>\n",
              "      <th>Symbol</th>\n",
              "      <th>Series</th>\n",
              "      <th>Prev Close</th>\n",
              "      <th>Open</th>\n",
              "      <th>High</th>\n",
              "      <th>Low</th>\n",
              "      <th>Last</th>\n",
              "      <th>Close</th>\n",
              "      <th>VWAP</th>\n",
              "      <th>Volume</th>\n",
              "      <th>Turnover</th>\n",
              "      <th>Trades</th>\n",
              "      <th>Deliverable Volume</th>\n",
              "      <th>%Deliverble</th>\n",
              "    </tr>\n",
              "    <tr>\n",
              "      <th>Date</th>\n",
              "      <th></th>\n",
              "      <th></th>\n",
              "      <th></th>\n",
              "      <th></th>\n",
              "      <th></th>\n",
              "      <th></th>\n",
              "      <th></th>\n",
              "      <th></th>\n",
              "      <th></th>\n",
              "      <th></th>\n",
              "      <th></th>\n",
              "      <th></th>\n",
              "      <th></th>\n",
              "      <th></th>\n",
              "    </tr>\n",
              "  </thead>\n",
              "  <tbody>\n",
              "    <tr>\n",
              "      <th>2013-01-01</th>\n",
              "      <td>INFY</td>\n",
              "      <td>EQ</td>\n",
              "      <td>2318.70</td>\n",
              "      <td>2327.60</td>\n",
              "      <td>2329.90</td>\n",
              "      <td>2305.55</td>\n",
              "      <td>2307.10</td>\n",
              "      <td>2308.85</td>\n",
              "      <td>2318.02</td>\n",
              "      <td>369999</td>\n",
              "      <td>8.576666e+13</td>\n",
              "      <td>14479</td>\n",
              "      <td>195016</td>\n",
              "      <td>0.5271</td>\n",
              "    </tr>\n",
              "    <tr>\n",
              "      <th>2013-01-02</th>\n",
              "      <td>INFY</td>\n",
              "      <td>EQ</td>\n",
              "      <td>2308.85</td>\n",
              "      <td>2316.20</td>\n",
              "      <td>2328.00</td>\n",
              "      <td>2303.50</td>\n",
              "      <td>2309.20</td>\n",
              "      <td>2309.20</td>\n",
              "      <td>2315.36</td>\n",
              "      <td>543743</td>\n",
              "      <td>1.258958e+14</td>\n",
              "      <td>45625</td>\n",
              "      <td>321559</td>\n",
              "      <td>0.5914</td>\n",
              "    </tr>\n",
              "    <tr>\n",
              "      <th>2013-01-03</th>\n",
              "      <td>INFY</td>\n",
              "      <td>EQ</td>\n",
              "      <td>2309.20</td>\n",
              "      <td>2315.00</td>\n",
              "      <td>2348.85</td>\n",
              "      <td>2311.00</td>\n",
              "      <td>2346.95</td>\n",
              "      <td>2337.90</td>\n",
              "      <td>2329.97</td>\n",
              "      <td>1324911</td>\n",
              "      <td>3.087005e+14</td>\n",
              "      <td>60958</td>\n",
              "      <td>963493</td>\n",
              "      <td>0.7272</td>\n",
              "    </tr>\n",
              "    <tr>\n",
              "      <th>2013-01-04</th>\n",
              "      <td>INFY</td>\n",
              "      <td>EQ</td>\n",
              "      <td>2337.90</td>\n",
              "      <td>2348.40</td>\n",
              "      <td>2354.95</td>\n",
              "      <td>2332.00</td>\n",
              "      <td>2350.00</td>\n",
              "      <td>2349.55</td>\n",
              "      <td>2345.09</td>\n",
              "      <td>1056751</td>\n",
              "      <td>2.478176e+14</td>\n",
              "      <td>55290</td>\n",
              "      <td>710935</td>\n",
              "      <td>0.6728</td>\n",
              "    </tr>\n",
              "    <tr>\n",
              "      <th>2013-01-07</th>\n",
              "      <td>INFY</td>\n",
              "      <td>EQ</td>\n",
              "      <td>2349.55</td>\n",
              "      <td>2351.10</td>\n",
              "      <td>2379.90</td>\n",
              "      <td>2335.55</td>\n",
              "      <td>2373.30</td>\n",
              "      <td>2374.80</td>\n",
              "      <td>2367.82</td>\n",
              "      <td>1095203</td>\n",
              "      <td>2.593243e+14</td>\n",
              "      <td>52530</td>\n",
              "      <td>796335</td>\n",
              "      <td>0.7271</td>\n",
              "    </tr>\n",
              "    <tr>\n",
              "      <th>...</th>\n",
              "      <td>...</td>\n",
              "      <td>...</td>\n",
              "      <td>...</td>\n",
              "      <td>...</td>\n",
              "      <td>...</td>\n",
              "      <td>...</td>\n",
              "      <td>...</td>\n",
              "      <td>...</td>\n",
              "      <td>...</td>\n",
              "      <td>...</td>\n",
              "      <td>...</td>\n",
              "      <td>...</td>\n",
              "      <td>...</td>\n",
              "      <td>...</td>\n",
              "    </tr>\n",
              "    <tr>\n",
              "      <th>2020-12-24</th>\n",
              "      <td>INFY</td>\n",
              "      <td>EQ</td>\n",
              "      <td>1253.05</td>\n",
              "      <td>1249.90</td>\n",
              "      <td>1249.90</td>\n",
              "      <td>1226.00</td>\n",
              "      <td>1237.35</td>\n",
              "      <td>1236.05</td>\n",
              "      <td>1236.34</td>\n",
              "      <td>7313885</td>\n",
              "      <td>9.042416e+14</td>\n",
              "      <td>172066</td>\n",
              "      <td>2637421</td>\n",
              "      <td>0.3606</td>\n",
              "    </tr>\n",
              "    <tr>\n",
              "      <th>2020-12-28</th>\n",
              "      <td>INFY</td>\n",
              "      <td>EQ</td>\n",
              "      <td>1236.05</td>\n",
              "      <td>1238.45</td>\n",
              "      <td>1248.00</td>\n",
              "      <td>1236.00</td>\n",
              "      <td>1239.45</td>\n",
              "      <td>1240.30</td>\n",
              "      <td>1240.58</td>\n",
              "      <td>4607051</td>\n",
              "      <td>5.715406e+14</td>\n",
              "      <td>123013</td>\n",
              "      <td>2098658</td>\n",
              "      <td>0.4555</td>\n",
              "    </tr>\n",
              "    <tr>\n",
              "      <th>2020-12-29</th>\n",
              "      <td>INFY</td>\n",
              "      <td>EQ</td>\n",
              "      <td>1240.30</td>\n",
              "      <td>1235.00</td>\n",
              "      <td>1254.45</td>\n",
              "      <td>1235.00</td>\n",
              "      <td>1249.85</td>\n",
              "      <td>1250.30</td>\n",
              "      <td>1246.33</td>\n",
              "      <td>6878105</td>\n",
              "      <td>8.572420e+14</td>\n",
              "      <td>132402</td>\n",
              "      <td>3219736</td>\n",
              "      <td>0.4681</td>\n",
              "    </tr>\n",
              "    <tr>\n",
              "      <th>2020-12-30</th>\n",
              "      <td>INFY</td>\n",
              "      <td>EQ</td>\n",
              "      <td>1250.30</td>\n",
              "      <td>1253.00</td>\n",
              "      <td>1253.30</td>\n",
              "      <td>1238.15</td>\n",
              "      <td>1244.00</td>\n",
              "      <td>1246.80</td>\n",
              "      <td>1247.48</td>\n",
              "      <td>5194690</td>\n",
              "      <td>6.480283e+14</td>\n",
              "      <td>107704</td>\n",
              "      <td>2378603</td>\n",
              "      <td>0.4579</td>\n",
              "    </tr>\n",
              "    <tr>\n",
              "      <th>2020-12-31</th>\n",
              "      <td>INFY</td>\n",
              "      <td>EQ</td>\n",
              "      <td>1246.80</td>\n",
              "      <td>1243.00</td>\n",
              "      <td>1258.40</td>\n",
              "      <td>1239.00</td>\n",
              "      <td>1253.50</td>\n",
              "      <td>1255.80</td>\n",
              "      <td>1249.41</td>\n",
              "      <td>7430470</td>\n",
              "      <td>9.283732e+14</td>\n",
              "      <td>117406</td>\n",
              "      <td>3974062</td>\n",
              "      <td>0.5348</td>\n",
              "    </tr>\n",
              "  </tbody>\n",
              "</table>\n",
              "<p>1980 rows × 14 columns</p>\n",
              "</div>"
            ],
            "text/plain": [
              "           Symbol Series  Prev Close     Open     High      Low     Last  \\\n",
              "Date                                                                       \n",
              "2013-01-01   INFY     EQ     2318.70  2327.60  2329.90  2305.55  2307.10   \n",
              "2013-01-02   INFY     EQ     2308.85  2316.20  2328.00  2303.50  2309.20   \n",
              "2013-01-03   INFY     EQ     2309.20  2315.00  2348.85  2311.00  2346.95   \n",
              "2013-01-04   INFY     EQ     2337.90  2348.40  2354.95  2332.00  2350.00   \n",
              "2013-01-07   INFY     EQ     2349.55  2351.10  2379.90  2335.55  2373.30   \n",
              "...           ...    ...         ...      ...      ...      ...      ...   \n",
              "2020-12-24   INFY     EQ     1253.05  1249.90  1249.90  1226.00  1237.35   \n",
              "2020-12-28   INFY     EQ     1236.05  1238.45  1248.00  1236.00  1239.45   \n",
              "2020-12-29   INFY     EQ     1240.30  1235.00  1254.45  1235.00  1249.85   \n",
              "2020-12-30   INFY     EQ     1250.30  1253.00  1253.30  1238.15  1244.00   \n",
              "2020-12-31   INFY     EQ     1246.80  1243.00  1258.40  1239.00  1253.50   \n",
              "\n",
              "              Close     VWAP   Volume      Turnover  Trades  \\\n",
              "Date                                                          \n",
              "2013-01-01  2308.85  2318.02   369999  8.576666e+13   14479   \n",
              "2013-01-02  2309.20  2315.36   543743  1.258958e+14   45625   \n",
              "2013-01-03  2337.90  2329.97  1324911  3.087005e+14   60958   \n",
              "2013-01-04  2349.55  2345.09  1056751  2.478176e+14   55290   \n",
              "2013-01-07  2374.80  2367.82  1095203  2.593243e+14   52530   \n",
              "...             ...      ...      ...           ...     ...   \n",
              "2020-12-24  1236.05  1236.34  7313885  9.042416e+14  172066   \n",
              "2020-12-28  1240.30  1240.58  4607051  5.715406e+14  123013   \n",
              "2020-12-29  1250.30  1246.33  6878105  8.572420e+14  132402   \n",
              "2020-12-30  1246.80  1247.48  5194690  6.480283e+14  107704   \n",
              "2020-12-31  1255.80  1249.41  7430470  9.283732e+14  117406   \n",
              "\n",
              "            Deliverable Volume  %Deliverble  \n",
              "Date                                         \n",
              "2013-01-01              195016       0.5271  \n",
              "2013-01-02              321559       0.5914  \n",
              "2013-01-03              963493       0.7272  \n",
              "2013-01-04              710935       0.6728  \n",
              "2013-01-07              796335       0.7271  \n",
              "...                        ...          ...  \n",
              "2020-12-24             2637421       0.3606  \n",
              "2020-12-28             2098658       0.4555  \n",
              "2020-12-29             3219736       0.4681  \n",
              "2020-12-30             2378603       0.4579  \n",
              "2020-12-31             3974062       0.5348  \n",
              "\n",
              "[1980 rows x 14 columns]"
            ]
          },
          "execution_count": 5,
          "metadata": {},
          "output_type": "execute_result"
        }
      ],
      "source": [
        "#@title Show the downloaded data\n",
        "stk_data"
      ]
    },
    {
      "cell_type": "code",
      "execution_count": 6,
      "metadata": {
        "cellView": "form",
        "id": "Euu75qpMXgTx"
      },
      "outputs": [],
      "source": [
        "#@title Prepare Data for model training\n",
        "\n",
        "stk_data['Date'] = stk_data.index\n",
        "data2 = pd.DataFrame(columns = ['Date', 'Open', 'High', 'Low', 'Close'])\n",
        "data2['Date'] = stk_data['Date']\n",
        "data2['Open'] = stk_data['Open']\n",
        "data2['High'] = stk_data['High']\n",
        "data2['Low'] = stk_data['Low']\n",
        "data2['Close'] = stk_data['Close']\n",
        "\n",
        "\n",
        "train_set = data2.iloc[:, 1:2].values\n",
        "sc = MinMaxScaler(feature_range = (0, 1))\n",
        "training_set_scaled = sc.fit_transform(train_set)\n",
        "X_train = []\n",
        "y_train = []\n",
        "for i in range(60, len(stk_data)-1):\n",
        "    X_train.append(training_set_scaled[i-60:i, 0])\n",
        "    y_train.append(training_set_scaled[i, 0]) \n",
        "X_train, y_train = np.array(X_train), np.array(y_train)\n",
        "X_train = np.reshape(X_train, (X_train.shape[0], X_train.shape[1], 1))\n"
      ]
    },
    {
      "cell_type": "code",
      "execution_count": 7,
      "metadata": {
        "cellView": "form",
        "colab": {
          "base_uri": "https://localhost:8080/"
        },
        "id": "9XklnQ-g_Sr3",
        "outputId": "e58eb65c-5434-4284-fb4b-d1baa8e7ece3"
      },
      "outputs": [
        {
          "name": "stdout",
          "output_type": "stream",
          "text": [
            "Epoch 1/100\n",
            "30/30 [==============================] - 15s 228ms/step - loss: 0.0208\n",
            "Epoch 2/100\n",
            "30/30 [==============================] - 7s 251ms/step - loss: 0.0039\n",
            "Epoch 3/100\n",
            "30/30 [==============================] - 7s 246ms/step - loss: 0.0035\n",
            "Epoch 4/100\n",
            "14/30 [=============>................] - ETA: 4s - loss: 0.0032"
          ]
        }
      ],
      "source": [
        "#@title Train the model\n",
        "regressor = Sequential()\n",
        "regressor.add(LSTM(units = 50, return_sequences = True, input_shape = (X_train.shape[1], 1)))\n",
        "regressor.add(Dropout(0.2))\n",
        "regressor.add(LSTM(units = 100, return_sequences = True))\n",
        "regressor.add(Dropout(0.2))\n",
        "regressor.add(LSTM(units = 50, return_sequences = True))\n",
        "regressor.add(Dropout(0.2))\n",
        "regressor.add(LSTM(units = 100))\n",
        "regressor.add(Dense(units = 1))\n",
        "regressor.compile(optimizer = 'adam', loss = 'mean_squared_error')\n",
        "regressor.fit(X_train, y_train, epochs = 100, batch_size = 64)"
      ]
    },
    {
      "cell_type": "code",
      "execution_count": null,
      "metadata": {
        "cellView": "form",
        "id": "6FFn7tkfZJI-"
      },
      "outputs": [
        {
          "ename": "ValueError",
          "evalue": "Mime type rendering requires nbformat>=4.2.0 but it is not installed",
          "output_type": "error",
          "traceback": [
            "\u001b[1;31m---------------------------------------------------------------------------\u001b[0m",
            "\u001b[1;31mValueError\u001b[0m                                Traceback (most recent call last)",
            "\u001b[1;32m~\\.conda\\envs\\cryptocurrency-analysis\\lib\\site-packages\\IPython\\core\\formatters.py\u001b[0m in \u001b[0;36m__call__\u001b[1;34m(self, obj)\u001b[0m\n\u001b[0;32m    916\u001b[0m             \u001b[0mmethod\u001b[0m \u001b[1;33m=\u001b[0m \u001b[0mget_real_method\u001b[0m\u001b[1;33m(\u001b[0m\u001b[0mobj\u001b[0m\u001b[1;33m,\u001b[0m \u001b[0mself\u001b[0m\u001b[1;33m.\u001b[0m\u001b[0mprint_method\u001b[0m\u001b[1;33m)\u001b[0m\u001b[1;33m\u001b[0m\u001b[1;33m\u001b[0m\u001b[0m\n\u001b[0;32m    917\u001b[0m             \u001b[1;32mif\u001b[0m \u001b[0mmethod\u001b[0m \u001b[1;32mis\u001b[0m \u001b[1;32mnot\u001b[0m \u001b[1;32mNone\u001b[0m\u001b[1;33m:\u001b[0m\u001b[1;33m\u001b[0m\u001b[1;33m\u001b[0m\u001b[0m\n\u001b[1;32m--> 918\u001b[1;33m                 \u001b[0mmethod\u001b[0m\u001b[1;33m(\u001b[0m\u001b[1;33m)\u001b[0m\u001b[1;33m\u001b[0m\u001b[1;33m\u001b[0m\u001b[0m\n\u001b[0m\u001b[0;32m    919\u001b[0m                 \u001b[1;32mreturn\u001b[0m \u001b[1;32mTrue\u001b[0m\u001b[1;33m\u001b[0m\u001b[1;33m\u001b[0m\u001b[0m\n\u001b[0;32m    920\u001b[0m \u001b[1;33m\u001b[0m\u001b[0m\n",
            "\u001b[1;32m~\\.conda\\envs\\cryptocurrency-analysis\\lib\\site-packages\\plotly\\basedatatypes.py\u001b[0m in \u001b[0;36m_ipython_display_\u001b[1;34m(self)\u001b[0m\n\u001b[0;32m    842\u001b[0m \u001b[1;33m\u001b[0m\u001b[0m\n\u001b[0;32m    843\u001b[0m         \u001b[1;32mif\u001b[0m \u001b[0mpio\u001b[0m\u001b[1;33m.\u001b[0m\u001b[0mrenderers\u001b[0m\u001b[1;33m.\u001b[0m\u001b[0mrender_on_display\u001b[0m \u001b[1;32mand\u001b[0m \u001b[0mpio\u001b[0m\u001b[1;33m.\u001b[0m\u001b[0mrenderers\u001b[0m\u001b[1;33m.\u001b[0m\u001b[0mdefault\u001b[0m\u001b[1;33m:\u001b[0m\u001b[1;33m\u001b[0m\u001b[1;33m\u001b[0m\u001b[0m\n\u001b[1;32m--> 844\u001b[1;33m             \u001b[0mpio\u001b[0m\u001b[1;33m.\u001b[0m\u001b[0mshow\u001b[0m\u001b[1;33m(\u001b[0m\u001b[0mself\u001b[0m\u001b[1;33m)\u001b[0m\u001b[1;33m\u001b[0m\u001b[1;33m\u001b[0m\u001b[0m\n\u001b[0m\u001b[0;32m    845\u001b[0m         \u001b[1;32melse\u001b[0m\u001b[1;33m:\u001b[0m\u001b[1;33m\u001b[0m\u001b[1;33m\u001b[0m\u001b[0m\n\u001b[0;32m    846\u001b[0m             \u001b[0mprint\u001b[0m\u001b[1;33m(\u001b[0m\u001b[0mrepr\u001b[0m\u001b[1;33m(\u001b[0m\u001b[0mself\u001b[0m\u001b[1;33m)\u001b[0m\u001b[1;33m)\u001b[0m\u001b[1;33m\u001b[0m\u001b[1;33m\u001b[0m\u001b[0m\n",
            "\u001b[1;32m~\\.conda\\envs\\cryptocurrency-analysis\\lib\\site-packages\\plotly\\io\\_renderers.py\u001b[0m in \u001b[0;36mshow\u001b[1;34m(fig, renderer, validate, **kwargs)\u001b[0m\n\u001b[0;32m    395\u001b[0m \u001b[1;33m\u001b[0m\u001b[0m\n\u001b[0;32m    396\u001b[0m         \u001b[1;32mif\u001b[0m \u001b[1;32mnot\u001b[0m \u001b[0mnbformat\u001b[0m \u001b[1;32mor\u001b[0m \u001b[0mLooseVersion\u001b[0m\u001b[1;33m(\u001b[0m\u001b[0mnbformat\u001b[0m\u001b[1;33m.\u001b[0m\u001b[0m__version__\u001b[0m\u001b[1;33m)\u001b[0m \u001b[1;33m<\u001b[0m \u001b[0mLooseVersion\u001b[0m\u001b[1;33m(\u001b[0m\u001b[1;34m\"4.2.0\"\u001b[0m\u001b[1;33m)\u001b[0m\u001b[1;33m:\u001b[0m\u001b[1;33m\u001b[0m\u001b[1;33m\u001b[0m\u001b[0m\n\u001b[1;32m--> 397\u001b[1;33m             raise ValueError(\n\u001b[0m\u001b[0;32m    398\u001b[0m                 \u001b[1;34m\"Mime type rendering requires nbformat>=4.2.0 but it is not installed\"\u001b[0m\u001b[1;33m\u001b[0m\u001b[1;33m\u001b[0m\u001b[0m\n\u001b[0;32m    399\u001b[0m             )\n",
            "\u001b[1;31mValueError\u001b[0m: Mime type rendering requires nbformat>=4.2.0 but it is not installed"
          ]
        },
        {
          "data": {
            "application/vnd.plotly.v1+json": {
              "config": {
                "plotlyServerURL": "https://plot.ly"
              },
              "data": [
                {
                  "hovertemplate": "Date=%{x}<br>Predicted=%{y}<extra></extra>",
                  "legendgroup": "",
                  "line": {
                    "color": "#636efa",
                    "dash": "solid"
                  },
                  "marker": {
                    "symbol": "circle"
                  },
                  "mode": "lines+markers",
                  "name": "",
                  "orientation": "v",
                  "showlegend": false,
                  "type": "scatter",
                  "x": [
                    "2021-01-01",
                    "2021-01-04",
                    "2021-01-05",
                    "2021-01-06",
                    "2021-01-07",
                    "2021-01-08",
                    "2021-01-11",
                    "2021-01-12",
                    "2021-01-13",
                    "2021-01-14",
                    "2021-01-15",
                    "2021-01-18",
                    "2021-01-19",
                    "2021-01-20",
                    "2021-01-21",
                    "2021-01-22",
                    "2021-01-25",
                    "2021-01-27",
                    "2021-01-28",
                    "2021-01-29",
                    "2021-02-01",
                    "2021-02-02",
                    "2021-02-03",
                    "2021-02-04",
                    "2021-02-05",
                    "2021-02-08",
                    "2021-02-09",
                    "2021-02-10",
                    "2021-02-11",
                    "2021-02-12",
                    "2021-02-15",
                    "2021-02-16",
                    "2021-02-17",
                    "2021-02-18",
                    "2021-02-19",
                    "2021-02-22",
                    "2021-02-23",
                    "2021-02-24",
                    "2021-02-25",
                    "2021-02-26",
                    "2021-03-01",
                    "2021-03-02",
                    "2021-03-03",
                    "2021-03-04",
                    "2021-03-05",
                    "2021-03-08",
                    "2021-03-09",
                    "2021-03-10",
                    "2021-03-12",
                    "2021-03-15",
                    "2021-03-16",
                    "2021-03-17",
                    "2021-03-18",
                    "2021-03-19",
                    "2021-03-22",
                    "2021-03-23",
                    "2021-03-24",
                    "2021-03-25",
                    "2021-03-26",
                    "2021-03-30",
                    "2021-03-31",
                    "2021-04-01",
                    "2021-04-05",
                    "2021-04-06",
                    "2021-04-07",
                    "2021-04-08",
                    "2021-04-09",
                    "2021-04-12",
                    "2021-04-13",
                    "2021-04-15",
                    "2021-04-16",
                    "2021-04-19",
                    "2021-04-20",
                    "2021-04-22",
                    "2021-04-23",
                    "2021-04-26",
                    "2021-04-27",
                    "2021-04-28",
                    "2021-04-29",
                    "2021-04-30",
                    "2021-05-03",
                    "2021-05-04",
                    "2021-05-05",
                    "2021-05-06",
                    "2021-05-07",
                    "2021-05-10",
                    "2021-05-11",
                    "2021-05-12",
                    "2021-05-14",
                    "2021-05-17",
                    "2021-05-18",
                    "2021-05-19",
                    "2021-05-20",
                    "2021-05-21",
                    "2021-05-24",
                    "2021-05-25",
                    "2021-05-26",
                    "2021-05-27",
                    "2021-05-28",
                    "2021-05-31",
                    "2021-06-01",
                    "2021-06-02",
                    "2021-06-03",
                    "2021-06-04",
                    "2021-06-07",
                    "2021-06-08",
                    "2021-06-09",
                    "2021-06-10",
                    "2021-06-11",
                    "2021-06-14",
                    "2021-06-15",
                    "2021-06-16",
                    "2021-06-17",
                    "2021-06-18",
                    "2021-06-21",
                    "2021-06-22",
                    "2021-06-23",
                    "2021-06-24",
                    "2021-06-25",
                    "2021-06-28",
                    "2021-06-29",
                    "2021-06-30",
                    "2021-07-01",
                    "2021-07-02",
                    "2021-07-05",
                    "2021-07-06",
                    "2021-07-07",
                    "2021-07-08",
                    "2021-07-09",
                    "2021-07-12",
                    "2021-07-13",
                    "2021-07-14",
                    "2021-07-15",
                    "2021-07-16",
                    "2021-07-19",
                    "2021-07-20",
                    "2021-07-22",
                    "2021-07-23",
                    "2021-07-26",
                    "2021-07-27",
                    "2021-07-28",
                    "2021-07-29",
                    "2021-07-30",
                    "2021-08-02",
                    "2021-08-03",
                    "2021-08-04",
                    "2021-08-05",
                    "2021-08-06",
                    "2021-08-09",
                    "2021-08-10",
                    "2021-08-11",
                    "2021-08-12",
                    "2021-08-13",
                    "2021-08-16",
                    "2021-08-17",
                    "2021-08-18",
                    "2021-08-20",
                    "2021-08-23",
                    "2021-08-24",
                    "2021-08-25",
                    "2021-08-26",
                    "2021-08-27",
                    "2021-08-30",
                    "2021-08-31",
                    "2021-09-01",
                    "2021-09-02",
                    "2021-09-03",
                    "2021-09-06",
                    "2021-09-07",
                    "2021-09-08",
                    "2021-09-09",
                    "2021-09-13",
                    "2021-09-14",
                    "2021-09-15",
                    "2021-09-16",
                    "2021-09-17",
                    "2021-09-20",
                    "2021-09-21",
                    "2021-09-22",
                    "2021-09-23",
                    "2021-09-24",
                    "2021-09-27",
                    "2021-09-28",
                    "2021-09-29",
                    "2021-09-30",
                    "2021-10-01",
                    "2021-10-04",
                    "2021-10-05",
                    "2021-10-06",
                    "2021-10-07",
                    "2021-10-08",
                    "2021-10-11",
                    "2021-10-12",
                    "2021-10-13",
                    "2021-10-14",
                    "2021-10-18",
                    "2021-10-19",
                    "2021-10-20",
                    "2021-10-21",
                    "2021-10-22",
                    "2021-10-25",
                    "2021-10-26",
                    "2021-10-27",
                    "2021-10-28",
                    "2021-10-29",
                    "2021-11-01",
                    "2021-11-02",
                    "2021-11-03",
                    "2021-11-04",
                    "2021-11-08",
                    "2021-11-09",
                    "2021-11-10",
                    "2021-11-11",
                    "2021-11-12",
                    "2021-11-15",
                    "2021-11-16",
                    "2021-11-17",
                    "2021-11-18",
                    "2021-11-22",
                    "2021-11-23",
                    "2021-11-24",
                    "2021-11-25",
                    "2021-11-26",
                    "2021-11-29",
                    "2021-11-30",
                    "2021-12-01",
                    "2021-12-02",
                    "2021-12-03",
                    "2021-12-06",
                    "2021-12-07",
                    "2021-12-08",
                    "2021-12-09",
                    "2021-12-10",
                    "2021-12-13",
                    "2021-12-14",
                    "2021-12-15",
                    "2021-12-16",
                    "2021-12-17",
                    "2021-12-20",
                    "2021-12-21",
                    "2021-12-22",
                    "2021-12-23",
                    "2021-12-24",
                    "2021-12-27",
                    "2021-12-28",
                    "2021-12-29",
                    "2021-12-30",
                    "2021-12-31",
                    "2022-01-03",
                    "2022-01-04",
                    "2022-01-05",
                    "2022-01-06",
                    "2022-01-07",
                    "2022-01-10",
                    "2022-01-11",
                    "2022-01-12",
                    "2022-01-13",
                    "2022-01-14",
                    "2022-01-17",
                    "2022-01-18",
                    "2022-01-19",
                    "2022-01-20",
                    "2022-01-21",
                    "2022-01-24",
                    "2022-01-25",
                    "2022-01-27",
                    "2022-01-28",
                    "2022-01-31",
                    "2022-02-01",
                    "2022-02-02",
                    "2022-02-03",
                    "2022-02-04",
                    "2022-02-07",
                    "2022-02-08"
                  ],
                  "xaxis": "x",
                  "y": [
                    1239.7596435546875,
                    1241.839599609375,
                    1246.4310302734375,
                    1254.3544921875,
                    1265.9927978515625,
                    1276.937255859375,
                    1281.20654296875,
                    1291.18115234375,
                    1312.1483154296875,
                    1335.3516845703125,
                    1350.5001220703125,
                    1356.0948486328125,
                    1351.3006591796875,
                    1338.3389892578125,
                    1324.2576904296875,
                    1319.3922119140625,
                    1318.3272705078125,
                    1321.3746337890625,
                    1321.773193359375,
                    1314.0406494140625,
                    1301.3489990234375,
                    1282.8428955078125,
                    1269.7623291015625,
                    1264.2989501953125,
                    1265.4693603515625,
                    1270.0362548828125,
                    1274.737548828125,
                    1281.7376708984375,
                    1287.341552734375,
                    1288.83935546875,
                    1290.080078125,
                    1294.6329345703125,
                    1299.739990234375,
                    1299.083740234375,
                    1291.362060546875,
                    1284.8756103515625,
                    1282.1317138671875,
                    1277.989501953125,
                    1270.616943359375,
                    1267.770751953125,
                    1266.4320068359375,
                    1264.199462890625,
                    1264.81494140625,
                    1274.4459228515625,
                    1291.4635009765625,
                    1307.63818359375,
                    1317.6229248046875,
                    1322.0926513671875,
                    1328.0302734375,
                    1338.1875,
                    1348.504150390625,
                    1358.8348388671875,
                    1368.4522705078125,
                    1375.949462890625,
                    1368.47216796875,
                    1355.4339599609375,
                    1348.8648681640625,
                    1346.708740234375,
                    1344.49853515625,
                    1341.4453125,
                    1338.9810791015625,
                    1344.191650390625,
                    1353.7904052734375,
                    1364.9591064453125,
                    1380.197998046875,
                    1392.95068359375,
                    1403.894287109375,
                    1416.77783203125,
                    1432.5645751953125,
                    1438.8358154296875,
                    1416.0819091796875,
                    1385.47998046875,
                    1357.4632568359375,
                    1345.4949951171875,
                    1342.558837890625,
                    1340.97119140625,
                    1337.0689697265625,
                    1334.68603515625,
                    1336.80517578125,
                    1343.3267822265625,
                    1346.81982421875,
                    1345.135009765625,
                    1343.09130859375,
                    1339.98486328125,
                    1337.241943359375,
                    1339.3065185546875,
                    1341.68115234375,
                    1340.1766357421875,
                    1334.780517578125,
                    1327.909423828125,
                    1320.938232421875,
                    1318.77001953125,
                    1321.4578857421875,
                    1327.325927734375,
                    1333.2769775390625,
                    1339.1510009765625,
                    1344.1671142578125,
                    1349.37841796875,
                    1360.6650390625,
                    1375.41259765625,
                    1386.7923583984375,
                    1392.29833984375,
                    1389.52490234375,
                    1383.83349609375,
                    1380.140869140625,
                    1378.62841796875,
                    1379.463623046875,
                    1384.7789306640625,
                    1393.9886474609375,
                    1404.483642578125,
                    1420.82275390625,
                    1436.8533935546875,
                    1449.6148681640625,
                    1458.00732421875,
                    1468.85302734375,
                    1477.0968017578125,
                    1484.2701416015625,
                    1492.9466552734375,
                    1499.528076171875,
                    1513.9256591796875,
                    1531.795166015625,
                    1544.16943359375,
                    1551.62109375,
                    1556.35009765625,
                    1555.404296875,
                    1553.2838134765625,
                    1552.9871826171875,
                    1552.6282958984375,
                    1552.3470458984375,
                    1549.831787109375,
                    1549.339111328125,
                    1548.00048828125,
                    1545.3790283203125,
                    1543.4677734375,
                    1546.0029296875,
                    1544.9937744140625,
                    1539.3580322265625,
                    1537.3001708984375,
                    1544.7099609375,
                    1557.500732421875,
                    1571.6217041015625,
                    1582.716796875,
                    1588.022216796875,
                    1590.8304443359375,
                    1596.1376953125,
                    1606.554931640625,
                    1622.359130859375,
                    1633.291748046875,
                    1639.012939453125,
                    1641.9561767578125,
                    1644.8951416015625,
                    1649.1571044921875,
                    1654.3126220703125,
                    1662.6065673828125,
                    1673.431884765625,
                    1682.1605224609375,
                    1692.6092529296875,
                    1699.5296630859375,
                    1706.4814453125,
                    1715.80712890625,
                    1717.3482666015625,
                    1716.5179443359375,
                    1713.9117431640625,
                    1706.148681640625,
                    1696.5184326171875,
                    1691.013427734375,
                    1682.6484375,
                    1677.695556640625,
                    1678.814208984375,
                    1688.4730224609375,
                    1694.1990966796875,
                    1691.03857421875,
                    1682.913330078125,
                    1677.848876953125,
                    1676.1097412109375,
                    1681.0626220703125,
                    1684.7864990234375,
                    1682.9334716796875,
                    1681.4632568359375,
                    1685.4140625,
                    1695.1920166015625,
                    1711.31884765625,
                    1729.40283203125,
                    1730.345703125,
                    1707.7298583984375,
                    1688.467529296875,
                    1671.4727783203125,
                    1660.4906005859375,
                    1655.34033203125,
                    1660.9912109375,
                    1668.4638671875,
                    1677.4609375,
                    1680.281005859375,
                    1676.810302734375,
                    1675.257080078125,
                    1689.1068115234375,
                    1706.568603515625,
                    1735.70849609375,
                    1769.1951904296875,
                    1792.1231689453125,
                    1786.9403076171875,
                    1760.1776123046875,
                    1728.6591796875,
                    1705.0162353515625,
                    1694.7716064453125,
                    1689.587890625,
                    1682.0758056640625,
                    1678.0732421875,
                    1681.0018310546875,
                    1688.497802734375,
                    1699.2957763671875,
                    1710.0709228515625,
                    1715.745361328125,
                    1718.158447265625,
                    1720.9913330078125,
                    1732.6558837890625,
                    1749.0361328125,
                    1763.600830078125,
                    1770.3194580078125,
                    1771.322998046875,
                    1758.519287109375,
                    1742.064697265625,
                    1720.48779296875,
                    1701.9150390625,
                    1687.97119140625,
                    1682.7313232421875,
                    1685.972412109375,
                    1692.62841796875,
                    1710.848876953125,
                    1723.273681640625,
                    1720.0487060546875,
                    1715.51171875,
                    1719.85693359375,
                    1729.0882568359375,
                    1739.1995849609375,
                    1738.595947265625,
                    1734.22802734375,
                    1734.5399169921875,
                    1751.281982421875,
                    1769.8424072265625,
                    1782.1259765625,
                    1792.921142578125,
                    1802.8912353515625,
                    1819.8095703125,
                    1834.23046875,
                    1847.19580078125,
                    1857.37109375,
                    1863.8043212890625,
                    1868.1741943359375,
                    1870.318115234375,
                    1873.548583984375,
                    1877.4593505859375,
                    1863.171142578125,
                    1838.374267578125,
                    1816.508056640625,
                    1812.80029296875,
                    1823.70263671875,
                    1846.6339111328125,
                    1864.2315673828125,
                    1885.5692138671875,
                    1901.2366943359375,
                    1907.017333984375,
                    1888.3062744140625,
                    1848.833251953125,
                    1803.7486572265625,
                    1760.490966796875,
                    1723.919677734375,
                    1695.1500244140625,
                    1685.273681640625,
                    1699.05029296875,
                    1727.1767578125,
                    1752.4239501953125,
                    1756.846435546875,
                    1744.4144287109375
                  ],
                  "yaxis": "y"
                },
                {
                  "mode": "lines+markers",
                  "name": "Actual",
                  "type": "scatter",
                  "x": [
                    "2021-01-01",
                    "2021-01-04",
                    "2021-01-05",
                    "2021-01-06",
                    "2021-01-07",
                    "2021-01-08",
                    "2021-01-11",
                    "2021-01-12",
                    "2021-01-13",
                    "2021-01-14",
                    "2021-01-15",
                    "2021-01-18",
                    "2021-01-19",
                    "2021-01-20",
                    "2021-01-21",
                    "2021-01-22",
                    "2021-01-25",
                    "2021-01-27",
                    "2021-01-28",
                    "2021-01-29",
                    "2021-02-01",
                    "2021-02-02",
                    "2021-02-03",
                    "2021-02-04",
                    "2021-02-05",
                    "2021-02-08",
                    "2021-02-09",
                    "2021-02-10",
                    "2021-02-11",
                    "2021-02-12",
                    "2021-02-15",
                    "2021-02-16",
                    "2021-02-17",
                    "2021-02-18",
                    "2021-02-19",
                    "2021-02-22",
                    "2021-02-23",
                    "2021-02-24",
                    "2021-02-25",
                    "2021-02-26",
                    "2021-03-01",
                    "2021-03-02",
                    "2021-03-03",
                    "2021-03-04",
                    "2021-03-05",
                    "2021-03-08",
                    "2021-03-09",
                    "2021-03-10",
                    "2021-03-12",
                    "2021-03-15",
                    "2021-03-16",
                    "2021-03-17",
                    "2021-03-18",
                    "2021-03-19",
                    "2021-03-22",
                    "2021-03-23",
                    "2021-03-24",
                    "2021-03-25",
                    "2021-03-26",
                    "2021-03-30",
                    "2021-03-31",
                    "2021-04-01",
                    "2021-04-05",
                    "2021-04-06",
                    "2021-04-07",
                    "2021-04-08",
                    "2021-04-09",
                    "2021-04-12",
                    "2021-04-13",
                    "2021-04-15",
                    "2021-04-16",
                    "2021-04-19",
                    "2021-04-20",
                    "2021-04-22",
                    "2021-04-23",
                    "2021-04-26",
                    "2021-04-27",
                    "2021-04-28",
                    "2021-04-29",
                    "2021-04-30",
                    "2021-05-03",
                    "2021-05-04",
                    "2021-05-05",
                    "2021-05-06",
                    "2021-05-07",
                    "2021-05-10",
                    "2021-05-11",
                    "2021-05-12",
                    "2021-05-14",
                    "2021-05-17",
                    "2021-05-18",
                    "2021-05-19",
                    "2021-05-20",
                    "2021-05-21",
                    "2021-05-24",
                    "2021-05-25",
                    "2021-05-26",
                    "2021-05-27",
                    "2021-05-28",
                    "2021-05-31",
                    "2021-06-01",
                    "2021-06-02",
                    "2021-06-03",
                    "2021-06-04",
                    "2021-06-07",
                    "2021-06-08",
                    "2021-06-09",
                    "2021-06-10",
                    "2021-06-11",
                    "2021-06-14",
                    "2021-06-15",
                    "2021-06-16",
                    "2021-06-17",
                    "2021-06-18",
                    "2021-06-21",
                    "2021-06-22",
                    "2021-06-23",
                    "2021-06-24",
                    "2021-06-25",
                    "2021-06-28",
                    "2021-06-29",
                    "2021-06-30",
                    "2021-07-01",
                    "2021-07-02",
                    "2021-07-05",
                    "2021-07-06",
                    "2021-07-07",
                    "2021-07-08",
                    "2021-07-09",
                    "2021-07-12",
                    "2021-07-13",
                    "2021-07-14",
                    "2021-07-15",
                    "2021-07-16",
                    "2021-07-19",
                    "2021-07-20",
                    "2021-07-22",
                    "2021-07-23",
                    "2021-07-26",
                    "2021-07-27",
                    "2021-07-28",
                    "2021-07-29",
                    "2021-07-30",
                    "2021-08-02",
                    "2021-08-03",
                    "2021-08-04",
                    "2021-08-05",
                    "2021-08-06",
                    "2021-08-09",
                    "2021-08-10",
                    "2021-08-11",
                    "2021-08-12",
                    "2021-08-13",
                    "2021-08-16",
                    "2021-08-17",
                    "2021-08-18",
                    "2021-08-20",
                    "2021-08-23",
                    "2021-08-24",
                    "2021-08-25",
                    "2021-08-26",
                    "2021-08-27",
                    "2021-08-30",
                    "2021-08-31",
                    "2021-09-01",
                    "2021-09-02",
                    "2021-09-03",
                    "2021-09-06",
                    "2021-09-07",
                    "2021-09-08",
                    "2021-09-09",
                    "2021-09-13",
                    "2021-09-14",
                    "2021-09-15",
                    "2021-09-16",
                    "2021-09-17",
                    "2021-09-20",
                    "2021-09-21",
                    "2021-09-22",
                    "2021-09-23",
                    "2021-09-24",
                    "2021-09-27",
                    "2021-09-28",
                    "2021-09-29",
                    "2021-09-30",
                    "2021-10-01",
                    "2021-10-04",
                    "2021-10-05",
                    "2021-10-06",
                    "2021-10-07",
                    "2021-10-08",
                    "2021-10-11",
                    "2021-10-12",
                    "2021-10-13",
                    "2021-10-14",
                    "2021-10-18",
                    "2021-10-19",
                    "2021-10-20",
                    "2021-10-21",
                    "2021-10-22",
                    "2021-10-25",
                    "2021-10-26",
                    "2021-10-27",
                    "2021-10-28",
                    "2021-10-29",
                    "2021-11-01",
                    "2021-11-02",
                    "2021-11-03",
                    "2021-11-04",
                    "2021-11-08",
                    "2021-11-09",
                    "2021-11-10",
                    "2021-11-11",
                    "2021-11-12",
                    "2021-11-15",
                    "2021-11-16",
                    "2021-11-17",
                    "2021-11-18",
                    "2021-11-22",
                    "2021-11-23",
                    "2021-11-24",
                    "2021-11-25",
                    "2021-11-26",
                    "2021-11-29",
                    "2021-11-30",
                    "2021-12-01",
                    "2021-12-02",
                    "2021-12-03",
                    "2021-12-06",
                    "2021-12-07",
                    "2021-12-08",
                    "2021-12-09",
                    "2021-12-10",
                    "2021-12-13",
                    "2021-12-14",
                    "2021-12-15",
                    "2021-12-16",
                    "2021-12-17",
                    "2021-12-20",
                    "2021-12-21",
                    "2021-12-22",
                    "2021-12-23",
                    "2021-12-24",
                    "2021-12-27",
                    "2021-12-28",
                    "2021-12-29",
                    "2021-12-30",
                    "2021-12-31",
                    "2022-01-03",
                    "2022-01-04",
                    "2022-01-05",
                    "2022-01-06",
                    "2022-01-07",
                    "2022-01-10",
                    "2022-01-11",
                    "2022-01-12",
                    "2022-01-13",
                    "2022-01-14",
                    "2022-01-17",
                    "2022-01-18",
                    "2022-01-19",
                    "2022-01-20",
                    "2022-01-21",
                    "2022-01-24",
                    "2022-01-25",
                    "2022-01-27",
                    "2022-01-28",
                    "2022-01-31",
                    "2022-02-01",
                    "2022-02-02",
                    "2022-02-03",
                    "2022-02-04",
                    "2022-02-07",
                    "2022-02-08"
                  ],
                  "y": [
                    1257.9,
                    1269,
                    1282,
                    1300,
                    1296,
                    1278.25,
                    1342.1,
                    1378,
                    1373.85,
                    1360,
                    1360,
                    1338,
                    1320,
                    1320.55,
                    1350,
                    1327,
                    1345,
                    1319.6,
                    1291.8,
                    1286.25,
                    1250.55,
                    1280,
                    1277.65,
                    1285,
                    1286.4,
                    1285.5,
                    1306.9,
                    1295.8,
                    1289,
                    1305,
                    1320,
                    1314,
                    1290.4,
                    1276,
                    1296.1,
                    1295,
                    1271.15,
                    1260.05,
                    1288.45,
                    1269,
                    1263.3,
                    1282.25,
                    1319.2,
                    1335,
                    1328.5,
                    1324.8,
                    1329.5,
                    1356.9,
                    1373,
                    1370,
                    1386.05,
                    1392.25,
                    1393.75,
                    1330,
                    1350.1,
                    1372.45,
                    1357.85,
                    1346.75,
                    1344.7,
                    1346.9,
                    1382,
                    1380,
                    1391,
                    1423,
                    1410.25,
                    1430,
                    1455,
                    1474,
                    1433,
                    1332.3,
                    1365,
                    1340,
                    1379,
                    1355.55,
                    1343,
                    1332.25,
                    1346,
                    1358,
                    1368,
                    1346.3,
                    1340.8,
                    1354,
                    1341.1,
                    1345,
                    1365.3,
                    1349.85,
                    1336.9,
                    1330,
                    1326.85,
                    1320.3,
                    1338,
                    1342,
                    1348.4,
                    1347.5,
                    1356.65,
                    1358,
                    1367.9,
                    1404.2,
                    1409.75,
                    1401.5,
                    1400,
                    1380.75,
                    1388.1,
                    1393.95,
                    1391,
                    1396,
                    1413.4,
                    1424,
                    1430.1,
                    1471,
                    1464,
                    1472.7,
                    1475.1,
                    1509,
                    1493,
                    1509.7,
                    1525,
                    1517,
                    1572,
                    1572.9,
                    1561,
                    1572.05,
                    1576.85,
                    1558.95,
                    1569.15,
                    1573.7,
                    1566.05,
                    1568,
                    1556,
                    1570.55,
                    1556.4,
                    1554,
                    1557.9,
                    1573.75,
                    1544.7,
                    1538.3,
                    1561.4,
                    1588.55,
                    1594.1,
                    1605,
                    1605.1,
                    1600.1,
                    1610,
                    1627.45,
                    1647,
                    1669.1,
                    1649.5,
                    1657,
                    1661,
                    1668,
                    1674.8,
                    1679.15,
                    1697,
                    1707.7,
                    1703.9,
                    1729,
                    1716.1,
                    1735.75,
                    1750,
                    1718,
                    1734,
                    1725,
                    1703.05,
                    1700.15,
                    1709.5,
                    1677.35,
                    1696.05,
                    1705.15,
                    1730,
                    1700.85,
                    1685.9,
                    1683,
                    1695.95,
                    1693.25,
                    1715.2,
                    1697,
                    1685,
                    1700,
                    1717,
                    1732,
                    1758,
                    1768.75,
                    1710,
                    1659.25,
                    1703,
                    1665.1,
                    1672.5,
                    1671,
                    1702.1,
                    1687,
                    1705.25,
                    1682,
                    1677,
                    1695.95,
                    1754,
                    1740,
                    1814,
                    1829.4,
                    1814,
                    1749.9,
                    1722.05,
                    1710.05,
                    1709.1,
                    1719.35,
                    1699,
                    1677.5,
                    1695,
                    1709,
                    1715,
                    1730,
                    1734.75,
                    1726,
                    1732.95,
                    1743,
                    1782.1,
                    1790,
                    1792.55,
                    1781.6,
                    1784,
                    1735.1,
                    1740,
                    1700,
                    1702.55,
                    1691,
                    1704.55,
                    1715,
                    1715,
                    1771.1,
                    1730,
                    1701.1,
                    1733,
                    1759,
                    1760,
                    1767.05,
                    1730.9,
                    1745,
                    1762.65,
                    1820,
                    1801.7,
                    1801,
                    1825,
                    1831.25,
                    1872.95,
                    1860,
                    1880.7,
                    1883.5,
                    1884.5,
                    1890,
                    1887.75,
                    1898.45,
                    1900,
                    1828,
                    1815.45,
                    1815,
                    1855,
                    1868.9,
                    1905,
                    1882,
                    1938.55,
                    1922.1,
                    1916,
                    1844,
                    1795,
                    1765,
                    1726.6,
                    1702,
                    1681,
                    1718,
                    1766.1,
                    1789,
                    1779,
                    1732,
                    1722.2,
                    1710
                  ]
                }
              ],
              "layout": {
                "legend": {
                  "tracegroupgap": 0
                },
                "margin": {
                  "t": 60
                },
                "template": {
                  "data": {
                    "bar": [
                      {
                        "error_x": {
                          "color": "#2a3f5f"
                        },
                        "error_y": {
                          "color": "#2a3f5f"
                        },
                        "marker": {
                          "line": {
                            "color": "#E5ECF6",
                            "width": 0.5
                          },
                          "pattern": {
                            "fillmode": "overlay",
                            "size": 10,
                            "solidity": 0.2
                          }
                        },
                        "type": "bar"
                      }
                    ],
                    "barpolar": [
                      {
                        "marker": {
                          "line": {
                            "color": "#E5ECF6",
                            "width": 0.5
                          },
                          "pattern": {
                            "fillmode": "overlay",
                            "size": 10,
                            "solidity": 0.2
                          }
                        },
                        "type": "barpolar"
                      }
                    ],
                    "carpet": [
                      {
                        "aaxis": {
                          "endlinecolor": "#2a3f5f",
                          "gridcolor": "white",
                          "linecolor": "white",
                          "minorgridcolor": "white",
                          "startlinecolor": "#2a3f5f"
                        },
                        "baxis": {
                          "endlinecolor": "#2a3f5f",
                          "gridcolor": "white",
                          "linecolor": "white",
                          "minorgridcolor": "white",
                          "startlinecolor": "#2a3f5f"
                        },
                        "type": "carpet"
                      }
                    ],
                    "choropleth": [
                      {
                        "colorbar": {
                          "outlinewidth": 0,
                          "ticks": ""
                        },
                        "type": "choropleth"
                      }
                    ],
                    "contour": [
                      {
                        "colorbar": {
                          "outlinewidth": 0,
                          "ticks": ""
                        },
                        "colorscale": [
                          [
                            0,
                            "#0d0887"
                          ],
                          [
                            0.1111111111111111,
                            "#46039f"
                          ],
                          [
                            0.2222222222222222,
                            "#7201a8"
                          ],
                          [
                            0.3333333333333333,
                            "#9c179e"
                          ],
                          [
                            0.4444444444444444,
                            "#bd3786"
                          ],
                          [
                            0.5555555555555556,
                            "#d8576b"
                          ],
                          [
                            0.6666666666666666,
                            "#ed7953"
                          ],
                          [
                            0.7777777777777778,
                            "#fb9f3a"
                          ],
                          [
                            0.8888888888888888,
                            "#fdca26"
                          ],
                          [
                            1,
                            "#f0f921"
                          ]
                        ],
                        "type": "contour"
                      }
                    ],
                    "contourcarpet": [
                      {
                        "colorbar": {
                          "outlinewidth": 0,
                          "ticks": ""
                        },
                        "type": "contourcarpet"
                      }
                    ],
                    "heatmap": [
                      {
                        "colorbar": {
                          "outlinewidth": 0,
                          "ticks": ""
                        },
                        "colorscale": [
                          [
                            0,
                            "#0d0887"
                          ],
                          [
                            0.1111111111111111,
                            "#46039f"
                          ],
                          [
                            0.2222222222222222,
                            "#7201a8"
                          ],
                          [
                            0.3333333333333333,
                            "#9c179e"
                          ],
                          [
                            0.4444444444444444,
                            "#bd3786"
                          ],
                          [
                            0.5555555555555556,
                            "#d8576b"
                          ],
                          [
                            0.6666666666666666,
                            "#ed7953"
                          ],
                          [
                            0.7777777777777778,
                            "#fb9f3a"
                          ],
                          [
                            0.8888888888888888,
                            "#fdca26"
                          ],
                          [
                            1,
                            "#f0f921"
                          ]
                        ],
                        "type": "heatmap"
                      }
                    ],
                    "heatmapgl": [
                      {
                        "colorbar": {
                          "outlinewidth": 0,
                          "ticks": ""
                        },
                        "colorscale": [
                          [
                            0,
                            "#0d0887"
                          ],
                          [
                            0.1111111111111111,
                            "#46039f"
                          ],
                          [
                            0.2222222222222222,
                            "#7201a8"
                          ],
                          [
                            0.3333333333333333,
                            "#9c179e"
                          ],
                          [
                            0.4444444444444444,
                            "#bd3786"
                          ],
                          [
                            0.5555555555555556,
                            "#d8576b"
                          ],
                          [
                            0.6666666666666666,
                            "#ed7953"
                          ],
                          [
                            0.7777777777777778,
                            "#fb9f3a"
                          ],
                          [
                            0.8888888888888888,
                            "#fdca26"
                          ],
                          [
                            1,
                            "#f0f921"
                          ]
                        ],
                        "type": "heatmapgl"
                      }
                    ],
                    "histogram": [
                      {
                        "marker": {
                          "pattern": {
                            "fillmode": "overlay",
                            "size": 10,
                            "solidity": 0.2
                          }
                        },
                        "type": "histogram"
                      }
                    ],
                    "histogram2d": [
                      {
                        "colorbar": {
                          "outlinewidth": 0,
                          "ticks": ""
                        },
                        "colorscale": [
                          [
                            0,
                            "#0d0887"
                          ],
                          [
                            0.1111111111111111,
                            "#46039f"
                          ],
                          [
                            0.2222222222222222,
                            "#7201a8"
                          ],
                          [
                            0.3333333333333333,
                            "#9c179e"
                          ],
                          [
                            0.4444444444444444,
                            "#bd3786"
                          ],
                          [
                            0.5555555555555556,
                            "#d8576b"
                          ],
                          [
                            0.6666666666666666,
                            "#ed7953"
                          ],
                          [
                            0.7777777777777778,
                            "#fb9f3a"
                          ],
                          [
                            0.8888888888888888,
                            "#fdca26"
                          ],
                          [
                            1,
                            "#f0f921"
                          ]
                        ],
                        "type": "histogram2d"
                      }
                    ],
                    "histogram2dcontour": [
                      {
                        "colorbar": {
                          "outlinewidth": 0,
                          "ticks": ""
                        },
                        "colorscale": [
                          [
                            0,
                            "#0d0887"
                          ],
                          [
                            0.1111111111111111,
                            "#46039f"
                          ],
                          [
                            0.2222222222222222,
                            "#7201a8"
                          ],
                          [
                            0.3333333333333333,
                            "#9c179e"
                          ],
                          [
                            0.4444444444444444,
                            "#bd3786"
                          ],
                          [
                            0.5555555555555556,
                            "#d8576b"
                          ],
                          [
                            0.6666666666666666,
                            "#ed7953"
                          ],
                          [
                            0.7777777777777778,
                            "#fb9f3a"
                          ],
                          [
                            0.8888888888888888,
                            "#fdca26"
                          ],
                          [
                            1,
                            "#f0f921"
                          ]
                        ],
                        "type": "histogram2dcontour"
                      }
                    ],
                    "mesh3d": [
                      {
                        "colorbar": {
                          "outlinewidth": 0,
                          "ticks": ""
                        },
                        "type": "mesh3d"
                      }
                    ],
                    "parcoords": [
                      {
                        "line": {
                          "colorbar": {
                            "outlinewidth": 0,
                            "ticks": ""
                          }
                        },
                        "type": "parcoords"
                      }
                    ],
                    "pie": [
                      {
                        "automargin": true,
                        "type": "pie"
                      }
                    ],
                    "scatter": [
                      {
                        "marker": {
                          "colorbar": {
                            "outlinewidth": 0,
                            "ticks": ""
                          }
                        },
                        "type": "scatter"
                      }
                    ],
                    "scatter3d": [
                      {
                        "line": {
                          "colorbar": {
                            "outlinewidth": 0,
                            "ticks": ""
                          }
                        },
                        "marker": {
                          "colorbar": {
                            "outlinewidth": 0,
                            "ticks": ""
                          }
                        },
                        "type": "scatter3d"
                      }
                    ],
                    "scattercarpet": [
                      {
                        "marker": {
                          "colorbar": {
                            "outlinewidth": 0,
                            "ticks": ""
                          }
                        },
                        "type": "scattercarpet"
                      }
                    ],
                    "scattergeo": [
                      {
                        "marker": {
                          "colorbar": {
                            "outlinewidth": 0,
                            "ticks": ""
                          }
                        },
                        "type": "scattergeo"
                      }
                    ],
                    "scattergl": [
                      {
                        "marker": {
                          "colorbar": {
                            "outlinewidth": 0,
                            "ticks": ""
                          }
                        },
                        "type": "scattergl"
                      }
                    ],
                    "scattermapbox": [
                      {
                        "marker": {
                          "colorbar": {
                            "outlinewidth": 0,
                            "ticks": ""
                          }
                        },
                        "type": "scattermapbox"
                      }
                    ],
                    "scatterpolar": [
                      {
                        "marker": {
                          "colorbar": {
                            "outlinewidth": 0,
                            "ticks": ""
                          }
                        },
                        "type": "scatterpolar"
                      }
                    ],
                    "scatterpolargl": [
                      {
                        "marker": {
                          "colorbar": {
                            "outlinewidth": 0,
                            "ticks": ""
                          }
                        },
                        "type": "scatterpolargl"
                      }
                    ],
                    "scatterternary": [
                      {
                        "marker": {
                          "colorbar": {
                            "outlinewidth": 0,
                            "ticks": ""
                          }
                        },
                        "type": "scatterternary"
                      }
                    ],
                    "surface": [
                      {
                        "colorbar": {
                          "outlinewidth": 0,
                          "ticks": ""
                        },
                        "colorscale": [
                          [
                            0,
                            "#0d0887"
                          ],
                          [
                            0.1111111111111111,
                            "#46039f"
                          ],
                          [
                            0.2222222222222222,
                            "#7201a8"
                          ],
                          [
                            0.3333333333333333,
                            "#9c179e"
                          ],
                          [
                            0.4444444444444444,
                            "#bd3786"
                          ],
                          [
                            0.5555555555555556,
                            "#d8576b"
                          ],
                          [
                            0.6666666666666666,
                            "#ed7953"
                          ],
                          [
                            0.7777777777777778,
                            "#fb9f3a"
                          ],
                          [
                            0.8888888888888888,
                            "#fdca26"
                          ],
                          [
                            1,
                            "#f0f921"
                          ]
                        ],
                        "type": "surface"
                      }
                    ],
                    "table": [
                      {
                        "cells": {
                          "fill": {
                            "color": "#EBF0F8"
                          },
                          "line": {
                            "color": "white"
                          }
                        },
                        "header": {
                          "fill": {
                            "color": "#C8D4E3"
                          },
                          "line": {
                            "color": "white"
                          }
                        },
                        "type": "table"
                      }
                    ]
                  },
                  "layout": {
                    "annotationdefaults": {
                      "arrowcolor": "#2a3f5f",
                      "arrowhead": 0,
                      "arrowwidth": 1
                    },
                    "autotypenumbers": "strict",
                    "coloraxis": {
                      "colorbar": {
                        "outlinewidth": 0,
                        "ticks": ""
                      }
                    },
                    "colorscale": {
                      "diverging": [
                        [
                          0,
                          "#8e0152"
                        ],
                        [
                          0.1,
                          "#c51b7d"
                        ],
                        [
                          0.2,
                          "#de77ae"
                        ],
                        [
                          0.3,
                          "#f1b6da"
                        ],
                        [
                          0.4,
                          "#fde0ef"
                        ],
                        [
                          0.5,
                          "#f7f7f7"
                        ],
                        [
                          0.6,
                          "#e6f5d0"
                        ],
                        [
                          0.7,
                          "#b8e186"
                        ],
                        [
                          0.8,
                          "#7fbc41"
                        ],
                        [
                          0.9,
                          "#4d9221"
                        ],
                        [
                          1,
                          "#276419"
                        ]
                      ],
                      "sequential": [
                        [
                          0,
                          "#0d0887"
                        ],
                        [
                          0.1111111111111111,
                          "#46039f"
                        ],
                        [
                          0.2222222222222222,
                          "#7201a8"
                        ],
                        [
                          0.3333333333333333,
                          "#9c179e"
                        ],
                        [
                          0.4444444444444444,
                          "#bd3786"
                        ],
                        [
                          0.5555555555555556,
                          "#d8576b"
                        ],
                        [
                          0.6666666666666666,
                          "#ed7953"
                        ],
                        [
                          0.7777777777777778,
                          "#fb9f3a"
                        ],
                        [
                          0.8888888888888888,
                          "#fdca26"
                        ],
                        [
                          1,
                          "#f0f921"
                        ]
                      ],
                      "sequentialminus": [
                        [
                          0,
                          "#0d0887"
                        ],
                        [
                          0.1111111111111111,
                          "#46039f"
                        ],
                        [
                          0.2222222222222222,
                          "#7201a8"
                        ],
                        [
                          0.3333333333333333,
                          "#9c179e"
                        ],
                        [
                          0.4444444444444444,
                          "#bd3786"
                        ],
                        [
                          0.5555555555555556,
                          "#d8576b"
                        ],
                        [
                          0.6666666666666666,
                          "#ed7953"
                        ],
                        [
                          0.7777777777777778,
                          "#fb9f3a"
                        ],
                        [
                          0.8888888888888888,
                          "#fdca26"
                        ],
                        [
                          1,
                          "#f0f921"
                        ]
                      ]
                    },
                    "colorway": [
                      "#636efa",
                      "#EF553B",
                      "#00cc96",
                      "#ab63fa",
                      "#FFA15A",
                      "#19d3f3",
                      "#FF6692",
                      "#B6E880",
                      "#FF97FF",
                      "#FECB52"
                    ],
                    "font": {
                      "color": "#2a3f5f"
                    },
                    "geo": {
                      "bgcolor": "white",
                      "lakecolor": "white",
                      "landcolor": "#E5ECF6",
                      "showlakes": true,
                      "showland": true,
                      "subunitcolor": "white"
                    },
                    "hoverlabel": {
                      "align": "left"
                    },
                    "hovermode": "closest",
                    "mapbox": {
                      "style": "light"
                    },
                    "paper_bgcolor": "white",
                    "plot_bgcolor": "#E5ECF6",
                    "polar": {
                      "angularaxis": {
                        "gridcolor": "white",
                        "linecolor": "white",
                        "ticks": ""
                      },
                      "bgcolor": "#E5ECF6",
                      "radialaxis": {
                        "gridcolor": "white",
                        "linecolor": "white",
                        "ticks": ""
                      }
                    },
                    "scene": {
                      "xaxis": {
                        "backgroundcolor": "#E5ECF6",
                        "gridcolor": "white",
                        "gridwidth": 2,
                        "linecolor": "white",
                        "showbackground": true,
                        "ticks": "",
                        "zerolinecolor": "white"
                      },
                      "yaxis": {
                        "backgroundcolor": "#E5ECF6",
                        "gridcolor": "white",
                        "gridwidth": 2,
                        "linecolor": "white",
                        "showbackground": true,
                        "ticks": "",
                        "zerolinecolor": "white"
                      },
                      "zaxis": {
                        "backgroundcolor": "#E5ECF6",
                        "gridcolor": "white",
                        "gridwidth": 2,
                        "linecolor": "white",
                        "showbackground": true,
                        "ticks": "",
                        "zerolinecolor": "white"
                      }
                    },
                    "shapedefaults": {
                      "line": {
                        "color": "#2a3f5f"
                      }
                    },
                    "ternary": {
                      "aaxis": {
                        "gridcolor": "white",
                        "linecolor": "white",
                        "ticks": ""
                      },
                      "baxis": {
                        "gridcolor": "white",
                        "linecolor": "white",
                        "ticks": ""
                      },
                      "bgcolor": "#E5ECF6",
                      "caxis": {
                        "gridcolor": "white",
                        "linecolor": "white",
                        "ticks": ""
                      }
                    },
                    "title": {
                      "x": 0.05
                    },
                    "xaxis": {
                      "automargin": true,
                      "gridcolor": "white",
                      "linecolor": "white",
                      "ticks": "",
                      "title": {
                        "standoff": 15
                      },
                      "zerolinecolor": "white",
                      "zerolinewidth": 2
                    },
                    "yaxis": {
                      "automargin": true,
                      "gridcolor": "white",
                      "linecolor": "white",
                      "ticks": "",
                      "title": {
                        "standoff": 15
                      },
                      "zerolinecolor": "white",
                      "zerolinewidth": 2
                    }
                  }
                },
                "xaxis": {
                  "anchor": "y",
                  "domain": [
                    0,
                    1
                  ],
                  "title": {
                    "text": "Date"
                  }
                },
                "yaxis": {
                  "anchor": "x",
                  "domain": [
                    0,
                    1
                  ],
                  "title": {
                    "text": "Predicted"
                  }
                }
              }
            },
            "text/html": [
              "<div>                        <script type=\"text/javascript\">window.PlotlyConfig = {MathJaxConfig: 'local'};</script>\n",
              "        <script src=\"https://cdn.plot.ly/plotly-2.8.3.min.js\"></script>                <div id=\"540b2d0f-23c6-4325-b733-1acc2f03af28\" class=\"plotly-graph-div\" style=\"height:100%; width:100%;\"></div>            <script type=\"text/javascript\">                                    window.PLOTLYENV=window.PLOTLYENV || {};                                    if (document.getElementById(\"540b2d0f-23c6-4325-b733-1acc2f03af28\")) {                    Plotly.newPlot(                        \"540b2d0f-23c6-4325-b733-1acc2f03af28\",                        [{\"hovertemplate\":\"Date=%{x}<br>Predicted=%{y}<extra></extra>\",\"legendgroup\":\"\",\"line\":{\"color\":\"#636efa\",\"dash\":\"solid\"},\"marker\":{\"symbol\":\"circle\"},\"mode\":\"lines+markers\",\"name\":\"\",\"orientation\":\"v\",\"showlegend\":false,\"x\":[\"2021-01-01\",\"2021-01-04\",\"2021-01-05\",\"2021-01-06\",\"2021-01-07\",\"2021-01-08\",\"2021-01-11\",\"2021-01-12\",\"2021-01-13\",\"2021-01-14\",\"2021-01-15\",\"2021-01-18\",\"2021-01-19\",\"2021-01-20\",\"2021-01-21\",\"2021-01-22\",\"2021-01-25\",\"2021-01-27\",\"2021-01-28\",\"2021-01-29\",\"2021-02-01\",\"2021-02-02\",\"2021-02-03\",\"2021-02-04\",\"2021-02-05\",\"2021-02-08\",\"2021-02-09\",\"2021-02-10\",\"2021-02-11\",\"2021-02-12\",\"2021-02-15\",\"2021-02-16\",\"2021-02-17\",\"2021-02-18\",\"2021-02-19\",\"2021-02-22\",\"2021-02-23\",\"2021-02-24\",\"2021-02-25\",\"2021-02-26\",\"2021-03-01\",\"2021-03-02\",\"2021-03-03\",\"2021-03-04\",\"2021-03-05\",\"2021-03-08\",\"2021-03-09\",\"2021-03-10\",\"2021-03-12\",\"2021-03-15\",\"2021-03-16\",\"2021-03-17\",\"2021-03-18\",\"2021-03-19\",\"2021-03-22\",\"2021-03-23\",\"2021-03-24\",\"2021-03-25\",\"2021-03-26\",\"2021-03-30\",\"2021-03-31\",\"2021-04-01\",\"2021-04-05\",\"2021-04-06\",\"2021-04-07\",\"2021-04-08\",\"2021-04-09\",\"2021-04-12\",\"2021-04-13\",\"2021-04-15\",\"2021-04-16\",\"2021-04-19\",\"2021-04-20\",\"2021-04-22\",\"2021-04-23\",\"2021-04-26\",\"2021-04-27\",\"2021-04-28\",\"2021-04-29\",\"2021-04-30\",\"2021-05-03\",\"2021-05-04\",\"2021-05-05\",\"2021-05-06\",\"2021-05-07\",\"2021-05-10\",\"2021-05-11\",\"2021-05-12\",\"2021-05-14\",\"2021-05-17\",\"2021-05-18\",\"2021-05-19\",\"2021-05-20\",\"2021-05-21\",\"2021-05-24\",\"2021-05-25\",\"2021-05-26\",\"2021-05-27\",\"2021-05-28\",\"2021-05-31\",\"2021-06-01\",\"2021-06-02\",\"2021-06-03\",\"2021-06-04\",\"2021-06-07\",\"2021-06-08\",\"2021-06-09\",\"2021-06-10\",\"2021-06-11\",\"2021-06-14\",\"2021-06-15\",\"2021-06-16\",\"2021-06-17\",\"2021-06-18\",\"2021-06-21\",\"2021-06-22\",\"2021-06-23\",\"2021-06-24\",\"2021-06-25\",\"2021-06-28\",\"2021-06-29\",\"2021-06-30\",\"2021-07-01\",\"2021-07-02\",\"2021-07-05\",\"2021-07-06\",\"2021-07-07\",\"2021-07-08\",\"2021-07-09\",\"2021-07-12\",\"2021-07-13\",\"2021-07-14\",\"2021-07-15\",\"2021-07-16\",\"2021-07-19\",\"2021-07-20\",\"2021-07-22\",\"2021-07-23\",\"2021-07-26\",\"2021-07-27\",\"2021-07-28\",\"2021-07-29\",\"2021-07-30\",\"2021-08-02\",\"2021-08-03\",\"2021-08-04\",\"2021-08-05\",\"2021-08-06\",\"2021-08-09\",\"2021-08-10\",\"2021-08-11\",\"2021-08-12\",\"2021-08-13\",\"2021-08-16\",\"2021-08-17\",\"2021-08-18\",\"2021-08-20\",\"2021-08-23\",\"2021-08-24\",\"2021-08-25\",\"2021-08-26\",\"2021-08-27\",\"2021-08-30\",\"2021-08-31\",\"2021-09-01\",\"2021-09-02\",\"2021-09-03\",\"2021-09-06\",\"2021-09-07\",\"2021-09-08\",\"2021-09-09\",\"2021-09-13\",\"2021-09-14\",\"2021-09-15\",\"2021-09-16\",\"2021-09-17\",\"2021-09-20\",\"2021-09-21\",\"2021-09-22\",\"2021-09-23\",\"2021-09-24\",\"2021-09-27\",\"2021-09-28\",\"2021-09-29\",\"2021-09-30\",\"2021-10-01\",\"2021-10-04\",\"2021-10-05\",\"2021-10-06\",\"2021-10-07\",\"2021-10-08\",\"2021-10-11\",\"2021-10-12\",\"2021-10-13\",\"2021-10-14\",\"2021-10-18\",\"2021-10-19\",\"2021-10-20\",\"2021-10-21\",\"2021-10-22\",\"2021-10-25\",\"2021-10-26\",\"2021-10-27\",\"2021-10-28\",\"2021-10-29\",\"2021-11-01\",\"2021-11-02\",\"2021-11-03\",\"2021-11-04\",\"2021-11-08\",\"2021-11-09\",\"2021-11-10\",\"2021-11-11\",\"2021-11-12\",\"2021-11-15\",\"2021-11-16\",\"2021-11-17\",\"2021-11-18\",\"2021-11-22\",\"2021-11-23\",\"2021-11-24\",\"2021-11-25\",\"2021-11-26\",\"2021-11-29\",\"2021-11-30\",\"2021-12-01\",\"2021-12-02\",\"2021-12-03\",\"2021-12-06\",\"2021-12-07\",\"2021-12-08\",\"2021-12-09\",\"2021-12-10\",\"2021-12-13\",\"2021-12-14\",\"2021-12-15\",\"2021-12-16\",\"2021-12-17\",\"2021-12-20\",\"2021-12-21\",\"2021-12-22\",\"2021-12-23\",\"2021-12-24\",\"2021-12-27\",\"2021-12-28\",\"2021-12-29\",\"2021-12-30\",\"2021-12-31\",\"2022-01-03\",\"2022-01-04\",\"2022-01-05\",\"2022-01-06\",\"2022-01-07\",\"2022-01-10\",\"2022-01-11\",\"2022-01-12\",\"2022-01-13\",\"2022-01-14\",\"2022-01-17\",\"2022-01-18\",\"2022-01-19\",\"2022-01-20\",\"2022-01-21\",\"2022-01-24\",\"2022-01-25\",\"2022-01-27\",\"2022-01-28\",\"2022-01-31\",\"2022-02-01\",\"2022-02-02\",\"2022-02-03\",\"2022-02-04\",\"2022-02-07\",\"2022-02-08\"],\"xaxis\":\"x\",\"y\":[1239.7596435546875,1241.839599609375,1246.4310302734375,1254.3544921875,1265.9927978515625,1276.937255859375,1281.20654296875,1291.18115234375,1312.1483154296875,1335.3516845703125,1350.5001220703125,1356.0948486328125,1351.3006591796875,1338.3389892578125,1324.2576904296875,1319.3922119140625,1318.3272705078125,1321.3746337890625,1321.773193359375,1314.0406494140625,1301.3489990234375,1282.8428955078125,1269.7623291015625,1264.2989501953125,1265.4693603515625,1270.0362548828125,1274.737548828125,1281.7376708984375,1287.341552734375,1288.83935546875,1290.080078125,1294.6329345703125,1299.739990234375,1299.083740234375,1291.362060546875,1284.8756103515625,1282.1317138671875,1277.989501953125,1270.616943359375,1267.770751953125,1266.4320068359375,1264.199462890625,1264.81494140625,1274.4459228515625,1291.4635009765625,1307.63818359375,1317.6229248046875,1322.0926513671875,1328.0302734375,1338.1875,1348.504150390625,1358.8348388671875,1368.4522705078125,1375.949462890625,1368.47216796875,1355.4339599609375,1348.8648681640625,1346.708740234375,1344.49853515625,1341.4453125,1338.9810791015625,1344.191650390625,1353.7904052734375,1364.9591064453125,1380.197998046875,1392.95068359375,1403.894287109375,1416.77783203125,1432.5645751953125,1438.8358154296875,1416.0819091796875,1385.47998046875,1357.4632568359375,1345.4949951171875,1342.558837890625,1340.97119140625,1337.0689697265625,1334.68603515625,1336.80517578125,1343.3267822265625,1346.81982421875,1345.135009765625,1343.09130859375,1339.98486328125,1337.241943359375,1339.3065185546875,1341.68115234375,1340.1766357421875,1334.780517578125,1327.909423828125,1320.938232421875,1318.77001953125,1321.4578857421875,1327.325927734375,1333.2769775390625,1339.1510009765625,1344.1671142578125,1349.37841796875,1360.6650390625,1375.41259765625,1386.7923583984375,1392.29833984375,1389.52490234375,1383.83349609375,1380.140869140625,1378.62841796875,1379.463623046875,1384.7789306640625,1393.9886474609375,1404.483642578125,1420.82275390625,1436.8533935546875,1449.6148681640625,1458.00732421875,1468.85302734375,1477.0968017578125,1484.2701416015625,1492.9466552734375,1499.528076171875,1513.9256591796875,1531.795166015625,1544.16943359375,1551.62109375,1556.35009765625,1555.404296875,1553.2838134765625,1552.9871826171875,1552.6282958984375,1552.3470458984375,1549.831787109375,1549.339111328125,1548.00048828125,1545.3790283203125,1543.4677734375,1546.0029296875,1544.9937744140625,1539.3580322265625,1537.3001708984375,1544.7099609375,1557.500732421875,1571.6217041015625,1582.716796875,1588.022216796875,1590.8304443359375,1596.1376953125,1606.554931640625,1622.359130859375,1633.291748046875,1639.012939453125,1641.9561767578125,1644.8951416015625,1649.1571044921875,1654.3126220703125,1662.6065673828125,1673.431884765625,1682.1605224609375,1692.6092529296875,1699.5296630859375,1706.4814453125,1715.80712890625,1717.3482666015625,1716.5179443359375,1713.9117431640625,1706.148681640625,1696.5184326171875,1691.013427734375,1682.6484375,1677.695556640625,1678.814208984375,1688.4730224609375,1694.1990966796875,1691.03857421875,1682.913330078125,1677.848876953125,1676.1097412109375,1681.0626220703125,1684.7864990234375,1682.9334716796875,1681.4632568359375,1685.4140625,1695.1920166015625,1711.31884765625,1729.40283203125,1730.345703125,1707.7298583984375,1688.467529296875,1671.4727783203125,1660.4906005859375,1655.34033203125,1660.9912109375,1668.4638671875,1677.4609375,1680.281005859375,1676.810302734375,1675.257080078125,1689.1068115234375,1706.568603515625,1735.70849609375,1769.1951904296875,1792.1231689453125,1786.9403076171875,1760.1776123046875,1728.6591796875,1705.0162353515625,1694.7716064453125,1689.587890625,1682.0758056640625,1678.0732421875,1681.0018310546875,1688.497802734375,1699.2957763671875,1710.0709228515625,1715.745361328125,1718.158447265625,1720.9913330078125,1732.6558837890625,1749.0361328125,1763.600830078125,1770.3194580078125,1771.322998046875,1758.519287109375,1742.064697265625,1720.48779296875,1701.9150390625,1687.97119140625,1682.7313232421875,1685.972412109375,1692.62841796875,1710.848876953125,1723.273681640625,1720.0487060546875,1715.51171875,1719.85693359375,1729.0882568359375,1739.1995849609375,1738.595947265625,1734.22802734375,1734.5399169921875,1751.281982421875,1769.8424072265625,1782.1259765625,1792.921142578125,1802.8912353515625,1819.8095703125,1834.23046875,1847.19580078125,1857.37109375,1863.8043212890625,1868.1741943359375,1870.318115234375,1873.548583984375,1877.4593505859375,1863.171142578125,1838.374267578125,1816.508056640625,1812.80029296875,1823.70263671875,1846.6339111328125,1864.2315673828125,1885.5692138671875,1901.2366943359375,1907.017333984375,1888.3062744140625,1848.833251953125,1803.7486572265625,1760.490966796875,1723.919677734375,1695.1500244140625,1685.273681640625,1699.05029296875,1727.1767578125,1752.4239501953125,1756.846435546875,1744.4144287109375],\"yaxis\":\"y\",\"type\":\"scatter\"},{\"mode\":\"lines+markers\",\"name\":\"Actual\",\"x\":[\"2021-01-01\",\"2021-01-04\",\"2021-01-05\",\"2021-01-06\",\"2021-01-07\",\"2021-01-08\",\"2021-01-11\",\"2021-01-12\",\"2021-01-13\",\"2021-01-14\",\"2021-01-15\",\"2021-01-18\",\"2021-01-19\",\"2021-01-20\",\"2021-01-21\",\"2021-01-22\",\"2021-01-25\",\"2021-01-27\",\"2021-01-28\",\"2021-01-29\",\"2021-02-01\",\"2021-02-02\",\"2021-02-03\",\"2021-02-04\",\"2021-02-05\",\"2021-02-08\",\"2021-02-09\",\"2021-02-10\",\"2021-02-11\",\"2021-02-12\",\"2021-02-15\",\"2021-02-16\",\"2021-02-17\",\"2021-02-18\",\"2021-02-19\",\"2021-02-22\",\"2021-02-23\",\"2021-02-24\",\"2021-02-25\",\"2021-02-26\",\"2021-03-01\",\"2021-03-02\",\"2021-03-03\",\"2021-03-04\",\"2021-03-05\",\"2021-03-08\",\"2021-03-09\",\"2021-03-10\",\"2021-03-12\",\"2021-03-15\",\"2021-03-16\",\"2021-03-17\",\"2021-03-18\",\"2021-03-19\",\"2021-03-22\",\"2021-03-23\",\"2021-03-24\",\"2021-03-25\",\"2021-03-26\",\"2021-03-30\",\"2021-03-31\",\"2021-04-01\",\"2021-04-05\",\"2021-04-06\",\"2021-04-07\",\"2021-04-08\",\"2021-04-09\",\"2021-04-12\",\"2021-04-13\",\"2021-04-15\",\"2021-04-16\",\"2021-04-19\",\"2021-04-20\",\"2021-04-22\",\"2021-04-23\",\"2021-04-26\",\"2021-04-27\",\"2021-04-28\",\"2021-04-29\",\"2021-04-30\",\"2021-05-03\",\"2021-05-04\",\"2021-05-05\",\"2021-05-06\",\"2021-05-07\",\"2021-05-10\",\"2021-05-11\",\"2021-05-12\",\"2021-05-14\",\"2021-05-17\",\"2021-05-18\",\"2021-05-19\",\"2021-05-20\",\"2021-05-21\",\"2021-05-24\",\"2021-05-25\",\"2021-05-26\",\"2021-05-27\",\"2021-05-28\",\"2021-05-31\",\"2021-06-01\",\"2021-06-02\",\"2021-06-03\",\"2021-06-04\",\"2021-06-07\",\"2021-06-08\",\"2021-06-09\",\"2021-06-10\",\"2021-06-11\",\"2021-06-14\",\"2021-06-15\",\"2021-06-16\",\"2021-06-17\",\"2021-06-18\",\"2021-06-21\",\"2021-06-22\",\"2021-06-23\",\"2021-06-24\",\"2021-06-25\",\"2021-06-28\",\"2021-06-29\",\"2021-06-30\",\"2021-07-01\",\"2021-07-02\",\"2021-07-05\",\"2021-07-06\",\"2021-07-07\",\"2021-07-08\",\"2021-07-09\",\"2021-07-12\",\"2021-07-13\",\"2021-07-14\",\"2021-07-15\",\"2021-07-16\",\"2021-07-19\",\"2021-07-20\",\"2021-07-22\",\"2021-07-23\",\"2021-07-26\",\"2021-07-27\",\"2021-07-28\",\"2021-07-29\",\"2021-07-30\",\"2021-08-02\",\"2021-08-03\",\"2021-08-04\",\"2021-08-05\",\"2021-08-06\",\"2021-08-09\",\"2021-08-10\",\"2021-08-11\",\"2021-08-12\",\"2021-08-13\",\"2021-08-16\",\"2021-08-17\",\"2021-08-18\",\"2021-08-20\",\"2021-08-23\",\"2021-08-24\",\"2021-08-25\",\"2021-08-26\",\"2021-08-27\",\"2021-08-30\",\"2021-08-31\",\"2021-09-01\",\"2021-09-02\",\"2021-09-03\",\"2021-09-06\",\"2021-09-07\",\"2021-09-08\",\"2021-09-09\",\"2021-09-13\",\"2021-09-14\",\"2021-09-15\",\"2021-09-16\",\"2021-09-17\",\"2021-09-20\",\"2021-09-21\",\"2021-09-22\",\"2021-09-23\",\"2021-09-24\",\"2021-09-27\",\"2021-09-28\",\"2021-09-29\",\"2021-09-30\",\"2021-10-01\",\"2021-10-04\",\"2021-10-05\",\"2021-10-06\",\"2021-10-07\",\"2021-10-08\",\"2021-10-11\",\"2021-10-12\",\"2021-10-13\",\"2021-10-14\",\"2021-10-18\",\"2021-10-19\",\"2021-10-20\",\"2021-10-21\",\"2021-10-22\",\"2021-10-25\",\"2021-10-26\",\"2021-10-27\",\"2021-10-28\",\"2021-10-29\",\"2021-11-01\",\"2021-11-02\",\"2021-11-03\",\"2021-11-04\",\"2021-11-08\",\"2021-11-09\",\"2021-11-10\",\"2021-11-11\",\"2021-11-12\",\"2021-11-15\",\"2021-11-16\",\"2021-11-17\",\"2021-11-18\",\"2021-11-22\",\"2021-11-23\",\"2021-11-24\",\"2021-11-25\",\"2021-11-26\",\"2021-11-29\",\"2021-11-30\",\"2021-12-01\",\"2021-12-02\",\"2021-12-03\",\"2021-12-06\",\"2021-12-07\",\"2021-12-08\",\"2021-12-09\",\"2021-12-10\",\"2021-12-13\",\"2021-12-14\",\"2021-12-15\",\"2021-12-16\",\"2021-12-17\",\"2021-12-20\",\"2021-12-21\",\"2021-12-22\",\"2021-12-23\",\"2021-12-24\",\"2021-12-27\",\"2021-12-28\",\"2021-12-29\",\"2021-12-30\",\"2021-12-31\",\"2022-01-03\",\"2022-01-04\",\"2022-01-05\",\"2022-01-06\",\"2022-01-07\",\"2022-01-10\",\"2022-01-11\",\"2022-01-12\",\"2022-01-13\",\"2022-01-14\",\"2022-01-17\",\"2022-01-18\",\"2022-01-19\",\"2022-01-20\",\"2022-01-21\",\"2022-01-24\",\"2022-01-25\",\"2022-01-27\",\"2022-01-28\",\"2022-01-31\",\"2022-02-01\",\"2022-02-02\",\"2022-02-03\",\"2022-02-04\",\"2022-02-07\",\"2022-02-08\"],\"y\":[1257.9,1269.0,1282.0,1300.0,1296.0,1278.25,1342.1,1378.0,1373.85,1360.0,1360.0,1338.0,1320.0,1320.55,1350.0,1327.0,1345.0,1319.6,1291.8,1286.25,1250.55,1280.0,1277.65,1285.0,1286.4,1285.5,1306.9,1295.8,1289.0,1305.0,1320.0,1314.0,1290.4,1276.0,1296.1,1295.0,1271.15,1260.05,1288.45,1269.0,1263.3,1282.25,1319.2,1335.0,1328.5,1324.8,1329.5,1356.9,1373.0,1370.0,1386.05,1392.25,1393.75,1330.0,1350.1,1372.45,1357.85,1346.75,1344.7,1346.9,1382.0,1380.0,1391.0,1423.0,1410.25,1430.0,1455.0,1474.0,1433.0,1332.3,1365.0,1340.0,1379.0,1355.55,1343.0,1332.25,1346.0,1358.0,1368.0,1346.3,1340.8,1354.0,1341.1,1345.0,1365.3,1349.85,1336.9,1330.0,1326.85,1320.3,1338.0,1342.0,1348.4,1347.5,1356.65,1358.0,1367.9,1404.2,1409.75,1401.5,1400.0,1380.75,1388.1,1393.95,1391.0,1396.0,1413.4,1424.0,1430.1,1471.0,1464.0,1472.7,1475.1,1509.0,1493.0,1509.7,1525.0,1517.0,1572.0,1572.9,1561.0,1572.05,1576.85,1558.95,1569.15,1573.7,1566.05,1568.0,1556.0,1570.55,1556.4,1554.0,1557.9,1573.75,1544.7,1538.3,1561.4,1588.55,1594.1,1605.0,1605.1,1600.1,1610.0,1627.45,1647.0,1669.1,1649.5,1657.0,1661.0,1668.0,1674.8,1679.15,1697.0,1707.7,1703.9,1729.0,1716.1,1735.75,1750.0,1718.0,1734.0,1725.0,1703.05,1700.15,1709.5,1677.35,1696.05,1705.15,1730.0,1700.85,1685.9,1683.0,1695.95,1693.25,1715.2,1697.0,1685.0,1700.0,1717.0,1732.0,1758.0,1768.75,1710.0,1659.25,1703.0,1665.1,1672.5,1671.0,1702.1,1687.0,1705.25,1682.0,1677.0,1695.95,1754.0,1740.0,1814.0,1829.4,1814.0,1749.9,1722.05,1710.05,1709.1,1719.35,1699.0,1677.5,1695.0,1709.0,1715.0,1730.0,1734.75,1726.0,1732.95,1743.0,1782.1,1790.0,1792.55,1781.6,1784.0,1735.1,1740.0,1700.0,1702.55,1691.0,1704.55,1715.0,1715.0,1771.1,1730.0,1701.1,1733.0,1759.0,1760.0,1767.05,1730.9,1745.0,1762.65,1820.0,1801.7,1801.0,1825.0,1831.25,1872.95,1860.0,1880.7,1883.5,1884.5,1890.0,1887.75,1898.45,1900.0,1828.0,1815.45,1815.0,1855.0,1868.9,1905.0,1882.0,1938.55,1922.1,1916.0,1844.0,1795.0,1765.0,1726.6,1702.0,1681.0,1718.0,1766.1,1789.0,1779.0,1732.0,1722.2,1710.0],\"type\":\"scatter\"}],                        {\"template\":{\"data\":{\"bar\":[{\"error_x\":{\"color\":\"#2a3f5f\"},\"error_y\":{\"color\":\"#2a3f5f\"},\"marker\":{\"line\":{\"color\":\"#E5ECF6\",\"width\":0.5},\"pattern\":{\"fillmode\":\"overlay\",\"size\":10,\"solidity\":0.2}},\"type\":\"bar\"}],\"barpolar\":[{\"marker\":{\"line\":{\"color\":\"#E5ECF6\",\"width\":0.5},\"pattern\":{\"fillmode\":\"overlay\",\"size\":10,\"solidity\":0.2}},\"type\":\"barpolar\"}],\"carpet\":[{\"aaxis\":{\"endlinecolor\":\"#2a3f5f\",\"gridcolor\":\"white\",\"linecolor\":\"white\",\"minorgridcolor\":\"white\",\"startlinecolor\":\"#2a3f5f\"},\"baxis\":{\"endlinecolor\":\"#2a3f5f\",\"gridcolor\":\"white\",\"linecolor\":\"white\",\"minorgridcolor\":\"white\",\"startlinecolor\":\"#2a3f5f\"},\"type\":\"carpet\"}],\"choropleth\":[{\"colorbar\":{\"outlinewidth\":0,\"ticks\":\"\"},\"type\":\"choropleth\"}],\"contour\":[{\"colorbar\":{\"outlinewidth\":0,\"ticks\":\"\"},\"colorscale\":[[0.0,\"#0d0887\"],[0.1111111111111111,\"#46039f\"],[0.2222222222222222,\"#7201a8\"],[0.3333333333333333,\"#9c179e\"],[0.4444444444444444,\"#bd3786\"],[0.5555555555555556,\"#d8576b\"],[0.6666666666666666,\"#ed7953\"],[0.7777777777777778,\"#fb9f3a\"],[0.8888888888888888,\"#fdca26\"],[1.0,\"#f0f921\"]],\"type\":\"contour\"}],\"contourcarpet\":[{\"colorbar\":{\"outlinewidth\":0,\"ticks\":\"\"},\"type\":\"contourcarpet\"}],\"heatmap\":[{\"colorbar\":{\"outlinewidth\":0,\"ticks\":\"\"},\"colorscale\":[[0.0,\"#0d0887\"],[0.1111111111111111,\"#46039f\"],[0.2222222222222222,\"#7201a8\"],[0.3333333333333333,\"#9c179e\"],[0.4444444444444444,\"#bd3786\"],[0.5555555555555556,\"#d8576b\"],[0.6666666666666666,\"#ed7953\"],[0.7777777777777778,\"#fb9f3a\"],[0.8888888888888888,\"#fdca26\"],[1.0,\"#f0f921\"]],\"type\":\"heatmap\"}],\"heatmapgl\":[{\"colorbar\":{\"outlinewidth\":0,\"ticks\":\"\"},\"colorscale\":[[0.0,\"#0d0887\"],[0.1111111111111111,\"#46039f\"],[0.2222222222222222,\"#7201a8\"],[0.3333333333333333,\"#9c179e\"],[0.4444444444444444,\"#bd3786\"],[0.5555555555555556,\"#d8576b\"],[0.6666666666666666,\"#ed7953\"],[0.7777777777777778,\"#fb9f3a\"],[0.8888888888888888,\"#fdca26\"],[1.0,\"#f0f921\"]],\"type\":\"heatmapgl\"}],\"histogram\":[{\"marker\":{\"pattern\":{\"fillmode\":\"overlay\",\"size\":10,\"solidity\":0.2}},\"type\":\"histogram\"}],\"histogram2d\":[{\"colorbar\":{\"outlinewidth\":0,\"ticks\":\"\"},\"colorscale\":[[0.0,\"#0d0887\"],[0.1111111111111111,\"#46039f\"],[0.2222222222222222,\"#7201a8\"],[0.3333333333333333,\"#9c179e\"],[0.4444444444444444,\"#bd3786\"],[0.5555555555555556,\"#d8576b\"],[0.6666666666666666,\"#ed7953\"],[0.7777777777777778,\"#fb9f3a\"],[0.8888888888888888,\"#fdca26\"],[1.0,\"#f0f921\"]],\"type\":\"histogram2d\"}],\"histogram2dcontour\":[{\"colorbar\":{\"outlinewidth\":0,\"ticks\":\"\"},\"colorscale\":[[0.0,\"#0d0887\"],[0.1111111111111111,\"#46039f\"],[0.2222222222222222,\"#7201a8\"],[0.3333333333333333,\"#9c179e\"],[0.4444444444444444,\"#bd3786\"],[0.5555555555555556,\"#d8576b\"],[0.6666666666666666,\"#ed7953\"],[0.7777777777777778,\"#fb9f3a\"],[0.8888888888888888,\"#fdca26\"],[1.0,\"#f0f921\"]],\"type\":\"histogram2dcontour\"}],\"mesh3d\":[{\"colorbar\":{\"outlinewidth\":0,\"ticks\":\"\"},\"type\":\"mesh3d\"}],\"parcoords\":[{\"line\":{\"colorbar\":{\"outlinewidth\":0,\"ticks\":\"\"}},\"type\":\"parcoords\"}],\"pie\":[{\"automargin\":true,\"type\":\"pie\"}],\"scatter\":[{\"marker\":{\"colorbar\":{\"outlinewidth\":0,\"ticks\":\"\"}},\"type\":\"scatter\"}],\"scatter3d\":[{\"line\":{\"colorbar\":{\"outlinewidth\":0,\"ticks\":\"\"}},\"marker\":{\"colorbar\":{\"outlinewidth\":0,\"ticks\":\"\"}},\"type\":\"scatter3d\"}],\"scattercarpet\":[{\"marker\":{\"colorbar\":{\"outlinewidth\":0,\"ticks\":\"\"}},\"type\":\"scattercarpet\"}],\"scattergeo\":[{\"marker\":{\"colorbar\":{\"outlinewidth\":0,\"ticks\":\"\"}},\"type\":\"scattergeo\"}],\"scattergl\":[{\"marker\":{\"colorbar\":{\"outlinewidth\":0,\"ticks\":\"\"}},\"type\":\"scattergl\"}],\"scattermapbox\":[{\"marker\":{\"colorbar\":{\"outlinewidth\":0,\"ticks\":\"\"}},\"type\":\"scattermapbox\"}],\"scatterpolar\":[{\"marker\":{\"colorbar\":{\"outlinewidth\":0,\"ticks\":\"\"}},\"type\":\"scatterpolar\"}],\"scatterpolargl\":[{\"marker\":{\"colorbar\":{\"outlinewidth\":0,\"ticks\":\"\"}},\"type\":\"scatterpolargl\"}],\"scatterternary\":[{\"marker\":{\"colorbar\":{\"outlinewidth\":0,\"ticks\":\"\"}},\"type\":\"scatterternary\"}],\"surface\":[{\"colorbar\":{\"outlinewidth\":0,\"ticks\":\"\"},\"colorscale\":[[0.0,\"#0d0887\"],[0.1111111111111111,\"#46039f\"],[0.2222222222222222,\"#7201a8\"],[0.3333333333333333,\"#9c179e\"],[0.4444444444444444,\"#bd3786\"],[0.5555555555555556,\"#d8576b\"],[0.6666666666666666,\"#ed7953\"],[0.7777777777777778,\"#fb9f3a\"],[0.8888888888888888,\"#fdca26\"],[1.0,\"#f0f921\"]],\"type\":\"surface\"}],\"table\":[{\"cells\":{\"fill\":{\"color\":\"#EBF0F8\"},\"line\":{\"color\":\"white\"}},\"header\":{\"fill\":{\"color\":\"#C8D4E3\"},\"line\":{\"color\":\"white\"}},\"type\":\"table\"}]},\"layout\":{\"annotationdefaults\":{\"arrowcolor\":\"#2a3f5f\",\"arrowhead\":0,\"arrowwidth\":1},\"autotypenumbers\":\"strict\",\"coloraxis\":{\"colorbar\":{\"outlinewidth\":0,\"ticks\":\"\"}},\"colorscale\":{\"diverging\":[[0,\"#8e0152\"],[0.1,\"#c51b7d\"],[0.2,\"#de77ae\"],[0.3,\"#f1b6da\"],[0.4,\"#fde0ef\"],[0.5,\"#f7f7f7\"],[0.6,\"#e6f5d0\"],[0.7,\"#b8e186\"],[0.8,\"#7fbc41\"],[0.9,\"#4d9221\"],[1,\"#276419\"]],\"sequential\":[[0.0,\"#0d0887\"],[0.1111111111111111,\"#46039f\"],[0.2222222222222222,\"#7201a8\"],[0.3333333333333333,\"#9c179e\"],[0.4444444444444444,\"#bd3786\"],[0.5555555555555556,\"#d8576b\"],[0.6666666666666666,\"#ed7953\"],[0.7777777777777778,\"#fb9f3a\"],[0.8888888888888888,\"#fdca26\"],[1.0,\"#f0f921\"]],\"sequentialminus\":[[0.0,\"#0d0887\"],[0.1111111111111111,\"#46039f\"],[0.2222222222222222,\"#7201a8\"],[0.3333333333333333,\"#9c179e\"],[0.4444444444444444,\"#bd3786\"],[0.5555555555555556,\"#d8576b\"],[0.6666666666666666,\"#ed7953\"],[0.7777777777777778,\"#fb9f3a\"],[0.8888888888888888,\"#fdca26\"],[1.0,\"#f0f921\"]]},\"colorway\":[\"#636efa\",\"#EF553B\",\"#00cc96\",\"#ab63fa\",\"#FFA15A\",\"#19d3f3\",\"#FF6692\",\"#B6E880\",\"#FF97FF\",\"#FECB52\"],\"font\":{\"color\":\"#2a3f5f\"},\"geo\":{\"bgcolor\":\"white\",\"lakecolor\":\"white\",\"landcolor\":\"#E5ECF6\",\"showlakes\":true,\"showland\":true,\"subunitcolor\":\"white\"},\"hoverlabel\":{\"align\":\"left\"},\"hovermode\":\"closest\",\"mapbox\":{\"style\":\"light\"},\"paper_bgcolor\":\"white\",\"plot_bgcolor\":\"#E5ECF6\",\"polar\":{\"angularaxis\":{\"gridcolor\":\"white\",\"linecolor\":\"white\",\"ticks\":\"\"},\"bgcolor\":\"#E5ECF6\",\"radialaxis\":{\"gridcolor\":\"white\",\"linecolor\":\"white\",\"ticks\":\"\"}},\"scene\":{\"xaxis\":{\"backgroundcolor\":\"#E5ECF6\",\"gridcolor\":\"white\",\"gridwidth\":2,\"linecolor\":\"white\",\"showbackground\":true,\"ticks\":\"\",\"zerolinecolor\":\"white\"},\"yaxis\":{\"backgroundcolor\":\"#E5ECF6\",\"gridcolor\":\"white\",\"gridwidth\":2,\"linecolor\":\"white\",\"showbackground\":true,\"ticks\":\"\",\"zerolinecolor\":\"white\"},\"zaxis\":{\"backgroundcolor\":\"#E5ECF6\",\"gridcolor\":\"white\",\"gridwidth\":2,\"linecolor\":\"white\",\"showbackground\":true,\"ticks\":\"\",\"zerolinecolor\":\"white\"}},\"shapedefaults\":{\"line\":{\"color\":\"#2a3f5f\"}},\"ternary\":{\"aaxis\":{\"gridcolor\":\"white\",\"linecolor\":\"white\",\"ticks\":\"\"},\"baxis\":{\"gridcolor\":\"white\",\"linecolor\":\"white\",\"ticks\":\"\"},\"bgcolor\":\"#E5ECF6\",\"caxis\":{\"gridcolor\":\"white\",\"linecolor\":\"white\",\"ticks\":\"\"}},\"title\":{\"x\":0.05},\"xaxis\":{\"automargin\":true,\"gridcolor\":\"white\",\"linecolor\":\"white\",\"ticks\":\"\",\"title\":{\"standoff\":15},\"zerolinecolor\":\"white\",\"zerolinewidth\":2},\"yaxis\":{\"automargin\":true,\"gridcolor\":\"white\",\"linecolor\":\"white\",\"ticks\":\"\",\"title\":{\"standoff\":15},\"zerolinecolor\":\"white\",\"zerolinewidth\":2}}},\"xaxis\":{\"anchor\":\"y\",\"domain\":[0.0,1.0],\"title\":{\"text\":\"Date\"}},\"yaxis\":{\"anchor\":\"x\",\"domain\":[0.0,1.0],\"title\":{\"text\":\"Predicted\"}},\"legend\":{\"tracegroupgap\":0},\"margin\":{\"t\":60}},                        {\"responsive\": true}                    )                };                            </script>        </div>"
            ],
            "text/plain": [
              "Figure({\n",
              "    'data': [{'hovertemplate': 'Date=%{x}<br>Predicted=%{y}<extra></extra>',\n",
              "              'legendgroup': '',\n",
              "              'line': {'color': '#636efa', 'dash': 'solid'},\n",
              "              'marker': {'symbol': 'circle'},\n",
              "              'mode': 'lines+markers',\n",
              "              'name': '',\n",
              "              'orientation': 'v',\n",
              "              'showlegend': False,\n",
              "              'type': 'scatter',\n",
              "              'x': array([datetime.date(2021, 1, 1), datetime.date(2021, 1, 4),\n",
              "                          datetime.date(2021, 1, 5), ..., datetime.date(2022, 2, 4),\n",
              "                          datetime.date(2022, 2, 7), datetime.date(2022, 2, 8)], dtype=object),\n",
              "              'xaxis': 'x',\n",
              "              'y': array([1239.7596, 1241.8396, 1246.431 , ..., 1752.424 , 1756.8464, 1744.4144],\n",
              "                         dtype=float32),\n",
              "              'yaxis': 'y'},\n",
              "             {'mode': 'lines+markers',\n",
              "              'name': 'Actual',\n",
              "              'type': 'scatter',\n",
              "              'x': array([datetime.date(2021, 1, 1), datetime.date(2021, 1, 4),\n",
              "                          datetime.date(2021, 1, 5), ..., datetime.date(2022, 2, 4),\n",
              "                          datetime.date(2022, 2, 7), datetime.date(2022, 2, 8)], dtype=object),\n",
              "              'y': array([1257.9, 1269. , 1282. , ..., 1732. , 1722.2, 1710. ])}],\n",
              "    'layout': {'legend': {'tracegroupgap': 0},\n",
              "               'margin': {'t': 60},\n",
              "               'template': '...',\n",
              "               'xaxis': {'anchor': 'y', 'domain': [0.0, 1.0], 'title': {'text': 'Date'}},\n",
              "               'yaxis': {'anchor': 'x', 'domain': [0.0, 1.0], 'title': {'text': 'Predicted'}}}\n",
              "})"
            ]
          },
          "execution_count": 41,
          "metadata": {},
          "output_type": "execute_result"
        }
      ],
      "source": [
        "#@title See how the model performs on 2021 years data\n",
        "testdataframe= gh(symbol=stock_code,start=dt.datetime(2021,1,1),end=dt.datetime(2021,12,31))\n",
        "testdataframe['Date'] = testdataframe.index\n",
        "testdata = pd.DataFrame(columns = ['Date', 'Open', 'High', 'Low', 'Close'])\n",
        "testdata['Date'] = testdataframe['Date']\n",
        "testdata['Open'] = testdataframe['Open']\n",
        "testdata['High'] = testdataframe['High']\n",
        "testdata['Low'] = testdataframe['Low']\n",
        "testdata['Close'] = testdataframe['Close']\n",
        "real_stock_price = testdata.iloc[:, 1:2].values\n",
        "dataset_total = pd.concat((data2['Open'], testdata['Open']), axis = 0)\n",
        "inputs = dataset_total[len(dataset_total) - len(testdata) - 60:].values\n",
        "inputs = inputs.reshape(-1,1)\n",
        "inputs = sc.transform(inputs)\n",
        "X_test = []\n",
        "for i in range(60, len(inputs)):\n",
        "    X_test.append(inputs[i-60:i, 0])\n",
        "X_test = np.array(X_test)\n",
        "X_test = np.reshape(X_test, (X_test.shape[0], X_test.shape[1], 1))\n",
        "\n",
        "\n",
        "predicted_stock_price = regressor.predict(X_test)\n",
        "predicted_stock_price = sc.inverse_transform(predicted_stock_price)\n",
        "\n",
        "\n",
        "df = pd.DataFrame()\n",
        "df['Date'] = testdataframe['Date']\n",
        "df['Open'] = testdataframe['Open']\n",
        "df[\"Predicted\"] = predicted_stock_price\n",
        "import plotly.express as px\n",
        "fig = px.line(df, x=\"Date\", y=\"Predicted\", markers=True)\n",
        "fig.add_trace(go.Scatter(x=df[\"Date\"], y=df[\"Open\"],\n",
        "                    mode='lines+markers',\n",
        "                    name='Actual'))\n"
      ]
    },
    {
      "cell_type": "code",
      "execution_count": null,
      "metadata": {},
      "outputs": [],
      "source": [
        "from sklearn.metrics import mean_absolute_error\n",
        "mean_absolute_error(df[\"Open\"],df[\"Predicted\"])"
      ]
    },
    {
      "cell_type": "code",
      "execution_count": null,
      "metadata": {
        "cellView": "form",
        "id": "3SAgLmt3bVQM"
      },
      "outputs": [
        {
          "ename": "ValueError",
          "evalue": "cannot reshape array of size 333 into shape (1,60,1)",
          "output_type": "error",
          "traceback": [
            "\u001b[1;31m---------------------------------------------------------------------------\u001b[0m",
            "\u001b[1;31mValueError\u001b[0m                                Traceback (most recent call last)",
            "\u001b[1;32m~\\AppData\\Local\\Temp/ipykernel_15576/2581590973.py\u001b[0m in \u001b[0;36m<module>\u001b[1;34m\u001b[0m\n\u001b[0;32m     34\u001b[0m         \u001b[0mx_input\u001b[0m\u001b[1;33m=\u001b[0m\u001b[0mnp\u001b[0m\u001b[1;33m.\u001b[0m\u001b[0marray\u001b[0m\u001b[1;33m(\u001b[0m\u001b[0mtemp_input\u001b[0m\u001b[1;33m[\u001b[0m\u001b[1;36m1\u001b[0m\u001b[1;33m:\u001b[0m\u001b[1;33m]\u001b[0m\u001b[1;33m)\u001b[0m\u001b[1;33m\u001b[0m\u001b[1;33m\u001b[0m\u001b[0m\n\u001b[0;32m     35\u001b[0m         \u001b[0mx_input\u001b[0m\u001b[1;33m=\u001b[0m\u001b[0mx_input\u001b[0m\u001b[1;33m.\u001b[0m\u001b[0mreshape\u001b[0m\u001b[1;33m(\u001b[0m\u001b[1;36m1\u001b[0m\u001b[1;33m,\u001b[0m\u001b[1;33m-\u001b[0m\u001b[1;36m1\u001b[0m\u001b[1;33m)\u001b[0m\u001b[1;33m\u001b[0m\u001b[1;33m\u001b[0m\u001b[0m\n\u001b[1;32m---> 36\u001b[1;33m         \u001b[0mx_input\u001b[0m \u001b[1;33m=\u001b[0m \u001b[0mx_input\u001b[0m\u001b[1;33m.\u001b[0m\u001b[0mreshape\u001b[0m\u001b[1;33m(\u001b[0m\u001b[1;33m(\u001b[0m\u001b[1;36m1\u001b[0m\u001b[1;33m,\u001b[0m \u001b[0mn_steps\u001b[0m\u001b[1;33m,\u001b[0m \u001b[1;36m1\u001b[0m\u001b[1;33m)\u001b[0m\u001b[1;33m)\u001b[0m\u001b[1;33m\u001b[0m\u001b[1;33m\u001b[0m\u001b[0m\n\u001b[0m\u001b[0;32m     37\u001b[0m         \u001b[1;31m#print(x_input)\u001b[0m\u001b[1;33m\u001b[0m\u001b[1;33m\u001b[0m\u001b[0m\n\u001b[0;32m     38\u001b[0m         \u001b[0myhat\u001b[0m \u001b[1;33m=\u001b[0m \u001b[0mregressor\u001b[0m\u001b[1;33m.\u001b[0m\u001b[0mpredict\u001b[0m\u001b[1;33m(\u001b[0m\u001b[0mx_input\u001b[0m\u001b[1;33m,\u001b[0m \u001b[0mverbose\u001b[0m\u001b[1;33m=\u001b[0m\u001b[1;36m0\u001b[0m\u001b[1;33m)\u001b[0m\u001b[1;33m\u001b[0m\u001b[1;33m\u001b[0m\u001b[0m\n",
            "\u001b[1;31mValueError\u001b[0m: cannot reshape array of size 333 into shape (1,60,1)"
          ]
        }
      ],
      "source": [
        "#@title  Make Predictions \n",
        "from numpy import array\n",
        "from datetime import relativedelta\n",
        "tod = dt.datetime.now()\n",
        "lst = list(map(int , tod.strftime(\"%Y-%m-%d\").split(\"-\")))\n",
        "testdataframe= gh(symbol=stock_code,start=dt.datetime(2021,1,1),end=dt.datetime(lst[0],lst[1],lst[2]))\n",
        "\n",
        "\n",
        "temp = sc.transform(testdataframe.iloc[-60:,3:4].values)\n",
        "\n",
        "x_input=temp.reshape(1,-1)\n",
        "x_input.shape\n",
        "\n",
        "\n",
        "temp_input=list(x_input)\n",
        "temp_input=temp_input[0].tolist()\n",
        "lst_output=[]\n",
        "n_steps=60\n",
        "i=0\n",
        "while(i<730):\n",
        "    if(len(temp_input)>60):\n",
        "        x_input=np.array(temp_input[1:])\n",
        "        x_input=x_input.reshape(1,-1)\n",
        "        x_input = x_input.reshape((1, n_steps, 1))\n",
        "        #print(x_input)\n",
        "        yhat = regressor.predict(x_input, verbose=0)\n",
        "        temp_input.extend(yhat[0].tolist())\n",
        "        temp_input=temp_input[1:]\n",
        "        lst_output.extend(yhat.tolist())\n",
        "        i=i+1\n",
        "    else:\n",
        "        x_input = x_input.reshape((1, n_steps,1))\n",
        "        yhat = regressor.predict(x_input, verbose=0)\n",
        "        temp_input.extend(yhat[0].tolist())\n",
        "        lst_output.extend(yhat.tolist())\n",
        "        i=i+1\n",
        "\n",
        "preds = np.array(lst_output)\n",
        "preds = sc.inverse_transform(preds)\n",
        "from numpy.lib.function_base import kaiser\n",
        "t = 730\n",
        "lst = []\n",
        "k = dt.datetime.now()\n",
        "\n",
        "while(t>0):\n",
        "  temp = k + relativedelta(days = 1)\n",
        "  k = temp \n",
        "  lst.append(temp.strftime(\"%Y-%m-%d\"))\n",
        "  t-=1\n",
        "df1 = pd.DataFrame()\n",
        "df1['Date'] = lst\n",
        "df1[\"Predicted\"] = preds\n",
        "import plotly.express as px\n",
        "fig = px.line(df1, x=\"Date\", y=\"Predicted\", markers=True)\n",
        "fig.show()  \n"
      ]
    },
    {
      "cell_type": "code",
      "execution_count": null,
      "metadata": {},
      "outputs": [
        {
          "ename": "ValueError",
          "evalue": "Mime type rendering requires nbformat>=4.2.0 but it is not installed",
          "output_type": "error",
          "traceback": [
            "\u001b[1;31m---------------------------------------------------------------------------\u001b[0m",
            "\u001b[1;31mValueError\u001b[0m                                Traceback (most recent call last)",
            "\u001b[1;32m~\\.conda\\envs\\cryptocurrency-analysis\\lib\\site-packages\\IPython\\core\\formatters.py\u001b[0m in \u001b[0;36m__call__\u001b[1;34m(self, obj)\u001b[0m\n\u001b[0;32m    916\u001b[0m             \u001b[0mmethod\u001b[0m \u001b[1;33m=\u001b[0m \u001b[0mget_real_method\u001b[0m\u001b[1;33m(\u001b[0m\u001b[0mobj\u001b[0m\u001b[1;33m,\u001b[0m \u001b[0mself\u001b[0m\u001b[1;33m.\u001b[0m\u001b[0mprint_method\u001b[0m\u001b[1;33m)\u001b[0m\u001b[1;33m\u001b[0m\u001b[1;33m\u001b[0m\u001b[0m\n\u001b[0;32m    917\u001b[0m             \u001b[1;32mif\u001b[0m \u001b[0mmethod\u001b[0m \u001b[1;32mis\u001b[0m \u001b[1;32mnot\u001b[0m \u001b[1;32mNone\u001b[0m\u001b[1;33m:\u001b[0m\u001b[1;33m\u001b[0m\u001b[1;33m\u001b[0m\u001b[0m\n\u001b[1;32m--> 918\u001b[1;33m                 \u001b[0mmethod\u001b[0m\u001b[1;33m(\u001b[0m\u001b[1;33m)\u001b[0m\u001b[1;33m\u001b[0m\u001b[1;33m\u001b[0m\u001b[0m\n\u001b[0m\u001b[0;32m    919\u001b[0m                 \u001b[1;32mreturn\u001b[0m \u001b[1;32mTrue\u001b[0m\u001b[1;33m\u001b[0m\u001b[1;33m\u001b[0m\u001b[0m\n\u001b[0;32m    920\u001b[0m \u001b[1;33m\u001b[0m\u001b[0m\n",
            "\u001b[1;32m~\\.conda\\envs\\cryptocurrency-analysis\\lib\\site-packages\\plotly\\basedatatypes.py\u001b[0m in \u001b[0;36m_ipython_display_\u001b[1;34m(self)\u001b[0m\n\u001b[0;32m    842\u001b[0m \u001b[1;33m\u001b[0m\u001b[0m\n\u001b[0;32m    843\u001b[0m         \u001b[1;32mif\u001b[0m \u001b[0mpio\u001b[0m\u001b[1;33m.\u001b[0m\u001b[0mrenderers\u001b[0m\u001b[1;33m.\u001b[0m\u001b[0mrender_on_display\u001b[0m \u001b[1;32mand\u001b[0m \u001b[0mpio\u001b[0m\u001b[1;33m.\u001b[0m\u001b[0mrenderers\u001b[0m\u001b[1;33m.\u001b[0m\u001b[0mdefault\u001b[0m\u001b[1;33m:\u001b[0m\u001b[1;33m\u001b[0m\u001b[1;33m\u001b[0m\u001b[0m\n\u001b[1;32m--> 844\u001b[1;33m             \u001b[0mpio\u001b[0m\u001b[1;33m.\u001b[0m\u001b[0mshow\u001b[0m\u001b[1;33m(\u001b[0m\u001b[0mself\u001b[0m\u001b[1;33m)\u001b[0m\u001b[1;33m\u001b[0m\u001b[1;33m\u001b[0m\u001b[0m\n\u001b[0m\u001b[0;32m    845\u001b[0m         \u001b[1;32melse\u001b[0m\u001b[1;33m:\u001b[0m\u001b[1;33m\u001b[0m\u001b[1;33m\u001b[0m\u001b[0m\n\u001b[0;32m    846\u001b[0m             \u001b[0mprint\u001b[0m\u001b[1;33m(\u001b[0m\u001b[0mrepr\u001b[0m\u001b[1;33m(\u001b[0m\u001b[0mself\u001b[0m\u001b[1;33m)\u001b[0m\u001b[1;33m)\u001b[0m\u001b[1;33m\u001b[0m\u001b[1;33m\u001b[0m\u001b[0m\n",
            "\u001b[1;32m~\\.conda\\envs\\cryptocurrency-analysis\\lib\\site-packages\\plotly\\io\\_renderers.py\u001b[0m in \u001b[0;36mshow\u001b[1;34m(fig, renderer, validate, **kwargs)\u001b[0m\n\u001b[0;32m    395\u001b[0m \u001b[1;33m\u001b[0m\u001b[0m\n\u001b[0;32m    396\u001b[0m         \u001b[1;32mif\u001b[0m \u001b[1;32mnot\u001b[0m \u001b[0mnbformat\u001b[0m \u001b[1;32mor\u001b[0m \u001b[0mLooseVersion\u001b[0m\u001b[1;33m(\u001b[0m\u001b[0mnbformat\u001b[0m\u001b[1;33m.\u001b[0m\u001b[0m__version__\u001b[0m\u001b[1;33m)\u001b[0m \u001b[1;33m<\u001b[0m \u001b[0mLooseVersion\u001b[0m\u001b[1;33m(\u001b[0m\u001b[1;34m\"4.2.0\"\u001b[0m\u001b[1;33m)\u001b[0m\u001b[1;33m:\u001b[0m\u001b[1;33m\u001b[0m\u001b[1;33m\u001b[0m\u001b[0m\n\u001b[1;32m--> 397\u001b[1;33m             raise ValueError(\n\u001b[0m\u001b[0;32m    398\u001b[0m                 \u001b[1;34m\"Mime type rendering requires nbformat>=4.2.0 but it is not installed\"\u001b[0m\u001b[1;33m\u001b[0m\u001b[1;33m\u001b[0m\u001b[0m\n\u001b[0;32m    399\u001b[0m             )\n",
            "\u001b[1;31mValueError\u001b[0m: Mime type rendering requires nbformat>=4.2.0 but it is not installed"
          ]
        },
        {
          "data": {
            "application/vnd.plotly.v1+json": {
              "config": {
                "plotlyServerURL": "https://plot.ly"
              },
              "data": [
                {
                  "hovertemplate": "Date=%{x}<br>Predicted=%{y}<extra></extra>",
                  "legendgroup": "",
                  "line": {
                    "color": "#636efa",
                    "dash": "solid"
                  },
                  "marker": {
                    "symbol": "circle"
                  },
                  "mode": "lines+markers",
                  "name": "",
                  "orientation": "v",
                  "showlegend": false,
                  "type": "scatter",
                  "x": [
                    "2022-02-09",
                    "2022-02-10",
                    "2022-02-11",
                    "2022-02-12",
                    "2022-02-13",
                    "2022-02-14",
                    "2022-02-15",
                    "2022-02-16",
                    "2022-02-17",
                    "2022-02-18",
                    "2022-02-19",
                    "2022-02-20",
                    "2022-02-21",
                    "2022-02-22",
                    "2022-02-23",
                    "2022-02-24",
                    "2022-02-25",
                    "2022-02-26",
                    "2022-02-27",
                    "2022-02-28",
                    "2022-03-01",
                    "2022-03-02",
                    "2022-03-03",
                    "2022-03-04",
                    "2022-03-05",
                    "2022-03-06",
                    "2022-03-07",
                    "2022-03-08",
                    "2022-03-09",
                    "2022-03-10",
                    "2022-03-11",
                    "2022-03-12",
                    "2022-03-13",
                    "2022-03-14",
                    "2022-03-15",
                    "2022-03-16",
                    "2022-03-17",
                    "2022-03-18",
                    "2022-03-19",
                    "2022-03-20",
                    "2022-03-21",
                    "2022-03-22",
                    "2022-03-23",
                    "2022-03-24",
                    "2022-03-25",
                    "2022-03-26",
                    "2022-03-27",
                    "2022-03-28",
                    "2022-03-29",
                    "2022-03-30",
                    "2022-03-31",
                    "2022-04-01",
                    "2022-04-02",
                    "2022-04-03",
                    "2022-04-04",
                    "2022-04-05",
                    "2022-04-06",
                    "2022-04-07",
                    "2022-04-08",
                    "2022-04-09",
                    "2022-04-10",
                    "2022-04-11",
                    "2022-04-12",
                    "2022-04-13",
                    "2022-04-14",
                    "2022-04-15",
                    "2022-04-16",
                    "2022-04-17",
                    "2022-04-18",
                    "2022-04-19",
                    "2022-04-20",
                    "2022-04-21",
                    "2022-04-22",
                    "2022-04-23",
                    "2022-04-24",
                    "2022-04-25",
                    "2022-04-26",
                    "2022-04-27",
                    "2022-04-28",
                    "2022-04-29",
                    "2022-04-30",
                    "2022-05-01",
                    "2022-05-02",
                    "2022-05-03",
                    "2022-05-04",
                    "2022-05-05",
                    "2022-05-06",
                    "2022-05-07",
                    "2022-05-08",
                    "2022-05-09",
                    "2022-05-10",
                    "2022-05-11",
                    "2022-05-12",
                    "2022-05-13",
                    "2022-05-14",
                    "2022-05-15",
                    "2022-05-16",
                    "2022-05-17",
                    "2022-05-18",
                    "2022-05-19",
                    "2022-05-20",
                    "2022-05-21",
                    "2022-05-22",
                    "2022-05-23",
                    "2022-05-24",
                    "2022-05-25",
                    "2022-05-26",
                    "2022-05-27",
                    "2022-05-28",
                    "2022-05-29",
                    "2022-05-30",
                    "2022-05-31",
                    "2022-06-01",
                    "2022-06-02",
                    "2022-06-03",
                    "2022-06-04",
                    "2022-06-05",
                    "2022-06-06",
                    "2022-06-07",
                    "2022-06-08",
                    "2022-06-09",
                    "2022-06-10",
                    "2022-06-11",
                    "2022-06-12",
                    "2022-06-13",
                    "2022-06-14",
                    "2022-06-15",
                    "2022-06-16",
                    "2022-06-17",
                    "2022-06-18",
                    "2022-06-19",
                    "2022-06-20",
                    "2022-06-21",
                    "2022-06-22",
                    "2022-06-23",
                    "2022-06-24",
                    "2022-06-25",
                    "2022-06-26",
                    "2022-06-27",
                    "2022-06-28",
                    "2022-06-29",
                    "2022-06-30",
                    "2022-07-01",
                    "2022-07-02",
                    "2022-07-03",
                    "2022-07-04",
                    "2022-07-05",
                    "2022-07-06",
                    "2022-07-07",
                    "2022-07-08",
                    "2022-07-09",
                    "2022-07-10",
                    "2022-07-11",
                    "2022-07-12",
                    "2022-07-13",
                    "2022-07-14",
                    "2022-07-15",
                    "2022-07-16",
                    "2022-07-17",
                    "2022-07-18",
                    "2022-07-19",
                    "2022-07-20",
                    "2022-07-21",
                    "2022-07-22",
                    "2022-07-23",
                    "2022-07-24",
                    "2022-07-25",
                    "2022-07-26",
                    "2022-07-27",
                    "2022-07-28",
                    "2022-07-29",
                    "2022-07-30",
                    "2022-07-31",
                    "2022-08-01",
                    "2022-08-02",
                    "2022-08-03",
                    "2022-08-04",
                    "2022-08-05",
                    "2022-08-06",
                    "2022-08-07",
                    "2022-08-08",
                    "2022-08-09",
                    "2022-08-10",
                    "2022-08-11",
                    "2022-08-12",
                    "2022-08-13",
                    "2022-08-14",
                    "2022-08-15",
                    "2022-08-16",
                    "2022-08-17",
                    "2022-08-18",
                    "2022-08-19",
                    "2022-08-20",
                    "2022-08-21",
                    "2022-08-22",
                    "2022-08-23",
                    "2022-08-24",
                    "2022-08-25",
                    "2022-08-26",
                    "2022-08-27",
                    "2022-08-28",
                    "2022-08-29",
                    "2022-08-30",
                    "2022-08-31",
                    "2022-09-01",
                    "2022-09-02",
                    "2022-09-03",
                    "2022-09-04",
                    "2022-09-05",
                    "2022-09-06",
                    "2022-09-07",
                    "2022-09-08",
                    "2022-09-09",
                    "2022-09-10",
                    "2022-09-11",
                    "2022-09-12",
                    "2022-09-13",
                    "2022-09-14",
                    "2022-09-15",
                    "2022-09-16",
                    "2022-09-17",
                    "2022-09-18",
                    "2022-09-19",
                    "2022-09-20",
                    "2022-09-21",
                    "2022-09-22",
                    "2022-09-23",
                    "2022-09-24",
                    "2022-09-25",
                    "2022-09-26",
                    "2022-09-27",
                    "2022-09-28",
                    "2022-09-29",
                    "2022-09-30",
                    "2022-10-01",
                    "2022-10-02",
                    "2022-10-03",
                    "2022-10-04",
                    "2022-10-05",
                    "2022-10-06",
                    "2022-10-07",
                    "2022-10-08",
                    "2022-10-09",
                    "2022-10-10",
                    "2022-10-11",
                    "2022-10-12",
                    "2022-10-13",
                    "2022-10-14",
                    "2022-10-15",
                    "2022-10-16",
                    "2022-10-17",
                    "2022-10-18",
                    "2022-10-19",
                    "2022-10-20",
                    "2022-10-21",
                    "2022-10-22",
                    "2022-10-23",
                    "2022-10-24",
                    "2022-10-25",
                    "2022-10-26",
                    "2022-10-27",
                    "2022-10-28",
                    "2022-10-29",
                    "2022-10-30",
                    "2022-10-31",
                    "2022-11-01",
                    "2022-11-02",
                    "2022-11-03",
                    "2022-11-04",
                    "2022-11-05",
                    "2022-11-06",
                    "2022-11-07",
                    "2022-11-08",
                    "2022-11-09",
                    "2022-11-10",
                    "2022-11-11",
                    "2022-11-12",
                    "2022-11-13",
                    "2022-11-14",
                    "2022-11-15",
                    "2022-11-16",
                    "2022-11-17",
                    "2022-11-18",
                    "2022-11-19",
                    "2022-11-20",
                    "2022-11-21",
                    "2022-11-22",
                    "2022-11-23",
                    "2022-11-24",
                    "2022-11-25",
                    "2022-11-26",
                    "2022-11-27",
                    "2022-11-28",
                    "2022-11-29",
                    "2022-11-30",
                    "2022-12-01",
                    "2022-12-02",
                    "2022-12-03",
                    "2022-12-04",
                    "2022-12-05",
                    "2022-12-06",
                    "2022-12-07",
                    "2022-12-08",
                    "2022-12-09",
                    "2022-12-10",
                    "2022-12-11",
                    "2022-12-12",
                    "2022-12-13",
                    "2022-12-14",
                    "2022-12-15",
                    "2022-12-16",
                    "2022-12-17",
                    "2022-12-18",
                    "2022-12-19",
                    "2022-12-20",
                    "2022-12-21",
                    "2022-12-22",
                    "2022-12-23",
                    "2022-12-24",
                    "2022-12-25",
                    "2022-12-26",
                    "2022-12-27",
                    "2022-12-28",
                    "2022-12-29",
                    "2022-12-30",
                    "2022-12-31",
                    "2023-01-01",
                    "2023-01-02",
                    "2023-01-03",
                    "2023-01-04",
                    "2023-01-05",
                    "2023-01-06",
                    "2023-01-07",
                    "2023-01-08",
                    "2023-01-09",
                    "2023-01-10",
                    "2023-01-11",
                    "2023-01-12",
                    "2023-01-13",
                    "2023-01-14",
                    "2023-01-15",
                    "2023-01-16",
                    "2023-01-17",
                    "2023-01-18",
                    "2023-01-19",
                    "2023-01-20",
                    "2023-01-21",
                    "2023-01-22",
                    "2023-01-23",
                    "2023-01-24",
                    "2023-01-25",
                    "2023-01-26",
                    "2023-01-27",
                    "2023-01-28",
                    "2023-01-29",
                    "2023-01-30",
                    "2023-01-31",
                    "2023-02-01",
                    "2023-02-02",
                    "2023-02-03",
                    "2023-02-04",
                    "2023-02-05",
                    "2023-02-06",
                    "2023-02-07",
                    "2023-02-08",
                    "2023-02-09",
                    "2023-02-10",
                    "2023-02-11",
                    "2023-02-12",
                    "2023-02-13",
                    "2023-02-14",
                    "2023-02-15",
                    "2023-02-16",
                    "2023-02-17",
                    "2023-02-18",
                    "2023-02-19",
                    "2023-02-20",
                    "2023-02-21",
                    "2023-02-22",
                    "2023-02-23",
                    "2023-02-24",
                    "2023-02-25",
                    "2023-02-26",
                    "2023-02-27",
                    "2023-02-28",
                    "2023-03-01",
                    "2023-03-02",
                    "2023-03-03",
                    "2023-03-04",
                    "2023-03-05",
                    "2023-03-06",
                    "2023-03-07",
                    "2023-03-08",
                    "2023-03-09",
                    "2023-03-10",
                    "2023-03-11",
                    "2023-03-12",
                    "2023-03-13",
                    "2023-03-14",
                    "2023-03-15",
                    "2023-03-16",
                    "2023-03-17",
                    "2023-03-18",
                    "2023-03-19",
                    "2023-03-20",
                    "2023-03-21",
                    "2023-03-22",
                    "2023-03-23",
                    "2023-03-24",
                    "2023-03-25",
                    "2023-03-26",
                    "2023-03-27",
                    "2023-03-28",
                    "2023-03-29",
                    "2023-03-30",
                    "2023-03-31",
                    "2023-04-01",
                    "2023-04-02",
                    "2023-04-03",
                    "2023-04-04",
                    "2023-04-05",
                    "2023-04-06",
                    "2023-04-07",
                    "2023-04-08",
                    "2023-04-09",
                    "2023-04-10",
                    "2023-04-11",
                    "2023-04-12",
                    "2023-04-13",
                    "2023-04-14",
                    "2023-04-15",
                    "2023-04-16",
                    "2023-04-17",
                    "2023-04-18",
                    "2023-04-19",
                    "2023-04-20",
                    "2023-04-21",
                    "2023-04-22",
                    "2023-04-23",
                    "2023-04-24",
                    "2023-04-25",
                    "2023-04-26",
                    "2023-04-27",
                    "2023-04-28",
                    "2023-04-29",
                    "2023-04-30",
                    "2023-05-01",
                    "2023-05-02",
                    "2023-05-03",
                    "2023-05-04",
                    "2023-05-05",
                    "2023-05-06",
                    "2023-05-07",
                    "2023-05-08",
                    "2023-05-09",
                    "2023-05-10",
                    "2023-05-11",
                    "2023-05-12",
                    "2023-05-13",
                    "2023-05-14",
                    "2023-05-15",
                    "2023-05-16",
                    "2023-05-17",
                    "2023-05-18",
                    "2023-05-19",
                    "2023-05-20",
                    "2023-05-21",
                    "2023-05-22",
                    "2023-05-23",
                    "2023-05-24",
                    "2023-05-25",
                    "2023-05-26",
                    "2023-05-27",
                    "2023-05-28",
                    "2023-05-29",
                    "2023-05-30",
                    "2023-05-31",
                    "2023-06-01",
                    "2023-06-02",
                    "2023-06-03",
                    "2023-06-04",
                    "2023-06-05",
                    "2023-06-06",
                    "2023-06-07",
                    "2023-06-08",
                    "2023-06-09",
                    "2023-06-10",
                    "2023-06-11",
                    "2023-06-12",
                    "2023-06-13",
                    "2023-06-14",
                    "2023-06-15",
                    "2023-06-16",
                    "2023-06-17",
                    "2023-06-18",
                    "2023-06-19",
                    "2023-06-20",
                    "2023-06-21",
                    "2023-06-22",
                    "2023-06-23",
                    "2023-06-24",
                    "2023-06-25",
                    "2023-06-26",
                    "2023-06-27",
                    "2023-06-28",
                    "2023-06-29",
                    "2023-06-30",
                    "2023-07-01",
                    "2023-07-02",
                    "2023-07-03",
                    "2023-07-04",
                    "2023-07-05",
                    "2023-07-06",
                    "2023-07-07",
                    "2023-07-08",
                    "2023-07-09",
                    "2023-07-10",
                    "2023-07-11",
                    "2023-07-12",
                    "2023-07-13",
                    "2023-07-14",
                    "2023-07-15",
                    "2023-07-16",
                    "2023-07-17",
                    "2023-07-18",
                    "2023-07-19",
                    "2023-07-20",
                    "2023-07-21",
                    "2023-07-22",
                    "2023-07-23",
                    "2023-07-24",
                    "2023-07-25",
                    "2023-07-26",
                    "2023-07-27",
                    "2023-07-28",
                    "2023-07-29",
                    "2023-07-30",
                    "2023-07-31",
                    "2023-08-01",
                    "2023-08-02",
                    "2023-08-03",
                    "2023-08-04",
                    "2023-08-05",
                    "2023-08-06",
                    "2023-08-07",
                    "2023-08-08",
                    "2023-08-09",
                    "2023-08-10",
                    "2023-08-11",
                    "2023-08-12",
                    "2023-08-13",
                    "2023-08-14",
                    "2023-08-15",
                    "2023-08-16",
                    "2023-08-17",
                    "2023-08-18",
                    "2023-08-19",
                    "2023-08-20",
                    "2023-08-21",
                    "2023-08-22",
                    "2023-08-23",
                    "2023-08-24",
                    "2023-08-25",
                    "2023-08-26",
                    "2023-08-27",
                    "2023-08-28",
                    "2023-08-29",
                    "2023-08-30",
                    "2023-08-31",
                    "2023-09-01",
                    "2023-09-02",
                    "2023-09-03",
                    "2023-09-04",
                    "2023-09-05",
                    "2023-09-06",
                    "2023-09-07",
                    "2023-09-08",
                    "2023-09-09",
                    "2023-09-10",
                    "2023-09-11",
                    "2023-09-12",
                    "2023-09-13",
                    "2023-09-14",
                    "2023-09-15",
                    "2023-09-16",
                    "2023-09-17",
                    "2023-09-18",
                    "2023-09-19",
                    "2023-09-20",
                    "2023-09-21",
                    "2023-09-22",
                    "2023-09-23",
                    "2023-09-24",
                    "2023-09-25",
                    "2023-09-26",
                    "2023-09-27",
                    "2023-09-28",
                    "2023-09-29",
                    "2023-09-30",
                    "2023-10-01",
                    "2023-10-02",
                    "2023-10-03",
                    "2023-10-04",
                    "2023-10-05",
                    "2023-10-06",
                    "2023-10-07",
                    "2023-10-08",
                    "2023-10-09",
                    "2023-10-10",
                    "2023-10-11",
                    "2023-10-12",
                    "2023-10-13",
                    "2023-10-14",
                    "2023-10-15",
                    "2023-10-16",
                    "2023-10-17",
                    "2023-10-18",
                    "2023-10-19",
                    "2023-10-20",
                    "2023-10-21",
                    "2023-10-22",
                    "2023-10-23",
                    "2023-10-24",
                    "2023-10-25",
                    "2023-10-26",
                    "2023-10-27",
                    "2023-10-28",
                    "2023-10-29",
                    "2023-10-30",
                    "2023-10-31",
                    "2023-11-01",
                    "2023-11-02",
                    "2023-11-03",
                    "2023-11-04",
                    "2023-11-05",
                    "2023-11-06",
                    "2023-11-07",
                    "2023-11-08",
                    "2023-11-09",
                    "2023-11-10",
                    "2023-11-11",
                    "2023-11-12",
                    "2023-11-13",
                    "2023-11-14",
                    "2023-11-15",
                    "2023-11-16",
                    "2023-11-17",
                    "2023-11-18",
                    "2023-11-19",
                    "2023-11-20",
                    "2023-11-21",
                    "2023-11-22",
                    "2023-11-23",
                    "2023-11-24",
                    "2023-11-25",
                    "2023-11-26",
                    "2023-11-27",
                    "2023-11-28",
                    "2023-11-29",
                    "2023-11-30",
                    "2023-12-01",
                    "2023-12-02",
                    "2023-12-03",
                    "2023-12-04",
                    "2023-12-05",
                    "2023-12-06",
                    "2023-12-07",
                    "2023-12-08",
                    "2023-12-09",
                    "2023-12-10",
                    "2023-12-11",
                    "2023-12-12",
                    "2023-12-13",
                    "2023-12-14",
                    "2023-12-15",
                    "2023-12-16",
                    "2023-12-17",
                    "2023-12-18",
                    "2023-12-19",
                    "2023-12-20",
                    "2023-12-21",
                    "2023-12-22",
                    "2023-12-23",
                    "2023-12-24",
                    "2023-12-25",
                    "2023-12-26",
                    "2023-12-27",
                    "2023-12-28",
                    "2023-12-29",
                    "2023-12-30",
                    "2023-12-31",
                    "2024-01-01",
                    "2024-01-02",
                    "2024-01-03",
                    "2024-01-04",
                    "2024-01-05",
                    "2024-01-06",
                    "2024-01-07",
                    "2024-01-08",
                    "2024-01-09",
                    "2024-01-10",
                    "2024-01-11",
                    "2024-01-12",
                    "2024-01-13",
                    "2024-01-14",
                    "2024-01-15",
                    "2024-01-16",
                    "2024-01-17",
                    "2024-01-18",
                    "2024-01-19",
                    "2024-01-20",
                    "2024-01-21",
                    "2024-01-22",
                    "2024-01-23",
                    "2024-01-24",
                    "2024-01-25",
                    "2024-01-26",
                    "2024-01-27",
                    "2024-01-28",
                    "2024-01-29",
                    "2024-01-30",
                    "2024-01-31",
                    "2024-02-01",
                    "2024-02-02",
                    "2024-02-03",
                    "2024-02-04",
                    "2024-02-05",
                    "2024-02-06",
                    "2024-02-07",
                    "2024-02-08"
                  ],
                  "xaxis": "x",
                  "y": [
                    1724.8550043702123,
                    1711.2755423188207,
                    1702.4866358265278,
                    1695.596131287515,
                    1689.2767537012694,
                    1683.2113900855181,
                    1677.3727668747304,
                    1671.7456293627617,
                    1666.2950766310094,
                    1660.9777714461086,
                    1655.7576572299001,
                    1650.6069981530306,
                    1645.5081126242874,
                    1640.4484039545057,
                    1635.419435828924,
                    1630.4205148518083,
                    1625.4490985721347,
                    1620.5014888793228,
                    1615.5783791691063,
                    1610.679538309574,
                    1605.8040417730806,
                    1600.9525829553602,
                    1596.1223882734773,
                    1591.3128798976538,
                    1586.5216309428213,
                    1581.750143766403,
                    1576.9969160109756,
                    1572.2605608850715,
                    1567.5408472567794,
                    1562.83696616441,
                    1558.1499577015636,
                    1553.4788973405955,
                    1548.824940741062,
                    1544.1884346008299,
                    1539.5697256177662,
                    1534.9702005833385,
                    1530.389859497547,
                    1525.8296268880365,
                    1521.292160771787,
                    1516.7766521871088,
                    1512.2824077382681,
                    1507.8096585571764,
                    1503.3592136055229,
                    1498.9311884492633,
                    1494.5278944075105,
                    1490.1473668590186,
                    1485.7934194803236,
                    1481.4657055735586,
                    1477.167634334415,
                    1472.899090196937,
                    1468.659726463258,
                    1464.451045490801,
                    1460.2726427987216,
                    1456.124980650842,
                    1452.0064411237834,
                    1447.9165041707454,
                    1443.8563832342622,
                    1439.8267717100678,
                    1435.8293453045187,
                    1431.8623705282805,
                    1427.9270608238874,
                    1424.0224338807163,
                    1420.1498187072573,
                    1416.3088108226655,
                    1412.5001614056525,
                    1408.7235237583516,
                    1404.9788978807626,
                    1401.2665726877747,
                    1397.58649039641,
                    1393.9389977045355,
                    1390.3235745653508,
                    1386.7406832426784,
                    1383.1896303407846,
                    1379.6715715192256,
                    1376.1852933354673,
                    1372.7315469682214,
                    1369.309639021754,
                    1365.920262891799,
                    1362.5627829656003,
                    1359.2377192899582,
                    1355.9443206861613,
                    1352.682702720165,
                    1349.4530965238807,
                    1346.255328748375,
                    1343.0893416106699,
                    1339.9544994980095,
                    1336.851322457194,
                    1333.7795215733347,
                    1330.7389234974978,
                    1327.7295282296834,
                    1324.7511046379802,
                    1321.8033638074992,
                    1318.8866524361072,
                    1316.000392694026,
                    1313.1444112323222,
                    1310.3190547488628,
                    1307.5238031968472,
                    1304.7587143592534,
                    1302.023268189281,
                    1299.3175224699078,
                    1296.6415349841116,
                    1293.9948434680698,
                    1291.3773323558269,
                    1288.7888282984493,
                    1286.2295624278484,
                    1283.6986679993568,
                    1281.1963761448858,
                    1278.7223401665685,
                    1276.2767334133384,
                    1273.8588624894617,
                    1271.4687273949382,
                    1269.106385912746,
                    1266.77143356204,
                    1264.4635814279316,
                    1262.1827717274425,
                    1259.928657762706,
                    1257.7011239677665,
                    1255.5002281256018,
                    1253.3251612745223,
                    1251.1763278953729,
                    1249.053265724331,
                    1246.9557436294851,
                    1244.883588261902,
                    1242.8362795747814,
                    1240.8140487000344,
                    1238.816606722772,
                    1236.8435491621492,
                    1234.8947604522107,
                    1232.9701828099785,
                    1231.0692961886523,
                    1229.1921583712099,
                    1227.3384226597843,
                    1225.5078001394866,
                    1223.7002330273388,
                    1221.915374625474,
                    1220.1530515849588,
                    1218.4131483398376,
                    1216.6953181922433,
                    1214.9992144443092,
                    1213.3247793130574,
                    1211.672012798488,
                    1210.0403948538003,
                    1208.4296943470833,
                    1206.8399690613148,
                    1205.2707567326722,
                    1203.7219417951999,
                    1202.1933508999643,
                    1200.6846373490987,
                    1199.195743359625,
                    1197.7263800166545,
                    1196.2760850563643,
                    1194.8450896106658,
                    1193.43310476467,
                    1192.039668254554,
                    1190.6647222973404,
                    1189.3080935440955,
                    1187.9694930799303,
                    1186.6489786878226,
                    1185.3459147550163,
                    1184.0602434985337,
                    1182.7920227013526,
                    1181.5407900996504,
                    1180.306603476405,
                    1179.0889427848158,
                    1177.8878658078609,
                    1176.7029680646954,
                    1175.5344229042528,
                    1174.3814791478214,
                    1173.244541276246,
                    1172.1230314597485,
                    1171.0167763493953,
                    1169.9257181622086,
                    1168.8497413322327,
                    1167.7884991616008,
                    1166.7418760843573,
                    1165.7097565345464,
                    1164.6917938143013,
                    1163.6882190555332,
                    1162.6983966454861,
                    1161.722037669271,
                    1160.7596043907104,
                    1159.8105767630038,
                    1158.8746658712623,
                    1157.9518717154858,
                    1157.0419053807852,
                    1156.1448246501384,
                    1155.2602250427005,
                    1154.3880487754939,
                    1153.5281802825627,
                    1152.6805617809293,
                    1151.844731006771,
                    1151.0206301771102,
                    1150.2083170749245,
                    1149.4075605683026,
                    1148.6178406104443,
                    1147.8395616821942,
                    1147.0724348686633,
                    1146.3159401230512,
                    1145.570366360247,
                    1144.8353668823836,
                    1144.1108839064834,
                    1143.3968018665907,
                    1142.6928318478165,
                    1141.9990316331384,
                    1141.314938958734,
                    1140.6410160884259,
                    1139.9764540605245,
                    1139.321484006941,
                    1138.6758747957645,
                    1138.0398575589059,
                    1137.412854466587,
                    1136.7946921698747,
                    1136.1857173666356,
                    1135.5853522270916,
                    1134.993770100176,
                    1134.410682071,
                    1133.8361459225414,
                    1133.2697571739552,
                    1132.7118047401307,
                    1132.1617685742674,
                    1131.6198798082767,
                    1131.0857917442916,
                    1130.5592732504008,
                    1130.0406710244713,
                    1129.5295805856583,
                    1129.0258863680062,
                    1128.5294728055594,
                    1128.0403976812956,
                    1127.5584876462815,
                    1127.0836849175391,
                    1126.6157005801795,
                    1126.1545924171803,
                    1125.7003026455639,
                    1125.2524845674632,
                    1124.8113115318117,
                    1124.376956887543,
                    1123.9484961070118,
                    1123.5265648029742,
                    1123.1108162775633,
                    1122.7011349648235,
                    1122.2975786477325,
                    1121.8998006284235,
                    1121.507916472852,
                    1121.1218683980403,
                    1120.7415986210106,
                    1120.3668182268736,
                    1119.997700564563,
                    1119.6339567191897,
                    1119.2756444737313,
                    1118.9225904792545,
                    1118.5747369527814,
                    1118.2319683283565,
                    1117.8944001719353,
                    1117.5618013516066,
                    1117.2341140843926,
                    1116.9112805873153,
                    1116.5931852944193,
                    1116.2798859886823,
                    1115.971151538193,
                    1115.667097508907,
                    1115.367608334869,
                    1115.072510667145,
                    1114.7818622887132,
                    1114.4953742846844,
                    1114.21327778697,
                    1113.9355150125918,
                    1113.6617392636833,
                    1113.3920661062,
                    1113.1262644082306,
                    1112.8647386506198,
                    1112.6069687865672,
                    1112.3530125990508,
                    1112.1028123050926,
                    1111.8564834706483,
                    1111.613679397851,
                    1111.3745156526563,
                    1111.139050018042,
                    1110.9069357961414,
                    1110.6783463358877,
                    1110.4532238543031,
                    1110.231452785432,
                    1110.012917563319,
                    1109.7977915368972,
                    1109.586016923189,
                    1109.377015892416,
                    1109.1714240573344,
                    1108.9688369370995,
                    1108.769312314689,
                    1108.5727346241472,
                    1108.3792772144077,
                    1108.1885933876035,
                    1108.0007987096903,
                    1107.8157776147125,
                    1107.63353010267,
                    1107.454287305474,
                    1107.277355827391,
                    1107.1034290641544,
                    1106.9318136200307,
                    1106.7629717588422,
                    1106.5967879146335,
                    1106.4327420406041,
                    1106.27146974951,
                    1106.1123354285953,
                    1105.9558591246603,
                    1105.801694139838,
                    1105.6497826911507,
                    1105.5000669956205,
                    1105.3528937511144,
                    1105.2076273448763,
                    1105.0646144747732,
                    1104.9240862727163,
                    1104.785291559994,
                    1104.6487503834067,
                    1104.5141738280652,
                    1104.381735242903,
                    1104.2512034960089,
                    1104.1227519363163,
                    1103.9961494319139,
                    1103.8715115487573,
                    1103.7487805038688,
                    1103.6278407312927,
                    1103.5087500140069,
                    1103.3914505690334,
                    1103.2759423963723,
                    1103.1622254960237,
                    1103.0502998679874,
                    1102.9398765973745,
                    1102.8309556841848,
                    1102.7241149581967,
                    1102.618718806654,
                    1102.5148827955124,
                    1102.412606924772,
                    1102.311833411455,
                    1102.212620038539,
                    1102.115024589002,
                    1102.0187581479547,
                    1101.9238784983752,
                    1101.8307323381302,
                    1101.7387996204195,
                    1101.6481959111986,
                    1101.5591523423789,
                    1101.4712066501377,
                    1101.3848788812754,
                    1101.2997067719696,
                    1101.2158058881757,
                    1101.133176229894,
                    1101.0519333630798,
                    1100.971846155822,
                    1100.8929723910985,
                    1100.8153120689092,
                    1100.7387496232984,
                    1100.6634584031997,
                    1100.5891494937239,
                    1100.5160540267823,
                    1100.444172002375,
                    1100.3732145056126,
                    1100.3034126684067,
                    1100.2347087077794,
                    1100.1669292747972,
                    1100.1003055013714,
                    1100.034490689635,
                    1099.969889320433,
                    1099.906154695898,
                    1099.8434023819862,
                    1099.7817479446528,
                    1099.7208446860311,
                    1099.6608659550545,
                    1099.6020428836343,
                    1099.543913207948,
                    1099.4867080599067,
                    1099.430311873555,
                    1099.374897997826,
                    1099.3202930837867,
                    1099.266439348459,
                    1099.2135101407764,
                    1099.1612743288276,
                    1099.1098474785683,
                    1099.0592295899985,
                    1099.0094206631181,
                    1098.9603629149494,
                    1098.9119407795367,
                    1098.8643276058135,
                    1098.817465610802,
                    1098.7712970115242,
                    1098.7257640250025,
                    1098.681097783148,
                    1098.6368360221384,
                    1098.5935565717516,
                    1098.5507393851874,
                    1098.5085578113792,
                    1098.4671274162827,
                    1098.4263326339421,
                    1098.3861156813798,
                    1098.3464187756178,
                    1098.3074152655897,
                    1098.2689895853398,
                    1098.2312573008237,
                    1098.1938717141745,
                    1098.1572950892148,
                    1098.1211807280777,
                    1098.0855864137409,
                    1098.0505699291823,
                    1098.0160157084463,
                    1097.982154883444,
                    1097.9486407563088,
                    1097.9158778078852,
                    1097.8834037743507,
                    1097.851276438683,
                    1097.819900281727,
                    1097.788870822638,
                    1097.7583614103494,
                    1097.7282564789055,
                    1097.6989027261732,
                    1097.6696645393965,
                    1097.6409463994203,
                    1097.6126327402887,
                    1097.5848969109354,
                    1097.5574499964712,
                    1097.5305231288073,
                    1097.5039429590104,
                    1097.477825053036,
                    1097.4520538449285,
                    1097.426629334688,
                    1097.40166708827,
                    1097.3770515397189,
                    1097.3527826890347,
                    1097.328976102173,
                    1097.3052850812671,
                    1097.2821718901394,
                    1097.2594053968785,
                    1097.2369856014845,
                    1097.2149702869353,
                    1097.1930705383418,
                    1097.171575270593,
                    1097.1505422666667,
                    1097.1297403946517,
                    1097.109169654548,
                    1097.0890611782668,
                    1097.069183833897,
                    1097.049595404416,
                    1097.0303536728022,
                    1097.0114008560774,
                    1096.9925636053083,
                    1096.9742464013395,
                    1096.9561025463042,
                    1096.9383631721137,
                    1096.920623797923,
                    1096.9034622535107,
                    1096.8865896239874,
                    1096.8697169944642,
                    1096.8531910628078,
                    1096.8368962630627,
                    1096.8208903782067,
                    1096.8050578422842,
                    1096.7896297872064,
                    1096.77443286404,
                    1096.759351506829,
                    1096.744327932596,
                    1096.7298244051633,
                    1096.715494226664,
                    1096.7013951800761,
                    1096.687353916466,
                    1096.673601567745,
                    1096.6600803509352,
                    1096.6468480490146,
                    1096.6337313130496,
                    1096.620787926018,
                    1096.6080756708977,
                    1096.5957101136444,
                    1096.5832289904354,
                    1096.571210131049,
                    1096.5591912716625,
                    1096.5473457612095,
                    1096.5357313826678,
                    1096.5245214849708,
                    1096.5130804553626,
                    1096.5019861236212,
                    1096.4912384897468,
                    1096.4803752899168,
                    1096.4698587879536,
                    1096.4594000689683,
                    1096.4490569159386,
                    1096.4390604607759,
                    1096.429121788591,
                    1096.4192408993838,
                    1096.4096489250658,
                    1096.4001725167034,
                    1096.3908694572744,
                    1096.3815663978455,
                    1096.3725522533057,
                    1096.3635381087659,
                    1096.354870662093,
                    1096.3460876494644,
                    1096.3376513347027,
                    1096.3290994539855,
                    1096.320952054113,
                    1096.3126890882847,
                    1096.3048306033013,
                    1096.2968565523622,
                    1096.2889980673788,
                    1096.2814862802622,
                    1096.273916710168,
                    1096.2663471400735,
                    1096.2590087018905,
                    1096.2519013956187,
                    1096.2448518723247,
                    1096.2378023490307,
                    1096.2308683916924,
                    1096.2241655662654,
                    1096.2174627408383,
                    1096.2111066132782,
                    1096.2045193538067,
                    1096.1981054432688,
                    1096.1918070986865,
                    1096.1857398860154,
                    1096.1795571073887,
                    1096.1736632436512,
                    1096.167653813958,
                    1096.161875516176,
                    1096.1562127843497,
                    1096.1505500525234,
                    1096.1450028866527,
                    1096.1395712867377,
                    1096.1340819038448,
                    1096.1288236528633,
                    1096.1237387508152,
                    1096.1185960657892,
                    1096.1134533807633,
                    1096.1084840446708,
                    1096.1035147085784,
                    1096.0988920703528,
                    1096.0940960831938,
                    1096.0894156619904,
                    1096.0847930237649,
                    1096.0803437344728,
                    1096.0758366622028,
                    1096.0715607218442,
                    1096.0672269985077,
                    1096.062951058149,
                    1096.058790683746,
                    1096.054630309343,
                    1096.0505855008957,
                    1096.0464829094706,
                    1096.0426114499567,
                    1096.038682207465,
                    1096.0347529649732,
                    1096.0310548543928,
                    1096.0273567438123,
                    1096.0237164162097,
                    1096.0201916545627,
                    1096.016609109938,
                    1096.013026565313,
                    1096.0097907185552,
                    1096.0062659569082,
                    1096.0029723271725,
                    1095.9997942633925,
                    1095.996385067701,
                    1095.9932647868989,
                    1095.9901445060966,
                    1095.9870820082722,
                    1095.9840195104478,
                    1095.9810147956011,
                    1095.9780100807545,
                    1095.9751209318636,
                    1095.9722317829726,
                    1095.9694004170594,
                    1095.966684617102,
                    1095.963795468211,
                    1095.9611374512313,
                    1095.9584794342516,
                    1095.9559947662053,
                    1095.9533945322034,
                    1095.9509098641572,
                    1095.948425196111,
                    1095.9459983110426,
                    1095.9435136429963,
                    1095.9412601068614,
                    1095.938833221793,
                    1095.9365219026802,
                    1095.9342105835674,
                    1095.9320148304103,
                    1095.9297612942753,
                    1095.927623324096,
                    1095.9254853539167,
                    1095.9233473837373,
                    1095.9212671965358,
                    1095.91930257529,
                    1095.9173379540441,
                    1095.9153155498204,
                    1095.9134664945302,
                    1095.9114440903065,
                    1095.9095950350163,
                    1095.907745979726,
                    1095.9058969244359,
                    1095.9040478691456,
                    1095.902314379811,
                    1095.9006386734543,
                    1095.898847401142,
                    1095.8971139118073,
                    1095.8955537714062,
                    1095.893993631005,
                    1095.8922601416705,
                    1095.8907000012694,
                    1095.8891398608682,
                    1095.887637503445,
                    1095.8860773630438,
                    1095.8845750056205,
                    1095.883130431175,
                    1095.8816280737517,
                    1095.880241282284,
                    1095.8787389248607,
                    1095.8774676993487,
                    1095.876080907881,
                    1095.874809682369,
                    1095.8734228909013,
                    1095.8721516653893,
                    1095.8707648739216,
                    1095.8696092143653,
                    1095.8683379888532,
                    1095.8670667633412,
                    1095.8660266697404,
                    1095.8648132272062,
                    1095.8635420016942,
                    1095.8623863421378,
                    1095.861346248537,
                    1095.8602483719585,
                    1095.8590927124021,
                    1095.8580526188014,
                    1095.8569547422228,
                    1095.8560302145777,
                    1095.8549323379991,
                    1095.8538922443984,
                    1095.8528521507976,
                    1095.8518698401747,
                    1095.8508875295518,
                    1095.849847435951,
                    1095.8488073423503,
                    1095.8478828147051,
                    1095.84695828706,
                    1095.845975976437,
                    1095.8451092317698,
                    1095.8441847041247,
                    1095.8433757424352,
                    1095.8425667807458,
                    1095.8417578190563,
                    1095.8409488573668,
                    1095.8401398956773,
                    1095.8394464999435,
                    1095.8386953212319,
                    1095.8378863595424,
                    1095.8371351808307,
                    1095.836441785097,
                    1095.835748389363,
                    1095.8349394276736,
                    1095.8342460319398,
                    1095.833552636206,
                    1095.832859240472,
                    1095.8321658447383,
                    1095.83158801496,
                    1095.8308946192262,
                    1095.830316789448,
                    1095.8295656107364,
                    1095.8289299979804,
                    1095.8283521682022,
                    1095.8276587724683,
                    1095.8270809426901,
                    1095.826503112912,
                    1095.8258097171781,
                    1095.8253474533556,
                    1095.8247696235774,
                    1095.8241917937992,
                    1095.8234983980653,
                    1095.8231517001984,
                    1095.8225738704202,
                    1095.8220538236199,
                    1095.8215337768195,
                    1095.821013730019,
                    1095.8204936832187,
                    1095.8199736364184,
                    1095.8195113725958,
                    1095.8189913257954,
                    1095.8185290619729,
                    1095.8180667981503,
                    1095.8177201002834,
                    1095.8172578364608,
                    1095.8166800066826,
                    1095.816275525838,
                    1095.8157554790375,
                    1095.8154665641484,
                    1095.8148887343702,
                    1095.8144264705477,
                    1095.8139642067251,
                    1095.8135597258804,
                    1095.8132130280135,
                    1095.8128085471687,
                    1095.812404066324,
                    1095.8119418025015,
                    1095.8115951046345,
                    1095.8112484067676,
                    1095.810786142945,
                    1095.810497228056,
                    1095.8100927472112,
                    1095.8098038323221,
                    1095.8093993514774,
                    1095.8090526536105,
                    1095.8087059557436,
                    1095.8084748238323,
                    1095.8080703429875,
                    1095.807896994054,
                    1095.807608079165,
                    1095.8072035983203,
                    1095.806972466409,
                    1095.8067413344977,
                    1095.8065102025864,
                    1095.8060479387639,
                    1095.8057590238748,
                    1095.8055856749413,
                    1095.8054123260079,
                    1095.8050078451631,
                    1095.8048344962297,
                    1095.8046033643184,
                    1095.804372232407,
                    1095.804083317518,
                    1095.8038521856067,
                    1095.803736619651,
                    1095.8035054877398,
                    1095.8033321388064,
                    1095.803101006895,
                    1095.8029276579616,
                    1095.8025809600947
                  ],
                  "yaxis": "y"
                }
              ],
              "layout": {
                "legend": {
                  "tracegroupgap": 0
                },
                "margin": {
                  "t": 60
                },
                "template": {
                  "data": {
                    "bar": [
                      {
                        "error_x": {
                          "color": "#2a3f5f"
                        },
                        "error_y": {
                          "color": "#2a3f5f"
                        },
                        "marker": {
                          "line": {
                            "color": "#E5ECF6",
                            "width": 0.5
                          },
                          "pattern": {
                            "fillmode": "overlay",
                            "size": 10,
                            "solidity": 0.2
                          }
                        },
                        "type": "bar"
                      }
                    ],
                    "barpolar": [
                      {
                        "marker": {
                          "line": {
                            "color": "#E5ECF6",
                            "width": 0.5
                          },
                          "pattern": {
                            "fillmode": "overlay",
                            "size": 10,
                            "solidity": 0.2
                          }
                        },
                        "type": "barpolar"
                      }
                    ],
                    "carpet": [
                      {
                        "aaxis": {
                          "endlinecolor": "#2a3f5f",
                          "gridcolor": "white",
                          "linecolor": "white",
                          "minorgridcolor": "white",
                          "startlinecolor": "#2a3f5f"
                        },
                        "baxis": {
                          "endlinecolor": "#2a3f5f",
                          "gridcolor": "white",
                          "linecolor": "white",
                          "minorgridcolor": "white",
                          "startlinecolor": "#2a3f5f"
                        },
                        "type": "carpet"
                      }
                    ],
                    "choropleth": [
                      {
                        "colorbar": {
                          "outlinewidth": 0,
                          "ticks": ""
                        },
                        "type": "choropleth"
                      }
                    ],
                    "contour": [
                      {
                        "colorbar": {
                          "outlinewidth": 0,
                          "ticks": ""
                        },
                        "colorscale": [
                          [
                            0,
                            "#0d0887"
                          ],
                          [
                            0.1111111111111111,
                            "#46039f"
                          ],
                          [
                            0.2222222222222222,
                            "#7201a8"
                          ],
                          [
                            0.3333333333333333,
                            "#9c179e"
                          ],
                          [
                            0.4444444444444444,
                            "#bd3786"
                          ],
                          [
                            0.5555555555555556,
                            "#d8576b"
                          ],
                          [
                            0.6666666666666666,
                            "#ed7953"
                          ],
                          [
                            0.7777777777777778,
                            "#fb9f3a"
                          ],
                          [
                            0.8888888888888888,
                            "#fdca26"
                          ],
                          [
                            1,
                            "#f0f921"
                          ]
                        ],
                        "type": "contour"
                      }
                    ],
                    "contourcarpet": [
                      {
                        "colorbar": {
                          "outlinewidth": 0,
                          "ticks": ""
                        },
                        "type": "contourcarpet"
                      }
                    ],
                    "heatmap": [
                      {
                        "colorbar": {
                          "outlinewidth": 0,
                          "ticks": ""
                        },
                        "colorscale": [
                          [
                            0,
                            "#0d0887"
                          ],
                          [
                            0.1111111111111111,
                            "#46039f"
                          ],
                          [
                            0.2222222222222222,
                            "#7201a8"
                          ],
                          [
                            0.3333333333333333,
                            "#9c179e"
                          ],
                          [
                            0.4444444444444444,
                            "#bd3786"
                          ],
                          [
                            0.5555555555555556,
                            "#d8576b"
                          ],
                          [
                            0.6666666666666666,
                            "#ed7953"
                          ],
                          [
                            0.7777777777777778,
                            "#fb9f3a"
                          ],
                          [
                            0.8888888888888888,
                            "#fdca26"
                          ],
                          [
                            1,
                            "#f0f921"
                          ]
                        ],
                        "type": "heatmap"
                      }
                    ],
                    "heatmapgl": [
                      {
                        "colorbar": {
                          "outlinewidth": 0,
                          "ticks": ""
                        },
                        "colorscale": [
                          [
                            0,
                            "#0d0887"
                          ],
                          [
                            0.1111111111111111,
                            "#46039f"
                          ],
                          [
                            0.2222222222222222,
                            "#7201a8"
                          ],
                          [
                            0.3333333333333333,
                            "#9c179e"
                          ],
                          [
                            0.4444444444444444,
                            "#bd3786"
                          ],
                          [
                            0.5555555555555556,
                            "#d8576b"
                          ],
                          [
                            0.6666666666666666,
                            "#ed7953"
                          ],
                          [
                            0.7777777777777778,
                            "#fb9f3a"
                          ],
                          [
                            0.8888888888888888,
                            "#fdca26"
                          ],
                          [
                            1,
                            "#f0f921"
                          ]
                        ],
                        "type": "heatmapgl"
                      }
                    ],
                    "histogram": [
                      {
                        "marker": {
                          "pattern": {
                            "fillmode": "overlay",
                            "size": 10,
                            "solidity": 0.2
                          }
                        },
                        "type": "histogram"
                      }
                    ],
                    "histogram2d": [
                      {
                        "colorbar": {
                          "outlinewidth": 0,
                          "ticks": ""
                        },
                        "colorscale": [
                          [
                            0,
                            "#0d0887"
                          ],
                          [
                            0.1111111111111111,
                            "#46039f"
                          ],
                          [
                            0.2222222222222222,
                            "#7201a8"
                          ],
                          [
                            0.3333333333333333,
                            "#9c179e"
                          ],
                          [
                            0.4444444444444444,
                            "#bd3786"
                          ],
                          [
                            0.5555555555555556,
                            "#d8576b"
                          ],
                          [
                            0.6666666666666666,
                            "#ed7953"
                          ],
                          [
                            0.7777777777777778,
                            "#fb9f3a"
                          ],
                          [
                            0.8888888888888888,
                            "#fdca26"
                          ],
                          [
                            1,
                            "#f0f921"
                          ]
                        ],
                        "type": "histogram2d"
                      }
                    ],
                    "histogram2dcontour": [
                      {
                        "colorbar": {
                          "outlinewidth": 0,
                          "ticks": ""
                        },
                        "colorscale": [
                          [
                            0,
                            "#0d0887"
                          ],
                          [
                            0.1111111111111111,
                            "#46039f"
                          ],
                          [
                            0.2222222222222222,
                            "#7201a8"
                          ],
                          [
                            0.3333333333333333,
                            "#9c179e"
                          ],
                          [
                            0.4444444444444444,
                            "#bd3786"
                          ],
                          [
                            0.5555555555555556,
                            "#d8576b"
                          ],
                          [
                            0.6666666666666666,
                            "#ed7953"
                          ],
                          [
                            0.7777777777777778,
                            "#fb9f3a"
                          ],
                          [
                            0.8888888888888888,
                            "#fdca26"
                          ],
                          [
                            1,
                            "#f0f921"
                          ]
                        ],
                        "type": "histogram2dcontour"
                      }
                    ],
                    "mesh3d": [
                      {
                        "colorbar": {
                          "outlinewidth": 0,
                          "ticks": ""
                        },
                        "type": "mesh3d"
                      }
                    ],
                    "parcoords": [
                      {
                        "line": {
                          "colorbar": {
                            "outlinewidth": 0,
                            "ticks": ""
                          }
                        },
                        "type": "parcoords"
                      }
                    ],
                    "pie": [
                      {
                        "automargin": true,
                        "type": "pie"
                      }
                    ],
                    "scatter": [
                      {
                        "marker": {
                          "colorbar": {
                            "outlinewidth": 0,
                            "ticks": ""
                          }
                        },
                        "type": "scatter"
                      }
                    ],
                    "scatter3d": [
                      {
                        "line": {
                          "colorbar": {
                            "outlinewidth": 0,
                            "ticks": ""
                          }
                        },
                        "marker": {
                          "colorbar": {
                            "outlinewidth": 0,
                            "ticks": ""
                          }
                        },
                        "type": "scatter3d"
                      }
                    ],
                    "scattercarpet": [
                      {
                        "marker": {
                          "colorbar": {
                            "outlinewidth": 0,
                            "ticks": ""
                          }
                        },
                        "type": "scattercarpet"
                      }
                    ],
                    "scattergeo": [
                      {
                        "marker": {
                          "colorbar": {
                            "outlinewidth": 0,
                            "ticks": ""
                          }
                        },
                        "type": "scattergeo"
                      }
                    ],
                    "scattergl": [
                      {
                        "marker": {
                          "colorbar": {
                            "outlinewidth": 0,
                            "ticks": ""
                          }
                        },
                        "type": "scattergl"
                      }
                    ],
                    "scattermapbox": [
                      {
                        "marker": {
                          "colorbar": {
                            "outlinewidth": 0,
                            "ticks": ""
                          }
                        },
                        "type": "scattermapbox"
                      }
                    ],
                    "scatterpolar": [
                      {
                        "marker": {
                          "colorbar": {
                            "outlinewidth": 0,
                            "ticks": ""
                          }
                        },
                        "type": "scatterpolar"
                      }
                    ],
                    "scatterpolargl": [
                      {
                        "marker": {
                          "colorbar": {
                            "outlinewidth": 0,
                            "ticks": ""
                          }
                        },
                        "type": "scatterpolargl"
                      }
                    ],
                    "scatterternary": [
                      {
                        "marker": {
                          "colorbar": {
                            "outlinewidth": 0,
                            "ticks": ""
                          }
                        },
                        "type": "scatterternary"
                      }
                    ],
                    "surface": [
                      {
                        "colorbar": {
                          "outlinewidth": 0,
                          "ticks": ""
                        },
                        "colorscale": [
                          [
                            0,
                            "#0d0887"
                          ],
                          [
                            0.1111111111111111,
                            "#46039f"
                          ],
                          [
                            0.2222222222222222,
                            "#7201a8"
                          ],
                          [
                            0.3333333333333333,
                            "#9c179e"
                          ],
                          [
                            0.4444444444444444,
                            "#bd3786"
                          ],
                          [
                            0.5555555555555556,
                            "#d8576b"
                          ],
                          [
                            0.6666666666666666,
                            "#ed7953"
                          ],
                          [
                            0.7777777777777778,
                            "#fb9f3a"
                          ],
                          [
                            0.8888888888888888,
                            "#fdca26"
                          ],
                          [
                            1,
                            "#f0f921"
                          ]
                        ],
                        "type": "surface"
                      }
                    ],
                    "table": [
                      {
                        "cells": {
                          "fill": {
                            "color": "#EBF0F8"
                          },
                          "line": {
                            "color": "white"
                          }
                        },
                        "header": {
                          "fill": {
                            "color": "#C8D4E3"
                          },
                          "line": {
                            "color": "white"
                          }
                        },
                        "type": "table"
                      }
                    ]
                  },
                  "layout": {
                    "annotationdefaults": {
                      "arrowcolor": "#2a3f5f",
                      "arrowhead": 0,
                      "arrowwidth": 1
                    },
                    "autotypenumbers": "strict",
                    "coloraxis": {
                      "colorbar": {
                        "outlinewidth": 0,
                        "ticks": ""
                      }
                    },
                    "colorscale": {
                      "diverging": [
                        [
                          0,
                          "#8e0152"
                        ],
                        [
                          0.1,
                          "#c51b7d"
                        ],
                        [
                          0.2,
                          "#de77ae"
                        ],
                        [
                          0.3,
                          "#f1b6da"
                        ],
                        [
                          0.4,
                          "#fde0ef"
                        ],
                        [
                          0.5,
                          "#f7f7f7"
                        ],
                        [
                          0.6,
                          "#e6f5d0"
                        ],
                        [
                          0.7,
                          "#b8e186"
                        ],
                        [
                          0.8,
                          "#7fbc41"
                        ],
                        [
                          0.9,
                          "#4d9221"
                        ],
                        [
                          1,
                          "#276419"
                        ]
                      ],
                      "sequential": [
                        [
                          0,
                          "#0d0887"
                        ],
                        [
                          0.1111111111111111,
                          "#46039f"
                        ],
                        [
                          0.2222222222222222,
                          "#7201a8"
                        ],
                        [
                          0.3333333333333333,
                          "#9c179e"
                        ],
                        [
                          0.4444444444444444,
                          "#bd3786"
                        ],
                        [
                          0.5555555555555556,
                          "#d8576b"
                        ],
                        [
                          0.6666666666666666,
                          "#ed7953"
                        ],
                        [
                          0.7777777777777778,
                          "#fb9f3a"
                        ],
                        [
                          0.8888888888888888,
                          "#fdca26"
                        ],
                        [
                          1,
                          "#f0f921"
                        ]
                      ],
                      "sequentialminus": [
                        [
                          0,
                          "#0d0887"
                        ],
                        [
                          0.1111111111111111,
                          "#46039f"
                        ],
                        [
                          0.2222222222222222,
                          "#7201a8"
                        ],
                        [
                          0.3333333333333333,
                          "#9c179e"
                        ],
                        [
                          0.4444444444444444,
                          "#bd3786"
                        ],
                        [
                          0.5555555555555556,
                          "#d8576b"
                        ],
                        [
                          0.6666666666666666,
                          "#ed7953"
                        ],
                        [
                          0.7777777777777778,
                          "#fb9f3a"
                        ],
                        [
                          0.8888888888888888,
                          "#fdca26"
                        ],
                        [
                          1,
                          "#f0f921"
                        ]
                      ]
                    },
                    "colorway": [
                      "#636efa",
                      "#EF553B",
                      "#00cc96",
                      "#ab63fa",
                      "#FFA15A",
                      "#19d3f3",
                      "#FF6692",
                      "#B6E880",
                      "#FF97FF",
                      "#FECB52"
                    ],
                    "font": {
                      "color": "#2a3f5f"
                    },
                    "geo": {
                      "bgcolor": "white",
                      "lakecolor": "white",
                      "landcolor": "#E5ECF6",
                      "showlakes": true,
                      "showland": true,
                      "subunitcolor": "white"
                    },
                    "hoverlabel": {
                      "align": "left"
                    },
                    "hovermode": "closest",
                    "mapbox": {
                      "style": "light"
                    },
                    "paper_bgcolor": "white",
                    "plot_bgcolor": "#E5ECF6",
                    "polar": {
                      "angularaxis": {
                        "gridcolor": "white",
                        "linecolor": "white",
                        "ticks": ""
                      },
                      "bgcolor": "#E5ECF6",
                      "radialaxis": {
                        "gridcolor": "white",
                        "linecolor": "white",
                        "ticks": ""
                      }
                    },
                    "scene": {
                      "xaxis": {
                        "backgroundcolor": "#E5ECF6",
                        "gridcolor": "white",
                        "gridwidth": 2,
                        "linecolor": "white",
                        "showbackground": true,
                        "ticks": "",
                        "zerolinecolor": "white"
                      },
                      "yaxis": {
                        "backgroundcolor": "#E5ECF6",
                        "gridcolor": "white",
                        "gridwidth": 2,
                        "linecolor": "white",
                        "showbackground": true,
                        "ticks": "",
                        "zerolinecolor": "white"
                      },
                      "zaxis": {
                        "backgroundcolor": "#E5ECF6",
                        "gridcolor": "white",
                        "gridwidth": 2,
                        "linecolor": "white",
                        "showbackground": true,
                        "ticks": "",
                        "zerolinecolor": "white"
                      }
                    },
                    "shapedefaults": {
                      "line": {
                        "color": "#2a3f5f"
                      }
                    },
                    "ternary": {
                      "aaxis": {
                        "gridcolor": "white",
                        "linecolor": "white",
                        "ticks": ""
                      },
                      "baxis": {
                        "gridcolor": "white",
                        "linecolor": "white",
                        "ticks": ""
                      },
                      "bgcolor": "#E5ECF6",
                      "caxis": {
                        "gridcolor": "white",
                        "linecolor": "white",
                        "ticks": ""
                      }
                    },
                    "title": {
                      "x": 0.05
                    },
                    "xaxis": {
                      "automargin": true,
                      "gridcolor": "white",
                      "linecolor": "white",
                      "ticks": "",
                      "title": {
                        "standoff": 15
                      },
                      "zerolinecolor": "white",
                      "zerolinewidth": 2
                    },
                    "yaxis": {
                      "automargin": true,
                      "gridcolor": "white",
                      "linecolor": "white",
                      "ticks": "",
                      "title": {
                        "standoff": 15
                      },
                      "zerolinecolor": "white",
                      "zerolinewidth": 2
                    }
                  }
                },
                "xaxis": {
                  "anchor": "y",
                  "domain": [
                    0,
                    1
                  ],
                  "title": {
                    "text": "Date"
                  }
                },
                "yaxis": {
                  "anchor": "x",
                  "domain": [
                    0,
                    1
                  ],
                  "title": {
                    "text": "Predicted"
                  }
                }
              }
            },
            "text/html": [
              "<div>                        <script type=\"text/javascript\">window.PlotlyConfig = {MathJaxConfig: 'local'};</script>\n",
              "        <script src=\"https://cdn.plot.ly/plotly-2.8.3.min.js\"></script>                <div id=\"3d73f1f7-05e5-4358-baef-edd3abb3d1a0\" class=\"plotly-graph-div\" style=\"height:100%; width:100%;\"></div>            <script type=\"text/javascript\">                                    window.PLOTLYENV=window.PLOTLYENV || {};                                    if (document.getElementById(\"3d73f1f7-05e5-4358-baef-edd3abb3d1a0\")) {                    Plotly.newPlot(                        \"3d73f1f7-05e5-4358-baef-edd3abb3d1a0\",                        [{\"hovertemplate\":\"Date=%{x}<br>Predicted=%{y}<extra></extra>\",\"legendgroup\":\"\",\"line\":{\"color\":\"#636efa\",\"dash\":\"solid\"},\"marker\":{\"symbol\":\"circle\"},\"mode\":\"lines+markers\",\"name\":\"\",\"orientation\":\"v\",\"showlegend\":false,\"x\":[\"2022-02-09\",\"2022-02-10\",\"2022-02-11\",\"2022-02-12\",\"2022-02-13\",\"2022-02-14\",\"2022-02-15\",\"2022-02-16\",\"2022-02-17\",\"2022-02-18\",\"2022-02-19\",\"2022-02-20\",\"2022-02-21\",\"2022-02-22\",\"2022-02-23\",\"2022-02-24\",\"2022-02-25\",\"2022-02-26\",\"2022-02-27\",\"2022-02-28\",\"2022-03-01\",\"2022-03-02\",\"2022-03-03\",\"2022-03-04\",\"2022-03-05\",\"2022-03-06\",\"2022-03-07\",\"2022-03-08\",\"2022-03-09\",\"2022-03-10\",\"2022-03-11\",\"2022-03-12\",\"2022-03-13\",\"2022-03-14\",\"2022-03-15\",\"2022-03-16\",\"2022-03-17\",\"2022-03-18\",\"2022-03-19\",\"2022-03-20\",\"2022-03-21\",\"2022-03-22\",\"2022-03-23\",\"2022-03-24\",\"2022-03-25\",\"2022-03-26\",\"2022-03-27\",\"2022-03-28\",\"2022-03-29\",\"2022-03-30\",\"2022-03-31\",\"2022-04-01\",\"2022-04-02\",\"2022-04-03\",\"2022-04-04\",\"2022-04-05\",\"2022-04-06\",\"2022-04-07\",\"2022-04-08\",\"2022-04-09\",\"2022-04-10\",\"2022-04-11\",\"2022-04-12\",\"2022-04-13\",\"2022-04-14\",\"2022-04-15\",\"2022-04-16\",\"2022-04-17\",\"2022-04-18\",\"2022-04-19\",\"2022-04-20\",\"2022-04-21\",\"2022-04-22\",\"2022-04-23\",\"2022-04-24\",\"2022-04-25\",\"2022-04-26\",\"2022-04-27\",\"2022-04-28\",\"2022-04-29\",\"2022-04-30\",\"2022-05-01\",\"2022-05-02\",\"2022-05-03\",\"2022-05-04\",\"2022-05-05\",\"2022-05-06\",\"2022-05-07\",\"2022-05-08\",\"2022-05-09\",\"2022-05-10\",\"2022-05-11\",\"2022-05-12\",\"2022-05-13\",\"2022-05-14\",\"2022-05-15\",\"2022-05-16\",\"2022-05-17\",\"2022-05-18\",\"2022-05-19\",\"2022-05-20\",\"2022-05-21\",\"2022-05-22\",\"2022-05-23\",\"2022-05-24\",\"2022-05-25\",\"2022-05-26\",\"2022-05-27\",\"2022-05-28\",\"2022-05-29\",\"2022-05-30\",\"2022-05-31\",\"2022-06-01\",\"2022-06-02\",\"2022-06-03\",\"2022-06-04\",\"2022-06-05\",\"2022-06-06\",\"2022-06-07\",\"2022-06-08\",\"2022-06-09\",\"2022-06-10\",\"2022-06-11\",\"2022-06-12\",\"2022-06-13\",\"2022-06-14\",\"2022-06-15\",\"2022-06-16\",\"2022-06-17\",\"2022-06-18\",\"2022-06-19\",\"2022-06-20\",\"2022-06-21\",\"2022-06-22\",\"2022-06-23\",\"2022-06-24\",\"2022-06-25\",\"2022-06-26\",\"2022-06-27\",\"2022-06-28\",\"2022-06-29\",\"2022-06-30\",\"2022-07-01\",\"2022-07-02\",\"2022-07-03\",\"2022-07-04\",\"2022-07-05\",\"2022-07-06\",\"2022-07-07\",\"2022-07-08\",\"2022-07-09\",\"2022-07-10\",\"2022-07-11\",\"2022-07-12\",\"2022-07-13\",\"2022-07-14\",\"2022-07-15\",\"2022-07-16\",\"2022-07-17\",\"2022-07-18\",\"2022-07-19\",\"2022-07-20\",\"2022-07-21\",\"2022-07-22\",\"2022-07-23\",\"2022-07-24\",\"2022-07-25\",\"2022-07-26\",\"2022-07-27\",\"2022-07-28\",\"2022-07-29\",\"2022-07-30\",\"2022-07-31\",\"2022-08-01\",\"2022-08-02\",\"2022-08-03\",\"2022-08-04\",\"2022-08-05\",\"2022-08-06\",\"2022-08-07\",\"2022-08-08\",\"2022-08-09\",\"2022-08-10\",\"2022-08-11\",\"2022-08-12\",\"2022-08-13\",\"2022-08-14\",\"2022-08-15\",\"2022-08-16\",\"2022-08-17\",\"2022-08-18\",\"2022-08-19\",\"2022-08-20\",\"2022-08-21\",\"2022-08-22\",\"2022-08-23\",\"2022-08-24\",\"2022-08-25\",\"2022-08-26\",\"2022-08-27\",\"2022-08-28\",\"2022-08-29\",\"2022-08-30\",\"2022-08-31\",\"2022-09-01\",\"2022-09-02\",\"2022-09-03\",\"2022-09-04\",\"2022-09-05\",\"2022-09-06\",\"2022-09-07\",\"2022-09-08\",\"2022-09-09\",\"2022-09-10\",\"2022-09-11\",\"2022-09-12\",\"2022-09-13\",\"2022-09-14\",\"2022-09-15\",\"2022-09-16\",\"2022-09-17\",\"2022-09-18\",\"2022-09-19\",\"2022-09-20\",\"2022-09-21\",\"2022-09-22\",\"2022-09-23\",\"2022-09-24\",\"2022-09-25\",\"2022-09-26\",\"2022-09-27\",\"2022-09-28\",\"2022-09-29\",\"2022-09-30\",\"2022-10-01\",\"2022-10-02\",\"2022-10-03\",\"2022-10-04\",\"2022-10-05\",\"2022-10-06\",\"2022-10-07\",\"2022-10-08\",\"2022-10-09\",\"2022-10-10\",\"2022-10-11\",\"2022-10-12\",\"2022-10-13\",\"2022-10-14\",\"2022-10-15\",\"2022-10-16\",\"2022-10-17\",\"2022-10-18\",\"2022-10-19\",\"2022-10-20\",\"2022-10-21\",\"2022-10-22\",\"2022-10-23\",\"2022-10-24\",\"2022-10-25\",\"2022-10-26\",\"2022-10-27\",\"2022-10-28\",\"2022-10-29\",\"2022-10-30\",\"2022-10-31\",\"2022-11-01\",\"2022-11-02\",\"2022-11-03\",\"2022-11-04\",\"2022-11-05\",\"2022-11-06\",\"2022-11-07\",\"2022-11-08\",\"2022-11-09\",\"2022-11-10\",\"2022-11-11\",\"2022-11-12\",\"2022-11-13\",\"2022-11-14\",\"2022-11-15\",\"2022-11-16\",\"2022-11-17\",\"2022-11-18\",\"2022-11-19\",\"2022-11-20\",\"2022-11-21\",\"2022-11-22\",\"2022-11-23\",\"2022-11-24\",\"2022-11-25\",\"2022-11-26\",\"2022-11-27\",\"2022-11-28\",\"2022-11-29\",\"2022-11-30\",\"2022-12-01\",\"2022-12-02\",\"2022-12-03\",\"2022-12-04\",\"2022-12-05\",\"2022-12-06\",\"2022-12-07\",\"2022-12-08\",\"2022-12-09\",\"2022-12-10\",\"2022-12-11\",\"2022-12-12\",\"2022-12-13\",\"2022-12-14\",\"2022-12-15\",\"2022-12-16\",\"2022-12-17\",\"2022-12-18\",\"2022-12-19\",\"2022-12-20\",\"2022-12-21\",\"2022-12-22\",\"2022-12-23\",\"2022-12-24\",\"2022-12-25\",\"2022-12-26\",\"2022-12-27\",\"2022-12-28\",\"2022-12-29\",\"2022-12-30\",\"2022-12-31\",\"2023-01-01\",\"2023-01-02\",\"2023-01-03\",\"2023-01-04\",\"2023-01-05\",\"2023-01-06\",\"2023-01-07\",\"2023-01-08\",\"2023-01-09\",\"2023-01-10\",\"2023-01-11\",\"2023-01-12\",\"2023-01-13\",\"2023-01-14\",\"2023-01-15\",\"2023-01-16\",\"2023-01-17\",\"2023-01-18\",\"2023-01-19\",\"2023-01-20\",\"2023-01-21\",\"2023-01-22\",\"2023-01-23\",\"2023-01-24\",\"2023-01-25\",\"2023-01-26\",\"2023-01-27\",\"2023-01-28\",\"2023-01-29\",\"2023-01-30\",\"2023-01-31\",\"2023-02-01\",\"2023-02-02\",\"2023-02-03\",\"2023-02-04\",\"2023-02-05\",\"2023-02-06\",\"2023-02-07\",\"2023-02-08\",\"2023-02-09\",\"2023-02-10\",\"2023-02-11\",\"2023-02-12\",\"2023-02-13\",\"2023-02-14\",\"2023-02-15\",\"2023-02-16\",\"2023-02-17\",\"2023-02-18\",\"2023-02-19\",\"2023-02-20\",\"2023-02-21\",\"2023-02-22\",\"2023-02-23\",\"2023-02-24\",\"2023-02-25\",\"2023-02-26\",\"2023-02-27\",\"2023-02-28\",\"2023-03-01\",\"2023-03-02\",\"2023-03-03\",\"2023-03-04\",\"2023-03-05\",\"2023-03-06\",\"2023-03-07\",\"2023-03-08\",\"2023-03-09\",\"2023-03-10\",\"2023-03-11\",\"2023-03-12\",\"2023-03-13\",\"2023-03-14\",\"2023-03-15\",\"2023-03-16\",\"2023-03-17\",\"2023-03-18\",\"2023-03-19\",\"2023-03-20\",\"2023-03-21\",\"2023-03-22\",\"2023-03-23\",\"2023-03-24\",\"2023-03-25\",\"2023-03-26\",\"2023-03-27\",\"2023-03-28\",\"2023-03-29\",\"2023-03-30\",\"2023-03-31\",\"2023-04-01\",\"2023-04-02\",\"2023-04-03\",\"2023-04-04\",\"2023-04-05\",\"2023-04-06\",\"2023-04-07\",\"2023-04-08\",\"2023-04-09\",\"2023-04-10\",\"2023-04-11\",\"2023-04-12\",\"2023-04-13\",\"2023-04-14\",\"2023-04-15\",\"2023-04-16\",\"2023-04-17\",\"2023-04-18\",\"2023-04-19\",\"2023-04-20\",\"2023-04-21\",\"2023-04-22\",\"2023-04-23\",\"2023-04-24\",\"2023-04-25\",\"2023-04-26\",\"2023-04-27\",\"2023-04-28\",\"2023-04-29\",\"2023-04-30\",\"2023-05-01\",\"2023-05-02\",\"2023-05-03\",\"2023-05-04\",\"2023-05-05\",\"2023-05-06\",\"2023-05-07\",\"2023-05-08\",\"2023-05-09\",\"2023-05-10\",\"2023-05-11\",\"2023-05-12\",\"2023-05-13\",\"2023-05-14\",\"2023-05-15\",\"2023-05-16\",\"2023-05-17\",\"2023-05-18\",\"2023-05-19\",\"2023-05-20\",\"2023-05-21\",\"2023-05-22\",\"2023-05-23\",\"2023-05-24\",\"2023-05-25\",\"2023-05-26\",\"2023-05-27\",\"2023-05-28\",\"2023-05-29\",\"2023-05-30\",\"2023-05-31\",\"2023-06-01\",\"2023-06-02\",\"2023-06-03\",\"2023-06-04\",\"2023-06-05\",\"2023-06-06\",\"2023-06-07\",\"2023-06-08\",\"2023-06-09\",\"2023-06-10\",\"2023-06-11\",\"2023-06-12\",\"2023-06-13\",\"2023-06-14\",\"2023-06-15\",\"2023-06-16\",\"2023-06-17\",\"2023-06-18\",\"2023-06-19\",\"2023-06-20\",\"2023-06-21\",\"2023-06-22\",\"2023-06-23\",\"2023-06-24\",\"2023-06-25\",\"2023-06-26\",\"2023-06-27\",\"2023-06-28\",\"2023-06-29\",\"2023-06-30\",\"2023-07-01\",\"2023-07-02\",\"2023-07-03\",\"2023-07-04\",\"2023-07-05\",\"2023-07-06\",\"2023-07-07\",\"2023-07-08\",\"2023-07-09\",\"2023-07-10\",\"2023-07-11\",\"2023-07-12\",\"2023-07-13\",\"2023-07-14\",\"2023-07-15\",\"2023-07-16\",\"2023-07-17\",\"2023-07-18\",\"2023-07-19\",\"2023-07-20\",\"2023-07-21\",\"2023-07-22\",\"2023-07-23\",\"2023-07-24\",\"2023-07-25\",\"2023-07-26\",\"2023-07-27\",\"2023-07-28\",\"2023-07-29\",\"2023-07-30\",\"2023-07-31\",\"2023-08-01\",\"2023-08-02\",\"2023-08-03\",\"2023-08-04\",\"2023-08-05\",\"2023-08-06\",\"2023-08-07\",\"2023-08-08\",\"2023-08-09\",\"2023-08-10\",\"2023-08-11\",\"2023-08-12\",\"2023-08-13\",\"2023-08-14\",\"2023-08-15\",\"2023-08-16\",\"2023-08-17\",\"2023-08-18\",\"2023-08-19\",\"2023-08-20\",\"2023-08-21\",\"2023-08-22\",\"2023-08-23\",\"2023-08-24\",\"2023-08-25\",\"2023-08-26\",\"2023-08-27\",\"2023-08-28\",\"2023-08-29\",\"2023-08-30\",\"2023-08-31\",\"2023-09-01\",\"2023-09-02\",\"2023-09-03\",\"2023-09-04\",\"2023-09-05\",\"2023-09-06\",\"2023-09-07\",\"2023-09-08\",\"2023-09-09\",\"2023-09-10\",\"2023-09-11\",\"2023-09-12\",\"2023-09-13\",\"2023-09-14\",\"2023-09-15\",\"2023-09-16\",\"2023-09-17\",\"2023-09-18\",\"2023-09-19\",\"2023-09-20\",\"2023-09-21\",\"2023-09-22\",\"2023-09-23\",\"2023-09-24\",\"2023-09-25\",\"2023-09-26\",\"2023-09-27\",\"2023-09-28\",\"2023-09-29\",\"2023-09-30\",\"2023-10-01\",\"2023-10-02\",\"2023-10-03\",\"2023-10-04\",\"2023-10-05\",\"2023-10-06\",\"2023-10-07\",\"2023-10-08\",\"2023-10-09\",\"2023-10-10\",\"2023-10-11\",\"2023-10-12\",\"2023-10-13\",\"2023-10-14\",\"2023-10-15\",\"2023-10-16\",\"2023-10-17\",\"2023-10-18\",\"2023-10-19\",\"2023-10-20\",\"2023-10-21\",\"2023-10-22\",\"2023-10-23\",\"2023-10-24\",\"2023-10-25\",\"2023-10-26\",\"2023-10-27\",\"2023-10-28\",\"2023-10-29\",\"2023-10-30\",\"2023-10-31\",\"2023-11-01\",\"2023-11-02\",\"2023-11-03\",\"2023-11-04\",\"2023-11-05\",\"2023-11-06\",\"2023-11-07\",\"2023-11-08\",\"2023-11-09\",\"2023-11-10\",\"2023-11-11\",\"2023-11-12\",\"2023-11-13\",\"2023-11-14\",\"2023-11-15\",\"2023-11-16\",\"2023-11-17\",\"2023-11-18\",\"2023-11-19\",\"2023-11-20\",\"2023-11-21\",\"2023-11-22\",\"2023-11-23\",\"2023-11-24\",\"2023-11-25\",\"2023-11-26\",\"2023-11-27\",\"2023-11-28\",\"2023-11-29\",\"2023-11-30\",\"2023-12-01\",\"2023-12-02\",\"2023-12-03\",\"2023-12-04\",\"2023-12-05\",\"2023-12-06\",\"2023-12-07\",\"2023-12-08\",\"2023-12-09\",\"2023-12-10\",\"2023-12-11\",\"2023-12-12\",\"2023-12-13\",\"2023-12-14\",\"2023-12-15\",\"2023-12-16\",\"2023-12-17\",\"2023-12-18\",\"2023-12-19\",\"2023-12-20\",\"2023-12-21\",\"2023-12-22\",\"2023-12-23\",\"2023-12-24\",\"2023-12-25\",\"2023-12-26\",\"2023-12-27\",\"2023-12-28\",\"2023-12-29\",\"2023-12-30\",\"2023-12-31\",\"2024-01-01\",\"2024-01-02\",\"2024-01-03\",\"2024-01-04\",\"2024-01-05\",\"2024-01-06\",\"2024-01-07\",\"2024-01-08\",\"2024-01-09\",\"2024-01-10\",\"2024-01-11\",\"2024-01-12\",\"2024-01-13\",\"2024-01-14\",\"2024-01-15\",\"2024-01-16\",\"2024-01-17\",\"2024-01-18\",\"2024-01-19\",\"2024-01-20\",\"2024-01-21\",\"2024-01-22\",\"2024-01-23\",\"2024-01-24\",\"2024-01-25\",\"2024-01-26\",\"2024-01-27\",\"2024-01-28\",\"2024-01-29\",\"2024-01-30\",\"2024-01-31\",\"2024-02-01\",\"2024-02-02\",\"2024-02-03\",\"2024-02-04\",\"2024-02-05\",\"2024-02-06\",\"2024-02-07\",\"2024-02-08\"],\"xaxis\":\"x\",\"y\":[1724.8550043702123,1711.2755423188207,1702.4866358265278,1695.596131287515,1689.2767537012694,1683.2113900855181,1677.3727668747304,1671.7456293627617,1666.2950766310094,1660.9777714461086,1655.7576572299001,1650.6069981530306,1645.5081126242874,1640.4484039545057,1635.419435828924,1630.4205148518083,1625.4490985721347,1620.5014888793228,1615.5783791691063,1610.679538309574,1605.8040417730806,1600.9525829553602,1596.1223882734773,1591.3128798976538,1586.5216309428213,1581.750143766403,1576.9969160109756,1572.2605608850715,1567.5408472567794,1562.83696616441,1558.1499577015636,1553.4788973405955,1548.824940741062,1544.1884346008299,1539.5697256177662,1534.9702005833385,1530.389859497547,1525.8296268880365,1521.292160771787,1516.7766521871088,1512.2824077382681,1507.8096585571764,1503.3592136055229,1498.9311884492633,1494.5278944075105,1490.1473668590186,1485.7934194803236,1481.4657055735586,1477.167634334415,1472.899090196937,1468.659726463258,1464.451045490801,1460.2726427987216,1456.124980650842,1452.0064411237834,1447.9165041707454,1443.8563832342622,1439.8267717100678,1435.8293453045187,1431.8623705282805,1427.9270608238874,1424.0224338807163,1420.1498187072573,1416.3088108226655,1412.5001614056525,1408.7235237583516,1404.9788978807626,1401.2665726877747,1397.58649039641,1393.9389977045355,1390.3235745653508,1386.7406832426784,1383.1896303407846,1379.6715715192256,1376.1852933354673,1372.7315469682214,1369.309639021754,1365.920262891799,1362.5627829656003,1359.2377192899582,1355.9443206861613,1352.682702720165,1349.4530965238807,1346.255328748375,1343.0893416106699,1339.9544994980095,1336.851322457194,1333.7795215733347,1330.7389234974978,1327.7295282296834,1324.7511046379802,1321.8033638074992,1318.8866524361072,1316.000392694026,1313.1444112323222,1310.3190547488628,1307.5238031968472,1304.7587143592534,1302.023268189281,1299.3175224699078,1296.6415349841116,1293.9948434680698,1291.3773323558269,1288.7888282984493,1286.2295624278484,1283.6986679993568,1281.1963761448858,1278.7223401665685,1276.2767334133384,1273.8588624894617,1271.4687273949382,1269.106385912746,1266.77143356204,1264.4635814279316,1262.1827717274425,1259.928657762706,1257.7011239677665,1255.5002281256018,1253.3251612745223,1251.1763278953729,1249.053265724331,1246.9557436294851,1244.883588261902,1242.8362795747814,1240.8140487000344,1238.816606722772,1236.8435491621492,1234.8947604522107,1232.9701828099785,1231.0692961886523,1229.1921583712099,1227.3384226597843,1225.5078001394866,1223.7002330273388,1221.915374625474,1220.1530515849588,1218.4131483398376,1216.6953181922433,1214.9992144443092,1213.3247793130574,1211.672012798488,1210.0403948538003,1208.4296943470833,1206.8399690613148,1205.2707567326722,1203.7219417951999,1202.1933508999643,1200.6846373490987,1199.195743359625,1197.7263800166545,1196.2760850563643,1194.8450896106658,1193.43310476467,1192.039668254554,1190.6647222973404,1189.3080935440955,1187.9694930799303,1186.6489786878226,1185.3459147550163,1184.0602434985337,1182.7920227013526,1181.5407900996504,1180.306603476405,1179.0889427848158,1177.8878658078609,1176.7029680646954,1175.5344229042528,1174.3814791478214,1173.244541276246,1172.1230314597485,1171.0167763493953,1169.9257181622086,1168.8497413322327,1167.7884991616008,1166.7418760843573,1165.7097565345464,1164.6917938143013,1163.6882190555332,1162.6983966454861,1161.722037669271,1160.7596043907104,1159.8105767630038,1158.8746658712623,1157.9518717154858,1157.0419053807852,1156.1448246501384,1155.2602250427005,1154.3880487754939,1153.5281802825627,1152.6805617809293,1151.844731006771,1151.0206301771102,1150.2083170749245,1149.4075605683026,1148.6178406104443,1147.8395616821942,1147.0724348686633,1146.3159401230512,1145.570366360247,1144.8353668823836,1144.1108839064834,1143.3968018665907,1142.6928318478165,1141.9990316331384,1141.314938958734,1140.6410160884259,1139.9764540605245,1139.321484006941,1138.6758747957645,1138.0398575589059,1137.412854466587,1136.7946921698747,1136.1857173666356,1135.5853522270916,1134.993770100176,1134.410682071,1133.8361459225414,1133.2697571739552,1132.7118047401307,1132.1617685742674,1131.6198798082767,1131.0857917442916,1130.5592732504008,1130.0406710244713,1129.5295805856583,1129.0258863680062,1128.5294728055594,1128.0403976812956,1127.5584876462815,1127.0836849175391,1126.6157005801795,1126.1545924171803,1125.7003026455639,1125.2524845674632,1124.8113115318117,1124.376956887543,1123.9484961070118,1123.5265648029742,1123.1108162775633,1122.7011349648235,1122.2975786477325,1121.8998006284235,1121.507916472852,1121.1218683980403,1120.7415986210106,1120.3668182268736,1119.997700564563,1119.6339567191897,1119.2756444737313,1118.9225904792545,1118.5747369527814,1118.2319683283565,1117.8944001719353,1117.5618013516066,1117.2341140843926,1116.9112805873153,1116.5931852944193,1116.2798859886823,1115.971151538193,1115.667097508907,1115.367608334869,1115.072510667145,1114.7818622887132,1114.4953742846844,1114.21327778697,1113.9355150125918,1113.6617392636833,1113.3920661062,1113.1262644082306,1112.8647386506198,1112.6069687865672,1112.3530125990508,1112.1028123050926,1111.8564834706483,1111.613679397851,1111.3745156526563,1111.139050018042,1110.9069357961414,1110.6783463358877,1110.4532238543031,1110.231452785432,1110.012917563319,1109.7977915368972,1109.586016923189,1109.377015892416,1109.1714240573344,1108.9688369370995,1108.769312314689,1108.5727346241472,1108.3792772144077,1108.1885933876035,1108.0007987096903,1107.8157776147125,1107.63353010267,1107.454287305474,1107.277355827391,1107.1034290641544,1106.9318136200307,1106.7629717588422,1106.5967879146335,1106.4327420406041,1106.27146974951,1106.1123354285953,1105.9558591246603,1105.801694139838,1105.6497826911507,1105.5000669956205,1105.3528937511144,1105.2076273448763,1105.0646144747732,1104.9240862727163,1104.785291559994,1104.6487503834067,1104.5141738280652,1104.381735242903,1104.2512034960089,1104.1227519363163,1103.9961494319139,1103.8715115487573,1103.7487805038688,1103.6278407312927,1103.5087500140069,1103.3914505690334,1103.2759423963723,1103.1622254960237,1103.0502998679874,1102.9398765973745,1102.8309556841848,1102.7241149581967,1102.618718806654,1102.5148827955124,1102.412606924772,1102.311833411455,1102.212620038539,1102.115024589002,1102.0187581479547,1101.9238784983752,1101.8307323381302,1101.7387996204195,1101.6481959111986,1101.5591523423789,1101.4712066501377,1101.3848788812754,1101.2997067719696,1101.2158058881757,1101.133176229894,1101.0519333630798,1100.971846155822,1100.8929723910985,1100.8153120689092,1100.7387496232984,1100.6634584031997,1100.5891494937239,1100.5160540267823,1100.444172002375,1100.3732145056126,1100.3034126684067,1100.2347087077794,1100.1669292747972,1100.1003055013714,1100.034490689635,1099.969889320433,1099.906154695898,1099.8434023819862,1099.7817479446528,1099.7208446860311,1099.6608659550545,1099.6020428836343,1099.543913207948,1099.4867080599067,1099.430311873555,1099.374897997826,1099.3202930837867,1099.266439348459,1099.2135101407764,1099.1612743288276,1099.1098474785683,1099.0592295899985,1099.0094206631181,1098.9603629149494,1098.9119407795367,1098.8643276058135,1098.817465610802,1098.7712970115242,1098.7257640250025,1098.681097783148,1098.6368360221384,1098.5935565717516,1098.5507393851874,1098.5085578113792,1098.4671274162827,1098.4263326339421,1098.3861156813798,1098.3464187756178,1098.3074152655897,1098.2689895853398,1098.2312573008237,1098.1938717141745,1098.1572950892148,1098.1211807280777,1098.0855864137409,1098.0505699291823,1098.0160157084463,1097.982154883444,1097.9486407563088,1097.9158778078852,1097.8834037743507,1097.851276438683,1097.819900281727,1097.788870822638,1097.7583614103494,1097.7282564789055,1097.6989027261732,1097.6696645393965,1097.6409463994203,1097.6126327402887,1097.5848969109354,1097.5574499964712,1097.5305231288073,1097.5039429590104,1097.477825053036,1097.4520538449285,1097.426629334688,1097.40166708827,1097.3770515397189,1097.3527826890347,1097.328976102173,1097.3052850812671,1097.2821718901394,1097.2594053968785,1097.2369856014845,1097.2149702869353,1097.1930705383418,1097.171575270593,1097.1505422666667,1097.1297403946517,1097.109169654548,1097.0890611782668,1097.069183833897,1097.049595404416,1097.0303536728022,1097.0114008560774,1096.9925636053083,1096.9742464013395,1096.9561025463042,1096.9383631721137,1096.920623797923,1096.9034622535107,1096.8865896239874,1096.8697169944642,1096.8531910628078,1096.8368962630627,1096.8208903782067,1096.8050578422842,1096.7896297872064,1096.77443286404,1096.759351506829,1096.744327932596,1096.7298244051633,1096.715494226664,1096.7013951800761,1096.687353916466,1096.673601567745,1096.6600803509352,1096.6468480490146,1096.6337313130496,1096.620787926018,1096.6080756708977,1096.5957101136444,1096.5832289904354,1096.571210131049,1096.5591912716625,1096.5473457612095,1096.5357313826678,1096.5245214849708,1096.5130804553626,1096.5019861236212,1096.4912384897468,1096.4803752899168,1096.4698587879536,1096.4594000689683,1096.4490569159386,1096.4390604607759,1096.429121788591,1096.4192408993838,1096.4096489250658,1096.4001725167034,1096.3908694572744,1096.3815663978455,1096.3725522533057,1096.3635381087659,1096.354870662093,1096.3460876494644,1096.3376513347027,1096.3290994539855,1096.320952054113,1096.3126890882847,1096.3048306033013,1096.2968565523622,1096.2889980673788,1096.2814862802622,1096.273916710168,1096.2663471400735,1096.2590087018905,1096.2519013956187,1096.2448518723247,1096.2378023490307,1096.2308683916924,1096.2241655662654,1096.2174627408383,1096.2111066132782,1096.2045193538067,1096.1981054432688,1096.1918070986865,1096.1857398860154,1096.1795571073887,1096.1736632436512,1096.167653813958,1096.161875516176,1096.1562127843497,1096.1505500525234,1096.1450028866527,1096.1395712867377,1096.1340819038448,1096.1288236528633,1096.1237387508152,1096.1185960657892,1096.1134533807633,1096.1084840446708,1096.1035147085784,1096.0988920703528,1096.0940960831938,1096.0894156619904,1096.0847930237649,1096.0803437344728,1096.0758366622028,1096.0715607218442,1096.0672269985077,1096.062951058149,1096.058790683746,1096.054630309343,1096.0505855008957,1096.0464829094706,1096.0426114499567,1096.038682207465,1096.0347529649732,1096.0310548543928,1096.0273567438123,1096.0237164162097,1096.0201916545627,1096.016609109938,1096.013026565313,1096.0097907185552,1096.0062659569082,1096.0029723271725,1095.9997942633925,1095.996385067701,1095.9932647868989,1095.9901445060966,1095.9870820082722,1095.9840195104478,1095.9810147956011,1095.9780100807545,1095.9751209318636,1095.9722317829726,1095.9694004170594,1095.966684617102,1095.963795468211,1095.9611374512313,1095.9584794342516,1095.9559947662053,1095.9533945322034,1095.9509098641572,1095.948425196111,1095.9459983110426,1095.9435136429963,1095.9412601068614,1095.938833221793,1095.9365219026802,1095.9342105835674,1095.9320148304103,1095.9297612942753,1095.927623324096,1095.9254853539167,1095.9233473837373,1095.9212671965358,1095.91930257529,1095.9173379540441,1095.9153155498204,1095.9134664945302,1095.9114440903065,1095.9095950350163,1095.907745979726,1095.9058969244359,1095.9040478691456,1095.902314379811,1095.9006386734543,1095.898847401142,1095.8971139118073,1095.8955537714062,1095.893993631005,1095.8922601416705,1095.8907000012694,1095.8891398608682,1095.887637503445,1095.8860773630438,1095.8845750056205,1095.883130431175,1095.8816280737517,1095.880241282284,1095.8787389248607,1095.8774676993487,1095.876080907881,1095.874809682369,1095.8734228909013,1095.8721516653893,1095.8707648739216,1095.8696092143653,1095.8683379888532,1095.8670667633412,1095.8660266697404,1095.8648132272062,1095.8635420016942,1095.8623863421378,1095.861346248537,1095.8602483719585,1095.8590927124021,1095.8580526188014,1095.8569547422228,1095.8560302145777,1095.8549323379991,1095.8538922443984,1095.8528521507976,1095.8518698401747,1095.8508875295518,1095.849847435951,1095.8488073423503,1095.8478828147051,1095.84695828706,1095.845975976437,1095.8451092317698,1095.8441847041247,1095.8433757424352,1095.8425667807458,1095.8417578190563,1095.8409488573668,1095.8401398956773,1095.8394464999435,1095.8386953212319,1095.8378863595424,1095.8371351808307,1095.836441785097,1095.835748389363,1095.8349394276736,1095.8342460319398,1095.833552636206,1095.832859240472,1095.8321658447383,1095.83158801496,1095.8308946192262,1095.830316789448,1095.8295656107364,1095.8289299979804,1095.8283521682022,1095.8276587724683,1095.8270809426901,1095.826503112912,1095.8258097171781,1095.8253474533556,1095.8247696235774,1095.8241917937992,1095.8234983980653,1095.8231517001984,1095.8225738704202,1095.8220538236199,1095.8215337768195,1095.821013730019,1095.8204936832187,1095.8199736364184,1095.8195113725958,1095.8189913257954,1095.8185290619729,1095.8180667981503,1095.8177201002834,1095.8172578364608,1095.8166800066826,1095.816275525838,1095.8157554790375,1095.8154665641484,1095.8148887343702,1095.8144264705477,1095.8139642067251,1095.8135597258804,1095.8132130280135,1095.8128085471687,1095.812404066324,1095.8119418025015,1095.8115951046345,1095.8112484067676,1095.810786142945,1095.810497228056,1095.8100927472112,1095.8098038323221,1095.8093993514774,1095.8090526536105,1095.8087059557436,1095.8084748238323,1095.8080703429875,1095.807896994054,1095.807608079165,1095.8072035983203,1095.806972466409,1095.8067413344977,1095.8065102025864,1095.8060479387639,1095.8057590238748,1095.8055856749413,1095.8054123260079,1095.8050078451631,1095.8048344962297,1095.8046033643184,1095.804372232407,1095.804083317518,1095.8038521856067,1095.803736619651,1095.8035054877398,1095.8033321388064,1095.803101006895,1095.8029276579616,1095.8025809600947],\"yaxis\":\"y\",\"type\":\"scatter\"}],                        {\"template\":{\"data\":{\"bar\":[{\"error_x\":{\"color\":\"#2a3f5f\"},\"error_y\":{\"color\":\"#2a3f5f\"},\"marker\":{\"line\":{\"color\":\"#E5ECF6\",\"width\":0.5},\"pattern\":{\"fillmode\":\"overlay\",\"size\":10,\"solidity\":0.2}},\"type\":\"bar\"}],\"barpolar\":[{\"marker\":{\"line\":{\"color\":\"#E5ECF6\",\"width\":0.5},\"pattern\":{\"fillmode\":\"overlay\",\"size\":10,\"solidity\":0.2}},\"type\":\"barpolar\"}],\"carpet\":[{\"aaxis\":{\"endlinecolor\":\"#2a3f5f\",\"gridcolor\":\"white\",\"linecolor\":\"white\",\"minorgridcolor\":\"white\",\"startlinecolor\":\"#2a3f5f\"},\"baxis\":{\"endlinecolor\":\"#2a3f5f\",\"gridcolor\":\"white\",\"linecolor\":\"white\",\"minorgridcolor\":\"white\",\"startlinecolor\":\"#2a3f5f\"},\"type\":\"carpet\"}],\"choropleth\":[{\"colorbar\":{\"outlinewidth\":0,\"ticks\":\"\"},\"type\":\"choropleth\"}],\"contour\":[{\"colorbar\":{\"outlinewidth\":0,\"ticks\":\"\"},\"colorscale\":[[0.0,\"#0d0887\"],[0.1111111111111111,\"#46039f\"],[0.2222222222222222,\"#7201a8\"],[0.3333333333333333,\"#9c179e\"],[0.4444444444444444,\"#bd3786\"],[0.5555555555555556,\"#d8576b\"],[0.6666666666666666,\"#ed7953\"],[0.7777777777777778,\"#fb9f3a\"],[0.8888888888888888,\"#fdca26\"],[1.0,\"#f0f921\"]],\"type\":\"contour\"}],\"contourcarpet\":[{\"colorbar\":{\"outlinewidth\":0,\"ticks\":\"\"},\"type\":\"contourcarpet\"}],\"heatmap\":[{\"colorbar\":{\"outlinewidth\":0,\"ticks\":\"\"},\"colorscale\":[[0.0,\"#0d0887\"],[0.1111111111111111,\"#46039f\"],[0.2222222222222222,\"#7201a8\"],[0.3333333333333333,\"#9c179e\"],[0.4444444444444444,\"#bd3786\"],[0.5555555555555556,\"#d8576b\"],[0.6666666666666666,\"#ed7953\"],[0.7777777777777778,\"#fb9f3a\"],[0.8888888888888888,\"#fdca26\"],[1.0,\"#f0f921\"]],\"type\":\"heatmap\"}],\"heatmapgl\":[{\"colorbar\":{\"outlinewidth\":0,\"ticks\":\"\"},\"colorscale\":[[0.0,\"#0d0887\"],[0.1111111111111111,\"#46039f\"],[0.2222222222222222,\"#7201a8\"],[0.3333333333333333,\"#9c179e\"],[0.4444444444444444,\"#bd3786\"],[0.5555555555555556,\"#d8576b\"],[0.6666666666666666,\"#ed7953\"],[0.7777777777777778,\"#fb9f3a\"],[0.8888888888888888,\"#fdca26\"],[1.0,\"#f0f921\"]],\"type\":\"heatmapgl\"}],\"histogram\":[{\"marker\":{\"pattern\":{\"fillmode\":\"overlay\",\"size\":10,\"solidity\":0.2}},\"type\":\"histogram\"}],\"histogram2d\":[{\"colorbar\":{\"outlinewidth\":0,\"ticks\":\"\"},\"colorscale\":[[0.0,\"#0d0887\"],[0.1111111111111111,\"#46039f\"],[0.2222222222222222,\"#7201a8\"],[0.3333333333333333,\"#9c179e\"],[0.4444444444444444,\"#bd3786\"],[0.5555555555555556,\"#d8576b\"],[0.6666666666666666,\"#ed7953\"],[0.7777777777777778,\"#fb9f3a\"],[0.8888888888888888,\"#fdca26\"],[1.0,\"#f0f921\"]],\"type\":\"histogram2d\"}],\"histogram2dcontour\":[{\"colorbar\":{\"outlinewidth\":0,\"ticks\":\"\"},\"colorscale\":[[0.0,\"#0d0887\"],[0.1111111111111111,\"#46039f\"],[0.2222222222222222,\"#7201a8\"],[0.3333333333333333,\"#9c179e\"],[0.4444444444444444,\"#bd3786\"],[0.5555555555555556,\"#d8576b\"],[0.6666666666666666,\"#ed7953\"],[0.7777777777777778,\"#fb9f3a\"],[0.8888888888888888,\"#fdca26\"],[1.0,\"#f0f921\"]],\"type\":\"histogram2dcontour\"}],\"mesh3d\":[{\"colorbar\":{\"outlinewidth\":0,\"ticks\":\"\"},\"type\":\"mesh3d\"}],\"parcoords\":[{\"line\":{\"colorbar\":{\"outlinewidth\":0,\"ticks\":\"\"}},\"type\":\"parcoords\"}],\"pie\":[{\"automargin\":true,\"type\":\"pie\"}],\"scatter\":[{\"marker\":{\"colorbar\":{\"outlinewidth\":0,\"ticks\":\"\"}},\"type\":\"scatter\"}],\"scatter3d\":[{\"line\":{\"colorbar\":{\"outlinewidth\":0,\"ticks\":\"\"}},\"marker\":{\"colorbar\":{\"outlinewidth\":0,\"ticks\":\"\"}},\"type\":\"scatter3d\"}],\"scattercarpet\":[{\"marker\":{\"colorbar\":{\"outlinewidth\":0,\"ticks\":\"\"}},\"type\":\"scattercarpet\"}],\"scattergeo\":[{\"marker\":{\"colorbar\":{\"outlinewidth\":0,\"ticks\":\"\"}},\"type\":\"scattergeo\"}],\"scattergl\":[{\"marker\":{\"colorbar\":{\"outlinewidth\":0,\"ticks\":\"\"}},\"type\":\"scattergl\"}],\"scattermapbox\":[{\"marker\":{\"colorbar\":{\"outlinewidth\":0,\"ticks\":\"\"}},\"type\":\"scattermapbox\"}],\"scatterpolar\":[{\"marker\":{\"colorbar\":{\"outlinewidth\":0,\"ticks\":\"\"}},\"type\":\"scatterpolar\"}],\"scatterpolargl\":[{\"marker\":{\"colorbar\":{\"outlinewidth\":0,\"ticks\":\"\"}},\"type\":\"scatterpolargl\"}],\"scatterternary\":[{\"marker\":{\"colorbar\":{\"outlinewidth\":0,\"ticks\":\"\"}},\"type\":\"scatterternary\"}],\"surface\":[{\"colorbar\":{\"outlinewidth\":0,\"ticks\":\"\"},\"colorscale\":[[0.0,\"#0d0887\"],[0.1111111111111111,\"#46039f\"],[0.2222222222222222,\"#7201a8\"],[0.3333333333333333,\"#9c179e\"],[0.4444444444444444,\"#bd3786\"],[0.5555555555555556,\"#d8576b\"],[0.6666666666666666,\"#ed7953\"],[0.7777777777777778,\"#fb9f3a\"],[0.8888888888888888,\"#fdca26\"],[1.0,\"#f0f921\"]],\"type\":\"surface\"}],\"table\":[{\"cells\":{\"fill\":{\"color\":\"#EBF0F8\"},\"line\":{\"color\":\"white\"}},\"header\":{\"fill\":{\"color\":\"#C8D4E3\"},\"line\":{\"color\":\"white\"}},\"type\":\"table\"}]},\"layout\":{\"annotationdefaults\":{\"arrowcolor\":\"#2a3f5f\",\"arrowhead\":0,\"arrowwidth\":1},\"autotypenumbers\":\"strict\",\"coloraxis\":{\"colorbar\":{\"outlinewidth\":0,\"ticks\":\"\"}},\"colorscale\":{\"diverging\":[[0,\"#8e0152\"],[0.1,\"#c51b7d\"],[0.2,\"#de77ae\"],[0.3,\"#f1b6da\"],[0.4,\"#fde0ef\"],[0.5,\"#f7f7f7\"],[0.6,\"#e6f5d0\"],[0.7,\"#b8e186\"],[0.8,\"#7fbc41\"],[0.9,\"#4d9221\"],[1,\"#276419\"]],\"sequential\":[[0.0,\"#0d0887\"],[0.1111111111111111,\"#46039f\"],[0.2222222222222222,\"#7201a8\"],[0.3333333333333333,\"#9c179e\"],[0.4444444444444444,\"#bd3786\"],[0.5555555555555556,\"#d8576b\"],[0.6666666666666666,\"#ed7953\"],[0.7777777777777778,\"#fb9f3a\"],[0.8888888888888888,\"#fdca26\"],[1.0,\"#f0f921\"]],\"sequentialminus\":[[0.0,\"#0d0887\"],[0.1111111111111111,\"#46039f\"],[0.2222222222222222,\"#7201a8\"],[0.3333333333333333,\"#9c179e\"],[0.4444444444444444,\"#bd3786\"],[0.5555555555555556,\"#d8576b\"],[0.6666666666666666,\"#ed7953\"],[0.7777777777777778,\"#fb9f3a\"],[0.8888888888888888,\"#fdca26\"],[1.0,\"#f0f921\"]]},\"colorway\":[\"#636efa\",\"#EF553B\",\"#00cc96\",\"#ab63fa\",\"#FFA15A\",\"#19d3f3\",\"#FF6692\",\"#B6E880\",\"#FF97FF\",\"#FECB52\"],\"font\":{\"color\":\"#2a3f5f\"},\"geo\":{\"bgcolor\":\"white\",\"lakecolor\":\"white\",\"landcolor\":\"#E5ECF6\",\"showlakes\":true,\"showland\":true,\"subunitcolor\":\"white\"},\"hoverlabel\":{\"align\":\"left\"},\"hovermode\":\"closest\",\"mapbox\":{\"style\":\"light\"},\"paper_bgcolor\":\"white\",\"plot_bgcolor\":\"#E5ECF6\",\"polar\":{\"angularaxis\":{\"gridcolor\":\"white\",\"linecolor\":\"white\",\"ticks\":\"\"},\"bgcolor\":\"#E5ECF6\",\"radialaxis\":{\"gridcolor\":\"white\",\"linecolor\":\"white\",\"ticks\":\"\"}},\"scene\":{\"xaxis\":{\"backgroundcolor\":\"#E5ECF6\",\"gridcolor\":\"white\",\"gridwidth\":2,\"linecolor\":\"white\",\"showbackground\":true,\"ticks\":\"\",\"zerolinecolor\":\"white\"},\"yaxis\":{\"backgroundcolor\":\"#E5ECF6\",\"gridcolor\":\"white\",\"gridwidth\":2,\"linecolor\":\"white\",\"showbackground\":true,\"ticks\":\"\",\"zerolinecolor\":\"white\"},\"zaxis\":{\"backgroundcolor\":\"#E5ECF6\",\"gridcolor\":\"white\",\"gridwidth\":2,\"linecolor\":\"white\",\"showbackground\":true,\"ticks\":\"\",\"zerolinecolor\":\"white\"}},\"shapedefaults\":{\"line\":{\"color\":\"#2a3f5f\"}},\"ternary\":{\"aaxis\":{\"gridcolor\":\"white\",\"linecolor\":\"white\",\"ticks\":\"\"},\"baxis\":{\"gridcolor\":\"white\",\"linecolor\":\"white\",\"ticks\":\"\"},\"bgcolor\":\"#E5ECF6\",\"caxis\":{\"gridcolor\":\"white\",\"linecolor\":\"white\",\"ticks\":\"\"}},\"title\":{\"x\":0.05},\"xaxis\":{\"automargin\":true,\"gridcolor\":\"white\",\"linecolor\":\"white\",\"ticks\":\"\",\"title\":{\"standoff\":15},\"zerolinecolor\":\"white\",\"zerolinewidth\":2},\"yaxis\":{\"automargin\":true,\"gridcolor\":\"white\",\"linecolor\":\"white\",\"ticks\":\"\",\"title\":{\"standoff\":15},\"zerolinecolor\":\"white\",\"zerolinewidth\":2}}},\"xaxis\":{\"anchor\":\"y\",\"domain\":[0.0,1.0],\"title\":{\"text\":\"Date\"}},\"yaxis\":{\"anchor\":\"x\",\"domain\":[0.0,1.0],\"title\":{\"text\":\"Predicted\"}},\"legend\":{\"tracegroupgap\":0},\"margin\":{\"t\":60}},                        {\"responsive\": true}                    )                };                            </script>        </div>"
            ],
            "text/plain": [
              "Figure({\n",
              "    'data': [{'hovertemplate': 'Date=%{x}<br>Predicted=%{y}<extra></extra>',\n",
              "              'legendgroup': '',\n",
              "              'line': {'color': '#636efa', 'dash': 'solid'},\n",
              "              'marker': {'symbol': 'circle'},\n",
              "              'mode': 'lines+markers',\n",
              "              'name': '',\n",
              "              'orientation': 'v',\n",
              "              'showlegend': False,\n",
              "              'type': 'scatter',\n",
              "              'x': array(['2022-02-09', '2022-02-10', '2022-02-11', ..., '2024-02-06',\n",
              "                          '2024-02-07', '2024-02-08'], dtype=object),\n",
              "              'xaxis': 'x',\n",
              "              'y': array([1724.85500437, 1711.27554232, 1702.48663583, ..., 1095.80310101,\n",
              "                          1095.80292766, 1095.80258096]),\n",
              "              'yaxis': 'y'}],\n",
              "    'layout': {'legend': {'tracegroupgap': 0},\n",
              "               'margin': {'t': 60},\n",
              "               'template': '...',\n",
              "               'xaxis': {'anchor': 'y', 'domain': [0.0, 1.0], 'title': {'text': 'Date'}},\n",
              "               'yaxis': {'anchor': 'x', 'domain': [0.0, 1.0], 'title': {'text': 'Predicted'}}}\n",
              "})"
            ]
          },
          "execution_count": 43,
          "metadata": {},
          "output_type": "execute_result"
        }
      ],
      "source": [
        "import plotly.express as px\n",
        "fig = px.line(df1, x=\"Date\", y=\"Predicted\", markers=True)\n",
        "fig.add_trace(go.Scatter(x=df[\"Date\"], y=df[\"Open\"],\n",
        "                    mode='lines+markers',\n",
        "                    name='Actual'))\n"
      ]
    },
    {
      "cell_type": "code",
      "execution_count": null,
      "metadata": {},
      "outputs": [
        {
          "ename": "ValueError",
          "evalue": "Mime type rendering requires nbformat>=4.2.0 but it is not installed",
          "output_type": "error",
          "traceback": [
            "\u001b[1;31m---------------------------------------------------------------------------\u001b[0m",
            "\u001b[1;31mValueError\u001b[0m                                Traceback (most recent call last)",
            "\u001b[1;32m~\\.conda\\envs\\cryptocurrency-analysis\\lib\\site-packages\\IPython\\core\\formatters.py\u001b[0m in \u001b[0;36m__call__\u001b[1;34m(self, obj)\u001b[0m\n\u001b[0;32m    916\u001b[0m             \u001b[0mmethod\u001b[0m \u001b[1;33m=\u001b[0m \u001b[0mget_real_method\u001b[0m\u001b[1;33m(\u001b[0m\u001b[0mobj\u001b[0m\u001b[1;33m,\u001b[0m \u001b[0mself\u001b[0m\u001b[1;33m.\u001b[0m\u001b[0mprint_method\u001b[0m\u001b[1;33m)\u001b[0m\u001b[1;33m\u001b[0m\u001b[1;33m\u001b[0m\u001b[0m\n\u001b[0;32m    917\u001b[0m             \u001b[1;32mif\u001b[0m \u001b[0mmethod\u001b[0m \u001b[1;32mis\u001b[0m \u001b[1;32mnot\u001b[0m \u001b[1;32mNone\u001b[0m\u001b[1;33m:\u001b[0m\u001b[1;33m\u001b[0m\u001b[1;33m\u001b[0m\u001b[0m\n\u001b[1;32m--> 918\u001b[1;33m                 \u001b[0mmethod\u001b[0m\u001b[1;33m(\u001b[0m\u001b[1;33m)\u001b[0m\u001b[1;33m\u001b[0m\u001b[1;33m\u001b[0m\u001b[0m\n\u001b[0m\u001b[0;32m    919\u001b[0m                 \u001b[1;32mreturn\u001b[0m \u001b[1;32mTrue\u001b[0m\u001b[1;33m\u001b[0m\u001b[1;33m\u001b[0m\u001b[0m\n\u001b[0;32m    920\u001b[0m \u001b[1;33m\u001b[0m\u001b[0m\n",
            "\u001b[1;32m~\\.conda\\envs\\cryptocurrency-analysis\\lib\\site-packages\\plotly\\basedatatypes.py\u001b[0m in \u001b[0;36m_ipython_display_\u001b[1;34m(self)\u001b[0m\n\u001b[0;32m    842\u001b[0m \u001b[1;33m\u001b[0m\u001b[0m\n\u001b[0;32m    843\u001b[0m         \u001b[1;32mif\u001b[0m \u001b[0mpio\u001b[0m\u001b[1;33m.\u001b[0m\u001b[0mrenderers\u001b[0m\u001b[1;33m.\u001b[0m\u001b[0mrender_on_display\u001b[0m \u001b[1;32mand\u001b[0m \u001b[0mpio\u001b[0m\u001b[1;33m.\u001b[0m\u001b[0mrenderers\u001b[0m\u001b[1;33m.\u001b[0m\u001b[0mdefault\u001b[0m\u001b[1;33m:\u001b[0m\u001b[1;33m\u001b[0m\u001b[1;33m\u001b[0m\u001b[0m\n\u001b[1;32m--> 844\u001b[1;33m             \u001b[0mpio\u001b[0m\u001b[1;33m.\u001b[0m\u001b[0mshow\u001b[0m\u001b[1;33m(\u001b[0m\u001b[0mself\u001b[0m\u001b[1;33m)\u001b[0m\u001b[1;33m\u001b[0m\u001b[1;33m\u001b[0m\u001b[0m\n\u001b[0m\u001b[0;32m    845\u001b[0m         \u001b[1;32melse\u001b[0m\u001b[1;33m:\u001b[0m\u001b[1;33m\u001b[0m\u001b[1;33m\u001b[0m\u001b[0m\n\u001b[0;32m    846\u001b[0m             \u001b[0mprint\u001b[0m\u001b[1;33m(\u001b[0m\u001b[0mrepr\u001b[0m\u001b[1;33m(\u001b[0m\u001b[0mself\u001b[0m\u001b[1;33m)\u001b[0m\u001b[1;33m)\u001b[0m\u001b[1;33m\u001b[0m\u001b[1;33m\u001b[0m\u001b[0m\n",
            "\u001b[1;32m~\\.conda\\envs\\cryptocurrency-analysis\\lib\\site-packages\\plotly\\io\\_renderers.py\u001b[0m in \u001b[0;36mshow\u001b[1;34m(fig, renderer, validate, **kwargs)\u001b[0m\n\u001b[0;32m    395\u001b[0m \u001b[1;33m\u001b[0m\u001b[0m\n\u001b[0;32m    396\u001b[0m         \u001b[1;32mif\u001b[0m \u001b[1;32mnot\u001b[0m \u001b[0mnbformat\u001b[0m \u001b[1;32mor\u001b[0m \u001b[0mLooseVersion\u001b[0m\u001b[1;33m(\u001b[0m\u001b[0mnbformat\u001b[0m\u001b[1;33m.\u001b[0m\u001b[0m__version__\u001b[0m\u001b[1;33m)\u001b[0m \u001b[1;33m<\u001b[0m \u001b[0mLooseVersion\u001b[0m\u001b[1;33m(\u001b[0m\u001b[1;34m\"4.2.0\"\u001b[0m\u001b[1;33m)\u001b[0m\u001b[1;33m:\u001b[0m\u001b[1;33m\u001b[0m\u001b[1;33m\u001b[0m\u001b[0m\n\u001b[1;32m--> 397\u001b[1;33m             raise ValueError(\n\u001b[0m\u001b[0;32m    398\u001b[0m                 \u001b[1;34m\"Mime type rendering requires nbformat>=4.2.0 but it is not installed\"\u001b[0m\u001b[1;33m\u001b[0m\u001b[1;33m\u001b[0m\u001b[0m\n\u001b[0;32m    399\u001b[0m             )\n",
            "\u001b[1;31mValueError\u001b[0m: Mime type rendering requires nbformat>=4.2.0 but it is not installed"
          ]
        },
        {
          "data": {
            "application/vnd.plotly.v1+json": {
              "config": {
                "plotlyServerURL": "https://plot.ly"
              },
              "data": [
                {
                  "hovertemplate": "Date=%{x}<br>Predicted=%{y}<extra></extra>",
                  "legendgroup": "",
                  "line": {
                    "color": "#636efa",
                    "dash": "solid"
                  },
                  "marker": {
                    "symbol": "circle"
                  },
                  "mode": "lines+markers",
                  "name": "",
                  "orientation": "v",
                  "showlegend": false,
                  "type": "scatter",
                  "x": [
                    "2022-02-09",
                    "2022-02-10",
                    "2022-02-11",
                    "2022-02-12",
                    "2022-02-13",
                    "2022-02-14",
                    "2022-02-15",
                    "2022-02-16",
                    "2022-02-17",
                    "2022-02-18",
                    "2022-02-19",
                    "2022-02-20",
                    "2022-02-21",
                    "2022-02-22",
                    "2022-02-23",
                    "2022-02-24",
                    "2022-02-25",
                    "2022-02-26",
                    "2022-02-27",
                    "2022-02-28",
                    "2022-03-01",
                    "2022-03-02",
                    "2022-03-03",
                    "2022-03-04",
                    "2022-03-05",
                    "2022-03-06",
                    "2022-03-07",
                    "2022-03-08",
                    "2022-03-09",
                    "2022-03-10",
                    "2022-03-11",
                    "2022-03-12",
                    "2022-03-13",
                    "2022-03-14",
                    "2022-03-15",
                    "2022-03-16",
                    "2022-03-17",
                    "2022-03-18",
                    "2022-03-19",
                    "2022-03-20",
                    "2022-03-21",
                    "2022-03-22",
                    "2022-03-23",
                    "2022-03-24",
                    "2022-03-25",
                    "2022-03-26",
                    "2022-03-27",
                    "2022-03-28",
                    "2022-03-29",
                    "2022-03-30",
                    "2022-03-31",
                    "2022-04-01",
                    "2022-04-02",
                    "2022-04-03",
                    "2022-04-04",
                    "2022-04-05",
                    "2022-04-06",
                    "2022-04-07",
                    "2022-04-08",
                    "2022-04-09",
                    "2022-04-10",
                    "2022-04-11",
                    "2022-04-12",
                    "2022-04-13",
                    "2022-04-14",
                    "2022-04-15",
                    "2022-04-16",
                    "2022-04-17",
                    "2022-04-18",
                    "2022-04-19",
                    "2022-04-20",
                    "2022-04-21",
                    "2022-04-22",
                    "2022-04-23",
                    "2022-04-24",
                    "2022-04-25",
                    "2022-04-26",
                    "2022-04-27",
                    "2022-04-28",
                    "2022-04-29",
                    "2022-04-30",
                    "2022-05-01",
                    "2022-05-02",
                    "2022-05-03",
                    "2022-05-04",
                    "2022-05-05",
                    "2022-05-06",
                    "2022-05-07",
                    "2022-05-08",
                    "2022-05-09",
                    "2022-05-10",
                    "2022-05-11",
                    "2022-05-12",
                    "2022-05-13",
                    "2022-05-14",
                    "2022-05-15",
                    "2022-05-16",
                    "2022-05-17",
                    "2022-05-18",
                    "2022-05-19",
                    "2022-05-20",
                    "2022-05-21",
                    "2022-05-22",
                    "2022-05-23",
                    "2022-05-24",
                    "2022-05-25",
                    "2022-05-26",
                    "2022-05-27",
                    "2022-05-28",
                    "2022-05-29",
                    "2022-05-30",
                    "2022-05-31",
                    "2022-06-01",
                    "2022-06-02",
                    "2022-06-03",
                    "2022-06-04",
                    "2022-06-05",
                    "2022-06-06",
                    "2022-06-07",
                    "2022-06-08",
                    "2022-06-09",
                    "2022-06-10",
                    "2022-06-11",
                    "2022-06-12",
                    "2022-06-13",
                    "2022-06-14",
                    "2022-06-15",
                    "2022-06-16",
                    "2022-06-17",
                    "2022-06-18",
                    "2022-06-19",
                    "2022-06-20",
                    "2022-06-21",
                    "2022-06-22",
                    "2022-06-23",
                    "2022-06-24",
                    "2022-06-25",
                    "2022-06-26",
                    "2022-06-27",
                    "2022-06-28",
                    "2022-06-29",
                    "2022-06-30",
                    "2022-07-01",
                    "2022-07-02",
                    "2022-07-03",
                    "2022-07-04",
                    "2022-07-05",
                    "2022-07-06",
                    "2022-07-07",
                    "2022-07-08",
                    "2022-07-09",
                    "2022-07-10",
                    "2022-07-11",
                    "2022-07-12",
                    "2022-07-13",
                    "2022-07-14",
                    "2022-07-15",
                    "2022-07-16",
                    "2022-07-17",
                    "2022-07-18",
                    "2022-07-19",
                    "2022-07-20",
                    "2022-07-21",
                    "2022-07-22",
                    "2022-07-23",
                    "2022-07-24",
                    "2022-07-25",
                    "2022-07-26",
                    "2022-07-27",
                    "2022-07-28",
                    "2022-07-29",
                    "2022-07-30",
                    "2022-07-31",
                    "2022-08-01",
                    "2022-08-02",
                    "2022-08-03",
                    "2022-08-04",
                    "2022-08-05",
                    "2022-08-06",
                    "2022-08-07",
                    "2022-08-08",
                    "2022-08-09",
                    "2022-08-10",
                    "2022-08-11",
                    "2022-08-12",
                    "2022-08-13",
                    "2022-08-14",
                    "2022-08-15",
                    "2022-08-16",
                    "2022-08-17",
                    "2022-08-18",
                    "2022-08-19",
                    "2022-08-20",
                    "2022-08-21",
                    "2022-08-22",
                    "2022-08-23",
                    "2022-08-24",
                    "2022-08-25",
                    "2022-08-26",
                    "2022-08-27",
                    "2022-08-28",
                    "2022-08-29",
                    "2022-08-30",
                    "2022-08-31",
                    "2022-09-01",
                    "2022-09-02",
                    "2022-09-03",
                    "2022-09-04",
                    "2022-09-05",
                    "2022-09-06",
                    "2022-09-07",
                    "2022-09-08",
                    "2022-09-09",
                    "2022-09-10",
                    "2022-09-11",
                    "2022-09-12",
                    "2022-09-13",
                    "2022-09-14",
                    "2022-09-15",
                    "2022-09-16",
                    "2022-09-17",
                    "2022-09-18",
                    "2022-09-19",
                    "2022-09-20",
                    "2022-09-21",
                    "2022-09-22",
                    "2022-09-23",
                    "2022-09-24",
                    "2022-09-25",
                    "2022-09-26",
                    "2022-09-27",
                    "2022-09-28",
                    "2022-09-29",
                    "2022-09-30",
                    "2022-10-01",
                    "2022-10-02",
                    "2022-10-03",
                    "2022-10-04",
                    "2022-10-05",
                    "2022-10-06",
                    "2022-10-07",
                    "2022-10-08",
                    "2022-10-09",
                    "2022-10-10",
                    "2022-10-11",
                    "2022-10-12",
                    "2022-10-13",
                    "2022-10-14",
                    "2022-10-15",
                    "2022-10-16",
                    "2022-10-17",
                    "2022-10-18",
                    "2022-10-19",
                    "2022-10-20",
                    "2022-10-21",
                    "2022-10-22",
                    "2022-10-23",
                    "2022-10-24",
                    "2022-10-25",
                    "2022-10-26",
                    "2022-10-27",
                    "2022-10-28",
                    "2022-10-29",
                    "2022-10-30",
                    "2022-10-31",
                    "2022-11-01",
                    "2022-11-02",
                    "2022-11-03",
                    "2022-11-04",
                    "2022-11-05",
                    "2022-11-06",
                    "2022-11-07",
                    "2022-11-08",
                    "2022-11-09",
                    "2022-11-10",
                    "2022-11-11",
                    "2022-11-12",
                    "2022-11-13",
                    "2022-11-14",
                    "2022-11-15",
                    "2022-11-16",
                    "2022-11-17",
                    "2022-11-18",
                    "2022-11-19",
                    "2022-11-20",
                    "2022-11-21",
                    "2022-11-22",
                    "2022-11-23",
                    "2022-11-24",
                    "2022-11-25",
                    "2022-11-26",
                    "2022-11-27",
                    "2022-11-28",
                    "2022-11-29",
                    "2022-11-30",
                    "2022-12-01",
                    "2022-12-02",
                    "2022-12-03",
                    "2022-12-04",
                    "2022-12-05",
                    "2022-12-06",
                    "2022-12-07",
                    "2022-12-08",
                    "2022-12-09",
                    "2022-12-10",
                    "2022-12-11",
                    "2022-12-12",
                    "2022-12-13",
                    "2022-12-14",
                    "2022-12-15",
                    "2022-12-16",
                    "2022-12-17",
                    "2022-12-18",
                    "2022-12-19",
                    "2022-12-20",
                    "2022-12-21",
                    "2022-12-22",
                    "2022-12-23",
                    "2022-12-24",
                    "2022-12-25",
                    "2022-12-26",
                    "2022-12-27",
                    "2022-12-28",
                    "2022-12-29",
                    "2022-12-30",
                    "2022-12-31",
                    "2023-01-01",
                    "2023-01-02",
                    "2023-01-03",
                    "2023-01-04",
                    "2023-01-05",
                    "2023-01-06",
                    "2023-01-07",
                    "2023-01-08",
                    "2023-01-09",
                    "2023-01-10",
                    "2023-01-11",
                    "2023-01-12",
                    "2023-01-13",
                    "2023-01-14",
                    "2023-01-15",
                    "2023-01-16",
                    "2023-01-17",
                    "2023-01-18",
                    "2023-01-19",
                    "2023-01-20",
                    "2023-01-21",
                    "2023-01-22",
                    "2023-01-23",
                    "2023-01-24",
                    "2023-01-25",
                    "2023-01-26",
                    "2023-01-27",
                    "2023-01-28",
                    "2023-01-29",
                    "2023-01-30",
                    "2023-01-31",
                    "2023-02-01",
                    "2023-02-02",
                    "2023-02-03",
                    "2023-02-04",
                    "2023-02-05",
                    "2023-02-06",
                    "2023-02-07",
                    "2023-02-08",
                    "2023-02-09",
                    "2023-02-10",
                    "2023-02-11",
                    "2023-02-12",
                    "2023-02-13",
                    "2023-02-14",
                    "2023-02-15",
                    "2023-02-16",
                    "2023-02-17",
                    "2023-02-18",
                    "2023-02-19",
                    "2023-02-20",
                    "2023-02-21",
                    "2023-02-22",
                    "2023-02-23",
                    "2023-02-24",
                    "2023-02-25",
                    "2023-02-26",
                    "2023-02-27",
                    "2023-02-28",
                    "2023-03-01",
                    "2023-03-02",
                    "2023-03-03",
                    "2023-03-04",
                    "2023-03-05",
                    "2023-03-06",
                    "2023-03-07",
                    "2023-03-08",
                    "2023-03-09",
                    "2023-03-10",
                    "2023-03-11",
                    "2023-03-12",
                    "2023-03-13",
                    "2023-03-14",
                    "2023-03-15",
                    "2023-03-16",
                    "2023-03-17",
                    "2023-03-18",
                    "2023-03-19",
                    "2023-03-20",
                    "2023-03-21",
                    "2023-03-22",
                    "2023-03-23",
                    "2023-03-24",
                    "2023-03-25",
                    "2023-03-26",
                    "2023-03-27",
                    "2023-03-28",
                    "2023-03-29",
                    "2023-03-30",
                    "2023-03-31",
                    "2023-04-01",
                    "2023-04-02",
                    "2023-04-03",
                    "2023-04-04",
                    "2023-04-05",
                    "2023-04-06",
                    "2023-04-07",
                    "2023-04-08",
                    "2023-04-09",
                    "2023-04-10",
                    "2023-04-11",
                    "2023-04-12",
                    "2023-04-13",
                    "2023-04-14",
                    "2023-04-15",
                    "2023-04-16",
                    "2023-04-17",
                    "2023-04-18",
                    "2023-04-19",
                    "2023-04-20",
                    "2023-04-21",
                    "2023-04-22",
                    "2023-04-23",
                    "2023-04-24",
                    "2023-04-25",
                    "2023-04-26",
                    "2023-04-27",
                    "2023-04-28",
                    "2023-04-29",
                    "2023-04-30",
                    "2023-05-01",
                    "2023-05-02",
                    "2023-05-03",
                    "2023-05-04",
                    "2023-05-05",
                    "2023-05-06",
                    "2023-05-07",
                    "2023-05-08",
                    "2023-05-09",
                    "2023-05-10",
                    "2023-05-11",
                    "2023-05-12",
                    "2023-05-13",
                    "2023-05-14",
                    "2023-05-15",
                    "2023-05-16",
                    "2023-05-17",
                    "2023-05-18",
                    "2023-05-19",
                    "2023-05-20",
                    "2023-05-21",
                    "2023-05-22",
                    "2023-05-23",
                    "2023-05-24",
                    "2023-05-25",
                    "2023-05-26",
                    "2023-05-27",
                    "2023-05-28",
                    "2023-05-29",
                    "2023-05-30",
                    "2023-05-31",
                    "2023-06-01",
                    "2023-06-02",
                    "2023-06-03",
                    "2023-06-04",
                    "2023-06-05",
                    "2023-06-06",
                    "2023-06-07",
                    "2023-06-08",
                    "2023-06-09",
                    "2023-06-10",
                    "2023-06-11",
                    "2023-06-12",
                    "2023-06-13",
                    "2023-06-14",
                    "2023-06-15",
                    "2023-06-16",
                    "2023-06-17",
                    "2023-06-18",
                    "2023-06-19",
                    "2023-06-20",
                    "2023-06-21",
                    "2023-06-22",
                    "2023-06-23",
                    "2023-06-24",
                    "2023-06-25",
                    "2023-06-26",
                    "2023-06-27",
                    "2023-06-28",
                    "2023-06-29",
                    "2023-06-30",
                    "2023-07-01",
                    "2023-07-02",
                    "2023-07-03",
                    "2023-07-04",
                    "2023-07-05",
                    "2023-07-06",
                    "2023-07-07",
                    "2023-07-08",
                    "2023-07-09",
                    "2023-07-10",
                    "2023-07-11",
                    "2023-07-12",
                    "2023-07-13",
                    "2023-07-14",
                    "2023-07-15",
                    "2023-07-16",
                    "2023-07-17",
                    "2023-07-18",
                    "2023-07-19",
                    "2023-07-20",
                    "2023-07-21",
                    "2023-07-22",
                    "2023-07-23",
                    "2023-07-24",
                    "2023-07-25",
                    "2023-07-26",
                    "2023-07-27",
                    "2023-07-28",
                    "2023-07-29",
                    "2023-07-30",
                    "2023-07-31",
                    "2023-08-01",
                    "2023-08-02",
                    "2023-08-03",
                    "2023-08-04",
                    "2023-08-05",
                    "2023-08-06",
                    "2023-08-07",
                    "2023-08-08",
                    "2023-08-09",
                    "2023-08-10",
                    "2023-08-11",
                    "2023-08-12",
                    "2023-08-13",
                    "2023-08-14",
                    "2023-08-15",
                    "2023-08-16",
                    "2023-08-17",
                    "2023-08-18",
                    "2023-08-19",
                    "2023-08-20",
                    "2023-08-21",
                    "2023-08-22",
                    "2023-08-23",
                    "2023-08-24",
                    "2023-08-25",
                    "2023-08-26",
                    "2023-08-27",
                    "2023-08-28",
                    "2023-08-29",
                    "2023-08-30",
                    "2023-08-31",
                    "2023-09-01",
                    "2023-09-02",
                    "2023-09-03",
                    "2023-09-04",
                    "2023-09-05",
                    "2023-09-06",
                    "2023-09-07",
                    "2023-09-08",
                    "2023-09-09",
                    "2023-09-10",
                    "2023-09-11",
                    "2023-09-12",
                    "2023-09-13",
                    "2023-09-14",
                    "2023-09-15",
                    "2023-09-16",
                    "2023-09-17",
                    "2023-09-18",
                    "2023-09-19",
                    "2023-09-20",
                    "2023-09-21",
                    "2023-09-22",
                    "2023-09-23",
                    "2023-09-24",
                    "2023-09-25",
                    "2023-09-26",
                    "2023-09-27",
                    "2023-09-28",
                    "2023-09-29",
                    "2023-09-30",
                    "2023-10-01",
                    "2023-10-02",
                    "2023-10-03",
                    "2023-10-04",
                    "2023-10-05",
                    "2023-10-06",
                    "2023-10-07",
                    "2023-10-08",
                    "2023-10-09",
                    "2023-10-10",
                    "2023-10-11",
                    "2023-10-12",
                    "2023-10-13",
                    "2023-10-14",
                    "2023-10-15",
                    "2023-10-16",
                    "2023-10-17",
                    "2023-10-18",
                    "2023-10-19",
                    "2023-10-20",
                    "2023-10-21",
                    "2023-10-22",
                    "2023-10-23",
                    "2023-10-24",
                    "2023-10-25",
                    "2023-10-26",
                    "2023-10-27",
                    "2023-10-28",
                    "2023-10-29",
                    "2023-10-30",
                    "2023-10-31",
                    "2023-11-01",
                    "2023-11-02",
                    "2023-11-03",
                    "2023-11-04",
                    "2023-11-05",
                    "2023-11-06",
                    "2023-11-07",
                    "2023-11-08",
                    "2023-11-09",
                    "2023-11-10",
                    "2023-11-11",
                    "2023-11-12",
                    "2023-11-13",
                    "2023-11-14",
                    "2023-11-15",
                    "2023-11-16",
                    "2023-11-17",
                    "2023-11-18",
                    "2023-11-19",
                    "2023-11-20",
                    "2023-11-21",
                    "2023-11-22",
                    "2023-11-23",
                    "2023-11-24",
                    "2023-11-25",
                    "2023-11-26",
                    "2023-11-27",
                    "2023-11-28",
                    "2023-11-29",
                    "2023-11-30",
                    "2023-12-01",
                    "2023-12-02",
                    "2023-12-03",
                    "2023-12-04",
                    "2023-12-05",
                    "2023-12-06",
                    "2023-12-07",
                    "2023-12-08",
                    "2023-12-09",
                    "2023-12-10",
                    "2023-12-11",
                    "2023-12-12",
                    "2023-12-13",
                    "2023-12-14",
                    "2023-12-15",
                    "2023-12-16",
                    "2023-12-17",
                    "2023-12-18",
                    "2023-12-19",
                    "2023-12-20",
                    "2023-12-21",
                    "2023-12-22",
                    "2023-12-23",
                    "2023-12-24",
                    "2023-12-25",
                    "2023-12-26",
                    "2023-12-27",
                    "2023-12-28",
                    "2023-12-29",
                    "2023-12-30",
                    "2023-12-31",
                    "2024-01-01",
                    "2024-01-02",
                    "2024-01-03",
                    "2024-01-04",
                    "2024-01-05",
                    "2024-01-06",
                    "2024-01-07",
                    "2024-01-08",
                    "2024-01-09",
                    "2024-01-10",
                    "2024-01-11",
                    "2024-01-12",
                    "2024-01-13",
                    "2024-01-14",
                    "2024-01-15",
                    "2024-01-16",
                    "2024-01-17",
                    "2024-01-18",
                    "2024-01-19",
                    "2024-01-20",
                    "2024-01-21",
                    "2024-01-22",
                    "2024-01-23",
                    "2024-01-24",
                    "2024-01-25",
                    "2024-01-26",
                    "2024-01-27",
                    "2024-01-28",
                    "2024-01-29",
                    "2024-01-30",
                    "2024-01-31",
                    "2024-02-01",
                    "2024-02-02",
                    "2024-02-03",
                    "2024-02-04",
                    "2024-02-05",
                    "2024-02-06",
                    "2024-02-07",
                    "2024-02-08"
                  ],
                  "xaxis": "x",
                  "y": [
                    3853.3953189849854,
                    3939.3478965759277,
                    4057.56272315979,
                    4197.371053695679,
                    4348.465938568115,
                    4497.014751434326,
                    4624.699840545654,
                    4708.518218994141,
                    4723.971328735352,
                    4653.8190269470215,
                    4503.37571144104,
                    4312.741594314575,
                    4146.4574909210205,
                    4057.612237930298,
                    4062.667808532715,
                    4151.460733413696,
                    4306.687288284302,
                    4509.226894378662,
                    4733.687477111816,
                    4941.70521736145,
                    5075.79909324646,
                    5059.643211364746,
                    4822.9710483551025,
                    4372.082796096802,
                    3874.2641067504883,
                    3561.2344002723694,
                    3481.2262678146362,
                    3542.809841632843,
                    3688.421106338501,
                    3894.2298126220703,
                    4141.264066696167,
                    4405.054006576538,
                    4653.01778793335,
                    4838.581705093384,
                    4901.041212081909,
                    4782.472467422485,
                    4471.134281158447,
                    4061.573419570923,
                    3727.868061065674,
                    3560.434567928314,
                    3509.1714477539062,
                    3513.214075565338,
                    3533.270230293274,
                    3543.8801765441895,
                    3526.509213447571,
                    3468.823380470276,
                    3374.647271633148,
                    3259.7430419921875,
                    3145.6102299690247,
                    3048.4277868270874,
                    2972.695789337158,
                    2917.6298785209656,
                    2878.4514570236206,
                    2851.1527824401855,
                    2830.7135915756226,
                    2815.055248737335,
                    2802.3604774475098,
                    2792.0878505706787,
                    2784.3736743927,
                    2779.461443424225,
                    2777.676661014557,
                    2779.152820110321,
                    2783.9187574386597,
                    2791.763894557953,
                    2802.2855019569397,
                    2814.878149032593,
                    2828.749740123749,
                    2843.0008506774902,
                    2856.8586564064026,
                    2870.058000087738,
                    2883.0677247047424,
                    2896.857306957245,
                    2912.472746372223,
                    2930.8026361465454,
                    2952.511065006256,
                    2978.042540550232,
                    3007.625787258148,
                    3041.270933151245,
                    3078.737156391144,
                    3119.5512533187866,
                    3163.214840888977,
                    3209.5667147636414,
                    3258.929283618927,
                    3312.1095538139343,
                    3370.2933478355408,
                    3434.604172706604,
                    3505.7657599449158,
                    3583.9902353286743,
                    3668.6686515808105,
                    3757.907772064209,
                    3847.9216861724854,
                    3932.3831939697266,
                    4002.1208095550537,
                    4045.993709564209,
                    4053.6814403533936,
                    4020.0282764434814,
                    3949.4894218444824,
                    3858.2663345336914,
                    3771.075325012207,
                    3711.6770124435425,
                    3692.6534938812256,
                    3711.530156135559,
                    3752.6738357543945,
                    3789.5437717437744,
                    3785.365400314331,
                    3695.768985748291,
                    3481.8381690979004,
                    3143.0936980247498,
                    2753.4746289253235,
                    2427.671377658844,
                    2218.6034178733826,
                    2102.3523020744324,
                    2042.554214000702,
                    2015.0829410552979,
                    2005.4831945896149,
                    2005.1163351535797,
                    2008.6174654960632,
                    2012.673386335373,
                    2015.5416560173035,
                    2016.721429824829,
                    2016.545877456665,
                    2015.7320487499237,
                    2015.0171792507172,
                    2014.9488151073456,
                    2015.8157455921173,
                    2017.6778948307037,
                    2020.4323649406433,
                    2023.8866531848907,
                    2027.818787097931,
                    2032.0191729068756,
                    2036.3191509246826,
                    2040.6004202365875,
                    2044.7982037067413,
                    2048.8936519622803,
                    2052.9049813747406,
                    2056.874040365219,
                    2060.856181383133,
                    2064.9113285541534,
                    2069.096873998642,
                    2073.4643721580505,
                    2078.0558824539185,
                    2082.9051649570465,
                    2088.0353593826294,
                    2093.4611654281616,
                    2099.1879987716675,
                    2105.2152967453003,
                    2111.534126996994,
                    2118.130352497101,
                    2124.9832952022552,
                    2132.066650390625,
                    2139.346024990082,
                    2146.7817509174347,
                    2154.327267408371,
                    2161.935099363327,
                    2169.5623433589935,
                    2177.1771383285522,
                    2184.757821559906,
                    2192.2922253608704,
                    2199.774441719055,
                    2207.2022902965546,
                    2214.5757710933685,
                    2221.8985414505005,
                    2229.1757357120514,
                    2236.4157938957214,
                    2243.6268043518066,
                    2250.8183324337006,
                    2258.0014204978943,
                    2265.1876032352448,
                    2272.389611005783,
                    2279.6159541606903,
                    2286.8713450431824,
                    2294.158034324646,
                    2301.477780342102,
                    2308.8309347629547,
                    2316.2173569202423,
                    2323.637046813965,
                    2331.089371442795,
                    2338.575174808502,
                    2346.0938942432404,
                    2353.64644408226,
                    2361.2327539920807,
                    2368.853597640991,
                    2376.5094673633575,
                    2384.200714826584,
                    2391.9275510311127,
                    2399.6898353099823,
                    2407.4877786636353,
                    2415.321170091629,
                    2423.1900095939636,
                    2431.0935938358307,
                    2439.0317821502686,
                    2447.003800868988,
                    2455.0100016593933,
                    2463.0485558509827,
                    2471.119604110718,
                    2479.222161769867,
                    2487.3556661605835,
                    2495.518991947174,
                    2503.7112951278687,
                    2511.9307470321655,
                    2520.1765036582947,
                    2528.446455001831,
                    2536.739616394043,
                    2545.0533151626587,
                    2553.3848786354065,
                    2561.7329001426697,
                    2570.094425678253,
                    2578.466079235077,
                    2586.844484806061,
                    2595.2268290519714,
                    2603.6086106300354,
                    2611.9860315322876,
                    2620.354027748108,
                    2628.7092232704163,
                    2637.0448660850525,
                    2645.35617351532,
                    2653.63737821579,
                    2661.8817281723022,
                    2670.082471370697,
                    2678.2327151298523,
                    2686.3254261016846,
                    2694.3521642684937,
                    2702.3044896125793,
                    2710.173680782318,
                    2717.9501724243164,
                    2725.624680519104,
                    2733.1866550445557,
                    2740.6254053115845,
                    2747.930521965027,
                    2755.0901889801025,
                    2762.0930123329163,
                    2768.927035331726,
                    2775.57945728302,
                    2782.0381808280945,
                    2788.290264606476,
                    2794.323470592499,
                    2800.125138759613,
                    2805.6830310821533,
                    2810.985050201416,
                    2816.018958091736,
                    2820.7742047309875,
                    2825.2403807640076,
                    2829.4073581695557,
                    2833.2668375968933,
                    2836.8115043640137,
                    2840.0354504585266,
                    2842.933611869812,
                    2845.504722595215,
                    2847.7476572990417,
                    2849.663119316101,
                    2851.2546253204346,
                    2852.5289273262024,
                    2853.4944653511047,
                    2854.160945415497,
                    2854.5421528816223,
                    2854.655249118805,
                    2854.5173954963684,
                    2854.15025472641,
                    2853.5764741897583,
                    2852.8216552734375,
                    2851.91210269928,
                    2850.877215862274,
                    2849.746253490448,
                    2848.5503029823303,
                    2847.321014404297,
                    2846.0897564888,
                    2844.8877573013306,
                    2843.747088909149,
                    2842.697994709015,
                    2841.7694520950317,
                    2840.989031791687,
                    2840.3836011886597,
                    2839.9770736694336,
                    2839.7920966148376,
                    2839.8487854003906,
                    2840.1650047302246,
                    2840.7565093040466,
                    2841.6356778144836,
                    2842.8141856193542,
                    2844.3001914024353,
                    2846.0994625091553,
                    2848.2156562805176,
                    2850.650601387024,
                    2853.404016494751,
                    2856.4712595939636,
                    2859.85050201416,
                    2863.5340070724487,
                    2867.5127720832825,
                    2871.776669025421,
                    2876.3147258758545,
                    2881.111891269684,
                    2886.153817176819,
                    2891.4213728904724,
                    2896.897678375244,
                    2902.5607895851135,
                    2908.3890438079834,
                    2914.35852766037,
                    2920.4430770874023,
                    2926.61568403244,
                    2932.846245765686,
                    2939.104096889496,
                    2945.355899333954,
                    2951.568033695221,
                    2957.7037858963013,
                    2963.7253165245056,
                    2969.5932388305664,
                    2975.2670407295227,
                    2980.7053661346436,
                    2985.8653116226196,
                    2990.7041144371033,
                    2995.177745819092,
                    2999.2440056800842,
                    3002.859287261963,
                    3005.9840631484985,
                    3008.5789465904236,
                    3010.608067512512,
                    3012.0397758483887,
                    3012.845516204834,
                    3013.003625869751,
                    3012.4970841407776,
                    3011.3174510002136,
                    3009.4644451141357,
                    3006.947069168091,
                    3003.7833285331726,
                    3000.001356601715,
                    2995.641384124756,
                    2990.7529258728027,
                    2985.395061969757,
                    2979.6403765678406,
                    2973.5653924942017,
                    2967.257182598114,
                    2960.810134410858,
                    2954.3196201324463,
                    2947.8856539726257,
                    2941.607828140259,
                    2935.5854535102844,
                    2929.912214279175,
                    2924.6770119667053,
                    2919.9631214141846,
                    2915.8446741104126,
                    2912.3889088630676,
                    2909.6518111228943,
                    2907.6833176612854,
                    2906.5223932266235,
                    2906.201672554016,
                    2906.7443656921387,
                    2908.1691813468933,
                    2910.486388206482,
                    2913.7031602859497,
                    2917.822732925415,
                    2922.8427147865295,
                    2928.76029253006,
                    2935.567729473114,
                    2943.2577109336853,
                    2951.819405555725,
                    2961.240153312683,
                    2971.5071535110474,
                    2982.604651451111,
                    2994.514079093933,
                    3007.2161650657654,
                    3020.687699317932,
                    3034.9004077911377,
                    3049.8247504234314,
                    3065.4231691360474,
                    3081.6517758369446,
                    3098.4592270851135,
                    3115.784332752228,
                    3133.5536646842957,
                    3151.681697368622,
                    3170.0664472579956,
                    3188.588206768036,
                    3207.1056056022644,
                    3225.4561734199524,
                    3243.449447154999,
                    3260.8685183525085,
                    3277.4659538269043,
                    3292.9621076583862,
                    3307.045683860779,
                    3319.3747210502625,
                    3329.576451778412,
                    3337.252929210663,
                    3341.9856691360474,
                    3343.3416986465454,
                    3340.887200832367,
                    3334.1924381256104,
                    3322.8556656837463,
                    3306.513681411743,
                    3284.8724913597107,
                    3257.741210460663,
                    3225.077919960022,
                    3187.045090198517,
                    3144.0792107582092,
                    3096.9488859176636,
                    3046.7840933799744,
                    2995.0529742240906,
                    2943.4599900245667,
                    2893.7695264816284,
                    2847.588984966278,
                    2806.173677444458,
                    2770.3043055534363,
                    2740.269799232483,
                    2715.937650203705,
                    2696.8755888938904,
                    2682.4864840507507,
                    2672.119610309601,
                    2665.152235031128,
                    2661.040680408478,
                    2659.340579509735,
                    2659.7087049484253,
                    2661.893825531006,
                    2665.7182788848877,
                    2671.0599660873413,
                    2677.8350496292114,
                    2685.98726272583,
                    2695.475811958313,
                    2706.2711572647095,
                    2718.354308605194,
                    2731.7131686210632,
                    2746.345627307892,
                    2762.258858680725,
                    2779.4721341133118,
                    2798.0120396614075,
                    2817.9166960716248,
                    2839.234914779663,
                    2862.0195865631104,
                    2886.3309168815613,
                    2912.2322058677673,
                    2939.7852063179016,
                    2969.0506863594055,
                    3000.0804114341736,
                    3032.914752960205,
                    3067.575373649597,
                    3104.058756828308,
                    3142.3241090774536,
                    3182.2850608825684,
                    3223.7937712669373,
                    3266.62193775177,
                    3310.442931652069,
                    3354.8097133636475,
                    3399.129512310028,
                    3442.64497756958,
                    3484.41490650177,
                    3523.310868740082,
                    3558.0338048934937,
                    3587.157211303711,
                    3609.2142128944397,
                    3622.8148794174194,
                    3626.7859077453613,
                    3620.298910140991,
                    3602.9109263420105,
                    3574.4666600227356,
                    3534.809830188751,
                    3483.3615922927856,
                    3418.713026046753,
                    3338.518509864807,
                    3240.051074028015,
                    3121.686999797821,
                    2985.1255440711975,
                    2837.214515209198,
                    2689.5267248153687,
                    2554.8893117904663,
                    2442.8106594085693,
                    2356.9154739379883,
                    2295.561890602112,
                    2254.2322492599487,
                    2227.773426771164,
                    2211.6319632530212,
                    2202.245749235153,
                    2197.026582956314,
                    2194.2196440696716,
                    2192.7416563034058,
                    2192.0146894454956,
                    2191.804040670395,
                    2192.074613571167,
                    2192.8786659240723,
                    2194.280904531479,
                    2196.3203644752502,
                    2198.9965534210205,
                    2202.273601293564,
                    2206.0921466350555,
                    2210.383051633835,
                    2215.0786554813385,
                    2220.121636390686,
                    2225.4698646068573,
                    2231.096965074539,
                    2236.9924581050873,
                    2243.1564140319824,
                    2249.59769487381,
                    2256.3291013240814,
                    2263.3628010749817,
                    2270.711454153061,
                    2278.380124568939,
                    2286.3702189922333,
                    2294.6756184101105,
                    2303.2836627960205,
                    2312.1743071079254,
                    2321.3201916217804,
                    2330.688259601593,
                    2340.2379989624023,
                    2349.924747943878,
                    2359.6986401081085,
                    2369.5085430145264,
                    2379.303535223007,
                    2389.036282300949,
                    2398.6666238307953,
                    2408.1641054153442,
                    2417.509877681732,
                    2426.6964852809906,
                    2435.7278668880463,
                    2444.6150648593903,
                    2453.375451564789,
                    2462.030689716339,
                    2470.601387023926,
                    2479.1080808639526,
                    2487.569479942322,
                    2496.0013389587402,
                    2504.4163179397583,
                    2512.824544906616,
                    2521.233334541321,
                    2529.648594856262,
                    2538.072717189789,
                    2546.505982875824,
                    2554.9476885795593,
                    2563.395302295685,
                    2571.8448853492737,
                    2580.292499065399,
                    2588.733501434326,
                    2597.1638131141663,
                    2605.5775260925293,
                    2613.970983028412,
                    2622.3384165763855,
                    2630.6757473945618,
                    2638.976786136627,
                    2647.23801612854,
                    2655.452404022217,
                    2663.6160111427307,
                    2671.72194480896,
                    2679.764015674591,
                    2687.7360343933105,
                    2695.63138961792,
                    2703.4413599967957,
                    2711.160318851471,
                    2718.7787008285522,
                    2726.288628578186,
                    2733.680818080902,
                    2740.9462666511536,
                    2748.0748462677,
                    2755.0574135780334,
                    2761.882996559143,
                    2768.540201187134,
                    2775.0196027755737,
                    2781.308400630951,
                    2787.3954820632935,
                    2793.2697343826294,
                    2798.918778896332,
                    2804.3316435813904,
                    2809.496512413025,
                    2814.403257369995,
                    2819.041609764099,
                    2823.400456905365,
                    2827.471921443939,
                    2831.2484073638916,
                    2834.722318649292,
                    2837.8892946243286,
                    2840.7453966140747,
                    2843.2889366149902,
                    2845.5189299583435,
                    2847.4379086494446,
                    2849.0510773658752,
                    2850.3627967834473,
                    2851.383054256439,
                    2852.1222591400146,
                    2852.5949001312256,
                    2852.8153252601624,
                    2852.8023838996887,
                    2852.575206756592,
                    2852.156722545624,
                    2851.570563316345,
                    2850.8421897888184,
                    2849.998469352722,
                    2849.0675354003906,
                    2848.0785059928894,
                    2847.0603585243225,
                    2846.0438990592957,
                    2845.056276321411,
                    2844.1282963752747,
                    2843.28809261322,
                    2842.56196975708,
                    2841.9766545295715,
                    2841.5573263168335,
                    2841.32536649704,
                    2841.3028597831726,
                    2841.5086555480957,
                    2841.958508491516,
                    2842.6678919792175,
                    2843.6484813690186,
                    2844.911530017853,
                    2846.4640712738037,
                    2848.31271648407,
                    2850.4598569869995,
                    2852.907884120941,
                    2855.6559538841248,
                    2858.702518939972,
                    2862.041389942169,
                    2865.667221546173,
                    2869.571855068207,
                    2873.7457251548767,
                    2878.1763124465942,
                    2882.8510975837708,
                    2887.7546072006226,
                    2892.870523929596,
                    2898.180983066559,
                    2903.665165901184,
                    2909.301972389221,
                    2915.0681924819946,
                    2920.938928127289,
                    2926.886749267578,
                    2932.8845071792603,
                    2938.901114463806,
                    2944.9068903923035,
                    2950.8675122261047,
                    2956.7486572265625,
                    2962.514455318451,
                    2968.127348423004,
                    2973.549919128418,
                    2978.74151468277,
                    2983.6630296707153,
                    2988.273811340332,
                    2992.5330662727356,
                    2996.401267051697,
                    2999.8401522636414,
                    3002.8103351593018,
                    3005.2779150009155,
                    3007.210397720337,
                    3008.5782432556152,
                    3009.356553554535,
                    3009.5276045799255,
                    3009.076063632965,
                    3007.9968667030334,
                    3006.2905764579773,
                    3003.967320919037,
                    3001.045105457306,
                    2997.5523447990417,
                    2993.5277223587036,
                    2989.0169548988342,
                    2984.078278541565,
                    2978.7765407562256,
                    2973.185451030731,
                    2967.386736869812,
                    2961.4653611183167,
                    2955.510928630829,
                    2949.616279602051,
                    2943.872847557068,
                    2938.3726286888123,
                    2933.2026958465576,
                    2928.446042537689,
                    2924.1813015937805,
                    2920.478103160858,
                    2917.399606704712,
                    2914.999828338623,
                    2913.3270168304443,
                    2912.4197149276733,
                    2912.3092913627625,
                    2913.0209255218506,
                    2914.5722007751465,
                    2916.976761817932,
                    2920.2417826652527,
                    2924.3713426589966,
                    2929.365441799164,
                    2935.2219700813293,
                    2941.9351601600647,
                    2949.4967126846313,
                    2957.8974843025208,
                    2967.1256589889526,
                    2977.1677327156067,
                    2988.007810115814,
                    2999.628167152405,
                    3012.0071411132812,
                    3025.1234912872314,
                    3038.9469742774963,
                    3053.445658683777,
                    3068.581564426422,
                    3084.3110847473145,
                    3100.580062866211,
                    3117.3267459869385,
                    3134.477846622467,
                    3151.9464325904846,
                    3169.631223678589,
                    3187.4147629737854,
                    3205.1570868492126,
                    3222.6996636390686,
                    3239.8575162887573,
                    3256.4207696914673,
                    3272.1521186828613,
                    3286.7840147018433,
                    3300.021197795868,
                    3311.539571285248,
                    3320.98845243454,
                    3327.994933128357,
                    3332.168662548065,
                    3333.1111311912537,
                    3330.419750213623,
                    3323.7048721313477,
                    3312.6034355163574,
                    3296.792891025543,
                    3276.0224294662476,
                    3250.1408338546753,
                    3219.139804840088,
                    3183.203616142273,
                    3142.7629899978638,
                    3098.543486595154,
                    3051.584072113037,
                    3003.2101106643677,
                    2954.9451661109924,
                    2908.3638644218445,
                    2864.909448623657,
                    2825.7304644584656,
                    2791.573712825775,
                    2762.7603363990784,
                    2739.236319065094,
                    2720.6720781326294,
                    2706.5710592269897,
                    2696.3705945014954,
                    2689.519410133362,
                    2685.522358417511,
                    2683.966019153595,
                    2684.5258736610413,
                    2686.9570207595825,
                    2691.0855960845947,
                    2696.7878127098083
                  ],
                  "yaxis": "y"
                }
              ],
              "layout": {
                "legend": {
                  "tracegroupgap": 0
                },
                "margin": {
                  "t": 60
                },
                "template": {
                  "data": {
                    "bar": [
                      {
                        "error_x": {
                          "color": "#2a3f5f"
                        },
                        "error_y": {
                          "color": "#2a3f5f"
                        },
                        "marker": {
                          "line": {
                            "color": "#E5ECF6",
                            "width": 0.5
                          },
                          "pattern": {
                            "fillmode": "overlay",
                            "size": 10,
                            "solidity": 0.2
                          }
                        },
                        "type": "bar"
                      }
                    ],
                    "barpolar": [
                      {
                        "marker": {
                          "line": {
                            "color": "#E5ECF6",
                            "width": 0.5
                          },
                          "pattern": {
                            "fillmode": "overlay",
                            "size": 10,
                            "solidity": 0.2
                          }
                        },
                        "type": "barpolar"
                      }
                    ],
                    "carpet": [
                      {
                        "aaxis": {
                          "endlinecolor": "#2a3f5f",
                          "gridcolor": "white",
                          "linecolor": "white",
                          "minorgridcolor": "white",
                          "startlinecolor": "#2a3f5f"
                        },
                        "baxis": {
                          "endlinecolor": "#2a3f5f",
                          "gridcolor": "white",
                          "linecolor": "white",
                          "minorgridcolor": "white",
                          "startlinecolor": "#2a3f5f"
                        },
                        "type": "carpet"
                      }
                    ],
                    "choropleth": [
                      {
                        "colorbar": {
                          "outlinewidth": 0,
                          "ticks": ""
                        },
                        "type": "choropleth"
                      }
                    ],
                    "contour": [
                      {
                        "colorbar": {
                          "outlinewidth": 0,
                          "ticks": ""
                        },
                        "colorscale": [
                          [
                            0,
                            "#0d0887"
                          ],
                          [
                            0.1111111111111111,
                            "#46039f"
                          ],
                          [
                            0.2222222222222222,
                            "#7201a8"
                          ],
                          [
                            0.3333333333333333,
                            "#9c179e"
                          ],
                          [
                            0.4444444444444444,
                            "#bd3786"
                          ],
                          [
                            0.5555555555555556,
                            "#d8576b"
                          ],
                          [
                            0.6666666666666666,
                            "#ed7953"
                          ],
                          [
                            0.7777777777777778,
                            "#fb9f3a"
                          ],
                          [
                            0.8888888888888888,
                            "#fdca26"
                          ],
                          [
                            1,
                            "#f0f921"
                          ]
                        ],
                        "type": "contour"
                      }
                    ],
                    "contourcarpet": [
                      {
                        "colorbar": {
                          "outlinewidth": 0,
                          "ticks": ""
                        },
                        "type": "contourcarpet"
                      }
                    ],
                    "heatmap": [
                      {
                        "colorbar": {
                          "outlinewidth": 0,
                          "ticks": ""
                        },
                        "colorscale": [
                          [
                            0,
                            "#0d0887"
                          ],
                          [
                            0.1111111111111111,
                            "#46039f"
                          ],
                          [
                            0.2222222222222222,
                            "#7201a8"
                          ],
                          [
                            0.3333333333333333,
                            "#9c179e"
                          ],
                          [
                            0.4444444444444444,
                            "#bd3786"
                          ],
                          [
                            0.5555555555555556,
                            "#d8576b"
                          ],
                          [
                            0.6666666666666666,
                            "#ed7953"
                          ],
                          [
                            0.7777777777777778,
                            "#fb9f3a"
                          ],
                          [
                            0.8888888888888888,
                            "#fdca26"
                          ],
                          [
                            1,
                            "#f0f921"
                          ]
                        ],
                        "type": "heatmap"
                      }
                    ],
                    "heatmapgl": [
                      {
                        "colorbar": {
                          "outlinewidth": 0,
                          "ticks": ""
                        },
                        "colorscale": [
                          [
                            0,
                            "#0d0887"
                          ],
                          [
                            0.1111111111111111,
                            "#46039f"
                          ],
                          [
                            0.2222222222222222,
                            "#7201a8"
                          ],
                          [
                            0.3333333333333333,
                            "#9c179e"
                          ],
                          [
                            0.4444444444444444,
                            "#bd3786"
                          ],
                          [
                            0.5555555555555556,
                            "#d8576b"
                          ],
                          [
                            0.6666666666666666,
                            "#ed7953"
                          ],
                          [
                            0.7777777777777778,
                            "#fb9f3a"
                          ],
                          [
                            0.8888888888888888,
                            "#fdca26"
                          ],
                          [
                            1,
                            "#f0f921"
                          ]
                        ],
                        "type": "heatmapgl"
                      }
                    ],
                    "histogram": [
                      {
                        "marker": {
                          "pattern": {
                            "fillmode": "overlay",
                            "size": 10,
                            "solidity": 0.2
                          }
                        },
                        "type": "histogram"
                      }
                    ],
                    "histogram2d": [
                      {
                        "colorbar": {
                          "outlinewidth": 0,
                          "ticks": ""
                        },
                        "colorscale": [
                          [
                            0,
                            "#0d0887"
                          ],
                          [
                            0.1111111111111111,
                            "#46039f"
                          ],
                          [
                            0.2222222222222222,
                            "#7201a8"
                          ],
                          [
                            0.3333333333333333,
                            "#9c179e"
                          ],
                          [
                            0.4444444444444444,
                            "#bd3786"
                          ],
                          [
                            0.5555555555555556,
                            "#d8576b"
                          ],
                          [
                            0.6666666666666666,
                            "#ed7953"
                          ],
                          [
                            0.7777777777777778,
                            "#fb9f3a"
                          ],
                          [
                            0.8888888888888888,
                            "#fdca26"
                          ],
                          [
                            1,
                            "#f0f921"
                          ]
                        ],
                        "type": "histogram2d"
                      }
                    ],
                    "histogram2dcontour": [
                      {
                        "colorbar": {
                          "outlinewidth": 0,
                          "ticks": ""
                        },
                        "colorscale": [
                          [
                            0,
                            "#0d0887"
                          ],
                          [
                            0.1111111111111111,
                            "#46039f"
                          ],
                          [
                            0.2222222222222222,
                            "#7201a8"
                          ],
                          [
                            0.3333333333333333,
                            "#9c179e"
                          ],
                          [
                            0.4444444444444444,
                            "#bd3786"
                          ],
                          [
                            0.5555555555555556,
                            "#d8576b"
                          ],
                          [
                            0.6666666666666666,
                            "#ed7953"
                          ],
                          [
                            0.7777777777777778,
                            "#fb9f3a"
                          ],
                          [
                            0.8888888888888888,
                            "#fdca26"
                          ],
                          [
                            1,
                            "#f0f921"
                          ]
                        ],
                        "type": "histogram2dcontour"
                      }
                    ],
                    "mesh3d": [
                      {
                        "colorbar": {
                          "outlinewidth": 0,
                          "ticks": ""
                        },
                        "type": "mesh3d"
                      }
                    ],
                    "parcoords": [
                      {
                        "line": {
                          "colorbar": {
                            "outlinewidth": 0,
                            "ticks": ""
                          }
                        },
                        "type": "parcoords"
                      }
                    ],
                    "pie": [
                      {
                        "automargin": true,
                        "type": "pie"
                      }
                    ],
                    "scatter": [
                      {
                        "marker": {
                          "colorbar": {
                            "outlinewidth": 0,
                            "ticks": ""
                          }
                        },
                        "type": "scatter"
                      }
                    ],
                    "scatter3d": [
                      {
                        "line": {
                          "colorbar": {
                            "outlinewidth": 0,
                            "ticks": ""
                          }
                        },
                        "marker": {
                          "colorbar": {
                            "outlinewidth": 0,
                            "ticks": ""
                          }
                        },
                        "type": "scatter3d"
                      }
                    ],
                    "scattercarpet": [
                      {
                        "marker": {
                          "colorbar": {
                            "outlinewidth": 0,
                            "ticks": ""
                          }
                        },
                        "type": "scattercarpet"
                      }
                    ],
                    "scattergeo": [
                      {
                        "marker": {
                          "colorbar": {
                            "outlinewidth": 0,
                            "ticks": ""
                          }
                        },
                        "type": "scattergeo"
                      }
                    ],
                    "scattergl": [
                      {
                        "marker": {
                          "colorbar": {
                            "outlinewidth": 0,
                            "ticks": ""
                          }
                        },
                        "type": "scattergl"
                      }
                    ],
                    "scattermapbox": [
                      {
                        "marker": {
                          "colorbar": {
                            "outlinewidth": 0,
                            "ticks": ""
                          }
                        },
                        "type": "scattermapbox"
                      }
                    ],
                    "scatterpolar": [
                      {
                        "marker": {
                          "colorbar": {
                            "outlinewidth": 0,
                            "ticks": ""
                          }
                        },
                        "type": "scatterpolar"
                      }
                    ],
                    "scatterpolargl": [
                      {
                        "marker": {
                          "colorbar": {
                            "outlinewidth": 0,
                            "ticks": ""
                          }
                        },
                        "type": "scatterpolargl"
                      }
                    ],
                    "scatterternary": [
                      {
                        "marker": {
                          "colorbar": {
                            "outlinewidth": 0,
                            "ticks": ""
                          }
                        },
                        "type": "scatterternary"
                      }
                    ],
                    "surface": [
                      {
                        "colorbar": {
                          "outlinewidth": 0,
                          "ticks": ""
                        },
                        "colorscale": [
                          [
                            0,
                            "#0d0887"
                          ],
                          [
                            0.1111111111111111,
                            "#46039f"
                          ],
                          [
                            0.2222222222222222,
                            "#7201a8"
                          ],
                          [
                            0.3333333333333333,
                            "#9c179e"
                          ],
                          [
                            0.4444444444444444,
                            "#bd3786"
                          ],
                          [
                            0.5555555555555556,
                            "#d8576b"
                          ],
                          [
                            0.6666666666666666,
                            "#ed7953"
                          ],
                          [
                            0.7777777777777778,
                            "#fb9f3a"
                          ],
                          [
                            0.8888888888888888,
                            "#fdca26"
                          ],
                          [
                            1,
                            "#f0f921"
                          ]
                        ],
                        "type": "surface"
                      }
                    ],
                    "table": [
                      {
                        "cells": {
                          "fill": {
                            "color": "#EBF0F8"
                          },
                          "line": {
                            "color": "white"
                          }
                        },
                        "header": {
                          "fill": {
                            "color": "#C8D4E3"
                          },
                          "line": {
                            "color": "white"
                          }
                        },
                        "type": "table"
                      }
                    ]
                  },
                  "layout": {
                    "annotationdefaults": {
                      "arrowcolor": "#2a3f5f",
                      "arrowhead": 0,
                      "arrowwidth": 1
                    },
                    "autotypenumbers": "strict",
                    "coloraxis": {
                      "colorbar": {
                        "outlinewidth": 0,
                        "ticks": ""
                      }
                    },
                    "colorscale": {
                      "diverging": [
                        [
                          0,
                          "#8e0152"
                        ],
                        [
                          0.1,
                          "#c51b7d"
                        ],
                        [
                          0.2,
                          "#de77ae"
                        ],
                        [
                          0.3,
                          "#f1b6da"
                        ],
                        [
                          0.4,
                          "#fde0ef"
                        ],
                        [
                          0.5,
                          "#f7f7f7"
                        ],
                        [
                          0.6,
                          "#e6f5d0"
                        ],
                        [
                          0.7,
                          "#b8e186"
                        ],
                        [
                          0.8,
                          "#7fbc41"
                        ],
                        [
                          0.9,
                          "#4d9221"
                        ],
                        [
                          1,
                          "#276419"
                        ]
                      ],
                      "sequential": [
                        [
                          0,
                          "#0d0887"
                        ],
                        [
                          0.1111111111111111,
                          "#46039f"
                        ],
                        [
                          0.2222222222222222,
                          "#7201a8"
                        ],
                        [
                          0.3333333333333333,
                          "#9c179e"
                        ],
                        [
                          0.4444444444444444,
                          "#bd3786"
                        ],
                        [
                          0.5555555555555556,
                          "#d8576b"
                        ],
                        [
                          0.6666666666666666,
                          "#ed7953"
                        ],
                        [
                          0.7777777777777778,
                          "#fb9f3a"
                        ],
                        [
                          0.8888888888888888,
                          "#fdca26"
                        ],
                        [
                          1,
                          "#f0f921"
                        ]
                      ],
                      "sequentialminus": [
                        [
                          0,
                          "#0d0887"
                        ],
                        [
                          0.1111111111111111,
                          "#46039f"
                        ],
                        [
                          0.2222222222222222,
                          "#7201a8"
                        ],
                        [
                          0.3333333333333333,
                          "#9c179e"
                        ],
                        [
                          0.4444444444444444,
                          "#bd3786"
                        ],
                        [
                          0.5555555555555556,
                          "#d8576b"
                        ],
                        [
                          0.6666666666666666,
                          "#ed7953"
                        ],
                        [
                          0.7777777777777778,
                          "#fb9f3a"
                        ],
                        [
                          0.8888888888888888,
                          "#fdca26"
                        ],
                        [
                          1,
                          "#f0f921"
                        ]
                      ]
                    },
                    "colorway": [
                      "#636efa",
                      "#EF553B",
                      "#00cc96",
                      "#ab63fa",
                      "#FFA15A",
                      "#19d3f3",
                      "#FF6692",
                      "#B6E880",
                      "#FF97FF",
                      "#FECB52"
                    ],
                    "font": {
                      "color": "#2a3f5f"
                    },
                    "geo": {
                      "bgcolor": "white",
                      "lakecolor": "white",
                      "landcolor": "#E5ECF6",
                      "showlakes": true,
                      "showland": true,
                      "subunitcolor": "white"
                    },
                    "hoverlabel": {
                      "align": "left"
                    },
                    "hovermode": "closest",
                    "mapbox": {
                      "style": "light"
                    },
                    "paper_bgcolor": "white",
                    "plot_bgcolor": "#E5ECF6",
                    "polar": {
                      "angularaxis": {
                        "gridcolor": "white",
                        "linecolor": "white",
                        "ticks": ""
                      },
                      "bgcolor": "#E5ECF6",
                      "radialaxis": {
                        "gridcolor": "white",
                        "linecolor": "white",
                        "ticks": ""
                      }
                    },
                    "scene": {
                      "xaxis": {
                        "backgroundcolor": "#E5ECF6",
                        "gridcolor": "white",
                        "gridwidth": 2,
                        "linecolor": "white",
                        "showbackground": true,
                        "ticks": "",
                        "zerolinecolor": "white"
                      },
                      "yaxis": {
                        "backgroundcolor": "#E5ECF6",
                        "gridcolor": "white",
                        "gridwidth": 2,
                        "linecolor": "white",
                        "showbackground": true,
                        "ticks": "",
                        "zerolinecolor": "white"
                      },
                      "zaxis": {
                        "backgroundcolor": "#E5ECF6",
                        "gridcolor": "white",
                        "gridwidth": 2,
                        "linecolor": "white",
                        "showbackground": true,
                        "ticks": "",
                        "zerolinecolor": "white"
                      }
                    },
                    "shapedefaults": {
                      "line": {
                        "color": "#2a3f5f"
                      }
                    },
                    "ternary": {
                      "aaxis": {
                        "gridcolor": "white",
                        "linecolor": "white",
                        "ticks": ""
                      },
                      "baxis": {
                        "gridcolor": "white",
                        "linecolor": "white",
                        "ticks": ""
                      },
                      "bgcolor": "#E5ECF6",
                      "caxis": {
                        "gridcolor": "white",
                        "linecolor": "white",
                        "ticks": ""
                      }
                    },
                    "title": {
                      "x": 0.05
                    },
                    "xaxis": {
                      "automargin": true,
                      "gridcolor": "white",
                      "linecolor": "white",
                      "ticks": "",
                      "title": {
                        "standoff": 15
                      },
                      "zerolinecolor": "white",
                      "zerolinewidth": 2
                    },
                    "yaxis": {
                      "automargin": true,
                      "gridcolor": "white",
                      "linecolor": "white",
                      "ticks": "",
                      "title": {
                        "standoff": 15
                      },
                      "zerolinecolor": "white",
                      "zerolinewidth": 2
                    }
                  }
                },
                "xaxis": {
                  "anchor": "y",
                  "domain": [
                    0,
                    1
                  ],
                  "title": {
                    "text": "Date"
                  }
                },
                "yaxis": {
                  "anchor": "x",
                  "domain": [
                    0,
                    1
                  ],
                  "title": {
                    "text": "Predicted"
                  }
                }
              }
            },
            "text/html": [
              "<div>                        <script type=\"text/javascript\">window.PlotlyConfig = {MathJaxConfig: 'local'};</script>\n",
              "        <script src=\"https://cdn.plot.ly/plotly-2.8.3.min.js\"></script>                <div id=\"aff3ba51-a7fd-4048-9366-102a961508d8\" class=\"plotly-graph-div\" style=\"height:100%; width:100%;\"></div>            <script type=\"text/javascript\">                                    window.PLOTLYENV=window.PLOTLYENV || {};                                    if (document.getElementById(\"aff3ba51-a7fd-4048-9366-102a961508d8\")) {                    Plotly.newPlot(                        \"aff3ba51-a7fd-4048-9366-102a961508d8\",                        [{\"hovertemplate\":\"Date=%{x}<br>Predicted=%{y}<extra></extra>\",\"legendgroup\":\"\",\"line\":{\"color\":\"#636efa\",\"dash\":\"solid\"},\"marker\":{\"symbol\":\"circle\"},\"mode\":\"lines+markers\",\"name\":\"\",\"orientation\":\"v\",\"showlegend\":false,\"x\":[\"2022-02-09\",\"2022-02-10\",\"2022-02-11\",\"2022-02-12\",\"2022-02-13\",\"2022-02-14\",\"2022-02-15\",\"2022-02-16\",\"2022-02-17\",\"2022-02-18\",\"2022-02-19\",\"2022-02-20\",\"2022-02-21\",\"2022-02-22\",\"2022-02-23\",\"2022-02-24\",\"2022-02-25\",\"2022-02-26\",\"2022-02-27\",\"2022-02-28\",\"2022-03-01\",\"2022-03-02\",\"2022-03-03\",\"2022-03-04\",\"2022-03-05\",\"2022-03-06\",\"2022-03-07\",\"2022-03-08\",\"2022-03-09\",\"2022-03-10\",\"2022-03-11\",\"2022-03-12\",\"2022-03-13\",\"2022-03-14\",\"2022-03-15\",\"2022-03-16\",\"2022-03-17\",\"2022-03-18\",\"2022-03-19\",\"2022-03-20\",\"2022-03-21\",\"2022-03-22\",\"2022-03-23\",\"2022-03-24\",\"2022-03-25\",\"2022-03-26\",\"2022-03-27\",\"2022-03-28\",\"2022-03-29\",\"2022-03-30\",\"2022-03-31\",\"2022-04-01\",\"2022-04-02\",\"2022-04-03\",\"2022-04-04\",\"2022-04-05\",\"2022-04-06\",\"2022-04-07\",\"2022-04-08\",\"2022-04-09\",\"2022-04-10\",\"2022-04-11\",\"2022-04-12\",\"2022-04-13\",\"2022-04-14\",\"2022-04-15\",\"2022-04-16\",\"2022-04-17\",\"2022-04-18\",\"2022-04-19\",\"2022-04-20\",\"2022-04-21\",\"2022-04-22\",\"2022-04-23\",\"2022-04-24\",\"2022-04-25\",\"2022-04-26\",\"2022-04-27\",\"2022-04-28\",\"2022-04-29\",\"2022-04-30\",\"2022-05-01\",\"2022-05-02\",\"2022-05-03\",\"2022-05-04\",\"2022-05-05\",\"2022-05-06\",\"2022-05-07\",\"2022-05-08\",\"2022-05-09\",\"2022-05-10\",\"2022-05-11\",\"2022-05-12\",\"2022-05-13\",\"2022-05-14\",\"2022-05-15\",\"2022-05-16\",\"2022-05-17\",\"2022-05-18\",\"2022-05-19\",\"2022-05-20\",\"2022-05-21\",\"2022-05-22\",\"2022-05-23\",\"2022-05-24\",\"2022-05-25\",\"2022-05-26\",\"2022-05-27\",\"2022-05-28\",\"2022-05-29\",\"2022-05-30\",\"2022-05-31\",\"2022-06-01\",\"2022-06-02\",\"2022-06-03\",\"2022-06-04\",\"2022-06-05\",\"2022-06-06\",\"2022-06-07\",\"2022-06-08\",\"2022-06-09\",\"2022-06-10\",\"2022-06-11\",\"2022-06-12\",\"2022-06-13\",\"2022-06-14\",\"2022-06-15\",\"2022-06-16\",\"2022-06-17\",\"2022-06-18\",\"2022-06-19\",\"2022-06-20\",\"2022-06-21\",\"2022-06-22\",\"2022-06-23\",\"2022-06-24\",\"2022-06-25\",\"2022-06-26\",\"2022-06-27\",\"2022-06-28\",\"2022-06-29\",\"2022-06-30\",\"2022-07-01\",\"2022-07-02\",\"2022-07-03\",\"2022-07-04\",\"2022-07-05\",\"2022-07-06\",\"2022-07-07\",\"2022-07-08\",\"2022-07-09\",\"2022-07-10\",\"2022-07-11\",\"2022-07-12\",\"2022-07-13\",\"2022-07-14\",\"2022-07-15\",\"2022-07-16\",\"2022-07-17\",\"2022-07-18\",\"2022-07-19\",\"2022-07-20\",\"2022-07-21\",\"2022-07-22\",\"2022-07-23\",\"2022-07-24\",\"2022-07-25\",\"2022-07-26\",\"2022-07-27\",\"2022-07-28\",\"2022-07-29\",\"2022-07-30\",\"2022-07-31\",\"2022-08-01\",\"2022-08-02\",\"2022-08-03\",\"2022-08-04\",\"2022-08-05\",\"2022-08-06\",\"2022-08-07\",\"2022-08-08\",\"2022-08-09\",\"2022-08-10\",\"2022-08-11\",\"2022-08-12\",\"2022-08-13\",\"2022-08-14\",\"2022-08-15\",\"2022-08-16\",\"2022-08-17\",\"2022-08-18\",\"2022-08-19\",\"2022-08-20\",\"2022-08-21\",\"2022-08-22\",\"2022-08-23\",\"2022-08-24\",\"2022-08-25\",\"2022-08-26\",\"2022-08-27\",\"2022-08-28\",\"2022-08-29\",\"2022-08-30\",\"2022-08-31\",\"2022-09-01\",\"2022-09-02\",\"2022-09-03\",\"2022-09-04\",\"2022-09-05\",\"2022-09-06\",\"2022-09-07\",\"2022-09-08\",\"2022-09-09\",\"2022-09-10\",\"2022-09-11\",\"2022-09-12\",\"2022-09-13\",\"2022-09-14\",\"2022-09-15\",\"2022-09-16\",\"2022-09-17\",\"2022-09-18\",\"2022-09-19\",\"2022-09-20\",\"2022-09-21\",\"2022-09-22\",\"2022-09-23\",\"2022-09-24\",\"2022-09-25\",\"2022-09-26\",\"2022-09-27\",\"2022-09-28\",\"2022-09-29\",\"2022-09-30\",\"2022-10-01\",\"2022-10-02\",\"2022-10-03\",\"2022-10-04\",\"2022-10-05\",\"2022-10-06\",\"2022-10-07\",\"2022-10-08\",\"2022-10-09\",\"2022-10-10\",\"2022-10-11\",\"2022-10-12\",\"2022-10-13\",\"2022-10-14\",\"2022-10-15\",\"2022-10-16\",\"2022-10-17\",\"2022-10-18\",\"2022-10-19\",\"2022-10-20\",\"2022-10-21\",\"2022-10-22\",\"2022-10-23\",\"2022-10-24\",\"2022-10-25\",\"2022-10-26\",\"2022-10-27\",\"2022-10-28\",\"2022-10-29\",\"2022-10-30\",\"2022-10-31\",\"2022-11-01\",\"2022-11-02\",\"2022-11-03\",\"2022-11-04\",\"2022-11-05\",\"2022-11-06\",\"2022-11-07\",\"2022-11-08\",\"2022-11-09\",\"2022-11-10\",\"2022-11-11\",\"2022-11-12\",\"2022-11-13\",\"2022-11-14\",\"2022-11-15\",\"2022-11-16\",\"2022-11-17\",\"2022-11-18\",\"2022-11-19\",\"2022-11-20\",\"2022-11-21\",\"2022-11-22\",\"2022-11-23\",\"2022-11-24\",\"2022-11-25\",\"2022-11-26\",\"2022-11-27\",\"2022-11-28\",\"2022-11-29\",\"2022-11-30\",\"2022-12-01\",\"2022-12-02\",\"2022-12-03\",\"2022-12-04\",\"2022-12-05\",\"2022-12-06\",\"2022-12-07\",\"2022-12-08\",\"2022-12-09\",\"2022-12-10\",\"2022-12-11\",\"2022-12-12\",\"2022-12-13\",\"2022-12-14\",\"2022-12-15\",\"2022-12-16\",\"2022-12-17\",\"2022-12-18\",\"2022-12-19\",\"2022-12-20\",\"2022-12-21\",\"2022-12-22\",\"2022-12-23\",\"2022-12-24\",\"2022-12-25\",\"2022-12-26\",\"2022-12-27\",\"2022-12-28\",\"2022-12-29\",\"2022-12-30\",\"2022-12-31\",\"2023-01-01\",\"2023-01-02\",\"2023-01-03\",\"2023-01-04\",\"2023-01-05\",\"2023-01-06\",\"2023-01-07\",\"2023-01-08\",\"2023-01-09\",\"2023-01-10\",\"2023-01-11\",\"2023-01-12\",\"2023-01-13\",\"2023-01-14\",\"2023-01-15\",\"2023-01-16\",\"2023-01-17\",\"2023-01-18\",\"2023-01-19\",\"2023-01-20\",\"2023-01-21\",\"2023-01-22\",\"2023-01-23\",\"2023-01-24\",\"2023-01-25\",\"2023-01-26\",\"2023-01-27\",\"2023-01-28\",\"2023-01-29\",\"2023-01-30\",\"2023-01-31\",\"2023-02-01\",\"2023-02-02\",\"2023-02-03\",\"2023-02-04\",\"2023-02-05\",\"2023-02-06\",\"2023-02-07\",\"2023-02-08\",\"2023-02-09\",\"2023-02-10\",\"2023-02-11\",\"2023-02-12\",\"2023-02-13\",\"2023-02-14\",\"2023-02-15\",\"2023-02-16\",\"2023-02-17\",\"2023-02-18\",\"2023-02-19\",\"2023-02-20\",\"2023-02-21\",\"2023-02-22\",\"2023-02-23\",\"2023-02-24\",\"2023-02-25\",\"2023-02-26\",\"2023-02-27\",\"2023-02-28\",\"2023-03-01\",\"2023-03-02\",\"2023-03-03\",\"2023-03-04\",\"2023-03-05\",\"2023-03-06\",\"2023-03-07\",\"2023-03-08\",\"2023-03-09\",\"2023-03-10\",\"2023-03-11\",\"2023-03-12\",\"2023-03-13\",\"2023-03-14\",\"2023-03-15\",\"2023-03-16\",\"2023-03-17\",\"2023-03-18\",\"2023-03-19\",\"2023-03-20\",\"2023-03-21\",\"2023-03-22\",\"2023-03-23\",\"2023-03-24\",\"2023-03-25\",\"2023-03-26\",\"2023-03-27\",\"2023-03-28\",\"2023-03-29\",\"2023-03-30\",\"2023-03-31\",\"2023-04-01\",\"2023-04-02\",\"2023-04-03\",\"2023-04-04\",\"2023-04-05\",\"2023-04-06\",\"2023-04-07\",\"2023-04-08\",\"2023-04-09\",\"2023-04-10\",\"2023-04-11\",\"2023-04-12\",\"2023-04-13\",\"2023-04-14\",\"2023-04-15\",\"2023-04-16\",\"2023-04-17\",\"2023-04-18\",\"2023-04-19\",\"2023-04-20\",\"2023-04-21\",\"2023-04-22\",\"2023-04-23\",\"2023-04-24\",\"2023-04-25\",\"2023-04-26\",\"2023-04-27\",\"2023-04-28\",\"2023-04-29\",\"2023-04-30\",\"2023-05-01\",\"2023-05-02\",\"2023-05-03\",\"2023-05-04\",\"2023-05-05\",\"2023-05-06\",\"2023-05-07\",\"2023-05-08\",\"2023-05-09\",\"2023-05-10\",\"2023-05-11\",\"2023-05-12\",\"2023-05-13\",\"2023-05-14\",\"2023-05-15\",\"2023-05-16\",\"2023-05-17\",\"2023-05-18\",\"2023-05-19\",\"2023-05-20\",\"2023-05-21\",\"2023-05-22\",\"2023-05-23\",\"2023-05-24\",\"2023-05-25\",\"2023-05-26\",\"2023-05-27\",\"2023-05-28\",\"2023-05-29\",\"2023-05-30\",\"2023-05-31\",\"2023-06-01\",\"2023-06-02\",\"2023-06-03\",\"2023-06-04\",\"2023-06-05\",\"2023-06-06\",\"2023-06-07\",\"2023-06-08\",\"2023-06-09\",\"2023-06-10\",\"2023-06-11\",\"2023-06-12\",\"2023-06-13\",\"2023-06-14\",\"2023-06-15\",\"2023-06-16\",\"2023-06-17\",\"2023-06-18\",\"2023-06-19\",\"2023-06-20\",\"2023-06-21\",\"2023-06-22\",\"2023-06-23\",\"2023-06-24\",\"2023-06-25\",\"2023-06-26\",\"2023-06-27\",\"2023-06-28\",\"2023-06-29\",\"2023-06-30\",\"2023-07-01\",\"2023-07-02\",\"2023-07-03\",\"2023-07-04\",\"2023-07-05\",\"2023-07-06\",\"2023-07-07\",\"2023-07-08\",\"2023-07-09\",\"2023-07-10\",\"2023-07-11\",\"2023-07-12\",\"2023-07-13\",\"2023-07-14\",\"2023-07-15\",\"2023-07-16\",\"2023-07-17\",\"2023-07-18\",\"2023-07-19\",\"2023-07-20\",\"2023-07-21\",\"2023-07-22\",\"2023-07-23\",\"2023-07-24\",\"2023-07-25\",\"2023-07-26\",\"2023-07-27\",\"2023-07-28\",\"2023-07-29\",\"2023-07-30\",\"2023-07-31\",\"2023-08-01\",\"2023-08-02\",\"2023-08-03\",\"2023-08-04\",\"2023-08-05\",\"2023-08-06\",\"2023-08-07\",\"2023-08-08\",\"2023-08-09\",\"2023-08-10\",\"2023-08-11\",\"2023-08-12\",\"2023-08-13\",\"2023-08-14\",\"2023-08-15\",\"2023-08-16\",\"2023-08-17\",\"2023-08-18\",\"2023-08-19\",\"2023-08-20\",\"2023-08-21\",\"2023-08-22\",\"2023-08-23\",\"2023-08-24\",\"2023-08-25\",\"2023-08-26\",\"2023-08-27\",\"2023-08-28\",\"2023-08-29\",\"2023-08-30\",\"2023-08-31\",\"2023-09-01\",\"2023-09-02\",\"2023-09-03\",\"2023-09-04\",\"2023-09-05\",\"2023-09-06\",\"2023-09-07\",\"2023-09-08\",\"2023-09-09\",\"2023-09-10\",\"2023-09-11\",\"2023-09-12\",\"2023-09-13\",\"2023-09-14\",\"2023-09-15\",\"2023-09-16\",\"2023-09-17\",\"2023-09-18\",\"2023-09-19\",\"2023-09-20\",\"2023-09-21\",\"2023-09-22\",\"2023-09-23\",\"2023-09-24\",\"2023-09-25\",\"2023-09-26\",\"2023-09-27\",\"2023-09-28\",\"2023-09-29\",\"2023-09-30\",\"2023-10-01\",\"2023-10-02\",\"2023-10-03\",\"2023-10-04\",\"2023-10-05\",\"2023-10-06\",\"2023-10-07\",\"2023-10-08\",\"2023-10-09\",\"2023-10-10\",\"2023-10-11\",\"2023-10-12\",\"2023-10-13\",\"2023-10-14\",\"2023-10-15\",\"2023-10-16\",\"2023-10-17\",\"2023-10-18\",\"2023-10-19\",\"2023-10-20\",\"2023-10-21\",\"2023-10-22\",\"2023-10-23\",\"2023-10-24\",\"2023-10-25\",\"2023-10-26\",\"2023-10-27\",\"2023-10-28\",\"2023-10-29\",\"2023-10-30\",\"2023-10-31\",\"2023-11-01\",\"2023-11-02\",\"2023-11-03\",\"2023-11-04\",\"2023-11-05\",\"2023-11-06\",\"2023-11-07\",\"2023-11-08\",\"2023-11-09\",\"2023-11-10\",\"2023-11-11\",\"2023-11-12\",\"2023-11-13\",\"2023-11-14\",\"2023-11-15\",\"2023-11-16\",\"2023-11-17\",\"2023-11-18\",\"2023-11-19\",\"2023-11-20\",\"2023-11-21\",\"2023-11-22\",\"2023-11-23\",\"2023-11-24\",\"2023-11-25\",\"2023-11-26\",\"2023-11-27\",\"2023-11-28\",\"2023-11-29\",\"2023-11-30\",\"2023-12-01\",\"2023-12-02\",\"2023-12-03\",\"2023-12-04\",\"2023-12-05\",\"2023-12-06\",\"2023-12-07\",\"2023-12-08\",\"2023-12-09\",\"2023-12-10\",\"2023-12-11\",\"2023-12-12\",\"2023-12-13\",\"2023-12-14\",\"2023-12-15\",\"2023-12-16\",\"2023-12-17\",\"2023-12-18\",\"2023-12-19\",\"2023-12-20\",\"2023-12-21\",\"2023-12-22\",\"2023-12-23\",\"2023-12-24\",\"2023-12-25\",\"2023-12-26\",\"2023-12-27\",\"2023-12-28\",\"2023-12-29\",\"2023-12-30\",\"2023-12-31\",\"2024-01-01\",\"2024-01-02\",\"2024-01-03\",\"2024-01-04\",\"2024-01-05\",\"2024-01-06\",\"2024-01-07\",\"2024-01-08\",\"2024-01-09\",\"2024-01-10\",\"2024-01-11\",\"2024-01-12\",\"2024-01-13\",\"2024-01-14\",\"2024-01-15\",\"2024-01-16\",\"2024-01-17\",\"2024-01-18\",\"2024-01-19\",\"2024-01-20\",\"2024-01-21\",\"2024-01-22\",\"2024-01-23\",\"2024-01-24\",\"2024-01-25\",\"2024-01-26\",\"2024-01-27\",\"2024-01-28\",\"2024-01-29\",\"2024-01-30\",\"2024-01-31\",\"2024-02-01\",\"2024-02-02\",\"2024-02-03\",\"2024-02-04\",\"2024-02-05\",\"2024-02-06\",\"2024-02-07\",\"2024-02-08\"],\"xaxis\":\"x\",\"y\":[3853.3953189849854,3939.3478965759277,4057.56272315979,4197.371053695679,4348.465938568115,4497.014751434326,4624.699840545654,4708.518218994141,4723.971328735352,4653.8190269470215,4503.37571144104,4312.741594314575,4146.4574909210205,4057.612237930298,4062.667808532715,4151.460733413696,4306.687288284302,4509.226894378662,4733.687477111816,4941.70521736145,5075.79909324646,5059.643211364746,4822.9710483551025,4372.082796096802,3874.2641067504883,3561.2344002723694,3481.2262678146362,3542.809841632843,3688.421106338501,3894.2298126220703,4141.264066696167,4405.054006576538,4653.01778793335,4838.581705093384,4901.041212081909,4782.472467422485,4471.134281158447,4061.573419570923,3727.868061065674,3560.434567928314,3509.1714477539062,3513.214075565338,3533.270230293274,3543.8801765441895,3526.509213447571,3468.823380470276,3374.647271633148,3259.7430419921875,3145.6102299690247,3048.4277868270874,2972.695789337158,2917.6298785209656,2878.4514570236206,2851.1527824401855,2830.7135915756226,2815.055248737335,2802.3604774475098,2792.0878505706787,2784.3736743927,2779.461443424225,2777.676661014557,2779.152820110321,2783.9187574386597,2791.763894557953,2802.2855019569397,2814.878149032593,2828.749740123749,2843.0008506774902,2856.8586564064026,2870.058000087738,2883.0677247047424,2896.857306957245,2912.472746372223,2930.8026361465454,2952.511065006256,2978.042540550232,3007.625787258148,3041.270933151245,3078.737156391144,3119.5512533187866,3163.214840888977,3209.5667147636414,3258.929283618927,3312.1095538139343,3370.2933478355408,3434.604172706604,3505.7657599449158,3583.9902353286743,3668.6686515808105,3757.907772064209,3847.9216861724854,3932.3831939697266,4002.1208095550537,4045.993709564209,4053.6814403533936,4020.0282764434814,3949.4894218444824,3858.2663345336914,3771.075325012207,3711.6770124435425,3692.6534938812256,3711.530156135559,3752.6738357543945,3789.5437717437744,3785.365400314331,3695.768985748291,3481.8381690979004,3143.0936980247498,2753.4746289253235,2427.671377658844,2218.6034178733826,2102.3523020744324,2042.554214000702,2015.0829410552979,2005.4831945896149,2005.1163351535797,2008.6174654960632,2012.673386335373,2015.5416560173035,2016.721429824829,2016.545877456665,2015.7320487499237,2015.0171792507172,2014.9488151073456,2015.8157455921173,2017.6778948307037,2020.4323649406433,2023.8866531848907,2027.818787097931,2032.0191729068756,2036.3191509246826,2040.6004202365875,2044.7982037067413,2048.8936519622803,2052.9049813747406,2056.874040365219,2060.856181383133,2064.9113285541534,2069.096873998642,2073.4643721580505,2078.0558824539185,2082.9051649570465,2088.0353593826294,2093.4611654281616,2099.1879987716675,2105.2152967453003,2111.534126996994,2118.130352497101,2124.9832952022552,2132.066650390625,2139.346024990082,2146.7817509174347,2154.327267408371,2161.935099363327,2169.5623433589935,2177.1771383285522,2184.757821559906,2192.2922253608704,2199.774441719055,2207.2022902965546,2214.5757710933685,2221.8985414505005,2229.1757357120514,2236.4157938957214,2243.6268043518066,2250.8183324337006,2258.0014204978943,2265.1876032352448,2272.389611005783,2279.6159541606903,2286.8713450431824,2294.158034324646,2301.477780342102,2308.8309347629547,2316.2173569202423,2323.637046813965,2331.089371442795,2338.575174808502,2346.0938942432404,2353.64644408226,2361.2327539920807,2368.853597640991,2376.5094673633575,2384.200714826584,2391.9275510311127,2399.6898353099823,2407.4877786636353,2415.321170091629,2423.1900095939636,2431.0935938358307,2439.0317821502686,2447.003800868988,2455.0100016593933,2463.0485558509827,2471.119604110718,2479.222161769867,2487.3556661605835,2495.518991947174,2503.7112951278687,2511.9307470321655,2520.1765036582947,2528.446455001831,2536.739616394043,2545.0533151626587,2553.3848786354065,2561.7329001426697,2570.094425678253,2578.466079235077,2586.844484806061,2595.2268290519714,2603.6086106300354,2611.9860315322876,2620.354027748108,2628.7092232704163,2637.0448660850525,2645.35617351532,2653.63737821579,2661.8817281723022,2670.082471370697,2678.2327151298523,2686.3254261016846,2694.3521642684937,2702.3044896125793,2710.173680782318,2717.9501724243164,2725.624680519104,2733.1866550445557,2740.6254053115845,2747.930521965027,2755.0901889801025,2762.0930123329163,2768.927035331726,2775.57945728302,2782.0381808280945,2788.290264606476,2794.323470592499,2800.125138759613,2805.6830310821533,2810.985050201416,2816.018958091736,2820.7742047309875,2825.2403807640076,2829.4073581695557,2833.2668375968933,2836.8115043640137,2840.0354504585266,2842.933611869812,2845.504722595215,2847.7476572990417,2849.663119316101,2851.2546253204346,2852.5289273262024,2853.4944653511047,2854.160945415497,2854.5421528816223,2854.655249118805,2854.5173954963684,2854.15025472641,2853.5764741897583,2852.8216552734375,2851.91210269928,2850.877215862274,2849.746253490448,2848.5503029823303,2847.321014404297,2846.0897564888,2844.8877573013306,2843.747088909149,2842.697994709015,2841.7694520950317,2840.989031791687,2840.3836011886597,2839.9770736694336,2839.7920966148376,2839.8487854003906,2840.1650047302246,2840.7565093040466,2841.6356778144836,2842.8141856193542,2844.3001914024353,2846.0994625091553,2848.2156562805176,2850.650601387024,2853.404016494751,2856.4712595939636,2859.85050201416,2863.5340070724487,2867.5127720832825,2871.776669025421,2876.3147258758545,2881.111891269684,2886.153817176819,2891.4213728904724,2896.897678375244,2902.5607895851135,2908.3890438079834,2914.35852766037,2920.4430770874023,2926.61568403244,2932.846245765686,2939.104096889496,2945.355899333954,2951.568033695221,2957.7037858963013,2963.7253165245056,2969.5932388305664,2975.2670407295227,2980.7053661346436,2985.8653116226196,2990.7041144371033,2995.177745819092,2999.2440056800842,3002.859287261963,3005.9840631484985,3008.5789465904236,3010.608067512512,3012.0397758483887,3012.845516204834,3013.003625869751,3012.4970841407776,3011.3174510002136,3009.4644451141357,3006.947069168091,3003.7833285331726,3000.001356601715,2995.641384124756,2990.7529258728027,2985.395061969757,2979.6403765678406,2973.5653924942017,2967.257182598114,2960.810134410858,2954.3196201324463,2947.8856539726257,2941.607828140259,2935.5854535102844,2929.912214279175,2924.6770119667053,2919.9631214141846,2915.8446741104126,2912.3889088630676,2909.6518111228943,2907.6833176612854,2906.5223932266235,2906.201672554016,2906.7443656921387,2908.1691813468933,2910.486388206482,2913.7031602859497,2917.822732925415,2922.8427147865295,2928.76029253006,2935.567729473114,2943.2577109336853,2951.819405555725,2961.240153312683,2971.5071535110474,2982.604651451111,2994.514079093933,3007.2161650657654,3020.687699317932,3034.9004077911377,3049.8247504234314,3065.4231691360474,3081.6517758369446,3098.4592270851135,3115.784332752228,3133.5536646842957,3151.681697368622,3170.0664472579956,3188.588206768036,3207.1056056022644,3225.4561734199524,3243.449447154999,3260.8685183525085,3277.4659538269043,3292.9621076583862,3307.045683860779,3319.3747210502625,3329.576451778412,3337.252929210663,3341.9856691360474,3343.3416986465454,3340.887200832367,3334.1924381256104,3322.8556656837463,3306.513681411743,3284.8724913597107,3257.741210460663,3225.077919960022,3187.045090198517,3144.0792107582092,3096.9488859176636,3046.7840933799744,2995.0529742240906,2943.4599900245667,2893.7695264816284,2847.588984966278,2806.173677444458,2770.3043055534363,2740.269799232483,2715.937650203705,2696.8755888938904,2682.4864840507507,2672.119610309601,2665.152235031128,2661.040680408478,2659.340579509735,2659.7087049484253,2661.893825531006,2665.7182788848877,2671.0599660873413,2677.8350496292114,2685.98726272583,2695.475811958313,2706.2711572647095,2718.354308605194,2731.7131686210632,2746.345627307892,2762.258858680725,2779.4721341133118,2798.0120396614075,2817.9166960716248,2839.234914779663,2862.0195865631104,2886.3309168815613,2912.2322058677673,2939.7852063179016,2969.0506863594055,3000.0804114341736,3032.914752960205,3067.575373649597,3104.058756828308,3142.3241090774536,3182.2850608825684,3223.7937712669373,3266.62193775177,3310.442931652069,3354.8097133636475,3399.129512310028,3442.64497756958,3484.41490650177,3523.310868740082,3558.0338048934937,3587.157211303711,3609.2142128944397,3622.8148794174194,3626.7859077453613,3620.298910140991,3602.9109263420105,3574.4666600227356,3534.809830188751,3483.3615922927856,3418.713026046753,3338.518509864807,3240.051074028015,3121.686999797821,2985.1255440711975,2837.214515209198,2689.5267248153687,2554.8893117904663,2442.8106594085693,2356.9154739379883,2295.561890602112,2254.2322492599487,2227.773426771164,2211.6319632530212,2202.245749235153,2197.026582956314,2194.2196440696716,2192.7416563034058,2192.0146894454956,2191.804040670395,2192.074613571167,2192.8786659240723,2194.280904531479,2196.3203644752502,2198.9965534210205,2202.273601293564,2206.0921466350555,2210.383051633835,2215.0786554813385,2220.121636390686,2225.4698646068573,2231.096965074539,2236.9924581050873,2243.1564140319824,2249.59769487381,2256.3291013240814,2263.3628010749817,2270.711454153061,2278.380124568939,2286.3702189922333,2294.6756184101105,2303.2836627960205,2312.1743071079254,2321.3201916217804,2330.688259601593,2340.2379989624023,2349.924747943878,2359.6986401081085,2369.5085430145264,2379.303535223007,2389.036282300949,2398.6666238307953,2408.1641054153442,2417.509877681732,2426.6964852809906,2435.7278668880463,2444.6150648593903,2453.375451564789,2462.030689716339,2470.601387023926,2479.1080808639526,2487.569479942322,2496.0013389587402,2504.4163179397583,2512.824544906616,2521.233334541321,2529.648594856262,2538.072717189789,2546.505982875824,2554.9476885795593,2563.395302295685,2571.8448853492737,2580.292499065399,2588.733501434326,2597.1638131141663,2605.5775260925293,2613.970983028412,2622.3384165763855,2630.6757473945618,2638.976786136627,2647.23801612854,2655.452404022217,2663.6160111427307,2671.72194480896,2679.764015674591,2687.7360343933105,2695.63138961792,2703.4413599967957,2711.160318851471,2718.7787008285522,2726.288628578186,2733.680818080902,2740.9462666511536,2748.0748462677,2755.0574135780334,2761.882996559143,2768.540201187134,2775.0196027755737,2781.308400630951,2787.3954820632935,2793.2697343826294,2798.918778896332,2804.3316435813904,2809.496512413025,2814.403257369995,2819.041609764099,2823.400456905365,2827.471921443939,2831.2484073638916,2834.722318649292,2837.8892946243286,2840.7453966140747,2843.2889366149902,2845.5189299583435,2847.4379086494446,2849.0510773658752,2850.3627967834473,2851.383054256439,2852.1222591400146,2852.5949001312256,2852.8153252601624,2852.8023838996887,2852.575206756592,2852.156722545624,2851.570563316345,2850.8421897888184,2849.998469352722,2849.0675354003906,2848.0785059928894,2847.0603585243225,2846.0438990592957,2845.056276321411,2844.1282963752747,2843.28809261322,2842.56196975708,2841.9766545295715,2841.5573263168335,2841.32536649704,2841.3028597831726,2841.5086555480957,2841.958508491516,2842.6678919792175,2843.6484813690186,2844.911530017853,2846.4640712738037,2848.31271648407,2850.4598569869995,2852.907884120941,2855.6559538841248,2858.702518939972,2862.041389942169,2865.667221546173,2869.571855068207,2873.7457251548767,2878.1763124465942,2882.8510975837708,2887.7546072006226,2892.870523929596,2898.180983066559,2903.665165901184,2909.301972389221,2915.0681924819946,2920.938928127289,2926.886749267578,2932.8845071792603,2938.901114463806,2944.9068903923035,2950.8675122261047,2956.7486572265625,2962.514455318451,2968.127348423004,2973.549919128418,2978.74151468277,2983.6630296707153,2988.273811340332,2992.5330662727356,2996.401267051697,2999.8401522636414,3002.8103351593018,3005.2779150009155,3007.210397720337,3008.5782432556152,3009.356553554535,3009.5276045799255,3009.076063632965,3007.9968667030334,3006.2905764579773,3003.967320919037,3001.045105457306,2997.5523447990417,2993.5277223587036,2989.0169548988342,2984.078278541565,2978.7765407562256,2973.185451030731,2967.386736869812,2961.4653611183167,2955.510928630829,2949.616279602051,2943.872847557068,2938.3726286888123,2933.2026958465576,2928.446042537689,2924.1813015937805,2920.478103160858,2917.399606704712,2914.999828338623,2913.3270168304443,2912.4197149276733,2912.3092913627625,2913.0209255218506,2914.5722007751465,2916.976761817932,2920.2417826652527,2924.3713426589966,2929.365441799164,2935.2219700813293,2941.9351601600647,2949.4967126846313,2957.8974843025208,2967.1256589889526,2977.1677327156067,2988.007810115814,2999.628167152405,3012.0071411132812,3025.1234912872314,3038.9469742774963,3053.445658683777,3068.581564426422,3084.3110847473145,3100.580062866211,3117.3267459869385,3134.477846622467,3151.9464325904846,3169.631223678589,3187.4147629737854,3205.1570868492126,3222.6996636390686,3239.8575162887573,3256.4207696914673,3272.1521186828613,3286.7840147018433,3300.021197795868,3311.539571285248,3320.98845243454,3327.994933128357,3332.168662548065,3333.1111311912537,3330.419750213623,3323.7048721313477,3312.6034355163574,3296.792891025543,3276.0224294662476,3250.1408338546753,3219.139804840088,3183.203616142273,3142.7629899978638,3098.543486595154,3051.584072113037,3003.2101106643677,2954.9451661109924,2908.3638644218445,2864.909448623657,2825.7304644584656,2791.573712825775,2762.7603363990784,2739.236319065094,2720.6720781326294,2706.5710592269897,2696.3705945014954,2689.519410133362,2685.522358417511,2683.966019153595,2684.5258736610413,2686.9570207595825,2691.0855960845947,2696.7878127098083],\"yaxis\":\"y\",\"type\":\"scatter\"}],                        {\"template\":{\"data\":{\"bar\":[{\"error_x\":{\"color\":\"#2a3f5f\"},\"error_y\":{\"color\":\"#2a3f5f\"},\"marker\":{\"line\":{\"color\":\"#E5ECF6\",\"width\":0.5},\"pattern\":{\"fillmode\":\"overlay\",\"size\":10,\"solidity\":0.2}},\"type\":\"bar\"}],\"barpolar\":[{\"marker\":{\"line\":{\"color\":\"#E5ECF6\",\"width\":0.5},\"pattern\":{\"fillmode\":\"overlay\",\"size\":10,\"solidity\":0.2}},\"type\":\"barpolar\"}],\"carpet\":[{\"aaxis\":{\"endlinecolor\":\"#2a3f5f\",\"gridcolor\":\"white\",\"linecolor\":\"white\",\"minorgridcolor\":\"white\",\"startlinecolor\":\"#2a3f5f\"},\"baxis\":{\"endlinecolor\":\"#2a3f5f\",\"gridcolor\":\"white\",\"linecolor\":\"white\",\"minorgridcolor\":\"white\",\"startlinecolor\":\"#2a3f5f\"},\"type\":\"carpet\"}],\"choropleth\":[{\"colorbar\":{\"outlinewidth\":0,\"ticks\":\"\"},\"type\":\"choropleth\"}],\"contour\":[{\"colorbar\":{\"outlinewidth\":0,\"ticks\":\"\"},\"colorscale\":[[0.0,\"#0d0887\"],[0.1111111111111111,\"#46039f\"],[0.2222222222222222,\"#7201a8\"],[0.3333333333333333,\"#9c179e\"],[0.4444444444444444,\"#bd3786\"],[0.5555555555555556,\"#d8576b\"],[0.6666666666666666,\"#ed7953\"],[0.7777777777777778,\"#fb9f3a\"],[0.8888888888888888,\"#fdca26\"],[1.0,\"#f0f921\"]],\"type\":\"contour\"}],\"contourcarpet\":[{\"colorbar\":{\"outlinewidth\":0,\"ticks\":\"\"},\"type\":\"contourcarpet\"}],\"heatmap\":[{\"colorbar\":{\"outlinewidth\":0,\"ticks\":\"\"},\"colorscale\":[[0.0,\"#0d0887\"],[0.1111111111111111,\"#46039f\"],[0.2222222222222222,\"#7201a8\"],[0.3333333333333333,\"#9c179e\"],[0.4444444444444444,\"#bd3786\"],[0.5555555555555556,\"#d8576b\"],[0.6666666666666666,\"#ed7953\"],[0.7777777777777778,\"#fb9f3a\"],[0.8888888888888888,\"#fdca26\"],[1.0,\"#f0f921\"]],\"type\":\"heatmap\"}],\"heatmapgl\":[{\"colorbar\":{\"outlinewidth\":0,\"ticks\":\"\"},\"colorscale\":[[0.0,\"#0d0887\"],[0.1111111111111111,\"#46039f\"],[0.2222222222222222,\"#7201a8\"],[0.3333333333333333,\"#9c179e\"],[0.4444444444444444,\"#bd3786\"],[0.5555555555555556,\"#d8576b\"],[0.6666666666666666,\"#ed7953\"],[0.7777777777777778,\"#fb9f3a\"],[0.8888888888888888,\"#fdca26\"],[1.0,\"#f0f921\"]],\"type\":\"heatmapgl\"}],\"histogram\":[{\"marker\":{\"pattern\":{\"fillmode\":\"overlay\",\"size\":10,\"solidity\":0.2}},\"type\":\"histogram\"}],\"histogram2d\":[{\"colorbar\":{\"outlinewidth\":0,\"ticks\":\"\"},\"colorscale\":[[0.0,\"#0d0887\"],[0.1111111111111111,\"#46039f\"],[0.2222222222222222,\"#7201a8\"],[0.3333333333333333,\"#9c179e\"],[0.4444444444444444,\"#bd3786\"],[0.5555555555555556,\"#d8576b\"],[0.6666666666666666,\"#ed7953\"],[0.7777777777777778,\"#fb9f3a\"],[0.8888888888888888,\"#fdca26\"],[1.0,\"#f0f921\"]],\"type\":\"histogram2d\"}],\"histogram2dcontour\":[{\"colorbar\":{\"outlinewidth\":0,\"ticks\":\"\"},\"colorscale\":[[0.0,\"#0d0887\"],[0.1111111111111111,\"#46039f\"],[0.2222222222222222,\"#7201a8\"],[0.3333333333333333,\"#9c179e\"],[0.4444444444444444,\"#bd3786\"],[0.5555555555555556,\"#d8576b\"],[0.6666666666666666,\"#ed7953\"],[0.7777777777777778,\"#fb9f3a\"],[0.8888888888888888,\"#fdca26\"],[1.0,\"#f0f921\"]],\"type\":\"histogram2dcontour\"}],\"mesh3d\":[{\"colorbar\":{\"outlinewidth\":0,\"ticks\":\"\"},\"type\":\"mesh3d\"}],\"parcoords\":[{\"line\":{\"colorbar\":{\"outlinewidth\":0,\"ticks\":\"\"}},\"type\":\"parcoords\"}],\"pie\":[{\"automargin\":true,\"type\":\"pie\"}],\"scatter\":[{\"marker\":{\"colorbar\":{\"outlinewidth\":0,\"ticks\":\"\"}},\"type\":\"scatter\"}],\"scatter3d\":[{\"line\":{\"colorbar\":{\"outlinewidth\":0,\"ticks\":\"\"}},\"marker\":{\"colorbar\":{\"outlinewidth\":0,\"ticks\":\"\"}},\"type\":\"scatter3d\"}],\"scattercarpet\":[{\"marker\":{\"colorbar\":{\"outlinewidth\":0,\"ticks\":\"\"}},\"type\":\"scattercarpet\"}],\"scattergeo\":[{\"marker\":{\"colorbar\":{\"outlinewidth\":0,\"ticks\":\"\"}},\"type\":\"scattergeo\"}],\"scattergl\":[{\"marker\":{\"colorbar\":{\"outlinewidth\":0,\"ticks\":\"\"}},\"type\":\"scattergl\"}],\"scattermapbox\":[{\"marker\":{\"colorbar\":{\"outlinewidth\":0,\"ticks\":\"\"}},\"type\":\"scattermapbox\"}],\"scatterpolar\":[{\"marker\":{\"colorbar\":{\"outlinewidth\":0,\"ticks\":\"\"}},\"type\":\"scatterpolar\"}],\"scatterpolargl\":[{\"marker\":{\"colorbar\":{\"outlinewidth\":0,\"ticks\":\"\"}},\"type\":\"scatterpolargl\"}],\"scatterternary\":[{\"marker\":{\"colorbar\":{\"outlinewidth\":0,\"ticks\":\"\"}},\"type\":\"scatterternary\"}],\"surface\":[{\"colorbar\":{\"outlinewidth\":0,\"ticks\":\"\"},\"colorscale\":[[0.0,\"#0d0887\"],[0.1111111111111111,\"#46039f\"],[0.2222222222222222,\"#7201a8\"],[0.3333333333333333,\"#9c179e\"],[0.4444444444444444,\"#bd3786\"],[0.5555555555555556,\"#d8576b\"],[0.6666666666666666,\"#ed7953\"],[0.7777777777777778,\"#fb9f3a\"],[0.8888888888888888,\"#fdca26\"],[1.0,\"#f0f921\"]],\"type\":\"surface\"}],\"table\":[{\"cells\":{\"fill\":{\"color\":\"#EBF0F8\"},\"line\":{\"color\":\"white\"}},\"header\":{\"fill\":{\"color\":\"#C8D4E3\"},\"line\":{\"color\":\"white\"}},\"type\":\"table\"}]},\"layout\":{\"annotationdefaults\":{\"arrowcolor\":\"#2a3f5f\",\"arrowhead\":0,\"arrowwidth\":1},\"autotypenumbers\":\"strict\",\"coloraxis\":{\"colorbar\":{\"outlinewidth\":0,\"ticks\":\"\"}},\"colorscale\":{\"diverging\":[[0,\"#8e0152\"],[0.1,\"#c51b7d\"],[0.2,\"#de77ae\"],[0.3,\"#f1b6da\"],[0.4,\"#fde0ef\"],[0.5,\"#f7f7f7\"],[0.6,\"#e6f5d0\"],[0.7,\"#b8e186\"],[0.8,\"#7fbc41\"],[0.9,\"#4d9221\"],[1,\"#276419\"]],\"sequential\":[[0.0,\"#0d0887\"],[0.1111111111111111,\"#46039f\"],[0.2222222222222222,\"#7201a8\"],[0.3333333333333333,\"#9c179e\"],[0.4444444444444444,\"#bd3786\"],[0.5555555555555556,\"#d8576b\"],[0.6666666666666666,\"#ed7953\"],[0.7777777777777778,\"#fb9f3a\"],[0.8888888888888888,\"#fdca26\"],[1.0,\"#f0f921\"]],\"sequentialminus\":[[0.0,\"#0d0887\"],[0.1111111111111111,\"#46039f\"],[0.2222222222222222,\"#7201a8\"],[0.3333333333333333,\"#9c179e\"],[0.4444444444444444,\"#bd3786\"],[0.5555555555555556,\"#d8576b\"],[0.6666666666666666,\"#ed7953\"],[0.7777777777777778,\"#fb9f3a\"],[0.8888888888888888,\"#fdca26\"],[1.0,\"#f0f921\"]]},\"colorway\":[\"#636efa\",\"#EF553B\",\"#00cc96\",\"#ab63fa\",\"#FFA15A\",\"#19d3f3\",\"#FF6692\",\"#B6E880\",\"#FF97FF\",\"#FECB52\"],\"font\":{\"color\":\"#2a3f5f\"},\"geo\":{\"bgcolor\":\"white\",\"lakecolor\":\"white\",\"landcolor\":\"#E5ECF6\",\"showlakes\":true,\"showland\":true,\"subunitcolor\":\"white\"},\"hoverlabel\":{\"align\":\"left\"},\"hovermode\":\"closest\",\"mapbox\":{\"style\":\"light\"},\"paper_bgcolor\":\"white\",\"plot_bgcolor\":\"#E5ECF6\",\"polar\":{\"angularaxis\":{\"gridcolor\":\"white\",\"linecolor\":\"white\",\"ticks\":\"\"},\"bgcolor\":\"#E5ECF6\",\"radialaxis\":{\"gridcolor\":\"white\",\"linecolor\":\"white\",\"ticks\":\"\"}},\"scene\":{\"xaxis\":{\"backgroundcolor\":\"#E5ECF6\",\"gridcolor\":\"white\",\"gridwidth\":2,\"linecolor\":\"white\",\"showbackground\":true,\"ticks\":\"\",\"zerolinecolor\":\"white\"},\"yaxis\":{\"backgroundcolor\":\"#E5ECF6\",\"gridcolor\":\"white\",\"gridwidth\":2,\"linecolor\":\"white\",\"showbackground\":true,\"ticks\":\"\",\"zerolinecolor\":\"white\"},\"zaxis\":{\"backgroundcolor\":\"#E5ECF6\",\"gridcolor\":\"white\",\"gridwidth\":2,\"linecolor\":\"white\",\"showbackground\":true,\"ticks\":\"\",\"zerolinecolor\":\"white\"}},\"shapedefaults\":{\"line\":{\"color\":\"#2a3f5f\"}},\"ternary\":{\"aaxis\":{\"gridcolor\":\"white\",\"linecolor\":\"white\",\"ticks\":\"\"},\"baxis\":{\"gridcolor\":\"white\",\"linecolor\":\"white\",\"ticks\":\"\"},\"bgcolor\":\"#E5ECF6\",\"caxis\":{\"gridcolor\":\"white\",\"linecolor\":\"white\",\"ticks\":\"\"}},\"title\":{\"x\":0.05},\"xaxis\":{\"automargin\":true,\"gridcolor\":\"white\",\"linecolor\":\"white\",\"ticks\":\"\",\"title\":{\"standoff\":15},\"zerolinecolor\":\"white\",\"zerolinewidth\":2},\"yaxis\":{\"automargin\":true,\"gridcolor\":\"white\",\"linecolor\":\"white\",\"ticks\":\"\",\"title\":{\"standoff\":15},\"zerolinecolor\":\"white\",\"zerolinewidth\":2}}},\"xaxis\":{\"anchor\":\"y\",\"domain\":[0.0,1.0],\"title\":{\"text\":\"Date\"}},\"yaxis\":{\"anchor\":\"x\",\"domain\":[0.0,1.0],\"title\":{\"text\":\"Predicted\"}},\"legend\":{\"tracegroupgap\":0},\"margin\":{\"t\":60}},                        {\"responsive\": true}                    )                };                            </script>        </div>"
            ],
            "text/plain": [
              "Figure({\n",
              "    'data': [{'hovertemplate': 'Date=%{x}<br>Predicted=%{y}<extra></extra>',\n",
              "              'legendgroup': '',\n",
              "              'line': {'color': '#636efa', 'dash': 'solid'},\n",
              "              'marker': {'symbol': 'circle'},\n",
              "              'mode': 'lines+markers',\n",
              "              'name': '',\n",
              "              'orientation': 'v',\n",
              "              'showlegend': False,\n",
              "              'type': 'scatter',\n",
              "              'x': array(['2022-02-09', '2022-02-10', '2022-02-11', ..., '2024-02-06',\n",
              "                          '2024-02-07', '2024-02-08'], dtype=object),\n",
              "              'xaxis': 'x',\n",
              "              'y': array([3853.39531898, 3939.34789658, 4057.56272316, ..., 2686.95702076,\n",
              "                          2691.08559608, 2696.78781271]),\n",
              "              'yaxis': 'y'}],\n",
              "    'layout': {'legend': {'tracegroupgap': 0},\n",
              "               'margin': {'t': 60},\n",
              "               'template': '...',\n",
              "               'xaxis': {'anchor': 'y', 'domain': [0.0, 1.0], 'title': {'text': 'Date'}},\n",
              "               'yaxis': {'anchor': 'x', 'domain': [0.0, 1.0], 'title': {'text': 'Predicted'}}}\n",
              "})"
            ]
          },
          "execution_count": 33,
          "metadata": {},
          "output_type": "execute_result"
        }
      ],
      "source": [
        "fig"
      ]
    },
    {
      "cell_type": "code",
      "execution_count": null,
      "metadata": {},
      "outputs": [
        {
          "data": {
            "text/plain": [
              "274"
            ]
          },
          "execution_count": 44,
          "metadata": {},
          "output_type": "execute_result"
        }
      ],
      "source": [
        "len(df)"
      ]
    },
    {
      "cell_type": "code",
      "execution_count": null,
      "metadata": {},
      "outputs": [],
      "source": []
    }
  ],
  "metadata": {
    "colab": {
      "collapsed_sections": [],
      "name": "Stock Data.ipynb",
      "provenance": []
    },
    "kernelspec": {
      "display_name": "Python 3",
      "name": "python3"
    },
    "language_info": {
      "codemirror_mode": {
        "name": "ipython",
        "version": 3
      },
      "file_extension": ".py",
      "mimetype": "text/x-python",
      "name": "python",
      "nbconvert_exporter": "python",
      "pygments_lexer": "ipython3",
      "version": "3.10.0"
    }
  },
  "nbformat": 4,
  "nbformat_minor": 0
}
