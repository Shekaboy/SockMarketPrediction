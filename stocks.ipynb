{
 "cells": [
  {
   "cell_type": "code",
   "execution_count": null,
   "metadata": {},
   "outputs": [],
   "source": [
    "!pip install -q yfinance\n",
    "!pip install pandas_datareader -q\n",
    "!pip install -q plotly\n",
    "import yfinance as yf \n",
    "\n",
    "import pandas as pd\n",
    "import numpy as np \n",
    "import datetime\n",
    "from sklearn.preprocessing import MinMaxScaler\n",
    "from tensorflow.keras.models import Sequential\n",
    "from tensorflow.keras.layers import Dense\n",
    "from tensorflow.keras.layers import LSTM\n",
    "from tensorflow.keras.layers import Dropout\n",
    "import matplotlib.pyplot as plt\n",
    "%matplotlib inline\n",
    "%pylab inline\n",
    "import datetime as dt\n",
    "\n",
    "start = dt.datetime(2013,1,1)\n",
    "end = dt.datetime.now()\n",
    "data = yf.download('ETH-INR', start, end)\n"
   ]
  }
 ],
 "metadata": {
  "language_info": {
   "name": "python"
  },
  "orig_nbformat": 4
 },
 "nbformat": 4,
 "nbformat_minor": 2
}
